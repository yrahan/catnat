{
 "cells": [
  {
   "cell_type": "code",
   "execution_count": null,
   "metadata": {},
   "outputs": [],
   "source": []
  },
  {
   "cell_type": "markdown",
   "metadata": {},
   "source": [
    "# <p style=\"text-align: center;\">Logistic Regression</p>"
   ]
  },
  {
   "cell_type": "code",
   "execution_count": 3,
   "metadata": {},
   "outputs": [],
   "source": [
    "#!pip install cartopy\n",
    "#!pip install imageio "
   ]
  },
  {
   "cell_type": "markdown",
   "metadata": {},
   "source": [
    "## Import libraries"
   ]
  },
  {
   "cell_type": "code",
   "execution_count": 8,
   "metadata": {},
   "outputs": [],
   "source": [
    "import pandas as pd\n",
    "import numpy as np\n",
    "\n",
    "import glob\n",
    "import os\n",
    "\n",
    "import requests\n",
    "\n",
    "import seaborn as sns\n",
    "import matplotlib.pyplot as plt\n",
    "import plotly.express as px\n",
    "\n",
    "import zipfile\n",
    "\n",
    "#import xarray as xr\n",
    "\n",
    "import folium\n",
    "from folium.plugins import MarkerCluster\n",
    "\n",
    "import pandas as pd\n",
    "#from geopy.geocoders import Nominatim\n",
    "\n",
    "import geopandas as gpd\n",
    "#import cartopy.crs as ccrs\n",
    "\n",
    "#import imageio\n",
    "\n",
    "from sklearn.neighbors import KDTree\n",
    "from sklearn.neighbors import BallTree"
   ]
  },
  {
   "cell_type": "markdown",
   "metadata": {},
   "source": [
    "## Set parameters"
   ]
  },
  {
   "cell_type": "code",
   "execution_count": 9,
   "metadata": {},
   "outputs": [],
   "source": [
    "decree_filename_base = 'arrete_'\n",
    "decrees_folder_name = './../../data/raw/decrees'\n",
    "communes_folder_name = './../../data/raw/opendatasoft'\n",
    "weather_folder_name = './../../data/raw/weather/era5'\n",
    "weather_ncfiles_folder_name = './../../data/raw/weather/era5/ncfiles'\n",
    "processed_data_folder_name = './../../data/processed'\n",
    "maps_folder_name = './../../data/processed/maps'\n",
    "decrees_filename = 'decrees.parquet'\n",
    "decrees_locations_filename = 'decrees_locations.parquet'\n",
    "communes_csv_filename = 'correspondance-code-insee-code-postal.csv'\n",
    "weather_filename = 'weather.parquet'\n",
    "weather_shema = 'weather_shema.csv'\n",
    "weather_decrees_filename = 'weather_decrees.parquet'\n",
    "weather_decrees_shema = 'weather_decrees.csv'\n",
    "#weather_zip_file = \"193fcd51a8958175843ecbbcaba057c8.zip\""
   ]
  },
  {
   "cell_type": "markdown",
   "metadata": {},
   "source": [
    "## Load Weather data"
   ]
  },
  {
   "cell_type": "markdown",
   "metadata": {},
   "source": [
    "| Column    | Description                                      |\n",
    "|-----------|--------------------------------------------------|\n",
    "| date      | The date of the observation.                     |\n",
    "| latitude  | The latitude coordinate of the observation point.|\n",
    "| longitude | The longitude coordinate of the observation point.|\n",
    "| number    | A unique identifier for the observation.         |\n",
    "| expver    | Experiment version number.                       |\n",
    "| u10       | 10-meter U-component of wind (eastward wind).    |\n",
    "| v10       | 10-meter V-component of wind (northward wind).   |\n",
    "| t2m       | 2-meter temperature (air temperature at 2 meters above the surface).|\n",
    "| sp        | Surface pressure.                                |\n",
    "| tp        | Total precipitation.                             |\n",
    "| e         | Evaporation.                                     |\n",
    "| sro       | Surface runoff.                                  |\n",
    "| tcrw      | Total column water vapor.                        |\n",
    "| stl1      | Soil temperature level 1.                        |\n",
    "| stl2      | Soil temperature level 2.                        |\n",
    "| slt       | Soil type.                                       |\n",
    "| swvl1     | Volumetric soil water layer 1.                   |\n",
    "| swvl2     | Volumetric soil water layer 2.                   |\n",
    "| cvh       | High vegetation cover.                           |\n",
    "| cvl       | Low vegetation cover.                            |\n",
    "| tvh       | High vegetation type.                            |\n",
    "| tvl       | Low vegetation type.                             |\n"
   ]
  },
  {
   "cell_type": "markdown",
   "metadata": {},
   "source": [
    "## Import Data"
   ]
  },
  {
   "cell_type": "code",
   "execution_count": 11,
   "metadata": {},
   "outputs": [],
   "source": [
    "# read the dataframe from parquet\n",
    "import pandas as pd\n",
    "\n",
    "df = pd.read_parquet(os.path.join(processed_data_folder_name, weather_decrees_filename))\n",
    "\n",
    "\n"
   ]
  },
  {
   "cell_type": "code",
   "execution_count": 12,
   "metadata": {},
   "outputs": [
    {
     "data": {
      "text/plain": [
       "'./../../data/processed/weather_decrees.csv'"
      ]
     },
     "execution_count": 12,
     "metadata": {},
     "output_type": "execute_result"
    }
   ],
   "source": [
    "os.path.join(processed_data_folder_name, weather_decrees_shema)"
   ]
  },
  {
   "cell_type": "code",
   "execution_count": 13,
   "metadata": {},
   "outputs": [],
   "source": [
    "# Load the schema (data types) from the file\n",
    "schema = pd.read_csv(os.path.join(processed_data_folder_name, weather_decrees_shema), index_col=0).squeeze(\"columns\")"
   ]
  },
  {
   "cell_type": "code",
   "execution_count": 14,
   "metadata": {},
   "outputs": [],
   "source": [
    "# Apply the schema to the loaded dataframe\n",
    "df = df.astype(schema.to_dict())"
   ]
  },
  {
   "cell_type": "code",
   "execution_count": 15,
   "metadata": {},
   "outputs": [
    {
     "data": {
      "text/html": [
       "<div>\n",
       "<style scoped>\n",
       "    .dataframe tbody tr th:only-of-type {\n",
       "        vertical-align: middle;\n",
       "    }\n",
       "\n",
       "    .dataframe tbody tr th {\n",
       "        vertical-align: top;\n",
       "    }\n",
       "\n",
       "    .dataframe thead th {\n",
       "        text-align: right;\n",
       "    }\n",
       "</style>\n",
       "<table border=\"1\" class=\"dataframe\">\n",
       "  <thead>\n",
       "    <tr style=\"text-align: right;\">\n",
       "      <th></th>\n",
       "      <th>date_1</th>\n",
       "      <th>latitude_1</th>\n",
       "      <th>longitude_1</th>\n",
       "      <th>u10_1</th>\n",
       "      <th>v10_1</th>\n",
       "      <th>t2m_1</th>\n",
       "      <th>sp_1</th>\n",
       "      <th>tp_1</th>\n",
       "      <th>e_1</th>\n",
       "      <th>sro_1</th>\n",
       "      <th>...</th>\n",
       "      <th>Code Arrondissement_2</th>\n",
       "      <th>Code Département_2</th>\n",
       "      <th>Code Région_2</th>\n",
       "      <th>start_event_year_2</th>\n",
       "      <th>latitude_2</th>\n",
       "      <th>longitude_2</th>\n",
       "      <th>year_2</th>\n",
       "      <th>latitude_rad_2</th>\n",
       "      <th>longitude_rad_2</th>\n",
       "      <th>distance_km</th>\n",
       "    </tr>\n",
       "  </thead>\n",
       "  <tbody>\n",
       "    <tr>\n",
       "      <th>201</th>\n",
       "      <td>1990-01-01</td>\n",
       "      <td>51.25</td>\n",
       "      <td>2.50</td>\n",
       "      <td>4.651482</td>\n",
       "      <td>6.094338</td>\n",
       "      <td>7.558984</td>\n",
       "      <td>101673.1875</td>\n",
       "      <td>0.002449</td>\n",
       "      <td>-0.001736</td>\n",
       "      <td>3.814697e-06</td>\n",
       "      <td>...</td>\n",
       "      <td>4.0</td>\n",
       "      <td>59</td>\n",
       "      <td>31.0</td>\n",
       "      <td>1989</td>\n",
       "      <td>51.073044</td>\n",
       "      <td>2.527649</td>\n",
       "      <td>1990</td>\n",
       "      <td>0.891393</td>\n",
       "      <td>0.044116</td>\n",
       "      <td>19.770879</td>\n",
       "    </tr>\n",
       "    <tr>\n",
       "      <th>254</th>\n",
       "      <td>1990-01-01</td>\n",
       "      <td>51.00</td>\n",
       "      <td>1.50</td>\n",
       "      <td>5.272575</td>\n",
       "      <td>6.298440</td>\n",
       "      <td>8.234766</td>\n",
       "      <td>101567.1875</td>\n",
       "      <td>0.003467</td>\n",
       "      <td>-0.001933</td>\n",
       "      <td>9.536743e-07</td>\n",
       "      <td>...</td>\n",
       "      <td>3.0</td>\n",
       "      <td>62</td>\n",
       "      <td>31.0</td>\n",
       "      <td>1990</td>\n",
       "      <td>50.888336</td>\n",
       "      <td>1.682486</td>\n",
       "      <td>1990</td>\n",
       "      <td>0.888169</td>\n",
       "      <td>0.029365</td>\n",
       "      <td>17.822208</td>\n",
       "    </tr>\n",
       "    <tr>\n",
       "      <th>255</th>\n",
       "      <td>1990-01-01</td>\n",
       "      <td>51.00</td>\n",
       "      <td>1.75</td>\n",
       "      <td>4.917595</td>\n",
       "      <td>6.070413</td>\n",
       "      <td>7.896875</td>\n",
       "      <td>101591.1875</td>\n",
       "      <td>0.003078</td>\n",
       "      <td>-0.001807</td>\n",
       "      <td>1.049042e-05</td>\n",
       "      <td>...</td>\n",
       "      <td>6.0</td>\n",
       "      <td>62</td>\n",
       "      <td>31.0</td>\n",
       "      <td>1989</td>\n",
       "      <td>50.950207</td>\n",
       "      <td>1.875756</td>\n",
       "      <td>1990</td>\n",
       "      <td>0.889249</td>\n",
       "      <td>0.032738</td>\n",
       "      <td>10.400898</td>\n",
       "    </tr>\n",
       "    <tr>\n",
       "      <th>256</th>\n",
       "      <td>1990-01-01</td>\n",
       "      <td>51.00</td>\n",
       "      <td>2.00</td>\n",
       "      <td>3.881462</td>\n",
       "      <td>4.989358</td>\n",
       "      <td>7.142969</td>\n",
       "      <td>101607.1875</td>\n",
       "      <td>0.002492</td>\n",
       "      <td>-0.001066</td>\n",
       "      <td>3.910065e-05</td>\n",
       "      <td>...</td>\n",
       "      <td>5.0</td>\n",
       "      <td>62</td>\n",
       "      <td>31.0</td>\n",
       "      <td>1990</td>\n",
       "      <td>50.981233</td>\n",
       "      <td>2.039307</td>\n",
       "      <td>1990</td>\n",
       "      <td>0.889790</td>\n",
       "      <td>0.035593</td>\n",
       "      <td>3.453043</td>\n",
       "    </tr>\n",
       "    <tr>\n",
       "      <th>257</th>\n",
       "      <td>1990-01-01</td>\n",
       "      <td>51.00</td>\n",
       "      <td>2.25</td>\n",
       "      <td>3.224724</td>\n",
       "      <td>4.463479</td>\n",
       "      <td>6.730859</td>\n",
       "      <td>101649.1875</td>\n",
       "      <td>0.002129</td>\n",
       "      <td>-0.000822</td>\n",
       "      <td>4.005432e-05</td>\n",
       "      <td>...</td>\n",
       "      <td>4.0</td>\n",
       "      <td>59</td>\n",
       "      <td>31.0</td>\n",
       "      <td>1989</td>\n",
       "      <td>51.001214</td>\n",
       "      <td>2.223048</td>\n",
       "      <td>1990</td>\n",
       "      <td>0.890139</td>\n",
       "      <td>0.038800</td>\n",
       "      <td>1.890829</td>\n",
       "    </tr>\n",
       "  </tbody>\n",
       "</table>\n",
       "<p>5 rows × 87 columns</p>\n",
       "</div>"
      ],
      "text/plain": [
       "        date_1  latitude_1  longitude_1     u10_1     v10_1     t2m_1  \\\n",
       "201 1990-01-01       51.25         2.50  4.651482  6.094338  7.558984   \n",
       "254 1990-01-01       51.00         1.50  5.272575  6.298440  8.234766   \n",
       "255 1990-01-01       51.00         1.75  4.917595  6.070413  7.896875   \n",
       "256 1990-01-01       51.00         2.00  3.881462  4.989358  7.142969   \n",
       "257 1990-01-01       51.00         2.25  3.224724  4.463479  6.730859   \n",
       "\n",
       "            sp_1      tp_1       e_1         sro_1  ...  \\\n",
       "201  101673.1875  0.002449 -0.001736  3.814697e-06  ...   \n",
       "254  101567.1875  0.003467 -0.001933  9.536743e-07  ...   \n",
       "255  101591.1875  0.003078 -0.001807  1.049042e-05  ...   \n",
       "256  101607.1875  0.002492 -0.001066  3.910065e-05  ...   \n",
       "257  101649.1875  0.002129 -0.000822  4.005432e-05  ...   \n",
       "\n",
       "     Code Arrondissement_2  Code Département_2  Code Région_2  \\\n",
       "201                    4.0                  59           31.0   \n",
       "254                    3.0                  62           31.0   \n",
       "255                    6.0                  62           31.0   \n",
       "256                    5.0                  62           31.0   \n",
       "257                    4.0                  59           31.0   \n",
       "\n",
       "    start_event_year_2  latitude_2  longitude_2  year_2  latitude_rad_2  \\\n",
       "201               1989   51.073044     2.527649    1990        0.891393   \n",
       "254               1990   50.888336     1.682486    1990        0.888169   \n",
       "255               1989   50.950207     1.875756    1990        0.889249   \n",
       "256               1990   50.981233     2.039307    1990        0.889790   \n",
       "257               1989   51.001214     2.223048    1990        0.890139   \n",
       "\n",
       "    longitude_rad_2 distance_km  \n",
       "201        0.044116   19.770879  \n",
       "254        0.029365   17.822208  \n",
       "255        0.032738   10.400898  \n",
       "256        0.035593    3.453043  \n",
       "257        0.038800    1.890829  \n",
       "\n",
       "[5 rows x 87 columns]"
      ]
     },
     "execution_count": 15,
     "metadata": {},
     "output_type": "execute_result"
    }
   ],
   "source": [
    "df.head()"
   ]
  },
  {
   "cell_type": "code",
   "execution_count": 16,
   "metadata": {},
   "outputs": [
    {
     "data": {
      "text/plain": [
       "Index(['date_1', 'latitude_1', 'longitude_1', 'u10_1', 'v10_1', 't2m_1',\n",
       "       'sp_1', 'tp_1', 'e_1', 'sro_1', 'tcrw_1', 'stl1_1', 'stl2_1', 'slt_1',\n",
       "       'swvl1_1', 'swvl2_1', 'cvh_1', 'cvl_1', 'tvh_1', 'tvl_1', 'month_1',\n",
       "       'year_1', 'u10_ref_1', 'u10_delta_1', 'v10_ref_1', 'v10_delta_1',\n",
       "       't2m_ref_1', 't2m_delta_1', 'sp_ref_1', 'sp_delta_1', 'tp_ref_1',\n",
       "       'tp_delta_1', 'e_ref_1', 'e_delta_1', 'sro_ref_1', 'sro_delta_1',\n",
       "       'tcrw_ref_1', 'tcrw_delta_1', 'stl1_ref_1', 'stl1_delta_1',\n",
       "       'stl2_ref_1', 'stl2_delta_1', 'swvl1_ref_1', 'swvl1_delta_1',\n",
       "       'swvl2_ref_1', 'swvl2_delta_1', 'cvh_ref_1', 'cvh_delta_1', 'cvl_ref_1',\n",
       "       'cvl_delta_1', 'latitude_rad_1', 'longitude_rad_1', 'insee_2',\n",
       "       'nom_commune_2', 'debut_evenement_2', 'fin_evenement_2',\n",
       "       'date_arrete_2', 'date_parution_jo_2', 'nom_peril_2', 'code_peril_2',\n",
       "       'franchise_2', 'code_nor_2', 'decision_2', 'Code INSEE_2',\n",
       "       'Code Postal_2', 'Commune_2', 'Département_2', 'Région_2', 'Statut_2',\n",
       "       'Altitude Moyenne_2', 'Superficie_2', 'Population_2', 'geo_point_2d_2',\n",
       "       'geo_shape_2', 'ID Geofla_2', 'Code Commune_2', 'Code Canton_2',\n",
       "       'Code Arrondissement_2', 'Code Département_2', 'Code Région_2',\n",
       "       'start_event_year_2', 'latitude_2', 'longitude_2', 'year_2',\n",
       "       'latitude_rad_2', 'longitude_rad_2', 'distance_km'],\n",
       "      dtype='object')"
      ]
     },
     "execution_count": 16,
     "metadata": {},
     "output_type": "execute_result"
    }
   ],
   "source": [
    "df.columns"
   ]
  },
  {
   "cell_type": "code",
   "execution_count": 67,
   "metadata": {},
   "outputs": [
    {
     "data": {
      "text/html": [
       "<div>\n",
       "<style scoped>\n",
       "    .dataframe tbody tr th:only-of-type {\n",
       "        vertical-align: middle;\n",
       "    }\n",
       "\n",
       "    .dataframe tbody tr th {\n",
       "        vertical-align: top;\n",
       "    }\n",
       "\n",
       "    .dataframe thead th {\n",
       "        text-align: right;\n",
       "    }\n",
       "</style>\n",
       "<table border=\"1\" class=\"dataframe\">\n",
       "  <thead>\n",
       "    <tr style=\"text-align: right;\">\n",
       "      <th></th>\n",
       "      <th>latitude_1</th>\n",
       "      <th>longitude_1</th>\n",
       "      <th>t2m_delta_1</th>\n",
       "      <th>tp_delta_1</th>\n",
       "      <th>swvl1_delta_1</th>\n",
       "      <th>swvl2_delta_1</th>\n",
       "    </tr>\n",
       "  </thead>\n",
       "  <tbody>\n",
       "    <tr>\n",
       "      <th>201</th>\n",
       "      <td>51.25</td>\n",
       "      <td>2.50</td>\n",
       "      <td>1.695812</td>\n",
       "      <td>-0.000074</td>\n",
       "      <td>-0.001406</td>\n",
       "      <td>-0.001640</td>\n",
       "    </tr>\n",
       "    <tr>\n",
       "      <th>254</th>\n",
       "      <td>51.00</td>\n",
       "      <td>1.50</td>\n",
       "      <td>1.811233</td>\n",
       "      <td>0.000400</td>\n",
       "      <td>-0.000115</td>\n",
       "      <td>-0.000182</td>\n",
       "    </tr>\n",
       "    <tr>\n",
       "      <th>255</th>\n",
       "      <td>51.00</td>\n",
       "      <td>1.75</td>\n",
       "      <td>1.777286</td>\n",
       "      <td>0.000349</td>\n",
       "      <td>-0.002783</td>\n",
       "      <td>-0.003501</td>\n",
       "    </tr>\n",
       "    <tr>\n",
       "      <th>256</th>\n",
       "      <td>51.00</td>\n",
       "      <td>2.00</td>\n",
       "      <td>1.737944</td>\n",
       "      <td>0.000361</td>\n",
       "      <td>-0.010817</td>\n",
       "      <td>-0.013442</td>\n",
       "    </tr>\n",
       "    <tr>\n",
       "      <th>257</th>\n",
       "      <td>51.00</td>\n",
       "      <td>2.25</td>\n",
       "      <td>1.721110</td>\n",
       "      <td>0.000216</td>\n",
       "      <td>-0.012106</td>\n",
       "      <td>-0.014683</td>\n",
       "    </tr>\n",
       "  </tbody>\n",
       "</table>\n",
       "</div>"
      ],
      "text/plain": [
       "     latitude_1  longitude_1  t2m_delta_1  tp_delta_1  swvl1_delta_1  \\\n",
       "201       51.25         2.50     1.695812   -0.000074      -0.001406   \n",
       "254       51.00         1.50     1.811233    0.000400      -0.000115   \n",
       "255       51.00         1.75     1.777286    0.000349      -0.002783   \n",
       "256       51.00         2.00     1.737944    0.000361      -0.010817   \n",
       "257       51.00         2.25     1.721110    0.000216      -0.012106   \n",
       "\n",
       "     swvl2_delta_1  \n",
       "201      -0.001640  \n",
       "254      -0.000182  \n",
       "255      -0.003501  \n",
       "256      -0.013442  \n",
       "257      -0.014683  "
      ]
     },
     "execution_count": 67,
     "metadata": {},
     "output_type": "execute_result"
    }
   ],
   "source": [
    "X = df[[ 'latitude_1', 'longitude_1', 't2m_delta_1', 'tp_delta_1','swvl1_delta_1','swvl2_delta_1']]\n",
    "X.head()"
   ]
  },
  {
   "cell_type": "code",
   "execution_count": 21,
   "metadata": {},
   "outputs": [
    {
     "data": {
      "text/plain": [
       "code_peril_2\n",
       "ICB    179408\n",
       "SEC    160824\n",
       "MVT     19968\n",
       "CMV      7060\n",
       "SEI      5900\n",
       "IRN      3812\n",
       "GLT      2352\n",
       "VCY      1264\n",
       "AVA      1080\n",
       "ECB       540\n",
       "EFA       480\n",
       "PDN        84\n",
       "LVT        72\n",
       "DIV        48\n",
       "COB        36\n",
       "GRL        36\n",
       "RAZ        24\n",
       "GET        12\n",
       "Name: count, dtype: int64"
      ]
     },
     "execution_count": 21,
     "metadata": {},
     "output_type": "execute_result"
    }
   ],
   "source": [
    "df['code_peril_2'].value_counts()"
   ]
  },
  {
   "cell_type": "code",
   "execution_count": 22,
   "metadata": {},
   "outputs": [],
   "source": [
    "df['drought_flag'] = df['code_peril_2'].apply(lambda x: 1 if x == 'SEC' else 0)"
   ]
  },
  {
   "cell_type": "code",
   "execution_count": 23,
   "metadata": {},
   "outputs": [
    {
     "data": {
      "text/plain": [
       "201    1\n",
       "254    0\n",
       "255    1\n",
       "256    1\n",
       "257    1\n",
       "Name: drought_flag, dtype: int64"
      ]
     },
     "execution_count": 23,
     "metadata": {},
     "output_type": "execute_result"
    }
   ],
   "source": [
    "df['drought_flag'] .head()"
   ]
  },
  {
   "cell_type": "code",
   "execution_count": 33,
   "metadata": {},
   "outputs": [],
   "source": [
    "df['drought_yearly_flag'] = df.groupby(['year_2','Code Commune_2'])['drought_flag'].transform('max')"
   ]
  },
  {
   "cell_type": "code",
   "execution_count": 34,
   "metadata": {},
   "outputs": [
    {
     "data": {
      "text/plain": [
       "201    1\n",
       "254    0\n",
       "255    1\n",
       "256    1\n",
       "257    1\n",
       "Name: drought_yearly_flag, dtype: int64"
      ]
     },
     "execution_count": 34,
     "metadata": {},
     "output_type": "execute_result"
    }
   ],
   "source": [
    "df['drought_yearly_flag'].head()"
   ]
  },
  {
   "cell_type": "code",
   "execution_count": 35,
   "metadata": {},
   "outputs": [],
   "source": [
    "y = df['drought_yearly_flag']"
   ]
  },
  {
   "cell_type": "code",
   "execution_count": 68,
   "metadata": {},
   "outputs": [
    {
     "name": "stdout",
     "output_type": "stream",
     "text": [
      "Accuracy: 0.6441644908616188\n",
      "Classification Report:\n",
      "               precision    recall  f1-score   support\n",
      "\n",
      "           0       0.61      0.06      0.10     27822\n",
      "           1       0.65      0.98      0.78     48778\n",
      "\n",
      "    accuracy                           0.64     76600\n",
      "   macro avg       0.63      0.52      0.44     76600\n",
      "weighted avg       0.63      0.64      0.53     76600\n",
      "\n"
     ]
    }
   ],
   "source": [
    "import pandas as pd\n",
    "import numpy as np\n",
    "from sklearn.model_selection import train_test_split\n",
    "from sklearn.linear_model import LogisticRegression\n",
    "from sklearn.metrics import classification_report, accuracy_score\n",
    "\n",
    "'''\n",
    "# Sample dataframe\n",
    "data = {\n",
    "    'latitude': [34.05, 36.16, 40.71, 34.05, 36.16, 40.71],\n",
    "    'longitude': [-118.24, -115.15, -74.00, -118.24, -115.15, -74.00],\n",
    "    'temperature': [20, 25, 30, 22, 26, 28],\n",
    "    'precipitation': [100, 50, 30, 110, 60, 40],\n",
    "    'date': pd.date_range(start='1/1/2020', periods=6, freq='M'),\n",
    "    'drought_flag': [0, 1, 0, 0, 1, 0]\n",
    "}\n",
    "'''\n",
    "#df = pd.DataFrame(data)\n",
    "\n",
    "# Feature selection\n",
    "#X = df[['latitude_1', 'longitude_1', 'tp_delta_1', 'tp_delta_1']]\n",
    "#y = df['drought_flag']\n",
    "\n",
    "# Splitting the data into training and testing sets\n",
    "X_train, X_test, y_train, y_test = train_test_split(X, y, test_size=0.2, random_state=42)\n",
    "\n",
    "# Creating the logistic regression model\n",
    "model = LogisticRegression()\n",
    "\n",
    "# Training the model\n",
    "model.fit(X_train, y_train)\n",
    "\n",
    "# Making predictions\n",
    "y_pred = model.predict_proba(X_test)\n",
    "\n",
    "# Evaluating the model\n",
    "y_class_pred = 1 * (y_pred[:, 1] >= 0.45)\n",
    "print(\"Accuracy:\", accuracy_score(y_test, y_class_pred))\n",
    "print(\"Classification Report:\\n\", classification_report(y_test, y_class_pred))\n"
   ]
  },
  {
   "cell_type": "code",
   "execution_count": 42,
   "metadata": {},
   "outputs": [
    {
     "data": {
      "text/plain": [
       "array([False, False, False, False, False, False, False, False, False,\n",
       "       False])"
      ]
     },
     "execution_count": 42,
     "metadata": {},
     "output_type": "execute_result"
    }
   ],
   "source": []
  },
  {
   "cell_type": "code",
   "execution_count": 69,
   "metadata": {},
   "outputs": [
    {
     "data": {
      "image/png": "[encoded data removed]",
      "text/plain": [
       "<Figure size 640x480 with 1 Axes>"
      ]
     },
     "metadata": {},
     "output_type": "display_data"
    },
    {
     "name": "stdout",
     "output_type": "stream",
     "text": [
      "Accuracy: 0.6441644908616188\n",
      "Classification Report:\n",
      "               precision    recall  f1-score   support\n",
      "\n",
      "           0       0.61      0.06      0.10     27822\n",
      "           1       0.65      0.98      0.78     48778\n",
      "\n",
      "    accuracy                           0.64     76600\n",
      "   macro avg       0.63      0.52      0.44     76600\n",
      "weighted avg       0.63      0.64      0.53     76600\n",
      "\n"
     ]
    }
   ],
   "source": [
    "import pandas as pd\n",
    "import numpy as np\n",
    "from sklearn.model_selection import train_test_split\n",
    "from sklearn.linear_model import LogisticRegression\n",
    "from sklearn.metrics import classification_report, accuracy_score, recall_score\n",
    "import matplotlib.pyplot as plt\n",
    "'''\n",
    "# Sample dataframe\n",
    "data = {\n",
    "    'latitude': [34.05, 36.16, 40.71, 34.05, 36.16, 40.71],\n",
    "    'longitude': [-118.24, -115.15, -74.00, -118.24, -115.15, -74.00],\n",
    "    'temperature': [20, 25, 30, 22, 26, 28],\n",
    "    'precipitation': [100, 50, 30, 110, 60, 40],\n",
    "    'date': pd.date_range(start='1/1/2020', periods=6, freq='M'),\n",
    "    'drought_flag': [0, 1, 0, 0, 1, 0]\n",
    "}\n",
    "\n",
    "df = pd.DataFrame(data)\n",
    "\n",
    "# Feature selection\n",
    "X = df[['latitude', 'longitude', 'temperature', 'precipitation']]\n",
    "y = df['drought_flag']\n",
    "'''\n",
    "# Splitting the data into training and testing sets\n",
    "X_train, X_test, y_train, y_test = train_test_split(X, y, test_size=0.2, random_state=42)\n",
    "\n",
    "# Creating the logistic regression model\n",
    "model = LogisticRegression()\n",
    "\n",
    "# Training the model\n",
    "model.fit(X_train, y_train)\n",
    "\n",
    "# Making predictions\n",
    "y_pred = model.predict_proba(X_test)\n",
    "\n",
    "# Grid search on threshold\n",
    "thresholds = np.arange(0.0, 1.0, 0.01)\n",
    "recalls = []\n",
    "\n",
    "for threshold in thresholds:\n",
    "    y_class_pred = (y_pred[:, 1] >= threshold).astype(int)\n",
    "    recall = recall_score(y_test, y_class_pred)\n",
    "    recalls.append(recall)\n",
    "\n",
    "# Plotting the recall for class 1 according to the threshold\n",
    "plt.plot(thresholds, recalls, marker='o')\n",
    "plt.xlabel('Threshold')\n",
    "plt.ylabel('Recall for Class 1')\n",
    "plt.title('Recall for Class 1 vs. Threshold')\n",
    "plt.grid(True)\n",
    "plt.show()\n",
    "\n",
    "# Evaluating the model at a specific threshold (e.g., 0.45)\n",
    "threshold = 0.45\n",
    "y_class_pred = (y_pred[:, 1] >= threshold).astype(int)\n",
    "print(\"Accuracy:\", accuracy_score(y_test, y_class_pred))\n",
    "print(\"Classification Report:\\n\", classification_report(y_test, y_class_pred))\n"
   ]
  },
  {
   "cell_type": "code",
   "execution_count": 74,
   "metadata": {},
   "outputs": [
    {
     "name": "stdout",
     "output_type": "stream",
     "text": [
      "Accuracy: 0.6401958224543081\n",
      "Classification Report:\n",
      "               precision    recall  f1-score   support\n",
      "\n",
      "           0       0.61      0.03      0.05     27822\n",
      "           1       0.64      0.99      0.78     48778\n",
      "\n",
      "    accuracy                           0.64     76600\n",
      "   macro avg       0.63      0.51      0.41     76600\n",
      "weighted avg       0.63      0.64      0.51     76600\n",
      "\n"
     ]
    }
   ],
   "source": [
    "threshold = 0.41\n",
    "y_class_pred = (y_pred[:, 1] >= threshold).astype(int)\n",
    "print(\"Accuracy:\", accuracy_score(y_test, y_class_pred))\n",
    "print(\"Classification Report:\\n\", classification_report(y_test, y_class_pred))"
   ]
  },
  {
   "cell_type": "code",
   "execution_count": 66,
   "metadata": {},
   "outputs": [],
   "source": [
    "import pandas as pd\n",
    "from sklearn.model_selection import train_test_split\n",
    "from sklearn.preprocessing import StandardScaler\n",
    "from sklearn.linear_model import LogisticRegression\n",
    "from sklearn.metrics import classification_report"
   ]
  },
  {
   "cell_type": "code",
   "execution_count": null,
   "metadata": {},
   "outputs": [],
   "source": [
    "# Load your data\n",
    "data = pd.read_csv('your_data.csv')\n",
    "\n",
    "# Calculate annual sums/averages\n",
    "data['annual_precipitation'] = data.groupby('year')['monthly_precipitation'].transform('sum')\n",
    "data['annual_temperature'] = data.groupby('year')['monthly_temperature'].transform('mean')\n",
    "data['annual_precipitation_delta'] = data.groupby('year')['precipitation_delta'].transform('sum')\n",
    "data['annual_temperature_delta'] = data.groupby('year')['temperature_delta'].transform('mean')"
   ]
  },
  {
   "cell_type": "code",
   "execution_count": null,
   "metadata": {},
   "outputs": [],
   "source": [
    "#X = df[[ 'latitude_1', 'longitude_1', 't2m_delta_1', 'tp_delta_1','swvl1_delta_1','swvl2_delta_1']]"
   ]
  },
  {
   "cell_type": "code",
   "execution_count": 76,
   "metadata": {},
   "outputs": [],
   "source": [
    "df['t2m_delta_1_yearly_sum'] = df.groupby(['year_2','Code Commune_2'])['t2m_delta_1'].transform('sum')"
   ]
  },
  {
   "cell_type": "code",
   "execution_count": 77,
   "metadata": {},
   "outputs": [],
   "source": [
    "df['t2m_delta_1_yearly_mean'] = df.groupby(['year_2','Code Commune_2'])['t2m_delta_1'].transform('mean')"
   ]
  },
  {
   "cell_type": "code",
   "execution_count": 78,
   "metadata": {},
   "outputs": [],
   "source": [
    "df['tp_delta_1_yearly_sum'] = df.groupby(['year_2','Code Commune_2'])['tp_delta_1'].transform('sum')"
   ]
  },
  {
   "cell_type": "code",
   "execution_count": 81,
   "metadata": {},
   "outputs": [],
   "source": [
    "df['tp_delta_1_yearly_mean'] = df.groupby(['year_2','Code Commune_2'])['tp_delta_1'].transform('mean')"
   ]
  },
  {
   "cell_type": "code",
   "execution_count": null,
   "metadata": {},
   "outputs": [],
   "source": [
    "X = df[[ ''Code Commune_2'', 't2m_delta_1_yearly_sum', 't2m_delta_1_yearly_mean', 'tp_delta_1_yearly_sum', 'tp_delta_1_yearly_mean']]"
   ]
  },
  {
   "cell_type": "code",
   "execution_count": null,
   "metadata": {},
   "outputs": [],
   "source": []
  },
  {
   "cell_type": "code",
   "execution_count": null,
   "metadata": {},
   "outputs": [],
   "source": []
  },
  {
   "cell_type": "markdown",
   "metadata": {},
   "source": [
    "how to build an annually indice, from monthly precipitations and temperature to predict drought (python dataframe)\n",
    "I have also temperature_delta and precipitation_delta, a measure of monthly delta (in comparaison to a monthly mean of a reference period)\n",
    "my y is a flag that says for each commune if it had drought that year.\n",
    "Use logistic regression to make the prediction\n",
    "I have also the longitude and latitude of the stations that took the measure and the name of the commune that it belongs to\n",
    "\n",
    "why do you apply zscore and what does it do ?\n",
    "what preprocessing do you apply for longitude, latitude"
   ]
  },
  {
   "cell_type": "code",
   "execution_count": null,
   "metadata": {},
   "outputs": [],
   "source": [
    "import pandas as pd\n",
    "from sklearn.model_selection import train_test_split\n",
    "from sklearn.preprocessing import StandardScaler\n",
    "from sklearn.linear_model import LogisticRegression\n",
    "from sklearn.metrics import classification_report\n",
    "\n",
    "# Load your data\n",
    "data = pd.read_csv('your_data.csv')\n",
    "\n",
    "# Calculate annual sums/averages\n",
    "data['annual_precipitation'] = data.groupby('year')['monthly_precipitation'].transform('sum')\n",
    "data['annual_temperature'] = data.groupby('year')['monthly_temperature'].transform('mean')\n",
    "data['annual_precipitation_delta'] = data.groupby('year')['precipitation_delta'].transform('sum')\n",
    "data['annual_temperature_delta'] = data.groupby('year')['temperature_delta'].transform('mean')\n",
    "\n",
    "# Drop duplicates to keep annual data\n",
    "data = data.drop_duplicates(subset=['year', 'commune_name'])\n",
    "\n",
    "# Features and target\n",
    "features = data[['annual_precipitation', 'annual_temperature', 'annual_precipitation_delta', 'annual_temperature_delta', 'longitude', 'latitude']]\n",
    "target = data['drought']  # Assuming you have a binary target column 'drought'\n",
    "\n",
    "# Z-score normalization\n",
    "scaler = StandardScaler()\n",
    "features_scaled = scaler.fit_transform(features)\n",
    "\n",
    "# Split data\n",
    "X_train, X_test, y_train, y_test = train_test_split(features_scaled, target, test_size=0.2, random_state=42)\n",
    "\n",
    "# Logistic Regression\n",
    "model = LogisticRegression()\n",
    "model.fit(X_train, y_train)\n",
    "\n",
    "# Predictions and evaluation\n",
    "y_pred = model.predict(X_test)\n",
    "print(classification_report(y_test, y_pred))\n"
   ]
  }
 ],
 "metadata": {
  "kernelspec": {
   "display_name": "base",
   "language": "python",
   "name": "python3"
  },
  "language_info": {
   "codemirror_mode": {
    "name": "ipython",
    "version": 3
   },
   "file_extension": ".py",
   "mimetype": "text/x-python",
   "name": "python",
   "nbconvert_exporter": "python",
   "pygments_lexer": "ipython3",
   "version": "3.12.3"
  }
 },
 "nbformat": 4,
 "nbformat_minor": 2
}
