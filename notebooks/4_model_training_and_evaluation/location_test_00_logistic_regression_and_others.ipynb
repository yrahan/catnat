{
 "cells": [
  {
   "cell_type": "markdown",
   "metadata": {},
   "source": [
    "# <p style=\"text-align: center;\">Location and Logistic Regression and Others</p>"
   ]
  },
  {
   "cell_type": "code",
   "execution_count": null,
   "metadata": {},
   "outputs": [],
   "source": [
    "make a map of the wrong prevision and see if there is a caracteristic"
   ]
  },
  {
   "cell_type": "code",
   "execution_count": null,
   "metadata": {},
   "outputs": [],
   "source": [
    "faire utilisation de location latitude et mlongitude (2) dela commune avec different feature engineering (acale, et les deux autre truc de chat gpt)"
   ]
  },
  {
   "cell_type": "code",
   "execution_count": null,
   "metadata": {},
   "outputs": [],
   "source": [
    "faire le mesh grid"
   ]
  },
  {
   "cell_type": "code",
   "execution_count": null,
   "metadata": {},
   "outputs": [],
   "source": [
    "faire le dash"
   ]
  },
  {
   "cell_type": "code",
   "execution_count": null,
   "metadata": {},
   "outputs": [],
   "source": [
    "faire le powerpoint"
   ]
  },
  {
   "cell_type": "code",
   "execution_count": 1,
   "metadata": {},
   "outputs": [],
   "source": [
    "#!pip install cartopy\n",
    "#!pip install imageio "
   ]
  },
  {
   "cell_type": "markdown",
   "metadata": {},
   "source": [
    "## Import libraries"
   ]
  },
  {
   "cell_type": "code",
   "execution_count": 2,
   "metadata": {},
   "outputs": [],
   "source": [
    "import pandas as pd\n",
    "import numpy as np\n",
    "\n",
    "import glob\n",
    "import os\n",
    "\n",
    "import requests\n",
    "\n",
    "import seaborn as sns\n",
    "import matplotlib.pyplot as plt\n",
    "import plotly.express as px\n",
    "\n",
    "import zipfile\n",
    "\n",
    "#import xarray as xr\n",
    "\n",
    "import folium\n",
    "from folium.plugins import MarkerCluster\n",
    "\n",
    "import pandas as pd\n",
    "#from geopy.geocoders import Nominatim\n",
    "\n",
    "import geopandas as gpd\n",
    "#import cartopy.crs as ccrs\n",
    "\n",
    "#import imageio\n",
    "\n",
    "from sklearn.neighbors import KDTree\n",
    "from sklearn.neighbors import BallTree"
   ]
  },
  {
   "cell_type": "markdown",
   "metadata": {},
   "source": [
    "## Set parameters"
   ]
  },
  {
   "cell_type": "code",
   "execution_count": 3,
   "metadata": {},
   "outputs": [],
   "source": [
    "decree_filename_base = 'arrete_'\n",
    "decrees_folder_name = './../../data/raw/decrees'\n",
    "communes_folder_name = './../../data/raw/opendatasoft'\n",
    "weather_folder_name = './../../data/raw/weather/era5'\n",
    "weather_ncfiles_folder_name = './../../data/raw/weather/era5/ncfiles'\n",
    "processed_data_folder_name = './../../data/processed'\n",
    "maps_folder_name = './../../data/processed/maps'\n",
    "decrees_filename = 'decrees.parquet'\n",
    "decrees_locations_filename = 'decrees_locations.parquet'\n",
    "communes_csv_filename = 'correspondance-code-insee-code-postal.csv'\n",
    "weather_filename = 'weather.parquet'\n",
    "weather_shema = 'weather_shema.csv'\n",
    "weather_decrees_filename = 'weather_decrees.parquet'\n",
    "weather_decrees_shema = 'weather_decrees.csv'\n",
    "#weather_zip_file = \"193fcd51a8958175843ecbbcaba057c8.zip\""
   ]
  },
  {
   "cell_type": "markdown",
   "metadata": {},
   "source": [
    "## Load Weather data"
   ]
  },
  {
   "cell_type": "markdown",
   "metadata": {},
   "source": [
    "| Column    | Description                                      |\n",
    "|-----------|--------------------------------------------------|\n",
    "| date      | The date of the observation.                     |\n",
    "| latitude  | The latitude coordinate of the observation point.|\n",
    "| longitude | The longitude coordinate of the observation point.|\n",
    "| number    | A unique identifier for the observation.         |\n",
    "| expver    | Experiment version number.                       |\n",
    "| u10       | 10-meter U-component of wind (eastward wind).    |\n",
    "| v10       | 10-meter V-component of wind (northward wind).   |\n",
    "| t2m       | 2-meter temperature (air temperature at 2 meters above the surface).|\n",
    "| sp        | Surface pressure.                                |\n",
    "| tp        | Total precipitation.                             |\n",
    "| e         | Evaporation.                                     |\n",
    "| sro       | Surface runoff.                                  |\n",
    "| tcrw      | Total column water vapor.                        |\n",
    "| stl1      | Soil temperature level 1.                        |\n",
    "| stl2      | Soil temperature level 2.                        |\n",
    "| slt       | Soil type.                                       |\n",
    "| swvl1     | Volumetric soil water layer 1.                   |\n",
    "| swvl2     | Volumetric soil water layer 2.                   |\n",
    "| cvh       | High vegetation cover.                           |\n",
    "| cvl       | Low vegetation cover.                            |\n",
    "| tvh       | High vegetation type.                            |\n",
    "| tvl       | Low vegetation type.                             |\n"
   ]
  },
  {
   "cell_type": "markdown",
   "metadata": {},
   "source": [
    "## Import Data"
   ]
  },
  {
   "cell_type": "code",
   "execution_count": 4,
   "metadata": {},
   "outputs": [],
   "source": [
    "# read the dataframe from parquet\n",
    "import pandas as pd\n",
    "\n",
    "df = pd.read_parquet(os.path.join(processed_data_folder_name, weather_decrees_filename))\n",
    "\n",
    "\n"
   ]
  },
  {
   "cell_type": "code",
   "execution_count": 5,
   "metadata": {},
   "outputs": [
    {
     "data": {
      "text/plain": [
       "'./../../data/processed/weather_decrees.csv'"
      ]
     },
     "execution_count": 5,
     "metadata": {},
     "output_type": "execute_result"
    }
   ],
   "source": [
    "os.path.join(processed_data_folder_name, weather_decrees_shema)"
   ]
  },
  {
   "cell_type": "code",
   "execution_count": 6,
   "metadata": {},
   "outputs": [],
   "source": [
    "# Load the schema (data types) from the file\n",
    "schema = pd.read_csv(os.path.join(processed_data_folder_name, weather_decrees_shema), index_col=0).squeeze(\"columns\")"
   ]
  },
  {
   "cell_type": "code",
   "execution_count": 7,
   "metadata": {},
   "outputs": [],
   "source": [
    "# Apply the schema to the loaded dataframe\n",
    "df = df.astype(schema.to_dict())"
   ]
  },
  {
   "cell_type": "code",
   "execution_count": 8,
   "metadata": {},
   "outputs": [
    {
     "data": {
      "text/html": [
       "<div>\n",
       "<style scoped>\n",
       "    .dataframe tbody tr th:only-of-type {\n",
       "        vertical-align: middle;\n",
       "    }\n",
       "\n",
       "    .dataframe tbody tr th {\n",
       "        vertical-align: top;\n",
       "    }\n",
       "\n",
       "    .dataframe thead th {\n",
       "        text-align: right;\n",
       "    }\n",
       "</style>\n",
       "<table border=\"1\" class=\"dataframe\">\n",
       "  <thead>\n",
       "    <tr style=\"text-align: right;\">\n",
       "      <th></th>\n",
       "      <th>date_1</th>\n",
       "      <th>latitude_1</th>\n",
       "      <th>longitude_1</th>\n",
       "      <th>u10_1</th>\n",
       "      <th>v10_1</th>\n",
       "      <th>t2m_1</th>\n",
       "      <th>sp_1</th>\n",
       "      <th>tp_1</th>\n",
       "      <th>e_1</th>\n",
       "      <th>sro_1</th>\n",
       "      <th>...</th>\n",
       "      <th>Code Arrondissement_2</th>\n",
       "      <th>Code Département_2</th>\n",
       "      <th>Code Région_2</th>\n",
       "      <th>start_event_year_2</th>\n",
       "      <th>latitude_2</th>\n",
       "      <th>longitude_2</th>\n",
       "      <th>year_2</th>\n",
       "      <th>latitude_rad_2</th>\n",
       "      <th>longitude_rad_2</th>\n",
       "      <th>distance_km</th>\n",
       "    </tr>\n",
       "  </thead>\n",
       "  <tbody>\n",
       "    <tr>\n",
       "      <th>201</th>\n",
       "      <td>1990-01-01</td>\n",
       "      <td>51.25</td>\n",
       "      <td>2.50</td>\n",
       "      <td>4.651482</td>\n",
       "      <td>6.094338</td>\n",
       "      <td>7.558984</td>\n",
       "      <td>101673.1875</td>\n",
       "      <td>0.002449</td>\n",
       "      <td>-0.001736</td>\n",
       "      <td>3.814697e-06</td>\n",
       "      <td>...</td>\n",
       "      <td>4.0</td>\n",
       "      <td>59</td>\n",
       "      <td>31.0</td>\n",
       "      <td>1989</td>\n",
       "      <td>51.073044</td>\n",
       "      <td>2.527649</td>\n",
       "      <td>1990</td>\n",
       "      <td>0.891393</td>\n",
       "      <td>0.044116</td>\n",
       "      <td>19.770879</td>\n",
       "    </tr>\n",
       "    <tr>\n",
       "      <th>254</th>\n",
       "      <td>1990-01-01</td>\n",
       "      <td>51.00</td>\n",
       "      <td>1.50</td>\n",
       "      <td>5.272575</td>\n",
       "      <td>6.298440</td>\n",
       "      <td>8.234766</td>\n",
       "      <td>101567.1875</td>\n",
       "      <td>0.003467</td>\n",
       "      <td>-0.001933</td>\n",
       "      <td>9.536743e-07</td>\n",
       "      <td>...</td>\n",
       "      <td>3.0</td>\n",
       "      <td>62</td>\n",
       "      <td>31.0</td>\n",
       "      <td>1990</td>\n",
       "      <td>50.888336</td>\n",
       "      <td>1.682486</td>\n",
       "      <td>1990</td>\n",
       "      <td>0.888169</td>\n",
       "      <td>0.029365</td>\n",
       "      <td>17.822208</td>\n",
       "    </tr>\n",
       "    <tr>\n",
       "      <th>255</th>\n",
       "      <td>1990-01-01</td>\n",
       "      <td>51.00</td>\n",
       "      <td>1.75</td>\n",
       "      <td>4.917595</td>\n",
       "      <td>6.070413</td>\n",
       "      <td>7.896875</td>\n",
       "      <td>101591.1875</td>\n",
       "      <td>0.003078</td>\n",
       "      <td>-0.001807</td>\n",
       "      <td>1.049042e-05</td>\n",
       "      <td>...</td>\n",
       "      <td>6.0</td>\n",
       "      <td>62</td>\n",
       "      <td>31.0</td>\n",
       "      <td>1989</td>\n",
       "      <td>50.950207</td>\n",
       "      <td>1.875756</td>\n",
       "      <td>1990</td>\n",
       "      <td>0.889249</td>\n",
       "      <td>0.032738</td>\n",
       "      <td>10.400898</td>\n",
       "    </tr>\n",
       "    <tr>\n",
       "      <th>256</th>\n",
       "      <td>1990-01-01</td>\n",
       "      <td>51.00</td>\n",
       "      <td>2.00</td>\n",
       "      <td>3.881462</td>\n",
       "      <td>4.989358</td>\n",
       "      <td>7.142969</td>\n",
       "      <td>101607.1875</td>\n",
       "      <td>0.002492</td>\n",
       "      <td>-0.001066</td>\n",
       "      <td>3.910065e-05</td>\n",
       "      <td>...</td>\n",
       "      <td>5.0</td>\n",
       "      <td>62</td>\n",
       "      <td>31.0</td>\n",
       "      <td>1990</td>\n",
       "      <td>50.981233</td>\n",
       "      <td>2.039307</td>\n",
       "      <td>1990</td>\n",
       "      <td>0.889790</td>\n",
       "      <td>0.035593</td>\n",
       "      <td>3.453043</td>\n",
       "    </tr>\n",
       "    <tr>\n",
       "      <th>257</th>\n",
       "      <td>1990-01-01</td>\n",
       "      <td>51.00</td>\n",
       "      <td>2.25</td>\n",
       "      <td>3.224724</td>\n",
       "      <td>4.463479</td>\n",
       "      <td>6.730859</td>\n",
       "      <td>101649.1875</td>\n",
       "      <td>0.002129</td>\n",
       "      <td>-0.000822</td>\n",
       "      <td>4.005432e-05</td>\n",
       "      <td>...</td>\n",
       "      <td>4.0</td>\n",
       "      <td>59</td>\n",
       "      <td>31.0</td>\n",
       "      <td>1989</td>\n",
       "      <td>51.001214</td>\n",
       "      <td>2.223048</td>\n",
       "      <td>1990</td>\n",
       "      <td>0.890139</td>\n",
       "      <td>0.038800</td>\n",
       "      <td>1.890829</td>\n",
       "    </tr>\n",
       "  </tbody>\n",
       "</table>\n",
       "<p>5 rows × 115 columns</p>\n",
       "</div>"
      ],
      "text/plain": [
       "        date_1  latitude_1  longitude_1     u10_1     v10_1     t2m_1  \\\n",
       "201 1990-01-01       51.25         2.50  4.651482  6.094338  7.558984   \n",
       "254 1990-01-01       51.00         1.50  5.272575  6.298440  8.234766   \n",
       "255 1990-01-01       51.00         1.75  4.917595  6.070413  7.896875   \n",
       "256 1990-01-01       51.00         2.00  3.881462  4.989358  7.142969   \n",
       "257 1990-01-01       51.00         2.25  3.224724  4.463479  6.730859   \n",
       "\n",
       "            sp_1      tp_1       e_1         sro_1  ...  \\\n",
       "201  101673.1875  0.002449 -0.001736  3.814697e-06  ...   \n",
       "254  101567.1875  0.003467 -0.001933  9.536743e-07  ...   \n",
       "255  101591.1875  0.003078 -0.001807  1.049042e-05  ...   \n",
       "256  101607.1875  0.002492 -0.001066  3.910065e-05  ...   \n",
       "257  101649.1875  0.002129 -0.000822  4.005432e-05  ...   \n",
       "\n",
       "     Code Arrondissement_2  Code Département_2  Code Région_2  \\\n",
       "201                    4.0                  59           31.0   \n",
       "254                    3.0                  62           31.0   \n",
       "255                    6.0                  62           31.0   \n",
       "256                    5.0                  62           31.0   \n",
       "257                    4.0                  59           31.0   \n",
       "\n",
       "    start_event_year_2  latitude_2  longitude_2  year_2  latitude_rad_2  \\\n",
       "201               1989   51.073044     2.527649    1990        0.891393   \n",
       "254               1990   50.888336     1.682486    1990        0.888169   \n",
       "255               1989   50.950207     1.875756    1990        0.889249   \n",
       "256               1990   50.981233     2.039307    1990        0.889790   \n",
       "257               1989   51.001214     2.223048    1990        0.890139   \n",
       "\n",
       "    longitude_rad_2 distance_km  \n",
       "201        0.044116   19.770879  \n",
       "254        0.029365   17.822208  \n",
       "255        0.032738   10.400898  \n",
       "256        0.035593    3.453043  \n",
       "257        0.038800    1.890829  \n",
       "\n",
       "[5 rows x 115 columns]"
      ]
     },
     "execution_count": 8,
     "metadata": {},
     "output_type": "execute_result"
    }
   ],
   "source": [
    "df.head()"
   ]
  },
  {
   "cell_type": "code",
   "execution_count": 9,
   "metadata": {},
   "outputs": [
    {
     "data": {
      "text/plain": [
       "Index(['date_1', 'latitude_1', 'longitude_1', 'u10_1', 'v10_1', 't2m_1',\n",
       "       'sp_1', 'tp_1', 'e_1', 'sro_1',\n",
       "       ...\n",
       "       'Code Arrondissement_2', 'Code Département_2', 'Code Région_2',\n",
       "       'start_event_year_2', 'latitude_2', 'longitude_2', 'year_2',\n",
       "       'latitude_rad_2', 'longitude_rad_2', 'distance_km'],\n",
       "      dtype='object', length=115)"
      ]
     },
     "execution_count": 9,
     "metadata": {},
     "output_type": "execute_result"
    }
   ],
   "source": [
    "df.columns"
   ]
  },
  {
   "cell_type": "code",
   "execution_count": 10,
   "metadata": {},
   "outputs": [
    {
     "data": {
      "text/html": [
       "<div>\n",
       "<style scoped>\n",
       "    .dataframe tbody tr th:only-of-type {\n",
       "        vertical-align: middle;\n",
       "    }\n",
       "\n",
       "    .dataframe tbody tr th {\n",
       "        vertical-align: top;\n",
       "    }\n",
       "\n",
       "    .dataframe thead th {\n",
       "        text-align: right;\n",
       "    }\n",
       "</style>\n",
       "<table border=\"1\" class=\"dataframe\">\n",
       "  <thead>\n",
       "    <tr style=\"text-align: right;\">\n",
       "      <th></th>\n",
       "      <th>latitude_1</th>\n",
       "      <th>longitude_1</th>\n",
       "      <th>t2m_z_1</th>\n",
       "      <th>tp_z_1</th>\n",
       "      <th>swvl1_z_1</th>\n",
       "      <th>swvl2_z_1</th>\n",
       "      <th>e_z_1</th>\n",
       "    </tr>\n",
       "  </thead>\n",
       "  <tbody>\n",
       "    <tr>\n",
       "      <th>201</th>\n",
       "      <td>51.25</td>\n",
       "      <td>2.50</td>\n",
       "      <td>0.952558</td>\n",
       "      <td>-0.062029</td>\n",
       "      <td>-0.840825</td>\n",
       "      <td>-0.940191</td>\n",
       "      <td>0.166092</td>\n",
       "    </tr>\n",
       "    <tr>\n",
       "      <th>254</th>\n",
       "      <td>51.00</td>\n",
       "      <td>1.50</td>\n",
       "      <td>1.117975</td>\n",
       "      <td>0.304774</td>\n",
       "      <td>-0.347817</td>\n",
       "      <td>-0.544746</td>\n",
       "      <td>0.453043</td>\n",
       "    </tr>\n",
       "    <tr>\n",
       "      <th>255</th>\n",
       "      <td>51.00</td>\n",
       "      <td>1.75</td>\n",
       "      <td>1.014796</td>\n",
       "      <td>0.293028</td>\n",
       "      <td>-0.790490</td>\n",
       "      <td>-0.965916</td>\n",
       "      <td>0.298279</td>\n",
       "    </tr>\n",
       "    <tr>\n",
       "      <th>256</th>\n",
       "      <td>51.00</td>\n",
       "      <td>2.00</td>\n",
       "      <td>0.886684</td>\n",
       "      <td>0.364226</td>\n",
       "      <td>-0.820262</td>\n",
       "      <td>-0.986800</td>\n",
       "      <td>-0.370528</td>\n",
       "    </tr>\n",
       "    <tr>\n",
       "      <th>257</th>\n",
       "      <td>51.00</td>\n",
       "      <td>2.25</td>\n",
       "      <td>0.836876</td>\n",
       "      <td>0.230374</td>\n",
       "      <td>-0.839300</td>\n",
       "      <td>-0.985479</td>\n",
       "      <td>-0.683488</td>\n",
       "    </tr>\n",
       "  </tbody>\n",
       "</table>\n",
       "</div>"
      ],
      "text/plain": [
       "     latitude_1  longitude_1   t2m_z_1    tp_z_1  swvl1_z_1  swvl2_z_1  \\\n",
       "201       51.25         2.50  0.952558 -0.062029  -0.840825  -0.940191   \n",
       "254       51.00         1.50  1.117975  0.304774  -0.347817  -0.544746   \n",
       "255       51.00         1.75  1.014796  0.293028  -0.790490  -0.965916   \n",
       "256       51.00         2.00  0.886684  0.364226  -0.820262  -0.986800   \n",
       "257       51.00         2.25  0.836876  0.230374  -0.839300  -0.985479   \n",
       "\n",
       "        e_z_1  \n",
       "201  0.166092  \n",
       "254  0.453043  \n",
       "255  0.298279  \n",
       "256 -0.370528  \n",
       "257 -0.683488  "
      ]
     },
     "execution_count": 10,
     "metadata": {},
     "output_type": "execute_result"
    }
   ],
   "source": [
    "features_column_name = [ 'latitude_1', 'longitude_1', 't2m_z_1', 'tp_z_1','swvl1_z_1','swvl2_z_1', 'e_z_1']\n",
    "X = df[features_column_name]\n",
    "X.head()"
   ]
  },
  {
   "cell_type": "code",
   "execution_count": 11,
   "metadata": {},
   "outputs": [
    {
     "data": {
      "text/plain": [
       "code_peril_2\n",
       "ICB    179408\n",
       "SEC    160824\n",
       "MVT     19968\n",
       "CMV      7060\n",
       "SEI      5900\n",
       "IRN      3812\n",
       "GLT      2352\n",
       "VCY      1264\n",
       "AVA      1080\n",
       "ECB       540\n",
       "EFA       480\n",
       "PDN        84\n",
       "LVT        72\n",
       "DIV        48\n",
       "COB        36\n",
       "GRL        36\n",
       "RAZ        24\n",
       "GET        12\n",
       "Name: count, dtype: int64"
      ]
     },
     "execution_count": 11,
     "metadata": {},
     "output_type": "execute_result"
    }
   ],
   "source": [
    "df['code_peril_2'].value_counts()"
   ]
  },
  {
   "cell_type": "code",
   "execution_count": 12,
   "metadata": {},
   "outputs": [],
   "source": [
    "# Create drought_flag column without causing fragmentation\n",
    "drought_flag = df['code_peril_2'].apply(lambda x: 1 if x == 'SEC' else 0)\n",
    "# avoid framentation\n",
    "df = pd.concat([df, drought_flag.rename('drought_flag')], axis=1)\n",
    "\n"
   ]
  },
  {
   "cell_type": "code",
   "execution_count": 13,
   "metadata": {},
   "outputs": [
    {
     "data": {
      "text/plain": [
       "201    1\n",
       "254    0\n",
       "255    1\n",
       "256    1\n",
       "257    1\n",
       "Name: drought_flag, dtype: int64"
      ]
     },
     "execution_count": 13,
     "metadata": {},
     "output_type": "execute_result"
    }
   ],
   "source": [
    "df['drought_flag'] .head()"
   ]
  },
  {
   "cell_type": "code",
   "execution_count": 14,
   "metadata": {},
   "outputs": [],
   "source": [
    "df['drought_yearly_flag'] = df.groupby(['year_2','Code Commune_2'])['drought_flag'].transform('max')"
   ]
  },
  {
   "cell_type": "code",
   "execution_count": 15,
   "metadata": {},
   "outputs": [
    {
     "data": {
      "text/plain": [
       "201    1\n",
       "254    0\n",
       "255    1\n",
       "256    1\n",
       "257    1\n",
       "Name: drought_yearly_flag, dtype: int64"
      ]
     },
     "execution_count": 15,
     "metadata": {},
     "output_type": "execute_result"
    }
   ],
   "source": [
    "df['drought_yearly_flag'].head()"
   ]
  },
  {
   "cell_type": "code",
   "execution_count": 16,
   "metadata": {},
   "outputs": [],
   "source": [
    "y = df['drought_yearly_flag']"
   ]
  },
  {
   "cell_type": "code",
   "execution_count": 17,
   "metadata": {},
   "outputs": [
    {
     "name": "stdout",
     "output_type": "stream",
     "text": [
      "Accuracy: 0.6439033942558747\n",
      "Classification Report:\n",
      "               precision    recall  f1-score   support\n",
      "\n",
      "           0       0.61      0.05      0.10     27822\n",
      "           1       0.65      0.98      0.78     48778\n",
      "\n",
      "    accuracy                           0.64     76600\n",
      "   macro avg       0.63      0.52      0.44     76600\n",
      "weighted avg       0.63      0.64      0.53     76600\n",
      "\n"
     ]
    }
   ],
   "source": [
    "import pandas as pd\n",
    "import numpy as np\n",
    "from sklearn.model_selection import train_test_split\n",
    "from sklearn.linear_model import LogisticRegression\n",
    "from sklearn.metrics import classification_report, accuracy_score\n",
    "\n",
    "'''\n",
    "# Sample dataframe\n",
    "data = {\n",
    "    'latitude': [34.05, 36.16, 40.71, 34.05, 36.16, 40.71],\n",
    "    'longitude': [-118.24, -115.15, -74.00, -118.24, -115.15, -74.00],\n",
    "    'temperature': [20, 25, 30, 22, 26, 28],\n",
    "    'precipitation': [100, 50, 30, 110, 60, 40],\n",
    "    'date': pd.date_range(start='1/1/2020', periods=6, freq='M'),\n",
    "    'drought_flag': [0, 1, 0, 0, 1, 0]\n",
    "}\n",
    "'''\n",
    "#df = pd.DataFrame(data)\n",
    "\n",
    "# Feature selection\n",
    "#X = df[['latitude_1', 'longitude_1', 'tp_delta_1', 'tp_delta_1']]\n",
    "#y = df['drought_flag']\n",
    "\n",
    "# Splitting the data into training and testing sets\n",
    "X_train, X_test, y_train, y_test = train_test_split(X, y, test_size=0.2, random_state=42)\n",
    "\n",
    "# Creating the logistic regression model\n",
    "model = LogisticRegression()\n",
    "\n",
    "# Training the model\n",
    "model.fit(X_train, y_train)\n",
    "\n",
    "# Making predictions\n",
    "y_pred = model.predict_proba(X_test)\n",
    "\n",
    "# Evaluating the model\n",
    "y_class_pred = 1 * (y_pred[:, 1] >= 0.45)\n",
    "print(\"Accuracy:\", accuracy_score(y_test, y_class_pred))\n",
    "print(\"Classification Report:\\n\", classification_report(y_test, y_class_pred))\n"
   ]
  },
  {
   "cell_type": "code",
   "execution_count": null,
   "metadata": {},
   "outputs": [],
   "source": []
  },
  {
   "cell_type": "code",
   "execution_count": 18,
   "metadata": {},
   "outputs": [
    {
     "data": {
      "image/png": "[encoded data removed]",
      "text/plain": [
       "<Figure size 640x480 with 1 Axes>"
      ]
     },
     "metadata": {},
     "output_type": "display_data"
    },
    {
     "name": "stdout",
     "output_type": "stream",
     "text": [
      "Accuracy: 0.6439033942558747\n",
      "Classification Report:\n",
      "               precision    recall  f1-score   support\n",
      "\n",
      "           0       0.61      0.05      0.10     27822\n",
      "           1       0.65      0.98      0.78     48778\n",
      "\n",
      "    accuracy                           0.64     76600\n",
      "   macro avg       0.63      0.52      0.44     76600\n",
      "weighted avg       0.63      0.64      0.53     76600\n",
      "\n"
     ]
    }
   ],
   "source": [
    "import pandas as pd\n",
    "import numpy as np\n",
    "from sklearn.model_selection import train_test_split\n",
    "from sklearn.linear_model import LogisticRegression\n",
    "from sklearn.metrics import classification_report, accuracy_score, recall_score\n",
    "import matplotlib.pyplot as plt\n",
    "'''\n",
    "# Sample dataframe\n",
    "data = {\n",
    "    'latitude': [34.05, 36.16, 40.71, 34.05, 36.16, 40.71],\n",
    "    'longitude': [-118.24, -115.15, -74.00, -118.24, -115.15, -74.00],\n",
    "    'temperature': [20, 25, 30, 22, 26, 28],\n",
    "    'precipitation': [100, 50, 30, 110, 60, 40],\n",
    "    'date': pd.date_range(start='1/1/2020', periods=6, freq='M'),\n",
    "    'drought_flag': [0, 1, 0, 0, 1, 0]\n",
    "}\n",
    "\n",
    "df = pd.DataFrame(data)\n",
    "\n",
    "# Feature selection\n",
    "X = df[['latitude', 'longitude', 'temperature', 'precipitation']]\n",
    "y = df['drought_flag']\n",
    "'''\n",
    "# Splitting the data into training and testing sets\n",
    "X_train, X_test, y_train, y_test = train_test_split(X, y, test_size=0.2, random_state=42)\n",
    "\n",
    "# Creating the logistic regression model\n",
    "model = LogisticRegression()\n",
    "\n",
    "# Training the model\n",
    "model.fit(X_train, y_train)\n",
    "\n",
    "# Making predictions\n",
    "y_pred = model.predict_proba(X_test)\n",
    "\n",
    "# Grid search on threshold\n",
    "thresholds = np.arange(0.0, 1.0, 0.01)\n",
    "recalls = []\n",
    "\n",
    "for threshold in thresholds:\n",
    "    y_class_pred = (y_pred[:, 1] >= threshold).astype(int)\n",
    "    recall = recall_score(y_test, y_class_pred)\n",
    "    recalls.append(recall)\n",
    "\n",
    "# Plotting the recall for class 1 according to the threshold\n",
    "plt.plot(thresholds, recalls, marker='o')\n",
    "plt.xlabel('Threshold')\n",
    "plt.ylabel('Recall for Class 1')\n",
    "plt.title('Recall for Class 1 vs. Threshold')\n",
    "plt.grid(True)\n",
    "plt.show()\n",
    "\n",
    "# Evaluating the model at a specific threshold (e.g., 0.45)\n",
    "threshold = 0.45\n",
    "y_class_pred = (y_pred[:, 1] >= threshold).astype(int)\n",
    "print(\"Accuracy:\", accuracy_score(y_test, y_class_pred))\n",
    "print(\"Classification Report:\\n\", classification_report(y_test, y_class_pred))\n"
   ]
  },
  {
   "cell_type": "code",
   "execution_count": 19,
   "metadata": {},
   "outputs": [
    {
     "name": "stdout",
     "output_type": "stream",
     "text": [
      "Accuracy: 0.638485639686684\n",
      "Classification Report:\n",
      "               precision    recall  f1-score   support\n",
      "\n",
      "           0       0.59      0.02      0.03     27822\n",
      "           1       0.64      0.99      0.78     48778\n",
      "\n",
      "    accuracy                           0.64     76600\n",
      "   macro avg       0.61      0.50      0.40     76600\n",
      "weighted avg       0.62      0.64      0.51     76600\n",
      "\n"
     ]
    }
   ],
   "source": [
    "threshold = 0.41\n",
    "y_class_pred = (y_pred[:, 1] >= threshold).astype(int)\n",
    "print(\"Accuracy:\", accuracy_score(y_test, y_class_pred))\n",
    "print(\"Classification Report:\\n\", classification_report(y_test, y_class_pred))"
   ]
  },
  {
   "cell_type": "code",
   "execution_count": 20,
   "metadata": {},
   "outputs": [],
   "source": [
    "import pandas as pd\n",
    "from sklearn.model_selection import train_test_split\n",
    "from sklearn.preprocessing import StandardScaler\n",
    "from sklearn.linear_model import LogisticRegression\n",
    "from sklearn.metrics import classification_report"
   ]
  },
  {
   "cell_type": "code",
   "execution_count": 21,
   "metadata": {},
   "outputs": [],
   "source": [
    "#X = df[[ 'latitude_1', 'longitude_1', 't2m_delta_1', 'tp_delta_1','swvl1_delta_1','swvl2_delta_1']]"
   ]
  },
  {
   "cell_type": "code",
   "execution_count": 22,
   "metadata": {},
   "outputs": [],
   "source": [
    "# df['t2m_delta_1_yearly_sum'] = df.groupby(['year_2','Code Commune_2'])['t2m_delta_1'].transform('sum')"
   ]
  },
  {
   "cell_type": "code",
   "execution_count": 23,
   "metadata": {},
   "outputs": [],
   "source": [
    "# df['t2m_delta_1_yearly_mean'] = df.groupby(['year_2','Code Commune_2'])['t2m_delta_1'].transform('mean')"
   ]
  },
  {
   "cell_type": "code",
   "execution_count": 24,
   "metadata": {},
   "outputs": [],
   "source": [
    "# df['tp_delta_1_yearly_sum'] = df.groupby(['year_2','Code Commune_2'])['tp_delta_1'].transform('sum')"
   ]
  },
  {
   "cell_type": "code",
   "execution_count": 25,
   "metadata": {},
   "outputs": [],
   "source": [
    "# df['tp_delta_1_yearly_mean'] = df.groupby(['year_2','Code Commune_2'])['tp_delta_1'].transform('mean')"
   ]
  },
  {
   "cell_type": "code",
   "execution_count": 26,
   "metadata": {},
   "outputs": [],
   "source": [
    "import pandas as pd\n",
    "\n",
    "# Assuming df is your DataFrame and features_column_name is your list of monthly features\n",
    "\n",
    "monthly_features = [feature for feature in features_column_name if feature not in ['latitude_1', 'longitude_1']]\n",
    "\n",
    "for feature in features_column_name:\n",
    "    df[f'{feature}_yearly_sum'] = df.groupby(['year_2', 'Code Commune_2'])[feature].transform('sum')\n",
    "    df[f'{feature}_yearly_mean'] = df.groupby(['year_2', 'Code Commune_2'])[feature].transform('mean')\n"
   ]
  },
  {
   "cell_type": "code",
   "execution_count": 27,
   "metadata": {},
   "outputs": [
    {
     "data": {
      "text/plain": [
       "['latitude_1_yearly_sum',\n",
       " 'latitude_1_yearly_mean',\n",
       " 'longitude_1_yearly_sum',\n",
       " 'longitude_1_yearly_mean',\n",
       " 't2m_z_1_yearly_sum',\n",
       " 't2m_z_1_yearly_mean',\n",
       " 'tp_z_1_yearly_sum',\n",
       " 'tp_z_1_yearly_mean',\n",
       " 'swvl1_z_1_yearly_sum',\n",
       " 'swvl1_z_1_yearly_mean',\n",
       " 'swvl2_z_1_yearly_sum',\n",
       " 'swvl2_z_1_yearly_mean',\n",
       " 'e_z_1_yearly_sum',\n",
       " 'e_z_1_yearly_mean']"
      ]
     },
     "execution_count": 27,
     "metadata": {},
     "output_type": "execute_result"
    }
   ],
   "source": [
    "# yearly features\n",
    "yearly_features = [col for col in df.columns if col.endswith('_yearly_sum') or col.endswith('_yearly_mean')]\n",
    "yearly_features"
   ]
  },
  {
   "cell_type": "code",
   "execution_count": 28,
   "metadata": {},
   "outputs": [],
   "source": [
    "df_year = df[['latitude_1', 'longitude_1', 'Code Commune_2', 'year_2']  + yearly_features + ['drought_yearly_flag']].copy()"
   ]
  },
  {
   "cell_type": "code",
   "execution_count": 29,
   "metadata": {},
   "outputs": [],
   "source": [
    "df_year.drop_duplicates(inplace=True)"
   ]
  },
  {
   "cell_type": "code",
   "execution_count": 36,
   "metadata": {},
   "outputs": [],
   "source": [
    "X = df_year[['latitude_1', 'longitude_1', 'Code Commune_2', 'year_2']  + yearly_features ]\n",
    "X = df_year[yearly_features]"
   ]
  },
  {
   "cell_type": "code",
   "execution_count": 37,
   "metadata": {},
   "outputs": [],
   "source": [
    "Y=df_year['drought_yearly_flag']"
   ]
  },
  {
   "cell_type": "code",
   "execution_count": 32,
   "metadata": {},
   "outputs": [
    {
     "data": {
      "image/png": "[encoded data removed]",
      "text/plain": [
       "<Figure size 1000x600 with 1 Axes>"
      ]
     },
     "metadata": {},
     "output_type": "display_data"
    },
    {
     "name": "stdout",
     "output_type": "stream",
     "text": [
      "Best Threshold: 0.6290691817657418\n",
      "Accuracy: 0.73\n"
     ]
    }
   ],
   "source": [
    "import pandas as pd\n",
    "from sklearn.model_selection import train_test_split, GridSearchCV\n",
    "from sklearn.preprocessing import StandardScaler\n",
    "from sklearn.linear_model import LogisticRegression\n",
    "from sklearn.pipeline import Pipeline\n",
    "from sklearn.metrics import roc_curve, roc_auc_score, accuracy_score\n",
    "import matplotlib.pyplot as plt\n",
    "\n",
    "# Assuming df_year is already defined\n",
    "#X = df_year[['latitude_1', 'longitude_1', 't2m_delta_1_yearly_sum', 't2m_delta_1_yearly_mean', 'tp_delta_1_yearly_sum', 'tp_delta_1_yearly_mean']]\n",
    "#Y = df_year['drought_yearly_flag']\n",
    "\n",
    "# Split the data into training and testing sets\n",
    "X_train, X_test, Y_train, Y_test = train_test_split(X, Y, test_size=0.3, random_state=42)\n",
    "\n",
    "# Create a pipeline with standardization and logistic regression\n",
    "pipeline = Pipeline([\n",
    "    ('scaler', StandardScaler()),\n",
    "    ('logreg', LogisticRegression())\n",
    "])\n",
    "\n",
    "# Fit the model\n",
    "pipeline.fit(X_train, Y_train)\n",
    "\n",
    "# Predict probabilities\n",
    "Y_pred_prob = pipeline.predict_proba(X_test)[:, 1]\n",
    "\n",
    "# Calculate ROC curve and AUC\n",
    "fpr, tpr, thresholds = roc_curve(Y_test, Y_pred_prob)\n",
    "roc_auc = roc_auc_score(Y_test, Y_pred_prob)\n",
    "\n",
    "# Find the best threshold\n",
    "best_threshold = thresholds[np.argmax(tpr - fpr)]\n",
    "\n",
    "# Plot ROC curve\n",
    "plt.figure(figsize=(10, 6))\n",
    "plt.plot(fpr, tpr, label=f'ROC curve (area = {roc_auc:.2f})')\n",
    "plt.plot([0, 1], [0, 1], 'k--')\n",
    "plt.xlabel('False Positive Rate')\n",
    "plt.ylabel('True Positive Rate')\n",
    "plt.title('Receiver Operating Characteristic (ROC) Curve')\n",
    "plt.legend(loc='lower right')\n",
    "plt.show()\n",
    "\n",
    "# Predict using the best threshold\n",
    "Y_pred_best = (Y_pred_prob >= best_threshold).astype(int)\n",
    "\n",
    "# Calculate accuracy\n",
    "accuracy = accuracy_score(Y_test, Y_pred_best)\n",
    "print(f'Best Threshold: {best_threshold}')\n",
    "print(f'Accuracy: {accuracy:.2f}')\n"
   ]
  },
  {
   "cell_type": "code",
   "execution_count": 33,
   "metadata": {},
   "outputs": [
    {
     "name": "stdout",
     "output_type": "stream",
     "text": [
      "              precision    recall  f1-score   support\n",
      "\n",
      "           0       0.60      0.73      0.66      3477\n",
      "           1       0.83      0.73      0.77      6150\n",
      "\n",
      "    accuracy                           0.73      9627\n",
      "   macro avg       0.71      0.73      0.72      9627\n",
      "weighted avg       0.75      0.73      0.73      9627\n",
      "\n"
     ]
    }
   ],
   "source": [
    "# Show classification report\n",
    "print(classification_report(Y_test, Y_pred_best))"
   ]
  },
  {
   "cell_type": "code",
   "execution_count": 32,
   "metadata": {},
   "outputs": [
    {
     "ename": "KeyboardInterrupt",
     "evalue": "",
     "output_type": "error",
     "traceback": [
      "\u001b[0;31m---------------------------------------------------------------------------\u001b[0m",
      "\u001b[0;31mKeyboardInterrupt\u001b[0m                         Traceback (most recent call last)",
      "Cell \u001b[0;32mIn[32], line 19\u001b[0m\n\u001b[1;32m     17\u001b[0m \u001b[38;5;66;03m# Perform grid search\u001b[39;00m\n\u001b[1;32m     18\u001b[0m grid_search \u001b[38;5;241m=\u001b[39m GridSearchCV(pipeline_rf, param_grid, cv\u001b[38;5;241m=\u001b[39m\u001b[38;5;241m5\u001b[39m, scoring\u001b[38;5;241m=\u001b[39m\u001b[38;5;124m'\u001b[39m\u001b[38;5;124mroc_auc\u001b[39m\u001b[38;5;124m'\u001b[39m)\n\u001b[0;32m---> 19\u001b[0m \u001b[43mgrid_search\u001b[49m\u001b[38;5;241;43m.\u001b[39;49m\u001b[43mfit\u001b[49m\u001b[43m(\u001b[49m\u001b[43mX_train\u001b[49m\u001b[43m,\u001b[49m\u001b[43m \u001b[49m\u001b[43mY_train\u001b[49m\u001b[43m)\u001b[49m\n\u001b[1;32m     21\u001b[0m \u001b[38;5;66;03m# Best parameters\u001b[39;00m\n\u001b[1;32m     22\u001b[0m best_params \u001b[38;5;241m=\u001b[39m grid_search\u001b[38;5;241m.\u001b[39mbest_params_\n",
      "File \u001b[0;32m/opt/mamba/lib/python3.12/site-packages/sklearn/base.py:1473\u001b[0m, in \u001b[0;36m_fit_context.<locals>.decorator.<locals>.wrapper\u001b[0;34m(estimator, *args, **kwargs)\u001b[0m\n\u001b[1;32m   1466\u001b[0m     estimator\u001b[38;5;241m.\u001b[39m_validate_params()\n\u001b[1;32m   1468\u001b[0m \u001b[38;5;28;01mwith\u001b[39;00m config_context(\n\u001b[1;32m   1469\u001b[0m     skip_parameter_validation\u001b[38;5;241m=\u001b[39m(\n\u001b[1;32m   1470\u001b[0m         prefer_skip_nested_validation \u001b[38;5;129;01mor\u001b[39;00m global_skip_validation\n\u001b[1;32m   1471\u001b[0m     )\n\u001b[1;32m   1472\u001b[0m ):\n\u001b[0;32m-> 1473\u001b[0m     \u001b[38;5;28;01mreturn\u001b[39;00m \u001b[43mfit_method\u001b[49m\u001b[43m(\u001b[49m\u001b[43mestimator\u001b[49m\u001b[43m,\u001b[49m\u001b[43m \u001b[49m\u001b[38;5;241;43m*\u001b[39;49m\u001b[43margs\u001b[49m\u001b[43m,\u001b[49m\u001b[43m \u001b[49m\u001b[38;5;241;43m*\u001b[39;49m\u001b[38;5;241;43m*\u001b[39;49m\u001b[43mkwargs\u001b[49m\u001b[43m)\u001b[49m\n",
      "File \u001b[0;32m/opt/mamba/lib/python3.12/site-packages/sklearn/model_selection/_search.py:968\u001b[0m, in \u001b[0;36mBaseSearchCV.fit\u001b[0;34m(self, X, y, **params)\u001b[0m\n\u001b[1;32m    962\u001b[0m     results \u001b[38;5;241m=\u001b[39m \u001b[38;5;28mself\u001b[39m\u001b[38;5;241m.\u001b[39m_format_results(\n\u001b[1;32m    963\u001b[0m         all_candidate_params, n_splits, all_out, all_more_results\n\u001b[1;32m    964\u001b[0m     )\n\u001b[1;32m    966\u001b[0m     \u001b[38;5;28;01mreturn\u001b[39;00m results\n\u001b[0;32m--> 968\u001b[0m \u001b[38;5;28;43mself\u001b[39;49m\u001b[38;5;241;43m.\u001b[39;49m\u001b[43m_run_search\u001b[49m\u001b[43m(\u001b[49m\u001b[43mevaluate_candidates\u001b[49m\u001b[43m)\u001b[49m\n\u001b[1;32m    970\u001b[0m \u001b[38;5;66;03m# multimetric is determined here because in the case of a callable\u001b[39;00m\n\u001b[1;32m    971\u001b[0m \u001b[38;5;66;03m# self.scoring the return type is only known after calling\u001b[39;00m\n\u001b[1;32m    972\u001b[0m first_test_score \u001b[38;5;241m=\u001b[39m all_out[\u001b[38;5;241m0\u001b[39m][\u001b[38;5;124m\"\u001b[39m\u001b[38;5;124mtest_scores\u001b[39m\u001b[38;5;124m\"\u001b[39m]\n",
      "File \u001b[0;32m/opt/mamba/lib/python3.12/site-packages/sklearn/model_selection/_search.py:1543\u001b[0m, in \u001b[0;36mGridSearchCV._run_search\u001b[0;34m(self, evaluate_candidates)\u001b[0m\n\u001b[1;32m   1541\u001b[0m \u001b[38;5;28;01mdef\u001b[39;00m \u001b[38;5;21m_run_search\u001b[39m(\u001b[38;5;28mself\u001b[39m, evaluate_candidates):\n\u001b[1;32m   1542\u001b[0m \u001b[38;5;250m    \u001b[39m\u001b[38;5;124;03m\"\"\"Search all candidates in param_grid\"\"\"\u001b[39;00m\n\u001b[0;32m-> 1543\u001b[0m     \u001b[43mevaluate_candidates\u001b[49m\u001b[43m(\u001b[49m\u001b[43mParameterGrid\u001b[49m\u001b[43m(\u001b[49m\u001b[38;5;28;43mself\u001b[39;49m\u001b[38;5;241;43m.\u001b[39;49m\u001b[43mparam_grid\u001b[49m\u001b[43m)\u001b[49m\u001b[43m)\u001b[49m\n",
      "File \u001b[0;32m/opt/mamba/lib/python3.12/site-packages/sklearn/model_selection/_search.py:914\u001b[0m, in \u001b[0;36mBaseSearchCV.fit.<locals>.evaluate_candidates\u001b[0;34m(candidate_params, cv, more_results)\u001b[0m\n\u001b[1;32m    906\u001b[0m \u001b[38;5;28;01mif\u001b[39;00m \u001b[38;5;28mself\u001b[39m\u001b[38;5;241m.\u001b[39mverbose \u001b[38;5;241m>\u001b[39m \u001b[38;5;241m0\u001b[39m:\n\u001b[1;32m    907\u001b[0m     \u001b[38;5;28mprint\u001b[39m(\n\u001b[1;32m    908\u001b[0m         \u001b[38;5;124m\"\u001b[39m\u001b[38;5;124mFitting \u001b[39m\u001b[38;5;132;01m{0}\u001b[39;00m\u001b[38;5;124m folds for each of \u001b[39m\u001b[38;5;132;01m{1}\u001b[39;00m\u001b[38;5;124m candidates,\u001b[39m\u001b[38;5;124m\"\u001b[39m\n\u001b[1;32m    909\u001b[0m         \u001b[38;5;124m\"\u001b[39m\u001b[38;5;124m totalling \u001b[39m\u001b[38;5;132;01m{2}\u001b[39;00m\u001b[38;5;124m fits\u001b[39m\u001b[38;5;124m\"\u001b[39m\u001b[38;5;241m.\u001b[39mformat(\n\u001b[1;32m    910\u001b[0m             n_splits, n_candidates, n_candidates \u001b[38;5;241m*\u001b[39m n_splits\n\u001b[1;32m    911\u001b[0m         )\n\u001b[1;32m    912\u001b[0m     )\n\u001b[0;32m--> 914\u001b[0m out \u001b[38;5;241m=\u001b[39m \u001b[43mparallel\u001b[49m\u001b[43m(\u001b[49m\n\u001b[1;32m    915\u001b[0m \u001b[43m    \u001b[49m\u001b[43mdelayed\u001b[49m\u001b[43m(\u001b[49m\u001b[43m_fit_and_score\u001b[49m\u001b[43m)\u001b[49m\u001b[43m(\u001b[49m\n\u001b[1;32m    916\u001b[0m \u001b[43m        \u001b[49m\u001b[43mclone\u001b[49m\u001b[43m(\u001b[49m\u001b[43mbase_estimator\u001b[49m\u001b[43m)\u001b[49m\u001b[43m,\u001b[49m\n\u001b[1;32m    917\u001b[0m \u001b[43m        \u001b[49m\u001b[43mX\u001b[49m\u001b[43m,\u001b[49m\n\u001b[1;32m    918\u001b[0m \u001b[43m        \u001b[49m\u001b[43my\u001b[49m\u001b[43m,\u001b[49m\n\u001b[1;32m    919\u001b[0m \u001b[43m        \u001b[49m\u001b[43mtrain\u001b[49m\u001b[38;5;241;43m=\u001b[39;49m\u001b[43mtrain\u001b[49m\u001b[43m,\u001b[49m\n\u001b[1;32m    920\u001b[0m \u001b[43m        \u001b[49m\u001b[43mtest\u001b[49m\u001b[38;5;241;43m=\u001b[39;49m\u001b[43mtest\u001b[49m\u001b[43m,\u001b[49m\n\u001b[1;32m    921\u001b[0m \u001b[43m        \u001b[49m\u001b[43mparameters\u001b[49m\u001b[38;5;241;43m=\u001b[39;49m\u001b[43mparameters\u001b[49m\u001b[43m,\u001b[49m\n\u001b[1;32m    922\u001b[0m \u001b[43m        \u001b[49m\u001b[43msplit_progress\u001b[49m\u001b[38;5;241;43m=\u001b[39;49m\u001b[43m(\u001b[49m\u001b[43msplit_idx\u001b[49m\u001b[43m,\u001b[49m\u001b[43m \u001b[49m\u001b[43mn_splits\u001b[49m\u001b[43m)\u001b[49m\u001b[43m,\u001b[49m\n\u001b[1;32m    923\u001b[0m \u001b[43m        \u001b[49m\u001b[43mcandidate_progress\u001b[49m\u001b[38;5;241;43m=\u001b[39;49m\u001b[43m(\u001b[49m\u001b[43mcand_idx\u001b[49m\u001b[43m,\u001b[49m\u001b[43m \u001b[49m\u001b[43mn_candidates\u001b[49m\u001b[43m)\u001b[49m\u001b[43m,\u001b[49m\n\u001b[1;32m    924\u001b[0m \u001b[43m        \u001b[49m\u001b[38;5;241;43m*\u001b[39;49m\u001b[38;5;241;43m*\u001b[39;49m\u001b[43mfit_and_score_kwargs\u001b[49m\u001b[43m,\u001b[49m\n\u001b[1;32m    925\u001b[0m \u001b[43m    \u001b[49m\u001b[43m)\u001b[49m\n\u001b[1;32m    926\u001b[0m \u001b[43m    \u001b[49m\u001b[38;5;28;43;01mfor\u001b[39;49;00m\u001b[43m \u001b[49m\u001b[43m(\u001b[49m\u001b[43mcand_idx\u001b[49m\u001b[43m,\u001b[49m\u001b[43m \u001b[49m\u001b[43mparameters\u001b[49m\u001b[43m)\u001b[49m\u001b[43m,\u001b[49m\u001b[43m \u001b[49m\u001b[43m(\u001b[49m\u001b[43msplit_idx\u001b[49m\u001b[43m,\u001b[49m\u001b[43m \u001b[49m\u001b[43m(\u001b[49m\u001b[43mtrain\u001b[49m\u001b[43m,\u001b[49m\u001b[43m \u001b[49m\u001b[43mtest\u001b[49m\u001b[43m)\u001b[49m\u001b[43m)\u001b[49m\u001b[43m \u001b[49m\u001b[38;5;129;43;01min\u001b[39;49;00m\u001b[43m \u001b[49m\u001b[43mproduct\u001b[49m\u001b[43m(\u001b[49m\n\u001b[1;32m    927\u001b[0m \u001b[43m        \u001b[49m\u001b[38;5;28;43menumerate\u001b[39;49m\u001b[43m(\u001b[49m\u001b[43mcandidate_params\u001b[49m\u001b[43m)\u001b[49m\u001b[43m,\u001b[49m\n\u001b[1;32m    928\u001b[0m \u001b[43m        \u001b[49m\u001b[38;5;28;43menumerate\u001b[39;49m\u001b[43m(\u001b[49m\u001b[43mcv\u001b[49m\u001b[38;5;241;43m.\u001b[39;49m\u001b[43msplit\u001b[49m\u001b[43m(\u001b[49m\u001b[43mX\u001b[49m\u001b[43m,\u001b[49m\u001b[43m \u001b[49m\u001b[43my\u001b[49m\u001b[43m,\u001b[49m\u001b[43m \u001b[49m\u001b[38;5;241;43m*\u001b[39;49m\u001b[38;5;241;43m*\u001b[39;49m\u001b[43mrouted_params\u001b[49m\u001b[38;5;241;43m.\u001b[39;49m\u001b[43msplitter\u001b[49m\u001b[38;5;241;43m.\u001b[39;49m\u001b[43msplit\u001b[49m\u001b[43m)\u001b[49m\u001b[43m)\u001b[49m\u001b[43m,\u001b[49m\n\u001b[1;32m    929\u001b[0m \u001b[43m    \u001b[49m\u001b[43m)\u001b[49m\n\u001b[1;32m    930\u001b[0m \u001b[43m\u001b[49m\u001b[43m)\u001b[49m\n\u001b[1;32m    932\u001b[0m \u001b[38;5;28;01mif\u001b[39;00m \u001b[38;5;28mlen\u001b[39m(out) \u001b[38;5;241m<\u001b[39m \u001b[38;5;241m1\u001b[39m:\n\u001b[1;32m    933\u001b[0m     \u001b[38;5;28;01mraise\u001b[39;00m \u001b[38;5;167;01mValueError\u001b[39;00m(\n\u001b[1;32m    934\u001b[0m         \u001b[38;5;124m\"\u001b[39m\u001b[38;5;124mNo fits were performed. \u001b[39m\u001b[38;5;124m\"\u001b[39m\n\u001b[1;32m    935\u001b[0m         \u001b[38;5;124m\"\u001b[39m\u001b[38;5;124mWas the CV iterator empty? \u001b[39m\u001b[38;5;124m\"\u001b[39m\n\u001b[1;32m    936\u001b[0m         \u001b[38;5;124m\"\u001b[39m\u001b[38;5;124mWere there no candidates?\u001b[39m\u001b[38;5;124m\"\u001b[39m\n\u001b[1;32m    937\u001b[0m     )\n",
      "File \u001b[0;32m/opt/mamba/lib/python3.12/site-packages/sklearn/utils/parallel.py:67\u001b[0m, in \u001b[0;36mParallel.__call__\u001b[0;34m(self, iterable)\u001b[0m\n\u001b[1;32m     62\u001b[0m config \u001b[38;5;241m=\u001b[39m get_config()\n\u001b[1;32m     63\u001b[0m iterable_with_config \u001b[38;5;241m=\u001b[39m (\n\u001b[1;32m     64\u001b[0m     (_with_config(delayed_func, config), args, kwargs)\n\u001b[1;32m     65\u001b[0m     \u001b[38;5;28;01mfor\u001b[39;00m delayed_func, args, kwargs \u001b[38;5;129;01min\u001b[39;00m iterable\n\u001b[1;32m     66\u001b[0m )\n\u001b[0;32m---> 67\u001b[0m \u001b[38;5;28;01mreturn\u001b[39;00m \u001b[38;5;28;43msuper\u001b[39;49m\u001b[43m(\u001b[49m\u001b[43m)\u001b[49m\u001b[38;5;241;43m.\u001b[39;49m\u001b[38;5;21;43m__call__\u001b[39;49m\u001b[43m(\u001b[49m\u001b[43miterable_with_config\u001b[49m\u001b[43m)\u001b[49m\n",
      "File \u001b[0;32m/opt/mamba/lib/python3.12/site-packages/joblib/parallel.py:1918\u001b[0m, in \u001b[0;36mParallel.__call__\u001b[0;34m(self, iterable)\u001b[0m\n\u001b[1;32m   1916\u001b[0m     output \u001b[38;5;241m=\u001b[39m \u001b[38;5;28mself\u001b[39m\u001b[38;5;241m.\u001b[39m_get_sequential_output(iterable)\n\u001b[1;32m   1917\u001b[0m     \u001b[38;5;28mnext\u001b[39m(output)\n\u001b[0;32m-> 1918\u001b[0m     \u001b[38;5;28;01mreturn\u001b[39;00m output \u001b[38;5;28;01mif\u001b[39;00m \u001b[38;5;28mself\u001b[39m\u001b[38;5;241m.\u001b[39mreturn_generator \u001b[38;5;28;01melse\u001b[39;00m \u001b[38;5;28;43mlist\u001b[39;49m\u001b[43m(\u001b[49m\u001b[43moutput\u001b[49m\u001b[43m)\u001b[49m\n\u001b[1;32m   1920\u001b[0m \u001b[38;5;66;03m# Let's create an ID that uniquely identifies the current call. If the\u001b[39;00m\n\u001b[1;32m   1921\u001b[0m \u001b[38;5;66;03m# call is interrupted early and that the same instance is immediately\u001b[39;00m\n\u001b[1;32m   1922\u001b[0m \u001b[38;5;66;03m# re-used, this id will be used to prevent workers that were\u001b[39;00m\n\u001b[1;32m   1923\u001b[0m \u001b[38;5;66;03m# concurrently finalizing a task from the previous call to run the\u001b[39;00m\n\u001b[1;32m   1924\u001b[0m \u001b[38;5;66;03m# callback.\u001b[39;00m\n\u001b[1;32m   1925\u001b[0m \u001b[38;5;28;01mwith\u001b[39;00m \u001b[38;5;28mself\u001b[39m\u001b[38;5;241m.\u001b[39m_lock:\n",
      "File \u001b[0;32m/opt/mamba/lib/python3.12/site-packages/joblib/parallel.py:1847\u001b[0m, in \u001b[0;36mParallel._get_sequential_output\u001b[0;34m(self, iterable)\u001b[0m\n\u001b[1;32m   1845\u001b[0m \u001b[38;5;28mself\u001b[39m\u001b[38;5;241m.\u001b[39mn_dispatched_batches \u001b[38;5;241m+\u001b[39m\u001b[38;5;241m=\u001b[39m \u001b[38;5;241m1\u001b[39m\n\u001b[1;32m   1846\u001b[0m \u001b[38;5;28mself\u001b[39m\u001b[38;5;241m.\u001b[39mn_dispatched_tasks \u001b[38;5;241m+\u001b[39m\u001b[38;5;241m=\u001b[39m \u001b[38;5;241m1\u001b[39m\n\u001b[0;32m-> 1847\u001b[0m res \u001b[38;5;241m=\u001b[39m \u001b[43mfunc\u001b[49m\u001b[43m(\u001b[49m\u001b[38;5;241;43m*\u001b[39;49m\u001b[43margs\u001b[49m\u001b[43m,\u001b[49m\u001b[43m \u001b[49m\u001b[38;5;241;43m*\u001b[39;49m\u001b[38;5;241;43m*\u001b[39;49m\u001b[43mkwargs\u001b[49m\u001b[43m)\u001b[49m\n\u001b[1;32m   1848\u001b[0m \u001b[38;5;28mself\u001b[39m\u001b[38;5;241m.\u001b[39mn_completed_tasks \u001b[38;5;241m+\u001b[39m\u001b[38;5;241m=\u001b[39m \u001b[38;5;241m1\u001b[39m\n\u001b[1;32m   1849\u001b[0m \u001b[38;5;28mself\u001b[39m\u001b[38;5;241m.\u001b[39mprint_progress()\n",
      "File \u001b[0;32m/opt/mamba/lib/python3.12/site-packages/sklearn/utils/parallel.py:129\u001b[0m, in \u001b[0;36m_FuncWrapper.__call__\u001b[0;34m(self, *args, **kwargs)\u001b[0m\n\u001b[1;32m    127\u001b[0m     config \u001b[38;5;241m=\u001b[39m {}\n\u001b[1;32m    128\u001b[0m \u001b[38;5;28;01mwith\u001b[39;00m config_context(\u001b[38;5;241m*\u001b[39m\u001b[38;5;241m*\u001b[39mconfig):\n\u001b[0;32m--> 129\u001b[0m     \u001b[38;5;28;01mreturn\u001b[39;00m \u001b[38;5;28;43mself\u001b[39;49m\u001b[38;5;241;43m.\u001b[39;49m\u001b[43mfunction\u001b[49m\u001b[43m(\u001b[49m\u001b[38;5;241;43m*\u001b[39;49m\u001b[43margs\u001b[49m\u001b[43m,\u001b[49m\u001b[43m \u001b[49m\u001b[38;5;241;43m*\u001b[39;49m\u001b[38;5;241;43m*\u001b[39;49m\u001b[43mkwargs\u001b[49m\u001b[43m)\u001b[49m\n",
      "File \u001b[0;32m/opt/mamba/lib/python3.12/site-packages/sklearn/model_selection/_validation.py:888\u001b[0m, in \u001b[0;36m_fit_and_score\u001b[0;34m(estimator, X, y, scorer, train, test, verbose, parameters, fit_params, score_params, return_train_score, return_parameters, return_n_test_samples, return_times, return_estimator, split_progress, candidate_progress, error_score)\u001b[0m\n\u001b[1;32m    886\u001b[0m         estimator\u001b[38;5;241m.\u001b[39mfit(X_train, \u001b[38;5;241m*\u001b[39m\u001b[38;5;241m*\u001b[39mfit_params)\n\u001b[1;32m    887\u001b[0m     \u001b[38;5;28;01melse\u001b[39;00m:\n\u001b[0;32m--> 888\u001b[0m         \u001b[43mestimator\u001b[49m\u001b[38;5;241;43m.\u001b[39;49m\u001b[43mfit\u001b[49m\u001b[43m(\u001b[49m\u001b[43mX_train\u001b[49m\u001b[43m,\u001b[49m\u001b[43m \u001b[49m\u001b[43my_train\u001b[49m\u001b[43m,\u001b[49m\u001b[43m \u001b[49m\u001b[38;5;241;43m*\u001b[39;49m\u001b[38;5;241;43m*\u001b[39;49m\u001b[43mfit_params\u001b[49m\u001b[43m)\u001b[49m\n\u001b[1;32m    890\u001b[0m \u001b[38;5;28;01mexcept\u001b[39;00m \u001b[38;5;167;01mException\u001b[39;00m:\n\u001b[1;32m    891\u001b[0m     \u001b[38;5;66;03m# Note fit time as time until error\u001b[39;00m\n\u001b[1;32m    892\u001b[0m     fit_time \u001b[38;5;241m=\u001b[39m time\u001b[38;5;241m.\u001b[39mtime() \u001b[38;5;241m-\u001b[39m start_time\n",
      "File \u001b[0;32m/opt/mamba/lib/python3.12/site-packages/sklearn/base.py:1473\u001b[0m, in \u001b[0;36m_fit_context.<locals>.decorator.<locals>.wrapper\u001b[0;34m(estimator, *args, **kwargs)\u001b[0m\n\u001b[1;32m   1466\u001b[0m     estimator\u001b[38;5;241m.\u001b[39m_validate_params()\n\u001b[1;32m   1468\u001b[0m \u001b[38;5;28;01mwith\u001b[39;00m config_context(\n\u001b[1;32m   1469\u001b[0m     skip_parameter_validation\u001b[38;5;241m=\u001b[39m(\n\u001b[1;32m   1470\u001b[0m         prefer_skip_nested_validation \u001b[38;5;129;01mor\u001b[39;00m global_skip_validation\n\u001b[1;32m   1471\u001b[0m     )\n\u001b[1;32m   1472\u001b[0m ):\n\u001b[0;32m-> 1473\u001b[0m     \u001b[38;5;28;01mreturn\u001b[39;00m \u001b[43mfit_method\u001b[49m\u001b[43m(\u001b[49m\u001b[43mestimator\u001b[49m\u001b[43m,\u001b[49m\u001b[43m \u001b[49m\u001b[38;5;241;43m*\u001b[39;49m\u001b[43margs\u001b[49m\u001b[43m,\u001b[49m\u001b[43m \u001b[49m\u001b[38;5;241;43m*\u001b[39;49m\u001b[38;5;241;43m*\u001b[39;49m\u001b[43mkwargs\u001b[49m\u001b[43m)\u001b[49m\n",
      "File \u001b[0;32m/opt/mamba/lib/python3.12/site-packages/sklearn/pipeline.py:476\u001b[0m, in \u001b[0;36mPipeline.fit\u001b[0;34m(self, X, y, **params)\u001b[0m\n\u001b[1;32m    474\u001b[0m     \u001b[38;5;28;01mif\u001b[39;00m \u001b[38;5;28mself\u001b[39m\u001b[38;5;241m.\u001b[39m_final_estimator \u001b[38;5;241m!=\u001b[39m \u001b[38;5;124m\"\u001b[39m\u001b[38;5;124mpassthrough\u001b[39m\u001b[38;5;124m\"\u001b[39m:\n\u001b[1;32m    475\u001b[0m         last_step_params \u001b[38;5;241m=\u001b[39m routed_params[\u001b[38;5;28mself\u001b[39m\u001b[38;5;241m.\u001b[39msteps[\u001b[38;5;241m-\u001b[39m\u001b[38;5;241m1\u001b[39m][\u001b[38;5;241m0\u001b[39m]]\n\u001b[0;32m--> 476\u001b[0m         \u001b[38;5;28;43mself\u001b[39;49m\u001b[38;5;241;43m.\u001b[39;49m\u001b[43m_final_estimator\u001b[49m\u001b[38;5;241;43m.\u001b[39;49m\u001b[43mfit\u001b[49m\u001b[43m(\u001b[49m\u001b[43mXt\u001b[49m\u001b[43m,\u001b[49m\u001b[43m \u001b[49m\u001b[43my\u001b[49m\u001b[43m,\u001b[49m\u001b[43m \u001b[49m\u001b[38;5;241;43m*\u001b[39;49m\u001b[38;5;241;43m*\u001b[39;49m\u001b[43mlast_step_params\u001b[49m\u001b[43m[\u001b[49m\u001b[38;5;124;43m\"\u001b[39;49m\u001b[38;5;124;43mfit\u001b[39;49m\u001b[38;5;124;43m\"\u001b[39;49m\u001b[43m]\u001b[49m\u001b[43m)\u001b[49m\n\u001b[1;32m    478\u001b[0m \u001b[38;5;28;01mreturn\u001b[39;00m \u001b[38;5;28mself\u001b[39m\n",
      "File \u001b[0;32m/opt/mamba/lib/python3.12/site-packages/sklearn/base.py:1473\u001b[0m, in \u001b[0;36m_fit_context.<locals>.decorator.<locals>.wrapper\u001b[0;34m(estimator, *args, **kwargs)\u001b[0m\n\u001b[1;32m   1466\u001b[0m     estimator\u001b[38;5;241m.\u001b[39m_validate_params()\n\u001b[1;32m   1468\u001b[0m \u001b[38;5;28;01mwith\u001b[39;00m config_context(\n\u001b[1;32m   1469\u001b[0m     skip_parameter_validation\u001b[38;5;241m=\u001b[39m(\n\u001b[1;32m   1470\u001b[0m         prefer_skip_nested_validation \u001b[38;5;129;01mor\u001b[39;00m global_skip_validation\n\u001b[1;32m   1471\u001b[0m     )\n\u001b[1;32m   1472\u001b[0m ):\n\u001b[0;32m-> 1473\u001b[0m     \u001b[38;5;28;01mreturn\u001b[39;00m \u001b[43mfit_method\u001b[49m\u001b[43m(\u001b[49m\u001b[43mestimator\u001b[49m\u001b[43m,\u001b[49m\u001b[43m \u001b[49m\u001b[38;5;241;43m*\u001b[39;49m\u001b[43margs\u001b[49m\u001b[43m,\u001b[49m\u001b[43m \u001b[49m\u001b[38;5;241;43m*\u001b[39;49m\u001b[38;5;241;43m*\u001b[39;49m\u001b[43mkwargs\u001b[49m\u001b[43m)\u001b[49m\n",
      "File \u001b[0;32m/opt/mamba/lib/python3.12/site-packages/sklearn/ensemble/_forest.py:489\u001b[0m, in \u001b[0;36mBaseForest.fit\u001b[0;34m(self, X, y, sample_weight)\u001b[0m\n\u001b[1;32m    478\u001b[0m trees \u001b[38;5;241m=\u001b[39m [\n\u001b[1;32m    479\u001b[0m     \u001b[38;5;28mself\u001b[39m\u001b[38;5;241m.\u001b[39m_make_estimator(append\u001b[38;5;241m=\u001b[39m\u001b[38;5;28;01mFalse\u001b[39;00m, random_state\u001b[38;5;241m=\u001b[39mrandom_state)\n\u001b[1;32m    480\u001b[0m     \u001b[38;5;28;01mfor\u001b[39;00m i \u001b[38;5;129;01min\u001b[39;00m \u001b[38;5;28mrange\u001b[39m(n_more_estimators)\n\u001b[1;32m    481\u001b[0m ]\n\u001b[1;32m    483\u001b[0m \u001b[38;5;66;03m# Parallel loop: we prefer the threading backend as the Cython code\u001b[39;00m\n\u001b[1;32m    484\u001b[0m \u001b[38;5;66;03m# for fitting the trees is internally releasing the Python GIL\u001b[39;00m\n\u001b[1;32m    485\u001b[0m \u001b[38;5;66;03m# making threading more efficient than multiprocessing in\u001b[39;00m\n\u001b[1;32m    486\u001b[0m \u001b[38;5;66;03m# that case. However, for joblib 0.12+ we respect any\u001b[39;00m\n\u001b[1;32m    487\u001b[0m \u001b[38;5;66;03m# parallel_backend contexts set at a higher level,\u001b[39;00m\n\u001b[1;32m    488\u001b[0m \u001b[38;5;66;03m# since correctness does not rely on using threads.\u001b[39;00m\n\u001b[0;32m--> 489\u001b[0m trees \u001b[38;5;241m=\u001b[39m \u001b[43mParallel\u001b[49m\u001b[43m(\u001b[49m\n\u001b[1;32m    490\u001b[0m \u001b[43m    \u001b[49m\u001b[43mn_jobs\u001b[49m\u001b[38;5;241;43m=\u001b[39;49m\u001b[38;5;28;43mself\u001b[39;49m\u001b[38;5;241;43m.\u001b[39;49m\u001b[43mn_jobs\u001b[49m\u001b[43m,\u001b[49m\n\u001b[1;32m    491\u001b[0m \u001b[43m    \u001b[49m\u001b[43mverbose\u001b[49m\u001b[38;5;241;43m=\u001b[39;49m\u001b[38;5;28;43mself\u001b[39;49m\u001b[38;5;241;43m.\u001b[39;49m\u001b[43mverbose\u001b[49m\u001b[43m,\u001b[49m\n\u001b[1;32m    492\u001b[0m \u001b[43m    \u001b[49m\u001b[43mprefer\u001b[49m\u001b[38;5;241;43m=\u001b[39;49m\u001b[38;5;124;43m\"\u001b[39;49m\u001b[38;5;124;43mthreads\u001b[39;49m\u001b[38;5;124;43m\"\u001b[39;49m\u001b[43m,\u001b[49m\n\u001b[1;32m    493\u001b[0m \u001b[43m\u001b[49m\u001b[43m)\u001b[49m\u001b[43m(\u001b[49m\n\u001b[1;32m    494\u001b[0m \u001b[43m    \u001b[49m\u001b[43mdelayed\u001b[49m\u001b[43m(\u001b[49m\u001b[43m_parallel_build_trees\u001b[49m\u001b[43m)\u001b[49m\u001b[43m(\u001b[49m\n\u001b[1;32m    495\u001b[0m \u001b[43m        \u001b[49m\u001b[43mt\u001b[49m\u001b[43m,\u001b[49m\n\u001b[1;32m    496\u001b[0m \u001b[43m        \u001b[49m\u001b[38;5;28;43mself\u001b[39;49m\u001b[38;5;241;43m.\u001b[39;49m\u001b[43mbootstrap\u001b[49m\u001b[43m,\u001b[49m\n\u001b[1;32m    497\u001b[0m \u001b[43m        \u001b[49m\u001b[43mX\u001b[49m\u001b[43m,\u001b[49m\n\u001b[1;32m    498\u001b[0m \u001b[43m        \u001b[49m\u001b[43my\u001b[49m\u001b[43m,\u001b[49m\n\u001b[1;32m    499\u001b[0m \u001b[43m        \u001b[49m\u001b[43msample_weight\u001b[49m\u001b[43m,\u001b[49m\n\u001b[1;32m    500\u001b[0m \u001b[43m        \u001b[49m\u001b[43mi\u001b[49m\u001b[43m,\u001b[49m\n\u001b[1;32m    501\u001b[0m \u001b[43m        \u001b[49m\u001b[38;5;28;43mlen\u001b[39;49m\u001b[43m(\u001b[49m\u001b[43mtrees\u001b[49m\u001b[43m)\u001b[49m\u001b[43m,\u001b[49m\n\u001b[1;32m    502\u001b[0m \u001b[43m        \u001b[49m\u001b[43mverbose\u001b[49m\u001b[38;5;241;43m=\u001b[39;49m\u001b[38;5;28;43mself\u001b[39;49m\u001b[38;5;241;43m.\u001b[39;49m\u001b[43mverbose\u001b[49m\u001b[43m,\u001b[49m\n\u001b[1;32m    503\u001b[0m \u001b[43m        \u001b[49m\u001b[43mclass_weight\u001b[49m\u001b[38;5;241;43m=\u001b[39;49m\u001b[38;5;28;43mself\u001b[39;49m\u001b[38;5;241;43m.\u001b[39;49m\u001b[43mclass_weight\u001b[49m\u001b[43m,\u001b[49m\n\u001b[1;32m    504\u001b[0m \u001b[43m        \u001b[49m\u001b[43mn_samples_bootstrap\u001b[49m\u001b[38;5;241;43m=\u001b[39;49m\u001b[43mn_samples_bootstrap\u001b[49m\u001b[43m,\u001b[49m\n\u001b[1;32m    505\u001b[0m \u001b[43m        \u001b[49m\u001b[43mmissing_values_in_feature_mask\u001b[49m\u001b[38;5;241;43m=\u001b[39;49m\u001b[43mmissing_values_in_feature_mask\u001b[49m\u001b[43m,\u001b[49m\n\u001b[1;32m    506\u001b[0m \u001b[43m    \u001b[49m\u001b[43m)\u001b[49m\n\u001b[1;32m    507\u001b[0m \u001b[43m    \u001b[49m\u001b[38;5;28;43;01mfor\u001b[39;49;00m\u001b[43m \u001b[49m\u001b[43mi\u001b[49m\u001b[43m,\u001b[49m\u001b[43m \u001b[49m\u001b[43mt\u001b[49m\u001b[43m \u001b[49m\u001b[38;5;129;43;01min\u001b[39;49;00m\u001b[43m \u001b[49m\u001b[38;5;28;43menumerate\u001b[39;49m\u001b[43m(\u001b[49m\u001b[43mtrees\u001b[49m\u001b[43m)\u001b[49m\n\u001b[1;32m    508\u001b[0m \u001b[43m\u001b[49m\u001b[43m)\u001b[49m\n\u001b[1;32m    510\u001b[0m \u001b[38;5;66;03m# Collect newly grown trees\u001b[39;00m\n\u001b[1;32m    511\u001b[0m \u001b[38;5;28mself\u001b[39m\u001b[38;5;241m.\u001b[39mestimators_\u001b[38;5;241m.\u001b[39mextend(trees)\n",
      "File \u001b[0;32m/opt/mamba/lib/python3.12/site-packages/sklearn/utils/parallel.py:67\u001b[0m, in \u001b[0;36mParallel.__call__\u001b[0;34m(self, iterable)\u001b[0m\n\u001b[1;32m     62\u001b[0m config \u001b[38;5;241m=\u001b[39m get_config()\n\u001b[1;32m     63\u001b[0m iterable_with_config \u001b[38;5;241m=\u001b[39m (\n\u001b[1;32m     64\u001b[0m     (_with_config(delayed_func, config), args, kwargs)\n\u001b[1;32m     65\u001b[0m     \u001b[38;5;28;01mfor\u001b[39;00m delayed_func, args, kwargs \u001b[38;5;129;01min\u001b[39;00m iterable\n\u001b[1;32m     66\u001b[0m )\n\u001b[0;32m---> 67\u001b[0m \u001b[38;5;28;01mreturn\u001b[39;00m \u001b[38;5;28;43msuper\u001b[39;49m\u001b[43m(\u001b[49m\u001b[43m)\u001b[49m\u001b[38;5;241;43m.\u001b[39;49m\u001b[38;5;21;43m__call__\u001b[39;49m\u001b[43m(\u001b[49m\u001b[43miterable_with_config\u001b[49m\u001b[43m)\u001b[49m\n",
      "File \u001b[0;32m/opt/mamba/lib/python3.12/site-packages/joblib/parallel.py:1918\u001b[0m, in \u001b[0;36mParallel.__call__\u001b[0;34m(self, iterable)\u001b[0m\n\u001b[1;32m   1916\u001b[0m     output \u001b[38;5;241m=\u001b[39m \u001b[38;5;28mself\u001b[39m\u001b[38;5;241m.\u001b[39m_get_sequential_output(iterable)\n\u001b[1;32m   1917\u001b[0m     \u001b[38;5;28mnext\u001b[39m(output)\n\u001b[0;32m-> 1918\u001b[0m     \u001b[38;5;28;01mreturn\u001b[39;00m output \u001b[38;5;28;01mif\u001b[39;00m \u001b[38;5;28mself\u001b[39m\u001b[38;5;241m.\u001b[39mreturn_generator \u001b[38;5;28;01melse\u001b[39;00m \u001b[38;5;28;43mlist\u001b[39;49m\u001b[43m(\u001b[49m\u001b[43moutput\u001b[49m\u001b[43m)\u001b[49m\n\u001b[1;32m   1920\u001b[0m \u001b[38;5;66;03m# Let's create an ID that uniquely identifies the current call. If the\u001b[39;00m\n\u001b[1;32m   1921\u001b[0m \u001b[38;5;66;03m# call is interrupted early and that the same instance is immediately\u001b[39;00m\n\u001b[1;32m   1922\u001b[0m \u001b[38;5;66;03m# re-used, this id will be used to prevent workers that were\u001b[39;00m\n\u001b[1;32m   1923\u001b[0m \u001b[38;5;66;03m# concurrently finalizing a task from the previous call to run the\u001b[39;00m\n\u001b[1;32m   1924\u001b[0m \u001b[38;5;66;03m# callback.\u001b[39;00m\n\u001b[1;32m   1925\u001b[0m \u001b[38;5;28;01mwith\u001b[39;00m \u001b[38;5;28mself\u001b[39m\u001b[38;5;241m.\u001b[39m_lock:\n",
      "File \u001b[0;32m/opt/mamba/lib/python3.12/site-packages/joblib/parallel.py:1847\u001b[0m, in \u001b[0;36mParallel._get_sequential_output\u001b[0;34m(self, iterable)\u001b[0m\n\u001b[1;32m   1845\u001b[0m \u001b[38;5;28mself\u001b[39m\u001b[38;5;241m.\u001b[39mn_dispatched_batches \u001b[38;5;241m+\u001b[39m\u001b[38;5;241m=\u001b[39m \u001b[38;5;241m1\u001b[39m\n\u001b[1;32m   1846\u001b[0m \u001b[38;5;28mself\u001b[39m\u001b[38;5;241m.\u001b[39mn_dispatched_tasks \u001b[38;5;241m+\u001b[39m\u001b[38;5;241m=\u001b[39m \u001b[38;5;241m1\u001b[39m\n\u001b[0;32m-> 1847\u001b[0m res \u001b[38;5;241m=\u001b[39m \u001b[43mfunc\u001b[49m\u001b[43m(\u001b[49m\u001b[38;5;241;43m*\u001b[39;49m\u001b[43margs\u001b[49m\u001b[43m,\u001b[49m\u001b[43m \u001b[49m\u001b[38;5;241;43m*\u001b[39;49m\u001b[38;5;241;43m*\u001b[39;49m\u001b[43mkwargs\u001b[49m\u001b[43m)\u001b[49m\n\u001b[1;32m   1848\u001b[0m \u001b[38;5;28mself\u001b[39m\u001b[38;5;241m.\u001b[39mn_completed_tasks \u001b[38;5;241m+\u001b[39m\u001b[38;5;241m=\u001b[39m \u001b[38;5;241m1\u001b[39m\n\u001b[1;32m   1849\u001b[0m \u001b[38;5;28mself\u001b[39m\u001b[38;5;241m.\u001b[39mprint_progress()\n",
      "File \u001b[0;32m/opt/mamba/lib/python3.12/site-packages/sklearn/utils/parallel.py:129\u001b[0m, in \u001b[0;36m_FuncWrapper.__call__\u001b[0;34m(self, *args, **kwargs)\u001b[0m\n\u001b[1;32m    127\u001b[0m     config \u001b[38;5;241m=\u001b[39m {}\n\u001b[1;32m    128\u001b[0m \u001b[38;5;28;01mwith\u001b[39;00m config_context(\u001b[38;5;241m*\u001b[39m\u001b[38;5;241m*\u001b[39mconfig):\n\u001b[0;32m--> 129\u001b[0m     \u001b[38;5;28;01mreturn\u001b[39;00m \u001b[38;5;28;43mself\u001b[39;49m\u001b[38;5;241;43m.\u001b[39;49m\u001b[43mfunction\u001b[49m\u001b[43m(\u001b[49m\u001b[38;5;241;43m*\u001b[39;49m\u001b[43margs\u001b[49m\u001b[43m,\u001b[49m\u001b[43m \u001b[49m\u001b[38;5;241;43m*\u001b[39;49m\u001b[38;5;241;43m*\u001b[39;49m\u001b[43mkwargs\u001b[49m\u001b[43m)\u001b[49m\n",
      "File \u001b[0;32m/opt/mamba/lib/python3.12/site-packages/sklearn/ensemble/_forest.py:192\u001b[0m, in \u001b[0;36m_parallel_build_trees\u001b[0;34m(tree, bootstrap, X, y, sample_weight, tree_idx, n_trees, verbose, class_weight, n_samples_bootstrap, missing_values_in_feature_mask)\u001b[0m\n\u001b[1;32m    189\u001b[0m     \u001b[38;5;28;01melif\u001b[39;00m class_weight \u001b[38;5;241m==\u001b[39m \u001b[38;5;124m\"\u001b[39m\u001b[38;5;124mbalanced_subsample\u001b[39m\u001b[38;5;124m\"\u001b[39m:\n\u001b[1;32m    190\u001b[0m         curr_sample_weight \u001b[38;5;241m*\u001b[39m\u001b[38;5;241m=\u001b[39m compute_sample_weight(\u001b[38;5;124m\"\u001b[39m\u001b[38;5;124mbalanced\u001b[39m\u001b[38;5;124m\"\u001b[39m, y, indices\u001b[38;5;241m=\u001b[39mindices)\n\u001b[0;32m--> 192\u001b[0m     \u001b[43mtree\u001b[49m\u001b[38;5;241;43m.\u001b[39;49m\u001b[43m_fit\u001b[49m\u001b[43m(\u001b[49m\n\u001b[1;32m    193\u001b[0m \u001b[43m        \u001b[49m\u001b[43mX\u001b[49m\u001b[43m,\u001b[49m\n\u001b[1;32m    194\u001b[0m \u001b[43m        \u001b[49m\u001b[43my\u001b[49m\u001b[43m,\u001b[49m\n\u001b[1;32m    195\u001b[0m \u001b[43m        \u001b[49m\u001b[43msample_weight\u001b[49m\u001b[38;5;241;43m=\u001b[39;49m\u001b[43mcurr_sample_weight\u001b[49m\u001b[43m,\u001b[49m\n\u001b[1;32m    196\u001b[0m \u001b[43m        \u001b[49m\u001b[43mcheck_input\u001b[49m\u001b[38;5;241;43m=\u001b[39;49m\u001b[38;5;28;43;01mFalse\u001b[39;49;00m\u001b[43m,\u001b[49m\n\u001b[1;32m    197\u001b[0m \u001b[43m        \u001b[49m\u001b[43mmissing_values_in_feature_mask\u001b[49m\u001b[38;5;241;43m=\u001b[39;49m\u001b[43mmissing_values_in_feature_mask\u001b[49m\u001b[43m,\u001b[49m\n\u001b[1;32m    198\u001b[0m \u001b[43m    \u001b[49m\u001b[43m)\u001b[49m\n\u001b[1;32m    199\u001b[0m \u001b[38;5;28;01melse\u001b[39;00m:\n\u001b[1;32m    200\u001b[0m     tree\u001b[38;5;241m.\u001b[39m_fit(\n\u001b[1;32m    201\u001b[0m         X,\n\u001b[1;32m    202\u001b[0m         y,\n\u001b[0;32m   (...)\u001b[0m\n\u001b[1;32m    205\u001b[0m         missing_values_in_feature_mask\u001b[38;5;241m=\u001b[39mmissing_values_in_feature_mask,\n\u001b[1;32m    206\u001b[0m     )\n",
      "File \u001b[0;32m/opt/mamba/lib/python3.12/site-packages/sklearn/tree/_classes.py:472\u001b[0m, in \u001b[0;36mBaseDecisionTree._fit\u001b[0;34m(self, X, y, sample_weight, check_input, missing_values_in_feature_mask)\u001b[0m\n\u001b[1;32m    461\u001b[0m \u001b[38;5;28;01melse\u001b[39;00m:\n\u001b[1;32m    462\u001b[0m     builder \u001b[38;5;241m=\u001b[39m BestFirstTreeBuilder(\n\u001b[1;32m    463\u001b[0m         splitter,\n\u001b[1;32m    464\u001b[0m         min_samples_split,\n\u001b[0;32m   (...)\u001b[0m\n\u001b[1;32m    469\u001b[0m         \u001b[38;5;28mself\u001b[39m\u001b[38;5;241m.\u001b[39mmin_impurity_decrease,\n\u001b[1;32m    470\u001b[0m     )\n\u001b[0;32m--> 472\u001b[0m \u001b[43mbuilder\u001b[49m\u001b[38;5;241;43m.\u001b[39;49m\u001b[43mbuild\u001b[49m\u001b[43m(\u001b[49m\u001b[38;5;28;43mself\u001b[39;49m\u001b[38;5;241;43m.\u001b[39;49m\u001b[43mtree_\u001b[49m\u001b[43m,\u001b[49m\u001b[43m \u001b[49m\u001b[43mX\u001b[49m\u001b[43m,\u001b[49m\u001b[43m \u001b[49m\u001b[43my\u001b[49m\u001b[43m,\u001b[49m\u001b[43m \u001b[49m\u001b[43msample_weight\u001b[49m\u001b[43m,\u001b[49m\u001b[43m \u001b[49m\u001b[43mmissing_values_in_feature_mask\u001b[49m\u001b[43m)\u001b[49m\n\u001b[1;32m    474\u001b[0m \u001b[38;5;28;01mif\u001b[39;00m \u001b[38;5;28mself\u001b[39m\u001b[38;5;241m.\u001b[39mn_outputs_ \u001b[38;5;241m==\u001b[39m \u001b[38;5;241m1\u001b[39m \u001b[38;5;129;01mand\u001b[39;00m is_classifier(\u001b[38;5;28mself\u001b[39m):\n\u001b[1;32m    475\u001b[0m     \u001b[38;5;28mself\u001b[39m\u001b[38;5;241m.\u001b[39mn_classes_ \u001b[38;5;241m=\u001b[39m \u001b[38;5;28mself\u001b[39m\u001b[38;5;241m.\u001b[39mn_classes_[\u001b[38;5;241m0\u001b[39m]\n",
      "\u001b[0;31mKeyboardInterrupt\u001b[0m: "
     ]
    }
   ],
   "source": [
    "from sklearn.ensemble import RandomForestClassifier\n",
    "\n",
    "# Create a pipeline with standardization and random forest\n",
    "pipeline_rf = Pipeline([\n",
    "    ('scaler', StandardScaler()),\n",
    "    ('rf', RandomForestClassifier(random_state=42))\n",
    "])\n",
    "\n",
    "# Define parameter grid for grid search\n",
    "param_grid = {\n",
    "    'rf__n_estimators': [50, 100, 200],\n",
    "    'rf__max_depth': [None, 10, 20, 30],\n",
    "    'rf__min_samples_split': [2, 5, 10],\n",
    "    'rf__min_samples_leaf': [1, 2, 4]\n",
    "}\n",
    "\n",
    "# Perform grid search\n",
    "grid_search = GridSearchCV(pipeline_rf, param_grid, cv=5, scoring='roc_auc')\n",
    "grid_search.fit(X_train, Y_train)\n",
    "\n",
    "# Best parameters\n",
    "best_params = grid_search.best_params_\n",
    "print(f'Best Parameters: {best_params}')\n",
    "\n",
    "# Predict probabilities\n",
    "Y_pred_prob_rf = grid_search.predict_proba(X_test)[:, 1]\n",
    "\n",
    "# Calculate ROC curve and AUC\n",
    "fpr_rf, tpr_rf, thresholds_rf = roc_curve(Y_test, Y_pred_prob_rf)\n",
    "roc_auc_rf = roc_auc_score(Y_test, Y_pred_prob_rf)\n",
    "\n",
    "# Find the best threshold\n",
    "best_threshold_rf = thresholds_rf[np.argmax(tpr_rf - fpr_rf)]\n",
    "\n",
    "# Plot ROC curve\n",
    "plt.figure(figsize=(10, 6))\n",
    "plt.plot(fpr_rf, tpr_rf, label=f'ROC curve (area = {roc_auc_rf:.2f})')\n",
    "plt.plot([0, 1], [0, 1], 'k--')\n",
    "plt.xlabel('False Positive Rate')\n",
    "plt.ylabel('True Positive Rate')\n",
    "plt.title('Receiver Operating Characteristic (ROC) Curve')\n",
    "plt.legend(loc='lower right')\n",
    "plt.show()\n",
    "\n",
    "# Predict using the best threshold\n",
    "Y_pred_best_rf = (Y_pred_prob_rf >= best_threshold_rf).astype(int)\n",
    "\n",
    "# Calculate accuracy\n",
    "accuracy_rf = accuracy_score(Y_test, Y_pred_best_rf)\n",
    "print(f'Best Threshold: {best_threshold_rf}')\n",
    "print(f'Accuracy: {accuracy_rf:.2f}')\n",
    "\n",
    "# Show classification report\n",
    "print(classification_report(Y_test, Y_pred_best_rf))\n"
   ]
  },
  {
   "cell_type": "code",
   "execution_count": 34,
   "metadata": {},
   "outputs": [
    {
     "name": "stdout",
     "output_type": "stream",
     "text": [
      "Best Parameters: {'xgb__learning_rate': 0.2, 'xgb__max_depth': 7, 'xgb__n_estimators': 200, 'xgb__subsample': 1.0}\n"
     ]
    },
    {
     "data": {
      "image/png": "[encoded data removed]",
      "text/plain": [
       "<Figure size 1000x600 with 1 Axes>"
      ]
     },
     "metadata": {},
     "output_type": "display_data"
    },
    {
     "name": "stdout",
     "output_type": "stream",
     "text": [
      "Best Threshold: 0.6161346435546875\n",
      "Accuracy: 0.93\n",
      "              precision    recall  f1-score   support\n",
      "\n",
      "           0       0.88      0.92      0.90      3477\n",
      "           1       0.95      0.93      0.94      6150\n",
      "\n",
      "    accuracy                           0.93      9627\n",
      "   macro avg       0.92      0.93      0.92      9627\n",
      "weighted avg       0.93      0.93      0.93      9627\n",
      "\n"
     ]
    }
   ],
   "source": [
    "from xgboost import XGBClassifier\n",
    "\n",
    "# Create a pipeline with standardization and XGBoost\n",
    "pipeline_xgb = Pipeline([\n",
    "    ('scaler', StandardScaler()),\n",
    "    ('xgb', XGBClassifier(random_state=42, use_label_encoder=False, eval_metric='logloss'))\n",
    "])\n",
    "\n",
    "# Define parameter grid for grid search\n",
    "param_grid_xgb = {\n",
    "    'xgb__n_estimators': [50, 100, 200],\n",
    "    'xgb__max_depth': [3, 5, 7],\n",
    "    'xgb__learning_rate': [0.01, 0.1, 0.2],\n",
    "    'xgb__subsample': [0.8, 1.0]\n",
    "}\n",
    "\n",
    "# Perform grid search\n",
    "grid_search_xgb = GridSearchCV(pipeline_xgb, param_grid_xgb, cv=5, scoring='roc_auc')\n",
    "grid_search_xgb.fit(X_train, Y_train)\n",
    "\n",
    "# Best parameters\n",
    "best_params_xgb = grid_search_xgb.best_params_\n",
    "print(f'Best Parameters: {best_params_xgb}')\n",
    "\n",
    "# Predict probabilities\n",
    "Y_pred_prob_xgb = grid_search_xgb.predict_proba(X_test)[:, 1]\n",
    "\n",
    "# Calculate ROC curve and AUC\n",
    "fpr_xgb, tpr_xgb, thresholds_xgb = roc_curve(Y_test, Y_pred_prob_xgb)\n",
    "roc_auc_xgb = roc_auc_score(Y_test, Y_pred_prob_xgb)\n",
    "\n",
    "# Find the best threshold\n",
    "best_threshold_xgb = thresholds_xgb[np.argmax(tpr_xgb - fpr_xgb)]\n",
    "\n",
    "# Plot ROC curve\n",
    "plt.figure(figsize=(10, 6))\n",
    "plt.plot(fpr_xgb, tpr_xgb, label=f'ROC curve (area = {roc_auc_xgb:.2f})')\n",
    "plt.plot([0, 1], [0, 1], 'k--')\n",
    "plt.xlabel('False Positive Rate')\n",
    "plt.ylabel('True Positive Rate')\n",
    "plt.title('Receiver Operating Characteristic (ROC) Curve')\n",
    "plt.legend(loc='lower right')\n",
    "plt.show()\n",
    "\n",
    "# Predict using the best threshold\n",
    "Y_pred_best_xgb = (Y_pred_prob_xgb >= best_threshold_xgb).astype(int)\n",
    "\n",
    "# Calculate accuracy\n",
    "accuracy_xgb = accuracy_score(Y_test, Y_pred_best_xgb)\n",
    "print(f'Best Threshold: {best_threshold_xgb}')\n",
    "print(f'Accuracy: {accuracy_xgb:.2f}')\n",
    "\n",
    "# Show classification report\n",
    "print(classification_report(Y_test, Y_pred_best_xgb))\n"
   ]
  },
  {
   "cell_type": "code",
   "execution_count": 38,
   "metadata": {},
   "outputs": [
    {
     "name": "stdout",
     "output_type": "stream",
     "text": [
      "              precision    recall  f1-score   support\n",
      "\n",
      "           0       0.60      0.74      0.66      2318\n",
      "           1       0.83      0.72      0.77      4100\n",
      "\n",
      "    accuracy                           0.73      6418\n",
      "   macro avg       0.71      0.73      0.72      6418\n",
      "weighted avg       0.75      0.73      0.73      6418\n",
      "\n"
     ]
    },
    {
     "data": {
      "image/png": "[encoded data removed]",
      "text/plain": [
       "<Figure size 640x480 with 1 Axes>"
      ]
     },
     "metadata": {},
     "output_type": "display_data"
    }
   ],
   "source": [
    "import pandas as pd\n",
    "from sklearn.model_selection import train_test_split\n",
    "from sklearn.preprocessing import StandardScaler\n",
    "from sklearn.pipeline import Pipeline\n",
    "from sklearn.linear_model import LogisticRegression\n",
    "from sklearn.metrics import classification_report, roc_curve, auc\n",
    "import matplotlib.pyplot as plt\n",
    "import numpy as np\n",
    "\n",
    "# Assuming df_year is your DataFrame\n",
    "#X = df_year[['latitude_1', 'longitude_1', 't2m_delta_1_yearly_sum', 't2m_delta_1_yearly_mean', 'tp_delta_1_yearly_sum', 'tp_delta_1_yearly_mean']]\n",
    "#Y = df_year['drought_yearly_flag']\n",
    "\n",
    "# Split the data\n",
    "X_train, X_test, Y_train, Y_test = train_test_split(X, Y, test_size=0.2, random_state=42)\n",
    "\n",
    "# Create a pipeline\n",
    "pipeline = Pipeline([\n",
    "    ('scaler', StandardScaler()),\n",
    "    ('logistic_regression', LogisticRegression())\n",
    "])\n",
    "\n",
    "# Fit the model\n",
    "pipeline.fit(X_train, Y_train)\n",
    "\n",
    "# Predict probabilities\n",
    "Y_prob = pipeline.predict_proba(X_test)[:, 1]\n",
    "\n",
    "# Find the best threshold\n",
    "fpr, tpr, thresholds = roc_curve(Y_test, Y_prob)\n",
    "roc_auc = auc(fpr, tpr)\n",
    "optimal_idx = np.argmax(tpr - fpr)\n",
    "optimal_threshold = thresholds[optimal_idx]\n",
    "\n",
    "# Predict with the best threshold\n",
    "Y_pred = (Y_prob >= optimal_threshold).astype(int)\n",
    "\n",
    "# Classification report\n",
    "print(classification_report(Y_test, Y_pred))\n",
    "\n",
    "# Plot ROC curve\n",
    "plt.figure()\n",
    "plt.plot(fpr, tpr, color='darkorange', lw=2, label='ROC curve (area = %0.2f)' % roc_auc)\n",
    "plt.plot([0, 1], [0, 1], color='navy', lw=2, linestyle='--')\n",
    "plt.xlabel('False Positive Rate')\n",
    "plt.ylabel('True Positive Rate')\n",
    "plt.title('Receiver Operating Characteristic')\n",
    "plt.legend(loc=\"lower right\")\n",
    "plt.show()\n",
    "\n"
   ]
  },
  {
   "cell_type": "code",
   "execution_count": 39,
   "metadata": {},
   "outputs": [],
   "source": [
    "#!pip install optuna"
   ]
  },
  {
   "cell_type": "code",
   "execution_count": 40,
   "metadata": {},
   "outputs": [
    {
     "name": "stderr",
     "output_type": "stream",
     "text": [
      "[I 2024-10-10 18:55:42,362] A new study created in memory with name: no-name-ee462078-8351-4b4a-9477-e951390b4602\n"
     ]
    },
    {
     "name": "stderr",
     "output_type": "stream",
     "text": [
      "[I 2024-10-10 18:55:43,151] Trial 0 finished with value: 0.7891810118058039 and parameters: {'n_estimators': 58, 'max_depth': 2, 'min_samples_split': 3, 'min_samples_leaf': 8}. Best is trial 0 with value: 0.7891810118058039.\n",
      "[I 2024-10-10 18:55:45,184] Trial 1 finished with value: 0.8102194385403734 and parameters: {'n_estimators': 109, 'max_depth': 3, 'min_samples_split': 4, 'min_samples_leaf': 6}. Best is trial 1 with value: 0.8102194385403734.\n",
      "[I 2024-10-10 18:55:57,298] Trial 2 finished with value: 0.9708917485637324 and parameters: {'n_estimators': 196, 'max_depth': 29, 'min_samples_split': 3, 'min_samples_leaf': 6}. Best is trial 2 with value: 0.9708917485637324.\n",
      "[I 2024-10-10 18:56:05,216] Trial 3 finished with value: 0.9798743660430566 and parameters: {'n_estimators': 124, 'max_depth': 21, 'min_samples_split': 3, 'min_samples_leaf': 3}. Best is trial 3 with value: 0.9798743660430566.\n",
      "[I 2024-10-10 18:56:11,118] Trial 4 finished with value: 0.9023388539321114 and parameters: {'n_estimators': 139, 'max_depth': 9, 'min_samples_split': 7, 'min_samples_leaf': 9}. Best is trial 3 with value: 0.9798743660430566.\n",
      "[I 2024-10-10 18:56:14,883] Trial 5 finished with value: 0.9139014920347652 and parameters: {'n_estimators': 82, 'max_depth': 10, 'min_samples_split': 3, 'min_samples_leaf': 9}. Best is trial 3 with value: 0.9798743660430566.\n",
      "[I 2024-10-10 18:56:18,193] Trial 6 finished with value: 0.9540667943348977 and parameters: {'n_estimators': 58, 'max_depth': 13, 'min_samples_split': 3, 'min_samples_leaf': 4}. Best is trial 3 with value: 0.9798743660430566.\n",
      "[I 2024-10-10 18:56:23,237] Trial 7 finished with value: 0.8421759717165765 and parameters: {'n_estimators': 170, 'max_depth': 5, 'min_samples_split': 4, 'min_samples_leaf': 4}. Best is trial 3 with value: 0.9798743660430566.\n",
      "[I 2024-10-10 18:56:27,482] Trial 8 finished with value: 0.9769203897388412 and parameters: {'n_estimators': 67, 'max_depth': 30, 'min_samples_split': 4, 'min_samples_leaf': 4}. Best is trial 3 with value: 0.9798743660430566.\n",
      "[I 2024-10-10 18:56:34,693] Trial 9 finished with value: 0.9614876154801237 and parameters: {'n_estimators': 127, 'max_depth': 14, 'min_samples_split': 8, 'min_samples_leaf': 4}. Best is trial 3 with value: 0.9798743660430566.\n",
      "[I 2024-10-10 18:56:41,114] Trial 10 finished with value: 0.9814700435615228 and parameters: {'n_estimators': 99, 'max_depth': 22, 'min_samples_split': 10, 'min_samples_leaf': 1}. Best is trial 10 with value: 0.9814700435615228.\n",
      "[I 2024-10-10 18:56:47,589] Trial 11 finished with value: 0.9814700435615228 and parameters: {'n_estimators': 99, 'max_depth': 22, 'min_samples_split': 10, 'min_samples_leaf': 1}. Best is trial 10 with value: 0.9814700435615228.\n",
      "[I 2024-10-10 18:56:53,910] Trial 12 finished with value: 0.9812559186851576 and parameters: {'n_estimators': 95, 'max_depth': 22, 'min_samples_split': 10, 'min_samples_leaf': 1}. Best is trial 10 with value: 0.9814700435615228.\n",
      "[I 2024-10-10 18:56:59,981] Trial 13 finished with value: 0.9819851006965634 and parameters: {'n_estimators': 94, 'max_depth': 23, 'min_samples_split': 10, 'min_samples_leaf': 1}. Best is trial 13 with value: 0.9819851006965634.\n",
      "[I 2024-10-10 18:57:09,163] Trial 14 finished with value: 0.9807642206275384 and parameters: {'n_estimators': 143, 'max_depth': 26, 'min_samples_split': 9, 'min_samples_leaf': 2}. Best is trial 13 with value: 0.9819851006965634.\n",
      "[I 2024-10-10 18:57:14,183] Trial 15 finished with value: 0.9783285107009827 and parameters: {'n_estimators': 79, 'max_depth': 18, 'min_samples_split': 8, 'min_samples_leaf': 2}. Best is trial 13 with value: 0.9819851006965634.\n",
      "[I 2024-10-10 18:57:21,765] Trial 16 finished with value: 0.9854492939666238 and parameters: {'n_estimators': 113, 'max_depth': 26, 'min_samples_split': 6, 'min_samples_leaf': 1}. Best is trial 16 with value: 0.9854492939666238.\n",
      "[I 2024-10-10 18:57:31,476] Trial 17 finished with value: 0.9668610450556618 and parameters: {'n_estimators': 160, 'max_depth': 26, 'min_samples_split': 6, 'min_samples_leaf': 7}. Best is trial 16 with value: 0.9854492939666238.\n",
      "[I 2024-10-10 18:57:39,026] Trial 18 finished with value: 0.9836742145247165 and parameters: {'n_estimators': 116, 'max_depth': 32, 'min_samples_split': 6, 'min_samples_leaf': 2}. Best is trial 16 with value: 0.9854492939666238.\n",
      "[I 2024-10-10 18:57:47,151] Trial 19 finished with value: 0.9811540646899136 and parameters: {'n_estimators': 125, 'max_depth': 32, 'min_samples_split': 6, 'min_samples_leaf': 3}. Best is trial 16 with value: 0.9854492939666238.\n",
      "[I 2024-10-10 18:57:57,490] Trial 20 finished with value: 0.9835725709716113 and parameters: {'n_estimators': 157, 'max_depth': 27, 'min_samples_split': 6, 'min_samples_leaf': 2}. Best is trial 16 with value: 0.9854492939666238.\n",
      "[I 2024-10-10 18:58:07,997] Trial 21 finished with value: 0.9836615879963803 and parameters: {'n_estimators': 162, 'max_depth': 27, 'min_samples_split': 6, 'min_samples_leaf': 2}. Best is trial 16 with value: 0.9854492939666238.\n",
      "[I 2024-10-10 18:58:20,093] Trial 22 finished with value: 0.9812225636061365 and parameters: {'n_estimators': 185, 'max_depth': 32, 'min_samples_split': 5, 'min_samples_leaf': 3}. Best is trial 16 with value: 0.9854492939666238.\n",
      "[I 2024-10-10 18:58:27,596] Trial 23 finished with value: 0.9825076285275365 and parameters: {'n_estimators': 113, 'max_depth': 29, 'min_samples_split': 7, 'min_samples_leaf': 2}. Best is trial 16 with value: 0.9854492939666238.\n",
      "[I 2024-10-10 18:58:36,066] Trial 24 finished with value: 0.9741986363349396 and parameters: {'n_estimators': 135, 'max_depth': 25, 'min_samples_split': 5, 'min_samples_leaf': 5}. Best is trial 16 with value: 0.9854492939666238.\n",
      "[I 2024-10-10 18:58:45,479] Trial 25 finished with value: 0.9780414150129422 and parameters: {'n_estimators': 149, 'max_depth': 19, 'min_samples_split': 7, 'min_samples_leaf': 3}. Best is trial 16 with value: 0.9854492939666238.\n",
      "[I 2024-10-10 18:58:56,824] Trial 26 finished with value: 0.9843114333214084 and parameters: {'n_estimators': 171, 'max_depth': 28, 'min_samples_split': 5, 'min_samples_leaf': 2}. Best is trial 16 with value: 0.9854492939666238.\n",
      "[I 2024-10-10 18:59:09,168] Trial 27 finished with value: 0.9867025821250447 and parameters: {'n_estimators': 186, 'max_depth': 30, 'min_samples_split': 5, 'min_samples_leaf': 1}. Best is trial 27 with value: 0.9867025821250447.\n",
      "[I 2024-10-10 18:59:22,503] Trial 28 finished with value: 0.9866597571497717 and parameters: {'n_estimators': 197, 'max_depth': 29, 'min_samples_split': 5, 'min_samples_leaf': 1}. Best is trial 27 with value: 0.9867025821250447.\n",
      "[I 2024-10-10 18:59:34,122] Trial 29 finished with value: 0.9565844188640333 and parameters: {'n_estimators': 199, 'max_depth': 24, 'min_samples_split': 5, 'min_samples_leaf': 10}. Best is trial 27 with value: 0.9867025821250447.\n",
      "[I 2024-10-10 18:59:45,142] Trial 30 finished with value: 0.9810482122940297 and parameters: {'n_estimators': 181, 'max_depth': 16, 'min_samples_split': 2, 'min_samples_leaf': 1}. Best is trial 27 with value: 0.9867025821250447.\n",
      "[I 2024-10-10 18:59:57,031] Trial 31 finished with value: 0.9866784865001369 and parameters: {'n_estimators': 176, 'max_depth': 29, 'min_samples_split': 5, 'min_samples_leaf': 1}. Best is trial 27 with value: 0.9867025821250447.\n",
      "[I 2024-10-10 19:00:09,702] Trial 32 finished with value: 0.9873510595761695 and parameters: {'n_estimators': 188, 'max_depth': 29, 'min_samples_split': 4, 'min_samples_leaf': 1}. Best is trial 32 with value: 0.9873510595761695.\n",
      "[I 2024-10-10 19:00:22,483] Trial 33 finished with value: 0.9873204402449547 and parameters: {'n_estimators': 187, 'max_depth': 30, 'min_samples_split': 4, 'min_samples_leaf': 1}. Best is trial 32 with value: 0.9873510595761695.\n",
      "[I 2024-10-10 19:00:35,076] Trial 34 finished with value: 0.9811120814831963 and parameters: {'n_estimators': 187, 'max_depth': 30, 'min_samples_split': 4, 'min_samples_leaf': 3}. Best is trial 32 with value: 0.9873510595761695.\n",
      "[I 2024-10-10 19:00:46,154] Trial 35 finished with value: 0.9746137334539868 and parameters: {'n_estimators': 176, 'max_depth': 31, 'min_samples_split': 2, 'min_samples_leaf': 5}. Best is trial 32 with value: 0.9873510595761695.\n",
      "[I 2024-10-10 19:00:58,775] Trial 36 finished with value: 0.9858402954607631 and parameters: {'n_estimators': 191, 'max_depth': 20, 'min_samples_split': 4, 'min_samples_leaf': 1}. Best is trial 32 with value: 0.9873510595761695.\n",
      "[I 2024-10-10 19:01:09,234] Trial 37 finished with value: 0.963850775479282 and parameters: {'n_estimators': 175, 'max_depth': 28, 'min_samples_split': 4, 'min_samples_leaf': 8}. Best is trial 32 with value: 0.9873510595761695.\n",
      "[I 2024-10-10 19:01:21,625] Trial 38 finished with value: 0.9808769123929375 and parameters: {'n_estimators': 189, 'max_depth': 24, 'min_samples_split': 3, 'min_samples_leaf': 3}. Best is trial 32 with value: 0.9873510595761695.\n",
      "[I 2024-10-10 19:01:31,774] Trial 39 finished with value: 0.9708049411814222 and parameters: {'n_estimators': 165, 'max_depth': 30, 'min_samples_split': 5, 'min_samples_leaf': 6}. Best is trial 32 with value: 0.9873510595761695.\n",
      "[I 2024-10-10 19:01:38,221] Trial 40 finished with value: 0.8754995896378291 and parameters: {'n_estimators': 180, 'max_depth': 7, 'min_samples_split': 4, 'min_samples_leaf': 2}. Best is trial 32 with value: 0.9873510595761695.\n",
      "[I 2024-10-10 19:01:51,521] Trial 41 finished with value: 0.9866669121824955 and parameters: {'n_estimators': 196, 'max_depth': 29, 'min_samples_split': 5, 'min_samples_leaf': 1}. Best is trial 32 with value: 0.9873510595761695.\n",
      "[I 2024-10-10 19:02:04,374] Trial 42 finished with value: 0.9879519771038953 and parameters: {'n_estimators': 191, 'max_depth': 28, 'min_samples_split': 3, 'min_samples_leaf': 1}. Best is trial 42 with value: 0.9879519771038953.\n",
      "[I 2024-10-10 19:02:14,484] Trial 43 finished with value: 0.9879288810791473 and parameters: {'n_estimators': 151, 'max_depth': 31, 'min_samples_split': 3, 'min_samples_leaf': 1}. Best is trial 42 with value: 0.9879519771038953.\n",
      "[I 2024-10-10 19:02:24,587] Trial 44 finished with value: 0.9848159157389675 and parameters: {'n_estimators': 151, 'max_depth': 32, 'min_samples_split': 3, 'min_samples_leaf': 2}. Best is trial 42 with value: 0.9879519771038953.\n",
      "[I 2024-10-10 19:02:37,533] Trial 45 finished with value: 0.9890893116437637 and parameters: {'n_estimators': 192, 'max_depth': 31, 'min_samples_split': 2, 'min_samples_leaf': 1}. Best is trial 45 with value: 0.9890893116437637.\n",
      "[I 2024-10-10 19:02:51,194] Trial 46 finished with value: 0.9891204044697909 and parameters: {'n_estimators': 200, 'max_depth': 31, 'min_samples_split': 2, 'min_samples_leaf': 1}. Best is trial 46 with value: 0.9891204044697909.\n",
      "[I 2024-10-10 19:03:04,265] Trial 47 finished with value: 0.9847023295944779 and parameters: {'n_estimators': 200, 'max_depth': 27, 'min_samples_split': 2, 'min_samples_leaf': 2}. Best is trial 46 with value: 0.9891204044697909.\n",
      "[I 2024-10-10 19:03:15,078] Trial 48 finished with value: 0.9811454891727519 and parameters: {'n_estimators': 169, 'max_depth': 31, 'min_samples_split': 2, 'min_samples_leaf': 3}. Best is trial 46 with value: 0.9891204044697909.\n",
      "[I 2024-10-10 19:03:25,518] Trial 49 finished with value: 0.9467524569119721 and parameters: {'n_estimators': 193, 'max_depth': 12, 'min_samples_split': 3, 'min_samples_leaf': 4}. Best is trial 46 with value: 0.9891204044697909.\n"
     ]
    },
    {
     "name": "stdout",
     "output_type": "stream",
     "text": [
      "Best parameters: {'n_estimators': 200, 'max_depth': 31, 'min_samples_split': 2, 'min_samples_leaf': 1}\n"
     ]
    },
    {
     "data": {
      "image/png": "[encoded data removed]",
      "text/plain": [
       "<Figure size 640x480 with 1 Axes>"
      ]
     },
     "metadata": {},
     "output_type": "display_data"
    },
    {
     "name": "stdout",
     "output_type": "stream",
     "text": [
      "              precision    recall  f1-score   support\n",
      "\n",
      "           0       0.94      0.93      0.93      2318\n",
      "           1       0.96      0.97      0.96      4100\n",
      "\n",
      "    accuracy                           0.95      6418\n",
      "   macro avg       0.95      0.95      0.95      6418\n",
      "weighted avg       0.95      0.95      0.95      6418\n",
      "\n"
     ]
    }
   ],
   "source": [
    "import optuna\n",
    "import pandas as pd\n",
    "from sklearn.model_selection import train_test_split\n",
    "from sklearn.preprocessing import StandardScaler\n",
    "from sklearn.pipeline import Pipeline\n",
    "from sklearn.ensemble import RandomForestClassifier\n",
    "from sklearn.metrics import roc_curve, auc, classification_report\n",
    "import matplotlib.pyplot as plt\n",
    "import numpy as np\n",
    "\n",
    "# Assuming df_year is your DataFrame\n",
    "#X = df_year[['latitude_1', 'longitude_1', 't2m_delta_1_yearly_sum', 't2m_delta_1_yearly_mean', 'tp_delta_1_yearly_sum', 'tp_delta_1_yearly_mean']]\n",
    "#Y = df_year['drought_yearly_flag']\n",
    "\n",
    "# Split the data\n",
    "X_train, X_test, Y_train, Y_test = train_test_split(X, Y, test_size=0.2, random_state=42)\n",
    "\n",
    "# Define objective function for Optuna\n",
    "def objective(trial):\n",
    "    n_estimators = trial.suggest_int('n_estimators', 50, 200)\n",
    "    max_depth = trial.suggest_int('max_depth', 2, 32)\n",
    "    min_samples_split = trial.suggest_int('min_samples_split', 2, 10)\n",
    "    min_samples_leaf = trial.suggest_int('min_samples_leaf', 1, 10)\n",
    "    \n",
    "    pipeline = Pipeline([\n",
    "        ('scaler', StandardScaler()),\n",
    "        ('random_forest', RandomForestClassifier(\n",
    "            n_estimators=n_estimators,\n",
    "            max_depth=max_depth,\n",
    "            min_samples_split=min_samples_split,\n",
    "            min_samples_leaf=min_samples_leaf,\n",
    "            random_state=42\n",
    "        ))\n",
    "    ])\n",
    "    \n",
    "    pipeline.fit(X_train, Y_train)\n",
    "    Y_prob = pipeline.predict_proba(X_test)[:, 1]\n",
    "    fpr, tpr, _ = roc_curve(Y_test, Y_prob)\n",
    "    roc_auc = auc(fpr, tpr)\n",
    "    \n",
    "    return roc_auc\n",
    "\n",
    "# Optimize hyperparameters\n",
    "study = optuna.create_study(direction='maximize')\n",
    "study.optimize(objective, n_trials=50)\n",
    "\n",
    "# Best parameters\n",
    "best_params = study.best_params\n",
    "print(\"Best parameters:\", best_params)\n",
    "\n",
    "# Train final model with best parameters\n",
    "pipeline = Pipeline([\n",
    "    ('scaler', StandardScaler()),\n",
    "    ('random_forest', RandomForestClassifier(\n",
    "        n_estimators=best_params['n_estimators'],\n",
    "        max_depth=best_params['max_depth'],\n",
    "        min_samples_split=best_params['min_samples_split'],\n",
    "        min_samples_leaf=best_params['min_samples_leaf'],\n",
    "        random_state=42\n",
    "    ))\n",
    "])\n",
    "\n",
    "pipeline.fit(X_train, Y_train)\n",
    "Y_prob = pipeline.predict_proba(X_test)[:, 1]\n",
    "\n",
    "# Plot ROC curve\n",
    "fpr, tpr, _ = roc_curve(Y_test, Y_prob)\n",
    "roc_auc = auc(fpr, tpr)\n",
    "\n",
    "plt.figure()\n",
    "plt.plot(fpr, tpr, color='darkorange', lw=2, label='ROC curve (area = %0.2f)' % roc_auc)\n",
    "plt.plot([0, 1], [0, 1], color='navy', lw=2, linestyle='--')\n",
    "plt.xlabel('False Positive Rate')\n",
    "plt.ylabel('True Positive Rate')\n",
    "plt.title('Receiver Operating Characteristic')\n",
    "plt.legend(loc=\"lower right\")\n",
    "plt.show()\n",
    "\n",
    "# Classification report\n",
    "Y_pred = (Y_prob >= 0.5).astype(int)\n",
    "print(classification_report(Y_test, Y_pred))\n"
   ]
  }
 ],
 "metadata": {
  "kernelspec": {
   "display_name": "base",
   "language": "python",
   "name": "python3"
  },
  "language_info": {
   "codemirror_mode": {
    "name": "ipython",
    "version": 3
   },
   "file_extension": ".py",
   "mimetype": "text/x-python",
   "name": "python",
   "nbconvert_exporter": "python",
   "pygments_lexer": "ipython3",
   "version": "3.12.3"
  }
 },
 "nbformat": 4,
 "nbformat_minor": 2
}
