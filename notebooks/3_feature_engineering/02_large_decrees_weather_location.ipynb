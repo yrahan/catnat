{
 "cells": [
  {
   "cell_type": "markdown",
   "metadata": {},
   "source": [
    "\n",
    "# <p style=\"text-align: center;\">Large Weather and Decrees</p>"
   ]
  },
  {
   "cell_type": "code",
   "execution_count": 1,
   "metadata": {},
   "outputs": [],
   "source": [
    "#!pip install cartopy\n",
    "#!pip install imageio"
   ]
  },
  {
   "cell_type": "markdown",
   "metadata": {},
   "source": [
    "## Import libraries"
   ]
  },
  {
   "cell_type": "code",
   "execution_count": 2,
   "metadata": {},
   "outputs": [],
   "source": [
    "import pandas as pd\n",
    "import numpy as np\n",
    "\n",
    "import glob\n",
    "import os\n",
    "\n",
    "import requests\n",
    "\n",
    "import seaborn as sns\n",
    "import matplotlib.pyplot as plt\n",
    "import plotly.express as px\n",
    "\n",
    "import zipfile\n",
    "\n",
    "import xarray as xr\n",
    "\n",
    "import folium\n",
    "from folium.plugins import MarkerCluster\n",
    "\n",
    "import pandas as pd\n",
    "from geopy.geocoders import Nominatim\n",
    "\n",
    "import geopandas as gpd\n",
    "import cartopy.crs as ccrs\n",
    "\n",
    "import imageio\n",
    "\n",
    "from sklearn.neighbors import KDTree\n",
    "from sklearn.neighbors import BallTree\n",
    "\n",
    "from sklearn.preprocessing import RobustScaler"
   ]
  },
  {
   "cell_type": "markdown",
   "metadata": {},
   "source": [
    "## Set parameters"
   ]
  },
  {
   "cell_type": "code",
   "execution_count": 3,
   "metadata": {},
   "outputs": [],
   "source": [
    "decree_filename_base = 'arrete_'\n",
    "decrees_folder_name = './../../data/raw/decrees'\n",
    "communes_folder_name = './../../data/raw/opendatasoft'\n",
    "weather_folder_name = './../../data/raw/weather/era5'\n",
    "weather_ncfiles_folder_name = './../../data/raw/weather/era5/ncfiles2'\n",
    "processed_data_folder_name = './../../data/processed'\n",
    "output_data_folder_name = './../../data/processed/output'\n",
    "decrees_filename = 'decrees.parquet'\n",
    "decrees_locations_filename = 'decrees_locations.parquet'\n",
    "communes_csv_filename = 'correspondance-code-insee-code-postal-202410.csv'\n",
    "weather_filename = 'weather2.parquet'\n",
    "weather_shema = 'weather_shema2.csv'\n",
    "weather_yearly_filename = 'weather2_yearly.parquet'\n",
    "weather_yearly_shema = 'weather_shema2_yearly.csv'\n",
    "drought_filename = 'drought.parquet'\n",
    "drought_shema = 'drought_shema.csv'\n",
    "drought_yearly_filename = 'drought_yearly.parquet'\n",
    "drought_yearly_shema = 'drought_yearly_shema.csv'\n",
    "#weather_zip_file = \"193fcd51a8958175843ecbbcaba057c8.zip\""
   ]
  },
  {
   "cell_type": "markdown",
   "metadata": {},
   "source": [
    "## Load Weather data"
   ]
  },
  {
   "cell_type": "markdown",
   "metadata": {},
   "source": [
    "| Column    | Description                                      |\n",
    "|-----------|--------------------------------------------------|\n",
    "| date      | The date of the observation.                     |\n",
    "| latitude  | The latitude coordinate of the observation point.|\n",
    "| longitude | The longitude coordinate of the observation point.|\n",
    "| number    | A unique identifier for the observation.         |\n",
    "| expver    | Experiment version number.                       |\n",
    "| u10       | 10-meter U-component of wind (eastward wind).    |\n",
    "| v10       | 10-meter V-component of wind (northward wind).   |\n",
    "| t2m       | 2-meter temperature (air temperature at 2 meters above the surface).|\n",
    "| sp        | Surface pressure.                                |\n",
    "| tp        | Total precipitation.                             |\n",
    "| e         | Evaporation.                                     |\n",
    "| sro       | Surface runoff.                                  |\n",
    "| tcrw      | Total column water vapor.                        |\n",
    "| stl1      | Soil temperature level 1.                        |\n",
    "| stl2      | Soil temperature level 2.                        |\n",
    "| slt       | Soil type.                                       |\n",
    "| swvl1     | Volumetric soil water layer 1.                   |\n",
    "| swvl2     | Volumetric soil water layer 2.                   |\n",
    "| cvh       | High vegetation cover.                           |\n",
    "| cvl       | Low vegetation cover.                            |\n",
    "| tvh       | High vegetation type.                            |\n",
    "| tvl       | Low vegetation type.                             |\n"
   ]
  },
  {
   "cell_type": "code",
   "execution_count": 4,
   "metadata": {},
   "outputs": [],
   "source": [
    "df_yearly_weather = pd.read_parquet(os.path.join(processed_data_folder_name, weather_yearly_filename))"
   ]
  },
  {
   "cell_type": "code",
   "execution_count": 5,
   "metadata": {},
   "outputs": [
    {
     "data": {
      "text/html": [
       "<div>\n",
       "<style scoped>\n",
       "    .dataframe tbody tr th:only-of-type {\n",
       "        vertical-align: middle;\n",
       "    }\n",
       "\n",
       "    .dataframe tbody tr th {\n",
       "        vertical-align: top;\n",
       "    }\n",
       "\n",
       "    .dataframe thead th {\n",
       "        text-align: right;\n",
       "    }\n",
       "</style>\n",
       "<table border=\"1\" class=\"dataframe\">\n",
       "  <thead>\n",
       "    <tr style=\"text-align: right;\">\n",
       "      <th></th>\n",
       "      <th>latitude</th>\n",
       "      <th>longitude</th>\n",
       "      <th>year</th>\n",
       "      <th>t2m_z_sum</th>\n",
       "      <th>t2m_z_mean</th>\n",
       "      <th>tp_z_sum</th>\n",
       "      <th>tp_z_mean</th>\n",
       "      <th>e_z_sum</th>\n",
       "      <th>e_z_mean</th>\n",
       "      <th>pev_z_sum</th>\n",
       "      <th>...</th>\n",
       "      <th>stl1_sum</th>\n",
       "      <th>stl1_mean</th>\n",
       "      <th>stl2_sum</th>\n",
       "      <th>stl2_mean</th>\n",
       "      <th>slt_sum</th>\n",
       "      <th>slt_mean</th>\n",
       "      <th>swvl1_sum</th>\n",
       "      <th>swvl1_mean</th>\n",
       "      <th>swvl2_sum</th>\n",
       "      <th>swvl2_mean</th>\n",
       "    </tr>\n",
       "  </thead>\n",
       "  <tbody>\n",
       "    <tr>\n",
       "      <th>0</th>\n",
       "      <td>42.5</td>\n",
       "      <td>-5.0</td>\n",
       "      <td>1940</td>\n",
       "      <td>0.000000</td>\n",
       "      <td>NaN</td>\n",
       "      <td>0.000000</td>\n",
       "      <td>NaN</td>\n",
       "      <td>0.000000</td>\n",
       "      <td>NaN</td>\n",
       "      <td>0.000000</td>\n",
       "      <td>...</td>\n",
       "      <td>131.224976</td>\n",
       "      <td>10.935414</td>\n",
       "      <td>131.221069</td>\n",
       "      <td>10.935089</td>\n",
       "      <td>36.0</td>\n",
       "      <td>3.0</td>\n",
       "      <td>3.491412</td>\n",
       "      <td>0.290951</td>\n",
       "      <td>3.582633</td>\n",
       "      <td>0.298553</td>\n",
       "    </tr>\n",
       "    <tr>\n",
       "      <th>1</th>\n",
       "      <td>42.5</td>\n",
       "      <td>-5.0</td>\n",
       "      <td>1941</td>\n",
       "      <td>0.000000</td>\n",
       "      <td>0.000000</td>\n",
       "      <td>-1.414214</td>\n",
       "      <td>-0.117851</td>\n",
       "      <td>1.414214</td>\n",
       "      <td>0.117851</td>\n",
       "      <td>-1.414214</td>\n",
       "      <td>...</td>\n",
       "      <td>130.369019</td>\n",
       "      <td>10.864085</td>\n",
       "      <td>129.770386</td>\n",
       "      <td>10.814198</td>\n",
       "      <td>36.0</td>\n",
       "      <td>3.0</td>\n",
       "      <td>3.291583</td>\n",
       "      <td>0.274299</td>\n",
       "      <td>3.486492</td>\n",
       "      <td>0.290541</td>\n",
       "    </tr>\n",
       "    <tr>\n",
       "      <th>2</th>\n",
       "      <td>42.5</td>\n",
       "      <td>-5.0</td>\n",
       "      <td>1942</td>\n",
       "      <td>2.590982</td>\n",
       "      <td>0.215915</td>\n",
       "      <td>0.948012</td>\n",
       "      <td>0.079001</td>\n",
       "      <td>-2.155737</td>\n",
       "      <td>-0.179645</td>\n",
       "      <td>-0.856798</td>\n",
       "      <td>...</td>\n",
       "      <td>132.005249</td>\n",
       "      <td>11.000438</td>\n",
       "      <td>131.522339</td>\n",
       "      <td>10.960195</td>\n",
       "      <td>36.0</td>\n",
       "      <td>3.0</td>\n",
       "      <td>3.473109</td>\n",
       "      <td>0.289426</td>\n",
       "      <td>3.584625</td>\n",
       "      <td>0.298719</td>\n",
       "    </tr>\n",
       "    <tr>\n",
       "      <th>3</th>\n",
       "      <td>42.5</td>\n",
       "      <td>-5.0</td>\n",
       "      <td>1943</td>\n",
       "      <td>3.948252</td>\n",
       "      <td>0.329021</td>\n",
       "      <td>-5.062950</td>\n",
       "      <td>-0.421913</td>\n",
       "      <td>-0.876471</td>\n",
       "      <td>-0.073039</td>\n",
       "      <td>-7.460276</td>\n",
       "      <td>...</td>\n",
       "      <td>143.968140</td>\n",
       "      <td>11.997345</td>\n",
       "      <td>143.213501</td>\n",
       "      <td>11.934459</td>\n",
       "      <td>36.0</td>\n",
       "      <td>3.0</td>\n",
       "      <td>3.147441</td>\n",
       "      <td>0.262287</td>\n",
       "      <td>3.267897</td>\n",
       "      <td>0.272325</td>\n",
       "    </tr>\n",
       "    <tr>\n",
       "      <th>4</th>\n",
       "      <td>42.5</td>\n",
       "      <td>-5.0</td>\n",
       "      <td>1944</td>\n",
       "      <td>-0.020748</td>\n",
       "      <td>-0.001729</td>\n",
       "      <td>-2.657244</td>\n",
       "      <td>-0.221437</td>\n",
       "      <td>5.106711</td>\n",
       "      <td>0.425559</td>\n",
       "      <td>-5.488278</td>\n",
       "      <td>...</td>\n",
       "      <td>133.577759</td>\n",
       "      <td>11.131480</td>\n",
       "      <td>133.382690</td>\n",
       "      <td>11.115224</td>\n",
       "      <td>36.0</td>\n",
       "      <td>3.0</td>\n",
       "      <td>2.850830</td>\n",
       "      <td>0.237569</td>\n",
       "      <td>2.922482</td>\n",
       "      <td>0.243540</td>\n",
       "    </tr>\n",
       "  </tbody>\n",
       "</table>\n",
       "<p>5 rows × 39 columns</p>\n",
       "</div>"
      ],
      "text/plain": [
       "   latitude  longitude  year  t2m_z_sum  t2m_z_mean  tp_z_sum  tp_z_mean  \\\n",
       "0      42.5       -5.0  1940   0.000000         NaN  0.000000        NaN   \n",
       "1      42.5       -5.0  1941   0.000000    0.000000 -1.414214  -0.117851   \n",
       "2      42.5       -5.0  1942   2.590982    0.215915  0.948012   0.079001   \n",
       "3      42.5       -5.0  1943   3.948252    0.329021 -5.062950  -0.421913   \n",
       "4      42.5       -5.0  1944  -0.020748   -0.001729 -2.657244  -0.221437   \n",
       "\n",
       "    e_z_sum  e_z_mean  pev_z_sum  ...    stl1_sum  stl1_mean    stl2_sum  \\\n",
       "0  0.000000       NaN   0.000000  ...  131.224976  10.935414  131.221069   \n",
       "1  1.414214  0.117851  -1.414214  ...  130.369019  10.864085  129.770386   \n",
       "2 -2.155737 -0.179645  -0.856798  ...  132.005249  11.000438  131.522339   \n",
       "3 -0.876471 -0.073039  -7.460276  ...  143.968140  11.997345  143.213501   \n",
       "4  5.106711  0.425559  -5.488278  ...  133.577759  11.131480  133.382690   \n",
       "\n",
       "   stl2_mean  slt_sum  slt_mean  swvl1_sum  swvl1_mean  swvl2_sum  swvl2_mean  \n",
       "0  10.935089     36.0       3.0   3.491412    0.290951   3.582633    0.298553  \n",
       "1  10.814198     36.0       3.0   3.291583    0.274299   3.486492    0.290541  \n",
       "2  10.960195     36.0       3.0   3.473109    0.289426   3.584625    0.298719  \n",
       "3  11.934459     36.0       3.0   3.147441    0.262287   3.267897    0.272325  \n",
       "4  11.115224     36.0       3.0   2.850830    0.237569   2.922482    0.243540  \n",
       "\n",
       "[5 rows x 39 columns]"
      ]
     },
     "execution_count": 5,
     "metadata": {},
     "output_type": "execute_result"
    }
   ],
   "source": [
    "df_yearly_weather.head()"
   ]
  },
  {
   "cell_type": "code",
   "execution_count": 6,
   "metadata": {},
   "outputs": [
    {
     "data": {
      "text/plain": [
       "Index(['latitude', 'longitude', 'year', 't2m_z_sum', 't2m_z_mean', 'tp_z_sum',\n",
       "       'tp_z_mean', 'e_z_sum', 'e_z_mean', 'pev_z_sum', 'pev_z_mean',\n",
       "       'stl1_z_sum', 'stl1_z_mean', 'stl2_z_sum', 'stl2_z_mean', 'slt_z_sum',\n",
       "       'slt_z_mean', 'swvl1_z_sum', 'swvl1_z_mean', 'swvl2_z_sum',\n",
       "       'swvl2_z_mean', 't2m_sum', 't2m_mean', 'tp_sum', 'tp_mean', 'e_sum',\n",
       "       'e_mean', 'pev_sum', 'pev_mean', 'stl1_sum', 'stl1_mean', 'stl2_sum',\n",
       "       'stl2_mean', 'slt_sum', 'slt_mean', 'swvl1_sum', 'swvl1_mean',\n",
       "       'swvl2_sum', 'swvl2_mean'],\n",
       "      dtype='object')"
      ]
     },
     "execution_count": 6,
     "metadata": {},
     "output_type": "execute_result"
    }
   ],
   "source": [
    "df_yearly_weather.columns"
   ]
  },
  {
   "cell_type": "code",
   "execution_count": 8,
   "metadata": {},
   "outputs": [
    {
     "ename": "NameError",
     "evalue": "name 'schema_yearly' is not defined",
     "output_type": "error",
     "traceback": [
      "\u001b[0;31m---------------------------------------------------------------------------\u001b[0m",
      "\u001b[0;31mNameError\u001b[0m                                 Traceback (most recent call last)",
      "Cell \u001b[0;32mIn[8], line 2\u001b[0m\n\u001b[1;32m      1\u001b[0m \u001b[38;5;66;03m# Apply the schema to the loaded dataframe\u001b[39;00m\n\u001b[0;32m----> 2\u001b[0m df_yearly_weather \u001b[38;5;241m=\u001b[39m df_yearly_weather\u001b[38;5;241m.\u001b[39mastype(\u001b[43mschema_yearly\u001b[49m\u001b[38;5;241m.\u001b[39mto_dict())\n",
      "\u001b[0;31mNameError\u001b[0m: name 'schema_yearly' is not defined"
     ]
    }
   ],
   "source": [
    "# Apply the schema to the loaded dataframe\n",
    "df_yearly_weather = df_yearly_weather.astype(schema_yearly.to_dict())"
   ]
  },
  {
   "cell_type": "code",
   "execution_count": 9,
   "metadata": {},
   "outputs": [
    {
     "data": {
      "text/plain": [
       "latitude        float64\n",
       "longitude       float64\n",
       "year              int32\n",
       "t2m_z_sum       float64\n",
       "t2m_z_mean      float64\n",
       "tp_z_sum        float64\n",
       "tp_z_mean       float64\n",
       "e_z_sum         float64\n",
       "e_z_mean        float64\n",
       "pev_z_sum       float64\n",
       "pev_z_mean      float64\n",
       "stl1_z_sum      float64\n",
       "stl1_z_mean     float64\n",
       "stl2_z_sum      float64\n",
       "stl2_z_mean     float64\n",
       "slt_z_sum       float64\n",
       "slt_z_mean      float64\n",
       "swvl1_z_sum     float64\n",
       "swvl1_z_mean    float64\n",
       "swvl2_z_sum     float64\n",
       "swvl2_z_mean    float64\n",
       "t2m_sum         float32\n",
       "t2m_mean        float32\n",
       "tp_sum          float32\n",
       "tp_mean         float32\n",
       "e_sum           float32\n",
       "e_mean          float32\n",
       "pev_sum         float32\n",
       "pev_mean        float32\n",
       "stl1_sum        float32\n",
       "stl1_mean       float32\n",
       "stl2_sum        float32\n",
       "stl2_mean       float32\n",
       "slt_sum         float32\n",
       "slt_mean        float32\n",
       "swvl1_sum       float32\n",
       "swvl1_mean      float32\n",
       "swvl2_sum       float32\n",
       "swvl2_mean      float32\n",
       "dtype: object"
      ]
     },
     "execution_count": 9,
     "metadata": {},
     "output_type": "execute_result"
    }
   ],
   "source": [
    "df_yearly_weather.dtypes"
   ]
  },
  {
   "cell_type": "code",
   "execution_count": 10,
   "metadata": {},
   "outputs": [
    {
     "name": "stdout",
     "output_type": "stream",
     "text": [
      "latitude           0\n",
      "longitude          0\n",
      "year               0\n",
      "t2m_z_sum          0\n",
      "t2m_z_mean      1925\n",
      "tp_z_sum           0\n",
      "tp_z_mean       1925\n",
      "e_z_sum            0\n",
      "e_z_mean        1925\n",
      "pev_z_sum          0\n",
      "pev_z_mean      1925\n",
      "stl1_z_sum         0\n",
      "stl1_z_mean     1925\n",
      "stl2_z_sum         0\n",
      "stl2_z_mean     1925\n",
      "slt_z_sum          0\n",
      "slt_z_mean      1925\n",
      "swvl1_z_sum        0\n",
      "swvl1_z_mean    1925\n",
      "swvl2_z_sum        0\n",
      "swvl2_z_mean    1925\n",
      "t2m_sum            0\n",
      "t2m_mean           0\n",
      "tp_sum             0\n",
      "tp_mean            0\n",
      "e_sum              0\n",
      "e_mean             0\n",
      "pev_sum            0\n",
      "pev_mean           0\n",
      "stl1_sum           0\n",
      "stl1_mean          0\n",
      "stl2_sum           0\n",
      "stl2_mean          0\n",
      "slt_sum            0\n",
      "slt_mean           0\n",
      "swvl1_sum          0\n",
      "swvl1_mean         0\n",
      "swvl2_sum          0\n",
      "swvl2_mean         0\n",
      "dtype: int64\n"
     ]
    }
   ],
   "source": [
    "print(df_yearly_weather.isna().sum())  # Count missing values"
   ]
  },
  {
   "cell_type": "code",
   "execution_count": 11,
   "metadata": {},
   "outputs": [
    {
     "data": {
      "text/plain": [
       "0"
      ]
     },
     "execution_count": 11,
     "metadata": {},
     "output_type": "execute_result"
    }
   ],
   "source": [
    "# Filter the DataFrame to exclude the year 1940\n",
    "df_yearly_weather[df_yearly_weather['year'] != 1940].isna().sum().sum()\n",
    "\n",
    "\n"
   ]
  },
  {
   "cell_type": "code",
   "execution_count": 12,
   "metadata": {},
   "outputs": [],
   "source": [
    "df_yearly_weather.drop(df_yearly_weather[df_yearly_weather['year'] == 1940].index, inplace=True)"
   ]
  },
  {
   "cell_type": "code",
   "execution_count": 13,
   "metadata": {},
   "outputs": [
    {
     "data": {
      "text/plain": [
       "0"
      ]
     },
     "execution_count": 13,
     "metadata": {},
     "output_type": "execute_result"
    }
   ],
   "source": [
    "df_yearly_weather.isna().sum().sum()"
   ]
  },
  {
   "cell_type": "markdown",
   "metadata": {},
   "source": [
    "### Note"
   ]
  },
  {
   "cell_type": "markdown",
   "metadata": {},
   "source": [
    ">There are no missing values in weather data because they come from monthly ERA5 simulations based on real data. only missing in 1940 du to rolling window for featured parameters."
   ]
  },
  {
   "cell_type": "markdown",
   "metadata": {},
   "source": [
    "## Import Decrees"
   ]
  },
  {
   "cell_type": "code",
   "execution_count": 14,
   "metadata": {},
   "outputs": [],
   "source": [
    "\n",
    "\n",
    "df_drought_yearly = pd.read_parquet(os.path.join(processed_data_folder_name, drought_yearly_filename))\n",
    "drought_schema_yearly = pd.read_csv(os.path.join(processed_data_folder_name, drought_yearly_shema), index_col=0).squeeze(\"columns\")\n",
    "df_drought_yearly = df_drought_yearly.astype(drought_schema_yearly.to_dict())"
   ]
  },
  {
   "cell_type": "code",
   "execution_count": null,
   "metadata": {},
   "outputs": [
    {
     "data": {
      "text/html": [
       "<div>\n",
       "<style scoped>\n",
       "    .dataframe tbody tr th:only-of-type {\n",
       "        vertical-align: middle;\n",
       "    }\n",
       "\n",
       "    .dataframe tbody tr th {\n",
       "        vertical-align: top;\n",
       "    }\n",
       "\n",
       "    .dataframe thead th {\n",
       "        text-align: right;\n",
       "    }\n",
       "</style>\n",
       "<table border=\"1\" class=\"dataframe\">\n",
       "  <thead>\n",
       "    <tr style=\"text-align: right;\">\n",
       "      <th></th>\n",
       "      <th>insee</th>\n",
       "      <th>nom_commune</th>\n",
       "      <th>debut_evenement</th>\n",
       "      <th>fin_evenement</th>\n",
       "      <th>date_arrete</th>\n",
       "      <th>date_parution_jo</th>\n",
       "      <th>nom_peril</th>\n",
       "      <th>code_peril</th>\n",
       "      <th>franchise</th>\n",
       "      <th>code_nor</th>\n",
       "      <th>decision</th>\n",
       "    </tr>\n",
       "  </thead>\n",
       "  <tbody>\n",
       "    <tr>\n",
       "      <th>43661</th>\n",
       "      <td>5063</td>\n",
       "      <td>LA GRAVE</td>\n",
       "      <td>2001-03-19</td>\n",
       "      <td>2001-03-25</td>\n",
       "      <td>2001-11-15</td>\n",
       "      <td>2001-12-01</td>\n",
       "      <td>Mouvement de Terrain</td>\n",
       "      <td>MVT</td>\n",
       "      <td>Simple</td>\n",
       "      <td>INTE0100649A</td>\n",
       "      <td>Reconnue</td>\n",
       "    </tr>\n",
       "    <tr>\n",
       "      <th>43662</th>\n",
       "      <td>5128</td>\n",
       "      <td>SAINT ANDRE D EMBRUN</td>\n",
       "      <td>2001-03-29</td>\n",
       "      <td>2001-03-29</td>\n",
       "      <td>2001-11-15</td>\n",
       "      <td>2001-12-01</td>\n",
       "      <td>Mouvement de Terrain</td>\n",
       "      <td>MVT</td>\n",
       "      <td>Simple</td>\n",
       "      <td>INTE0100649A</td>\n",
       "      <td>Reconnue</td>\n",
       "    </tr>\n",
       "    <tr>\n",
       "      <th>43663</th>\n",
       "      <td>6031</td>\n",
       "      <td>CANTARON</td>\n",
       "      <td>2000-11-23</td>\n",
       "      <td>2000-11-24</td>\n",
       "      <td>2001-11-15</td>\n",
       "      <td>2001-12-01</td>\n",
       "      <td>Mouvement de Terrain</td>\n",
       "      <td>MVT</td>\n",
       "      <td>Simple</td>\n",
       "      <td>INTE0100649A</td>\n",
       "      <td>Reconnue</td>\n",
       "    </tr>\n",
       "    <tr>\n",
       "      <th>43664</th>\n",
       "      <td>6031</td>\n",
       "      <td>CANTARON</td>\n",
       "      <td>2000-11-23</td>\n",
       "      <td>2000-11-24</td>\n",
       "      <td>2001-11-15</td>\n",
       "      <td>2001-12-01</td>\n",
       "      <td>Inondations et/ou Coulées de Boue</td>\n",
       "      <td>ICB</td>\n",
       "      <td>Simple</td>\n",
       "      <td>INTE0100649A</td>\n",
       "      <td>Reconnue</td>\n",
       "    </tr>\n",
       "    <tr>\n",
       "      <th>43665</th>\n",
       "      <td>6057</td>\n",
       "      <td>L'ESCARENE</td>\n",
       "      <td>2000-10-30</td>\n",
       "      <td>2000-10-31</td>\n",
       "      <td>2001-11-15</td>\n",
       "      <td>2001-12-01</td>\n",
       "      <td>Mouvement de Terrain</td>\n",
       "      <td>MVT</td>\n",
       "      <td>Simple</td>\n",
       "      <td>INTE0100649A</td>\n",
       "      <td>Reconnue</td>\n",
       "    </tr>\n",
       "  </tbody>\n",
       "</table>\n",
       "</div>"
      ],
      "text/plain": [
       "      insee           nom_commune debut_evenement fin_evenement date_arrete  \\\n",
       "43661  5063              LA GRAVE      2001-03-19    2001-03-25  2001-11-15   \n",
       "43662  5128  SAINT ANDRE D EMBRUN      2001-03-29    2001-03-29  2001-11-15   \n",
       "43663  6031              CANTARON      2000-11-23    2000-11-24  2001-11-15   \n",
       "43664  6031              CANTARON      2000-11-23    2000-11-24  2001-11-15   \n",
       "43665  6057            L'ESCARENE      2000-10-30    2000-10-31  2001-11-15   \n",
       "\n",
       "      date_parution_jo                          nom_peril code_peril  \\\n",
       "43661       2001-12-01               Mouvement de Terrain        MVT   \n",
       "43662       2001-12-01               Mouvement de Terrain        MVT   \n",
       "43663       2001-12-01               Mouvement de Terrain        MVT   \n",
       "43664       2001-12-01  Inondations et/ou Coulées de Boue        ICB   \n",
       "43665       2001-12-01               Mouvement de Terrain        MVT   \n",
       "\n",
       "      franchise      code_nor  decision  \n",
       "43661    Simple  INTE0100649A  Reconnue  \n",
       "43662    Simple  INTE0100649A  Reconnue  \n",
       "43663    Simple  INTE0100649A  Reconnue  \n",
       "43664    Simple  INTE0100649A  Reconnue  \n",
       "43665    Simple  INTE0100649A  Reconnue  "
      ]
     },
     "metadata": {},
     "output_type": "display_data"
    }
   ],
   "source": [
    "df_decrees.head()"
   ]
  },
  {
   "cell_type": "markdown",
   "metadata": {},
   "source": [
    "| Column    | Description                                      |\n",
    "|-----------|--------------------------------------------------|\n",
    "| date      | The date of the observation.                     |\n",
    "| latitude  | The latitude coordinate of the observation point.|\n",
    "| longitude | The longitude coordinate of the observation point.|\n",
    "| number    | A unique identifier for the observation.         |\n",
    "| expver    | Experiment version number.                       |\n",
    "| u10       | 10-meter U-component of wind (eastward wind).    |\n",
    "| v10       | 10-meter V-component of wind (northward wind).   |\n",
    "| t2m       | 2-meter temperature (air temperature at 2 meters above the surface).|\n",
    "| sp        | Surface pressure.                                |\n",
    "| tp        | Total precipitation.                             |\n",
    "| e         | Evaporation.                                     |\n",
    "| sro       | Surface runoff.                                  |\n",
    "| tcrw      | Total column water vapor.                        |\n",
    "| stl1      | Soil temperature level 1.                        |\n",
    "| stl2      | Soil temperature level 2.                        |\n",
    "| slt       | Soil type.                                       |\n",
    "| swvl1     | Volumetric soil water layer 1.                   |\n",
    "| swvl2     | Volumetric soil water layer 2.                   |\n",
    "| cvh       | High vegetation cover.                           |\n",
    "| cvl       | Low vegetation cover.                            |\n",
    "| tvh       | High vegetation type.                            |\n",
    "| tvl       | Low vegetation type.                             |\n"
   ]
  }
 ],
 "metadata": {
  "kernelspec": {
   "display_name": "base",
   "language": "python",
   "name": "python3"
  },
  "language_info": {
   "codemirror_mode": {
    "name": "ipython",
    "version": 3
   },
   "file_extension": ".py",
   "mimetype": "text/x-python",
   "name": "python",
   "nbconvert_exporter": "python",
   "pygments_lexer": "ipython3",
   "version": "3.12.3"
  }
 },
 "nbformat": 4,
 "nbformat_minor": 2
}
