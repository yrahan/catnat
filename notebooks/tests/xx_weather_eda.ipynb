{
 "cells": [
  {
   "cell_type": "markdown",
   "metadata": {},
   "source": [
    "# <p style=\"text-align: center;\">Weater EDA   </p>"
   ]
  },
  {
   "cell_type": "markdown",
   "metadata": {},
   "source": [
    "## Import libraries"
   ]
  },
  {
   "cell_type": "code",
   "execution_count": 35,
   "metadata": {},
   "outputs": [],
   "source": [
    "import pandas as pd\n",
    "import numpy as np\n",
    "\n",
    "import glob\n",
    "import os\n",
    "\n",
    "import seaborn as sns\n",
    "import matplotlib.pyplot as plt\n",
    "import plotly.express as px\n",
    "\n",
    "#import datetime as dt"
   ]
  },
  {
   "cell_type": "markdown",
   "metadata": {},
   "source": [
    "## Set parameters"
   ]
  },
  {
   "cell_type": "code",
   "execution_count": 36,
   "metadata": {},
   "outputs": [],
   "source": [
    "decree_filename_base = 'arrete_'\n",
    "decrees_folder_name = './../../data/raw/decrees'\n",
    "processed_data_folder_name = './../../data/processed'\n",
    "decrees_filename = 'decrees.parquet'\n",
    "decrees_filename_clean = 'decrees_clean.parquet'\n"
   ]
  },
  {
   "cell_type": "code",
   "execution_count": 37,
   "metadata": {},
   "outputs": [],
   "source": [
    "weather_filename_base_head = 'MENSQ_'\n",
    "tail_filename_base_tail = '_previous-1950-2022.csv'\n",
    "weather_folder_name = './../../data/raw/weather/mensq/1950-2022'\n",
    "processed_data_folder_name = './../../data/processed'\n",
    "weather_filename = 'weather.parquet'\n",
    "weather_filename_clean = 'weather_clean.parquet'"
   ]
  },
  {
   "cell_type": "markdown",
   "metadata": {},
   "source": [
    "## Concatenate all decrees csv files into one dataframe"
   ]
  },
  {
   "cell_type": "code",
   "execution_count": 38,
   "metadata": {},
   "outputs": [],
   "source": [
    "# concatenate all decrees csv files into one dataframe\n",
    "\n",
    "path = weather_folder_name  # Specify your folder path\n",
    "all_files = glob.glob(os.path.join(path, \"*.csv\"))\n",
    "all_files.sort()\n",
    "#all_files = all_files[:2]\n",
    "dfs = [pd.read_csv(filename, index_col=None, header=0, sep=';') for filename in all_files]\n",
    "df = pd.concat(dfs, axis=0, ignore_index=True)\n"
   ]
  },
  {
   "cell_type": "code",
   "execution_count": 50,
   "metadata": {},
   "outputs": [
    {
     "data": {
      "text/html": [
       "<div>\n",
       "<style scoped>\n",
       "    .dataframe tbody tr th:only-of-type {\n",
       "        vertical-align: middle;\n",
       "    }\n",
       "\n",
       "    .dataframe tbody tr th {\n",
       "        vertical-align: top;\n",
       "    }\n",
       "\n",
       "    .dataframe thead th {\n",
       "        text-align: right;\n",
       "    }\n",
       "</style>\n",
       "<table border=\"1\" class=\"dataframe\">\n",
       "  <thead>\n",
       "    <tr style=\"text-align: right;\">\n",
       "      <th></th>\n",
       "      <th>NUM_POSTE</th>\n",
       "      <th>NOM_USUEL</th>\n",
       "      <th>LAT</th>\n",
       "      <th>LON</th>\n",
       "      <th>ALTI</th>\n",
       "      <th>AAAAMM</th>\n",
       "      <th>RR</th>\n",
       "      <th>QRR</th>\n",
       "      <th>NBRR</th>\n",
       "      <th>RR_ME</th>\n",
       "      <th>...</th>\n",
       "      <th>QNEIGETOTAB</th>\n",
       "      <th>NEIGETOTABDAT</th>\n",
       "      <th>NBJNEIGETOT1</th>\n",
       "      <th>NBJNEIGETOT10</th>\n",
       "      <th>NBJNEIGETOT30</th>\n",
       "      <th>NBJGREL</th>\n",
       "      <th>NBJORAG</th>\n",
       "      <th>NBJBROU</th>\n",
       "      <th>latitude</th>\n",
       "      <th>longitude</th>\n",
       "    </tr>\n",
       "  </thead>\n",
       "  <tbody>\n",
       "    <tr>\n",
       "      <th>0</th>\n",
       "      <td>11004001</td>\n",
       "      <td>ALAIGNE</td>\n",
       "      <td>43.112500</td>\n",
       "      <td>2.098333</td>\n",
       "      <td>293</td>\n",
       "      <td>1971-01-01</td>\n",
       "      <td>85.1</td>\n",
       "      <td>1.0</td>\n",
       "      <td>31.0</td>\n",
       "      <td>NaN</td>\n",
       "      <td>...</td>\n",
       "      <td>NaN</td>\n",
       "      <td>NaN</td>\n",
       "      <td>NaN</td>\n",
       "      <td>NaN</td>\n",
       "      <td>NaN</td>\n",
       "      <td>NaN</td>\n",
       "      <td>NaN</td>\n",
       "      <td>NaN</td>\n",
       "      <td>0.000043</td>\n",
       "      <td>0.000002</td>\n",
       "    </tr>\n",
       "    <tr>\n",
       "      <th>1</th>\n",
       "      <td>11004001</td>\n",
       "      <td>ALAIGNE</td>\n",
       "      <td>43.112500</td>\n",
       "      <td>2.098333</td>\n",
       "      <td>293</td>\n",
       "      <td>1971-02-01</td>\n",
       "      <td>76.7</td>\n",
       "      <td>1.0</td>\n",
       "      <td>28.0</td>\n",
       "      <td>NaN</td>\n",
       "      <td>...</td>\n",
       "      <td>NaN</td>\n",
       "      <td>NaN</td>\n",
       "      <td>NaN</td>\n",
       "      <td>NaN</td>\n",
       "      <td>NaN</td>\n",
       "      <td>NaN</td>\n",
       "      <td>NaN</td>\n",
       "      <td>NaN</td>\n",
       "      <td>0.000043</td>\n",
       "      <td>0.000002</td>\n",
       "    </tr>\n",
       "    <tr>\n",
       "      <th>2</th>\n",
       "      <td>11004001</td>\n",
       "      <td>ALAIGNE</td>\n",
       "      <td>43.112500</td>\n",
       "      <td>2.098333</td>\n",
       "      <td>293</td>\n",
       "      <td>1971-03-01</td>\n",
       "      <td>110.5</td>\n",
       "      <td>1.0</td>\n",
       "      <td>31.0</td>\n",
       "      <td>NaN</td>\n",
       "      <td>...</td>\n",
       "      <td>NaN</td>\n",
       "      <td>NaN</td>\n",
       "      <td>NaN</td>\n",
       "      <td>NaN</td>\n",
       "      <td>NaN</td>\n",
       "      <td>NaN</td>\n",
       "      <td>NaN</td>\n",
       "      <td>NaN</td>\n",
       "      <td>0.000043</td>\n",
       "      <td>0.000002</td>\n",
       "    </tr>\n",
       "    <tr>\n",
       "      <th>3</th>\n",
       "      <td>11004001</td>\n",
       "      <td>ALAIGNE</td>\n",
       "      <td>43.112500</td>\n",
       "      <td>2.098333</td>\n",
       "      <td>293</td>\n",
       "      <td>1971-04-01</td>\n",
       "      <td>55.1</td>\n",
       "      <td>1.0</td>\n",
       "      <td>30.0</td>\n",
       "      <td>NaN</td>\n",
       "      <td>...</td>\n",
       "      <td>NaN</td>\n",
       "      <td>NaN</td>\n",
       "      <td>NaN</td>\n",
       "      <td>NaN</td>\n",
       "      <td>NaN</td>\n",
       "      <td>NaN</td>\n",
       "      <td>NaN</td>\n",
       "      <td>NaN</td>\n",
       "      <td>0.000043</td>\n",
       "      <td>0.000002</td>\n",
       "    </tr>\n",
       "    <tr>\n",
       "      <th>4</th>\n",
       "      <td>11004001</td>\n",
       "      <td>ALAIGNE</td>\n",
       "      <td>43.112500</td>\n",
       "      <td>2.098333</td>\n",
       "      <td>293</td>\n",
       "      <td>1971-05-01</td>\n",
       "      <td>62.7</td>\n",
       "      <td>1.0</td>\n",
       "      <td>31.0</td>\n",
       "      <td>NaN</td>\n",
       "      <td>...</td>\n",
       "      <td>NaN</td>\n",
       "      <td>NaN</td>\n",
       "      <td>NaN</td>\n",
       "      <td>NaN</td>\n",
       "      <td>NaN</td>\n",
       "      <td>NaN</td>\n",
       "      <td>NaN</td>\n",
       "      <td>NaN</td>\n",
       "      <td>0.000043</td>\n",
       "      <td>0.000002</td>\n",
       "    </tr>\n",
       "    <tr>\n",
       "      <th>...</th>\n",
       "      <td>...</td>\n",
       "      <td>...</td>\n",
       "      <td>...</td>\n",
       "      <td>...</td>\n",
       "      <td>...</td>\n",
       "      <td>...</td>\n",
       "      <td>...</td>\n",
       "      <td>...</td>\n",
       "      <td>...</td>\n",
       "      <td>...</td>\n",
       "      <td>...</td>\n",
       "      <td>...</td>\n",
       "      <td>...</td>\n",
       "      <td>...</td>\n",
       "      <td>...</td>\n",
       "      <td>...</td>\n",
       "      <td>...</td>\n",
       "      <td>...</td>\n",
       "      <td>...</td>\n",
       "      <td>...</td>\n",
       "      <td>...</td>\n",
       "    </tr>\n",
       "    <tr>\n",
       "      <th>86847</th>\n",
       "      <td>48198001</td>\n",
       "      <td>VILLEFORT</td>\n",
       "      <td>44.441667</td>\n",
       "      <td>3.928333</td>\n",
       "      <td>620</td>\n",
       "      <td>2022-08-01</td>\n",
       "      <td>57.7</td>\n",
       "      <td>1.0</td>\n",
       "      <td>31.0</td>\n",
       "      <td>NaN</td>\n",
       "      <td>...</td>\n",
       "      <td>NaN</td>\n",
       "      <td>NaN</td>\n",
       "      <td>NaN</td>\n",
       "      <td>NaN</td>\n",
       "      <td>NaN</td>\n",
       "      <td>NaN</td>\n",
       "      <td>NaN</td>\n",
       "      <td>NaN</td>\n",
       "      <td>0.000044</td>\n",
       "      <td>0.000004</td>\n",
       "    </tr>\n",
       "    <tr>\n",
       "      <th>86848</th>\n",
       "      <td>48198001</td>\n",
       "      <td>VILLEFORT</td>\n",
       "      <td>44.441667</td>\n",
       "      <td>3.928333</td>\n",
       "      <td>620</td>\n",
       "      <td>2022-09-01</td>\n",
       "      <td>90.5</td>\n",
       "      <td>1.0</td>\n",
       "      <td>30.0</td>\n",
       "      <td>NaN</td>\n",
       "      <td>...</td>\n",
       "      <td>NaN</td>\n",
       "      <td>NaN</td>\n",
       "      <td>NaN</td>\n",
       "      <td>NaN</td>\n",
       "      <td>NaN</td>\n",
       "      <td>NaN</td>\n",
       "      <td>NaN</td>\n",
       "      <td>NaN</td>\n",
       "      <td>0.000044</td>\n",
       "      <td>0.000004</td>\n",
       "    </tr>\n",
       "    <tr>\n",
       "      <th>86849</th>\n",
       "      <td>48198001</td>\n",
       "      <td>VILLEFORT</td>\n",
       "      <td>44.441667</td>\n",
       "      <td>3.928333</td>\n",
       "      <td>620</td>\n",
       "      <td>2022-10-01</td>\n",
       "      <td>164.0</td>\n",
       "      <td>1.0</td>\n",
       "      <td>31.0</td>\n",
       "      <td>NaN</td>\n",
       "      <td>...</td>\n",
       "      <td>NaN</td>\n",
       "      <td>NaN</td>\n",
       "      <td>NaN</td>\n",
       "      <td>NaN</td>\n",
       "      <td>NaN</td>\n",
       "      <td>NaN</td>\n",
       "      <td>NaN</td>\n",
       "      <td>NaN</td>\n",
       "      <td>0.000044</td>\n",
       "      <td>0.000004</td>\n",
       "    </tr>\n",
       "    <tr>\n",
       "      <th>86850</th>\n",
       "      <td>48198001</td>\n",
       "      <td>VILLEFORT</td>\n",
       "      <td>44.441667</td>\n",
       "      <td>3.928333</td>\n",
       "      <td>620</td>\n",
       "      <td>2022-11-01</td>\n",
       "      <td>118.9</td>\n",
       "      <td>1.0</td>\n",
       "      <td>30.0</td>\n",
       "      <td>NaN</td>\n",
       "      <td>...</td>\n",
       "      <td>NaN</td>\n",
       "      <td>NaN</td>\n",
       "      <td>NaN</td>\n",
       "      <td>NaN</td>\n",
       "      <td>NaN</td>\n",
       "      <td>NaN</td>\n",
       "      <td>NaN</td>\n",
       "      <td>NaN</td>\n",
       "      <td>0.000044</td>\n",
       "      <td>0.000004</td>\n",
       "    </tr>\n",
       "    <tr>\n",
       "      <th>86851</th>\n",
       "      <td>48198001</td>\n",
       "      <td>VILLEFORT</td>\n",
       "      <td>44.441667</td>\n",
       "      <td>3.928333</td>\n",
       "      <td>620</td>\n",
       "      <td>2022-12-01</td>\n",
       "      <td>173.2</td>\n",
       "      <td>1.0</td>\n",
       "      <td>31.0</td>\n",
       "      <td>NaN</td>\n",
       "      <td>...</td>\n",
       "      <td>NaN</td>\n",
       "      <td>NaN</td>\n",
       "      <td>NaN</td>\n",
       "      <td>NaN</td>\n",
       "      <td>NaN</td>\n",
       "      <td>NaN</td>\n",
       "      <td>NaN</td>\n",
       "      <td>NaN</td>\n",
       "      <td>0.000044</td>\n",
       "      <td>0.000004</td>\n",
       "    </tr>\n",
       "  </tbody>\n",
       "</table>\n",
       "<p>86852 rows × 164 columns</p>\n",
       "</div>"
      ],
      "text/plain": [
       "       NUM_POSTE  NOM_USUEL        LAT       LON  ALTI     AAAAMM     RR  QRR  \\\n",
       "0       11004001    ALAIGNE  43.112500  2.098333   293 1971-01-01   85.1  1.0   \n",
       "1       11004001    ALAIGNE  43.112500  2.098333   293 1971-02-01   76.7  1.0   \n",
       "2       11004001    ALAIGNE  43.112500  2.098333   293 1971-03-01  110.5  1.0   \n",
       "3       11004001    ALAIGNE  43.112500  2.098333   293 1971-04-01   55.1  1.0   \n",
       "4       11004001    ALAIGNE  43.112500  2.098333   293 1971-05-01   62.7  1.0   \n",
       "...          ...        ...        ...       ...   ...        ...    ...  ...   \n",
       "86847   48198001  VILLEFORT  44.441667  3.928333   620 2022-08-01   57.7  1.0   \n",
       "86848   48198001  VILLEFORT  44.441667  3.928333   620 2022-09-01   90.5  1.0   \n",
       "86849   48198001  VILLEFORT  44.441667  3.928333   620 2022-10-01  164.0  1.0   \n",
       "86850   48198001  VILLEFORT  44.441667  3.928333   620 2022-11-01  118.9  1.0   \n",
       "86851   48198001  VILLEFORT  44.441667  3.928333   620 2022-12-01  173.2  1.0   \n",
       "\n",
       "       NBRR  RR_ME  ...  QNEIGETOTAB  NEIGETOTABDAT  NBJNEIGETOT1  \\\n",
       "0      31.0    NaN  ...          NaN            NaN           NaN   \n",
       "1      28.0    NaN  ...          NaN            NaN           NaN   \n",
       "2      31.0    NaN  ...          NaN            NaN           NaN   \n",
       "3      30.0    NaN  ...          NaN            NaN           NaN   \n",
       "4      31.0    NaN  ...          NaN            NaN           NaN   \n",
       "...     ...    ...  ...          ...            ...           ...   \n",
       "86847  31.0    NaN  ...          NaN            NaN           NaN   \n",
       "86848  30.0    NaN  ...          NaN            NaN           NaN   \n",
       "86849  31.0    NaN  ...          NaN            NaN           NaN   \n",
       "86850  30.0    NaN  ...          NaN            NaN           NaN   \n",
       "86851  31.0    NaN  ...          NaN            NaN           NaN   \n",
       "\n",
       "       NBJNEIGETOT10  NBJNEIGETOT30  NBJGREL  NBJORAG  NBJBROU  latitude  \\\n",
       "0                NaN            NaN      NaN      NaN      NaN  0.000043   \n",
       "1                NaN            NaN      NaN      NaN      NaN  0.000043   \n",
       "2                NaN            NaN      NaN      NaN      NaN  0.000043   \n",
       "3                NaN            NaN      NaN      NaN      NaN  0.000043   \n",
       "4                NaN            NaN      NaN      NaN      NaN  0.000043   \n",
       "...              ...            ...      ...      ...      ...       ...   \n",
       "86847            NaN            NaN      NaN      NaN      NaN  0.000044   \n",
       "86848            NaN            NaN      NaN      NaN      NaN  0.000044   \n",
       "86849            NaN            NaN      NaN      NaN      NaN  0.000044   \n",
       "86850            NaN            NaN      NaN      NaN      NaN  0.000044   \n",
       "86851            NaN            NaN      NaN      NaN      NaN  0.000044   \n",
       "\n",
       "       longitude  \n",
       "0       0.000002  \n",
       "1       0.000002  \n",
       "2       0.000002  \n",
       "3       0.000002  \n",
       "4       0.000002  \n",
       "...          ...  \n",
       "86847   0.000004  \n",
       "86848   0.000004  \n",
       "86849   0.000004  \n",
       "86850   0.000004  \n",
       "86851   0.000004  \n",
       "\n",
       "[86852 rows x 164 columns]"
      ]
     },
     "execution_count": 50,
     "metadata": {},
     "output_type": "execute_result"
    }
   ],
   "source": [
    "df"
   ]
  },
  {
   "cell_type": "markdown",
   "metadata": {},
   "source": [
    "## Columns type"
   ]
  },
  {
   "cell_type": "code",
   "execution_count": 40,
   "metadata": {},
   "outputs": [
    {
     "name": "stdout",
     "output_type": "stream",
     "text": [
      "NUM_POSTE          int64\n",
      "NOM_USUEL         object\n",
      "LAT              float64\n",
      "LON              float64\n",
      "ALTI               int64\n",
      "                  ...   \n",
      "NBJNEIGETOT10    float64\n",
      "NBJNEIGETOT30    float64\n",
      "NBJGREL          float64\n",
      "NBJORAG          float64\n",
      "NBJBROU          float64\n",
      "Length: 162, dtype: object\n",
      "[dtype('int64') dtype('O') dtype('float64')]\n"
     ]
    }
   ],
   "source": [
    "print(df.dtypes)\n",
    "print(df.dtypes.unique())"
   ]
  },
  {
   "cell_type": "code",
   "execution_count": 41,
   "metadata": {},
   "outputs": [
    {
     "data": {
      "text/plain": [
       "Index(['NUM_POSTE', 'NOM_USUEL', 'LAT', 'LON', 'ALTI', 'AAAAMM', 'RR', 'QRR',\n",
       "       'NBRR', 'RR_ME',\n",
       "       ...\n",
       "       'QNEIGETOTM', 'NEIGETOTAB', 'QNEIGETOTAB', 'NEIGETOTABDAT',\n",
       "       'NBJNEIGETOT1', 'NBJNEIGETOT10', 'NBJNEIGETOT30', 'NBJGREL', 'NBJORAG',\n",
       "       'NBJBROU'],\n",
       "      dtype='object', length=162)"
      ]
     },
     "execution_count": 41,
     "metadata": {},
     "output_type": "execute_result"
    }
   ],
   "source": [
    "df.columns"
   ]
  },
  {
   "cell_type": "code",
   "execution_count": 49,
   "metadata": {},
   "outputs": [],
   "source": [
    "df['AAAAMM'] = pd.to_datetime(df['AAAAMM'], format='%Y%m')"
   ]
  },
  {
   "cell_type": "code",
   "execution_count": 42,
   "metadata": {},
   "outputs": [
    {
     "name": "stdout",
     "output_type": "stream",
     "text": [
      "Columns of type Object: Index(['NOM_USUEL'], dtype='object')\n"
     ]
    }
   ],
   "source": [
    "o_columns = df.select_dtypes(include=['object']).columns\n",
    "print(\"Columns of type Object:\", o_columns)"
   ]
  },
  {
   "cell_type": "code",
   "execution_count": 43,
   "metadata": {},
   "outputs": [
    {
     "data": {
      "text/plain": [
       "0          ALAIGNE\n",
       "1          ALAIGNE\n",
       "2          ALAIGNE\n",
       "3          ALAIGNE\n",
       "4          ALAIGNE\n",
       "           ...    \n",
       "86847    VILLEFORT\n",
       "86848    VILLEFORT\n",
       "86849    VILLEFORT\n",
       "86850    VILLEFORT\n",
       "86851    VILLEFORT\n",
       "Name: NOM_USUEL, Length: 86852, dtype: object"
      ]
     },
     "execution_count": 43,
     "metadata": {},
     "output_type": "execute_result"
    }
   ],
   "source": [
    "df['NOM_USUEL']"
   ]
  },
  {
   "cell_type": "code",
   "execution_count": 44,
   "metadata": {},
   "outputs": [],
   "source": [
    "## convert ALT, LON to GPS Coordinate"
   ]
  },
  {
   "cell_type": "code",
   "execution_count": 45,
   "metadata": {},
   "outputs": [],
   "source": [
    "df['latitude'] = df['LAT']/1_000_000\n",
    "df['longitude'] = df['LON']/1_000_000"
   ]
  },
  {
   "cell_type": "code",
   "execution_count": null,
   "metadata": {},
   "outputs": [],
   "source": [
    "## missing values"
   ]
  },
  {
   "cell_type": "code",
   "execution_count": 47,
   "metadata": {},
   "outputs": [
    {
     "name": "stdout",
     "output_type": "stream",
     "text": [
      "           Missing Values  Percentage\n",
      "NUM_POSTE               0    0.000000\n",
      "NOM_USUEL               0    0.000000\n",
      "LAT                     0    0.000000\n",
      "LON                     0    0.000000\n",
      "ALTI                    0    0.000000\n",
      "...                   ...         ...\n",
      "NBJGREL             78409   90.278865\n",
      "NBJORAG             53238   61.297379\n",
      "NBJBROU             53819   61.966334\n",
      "latitude                0    0.000000\n",
      "longitude               0    0.000000\n",
      "\n",
      "[164 rows x 2 columns]\n"
     ]
    }
   ],
   "source": [
    "\n",
    "# Assuming df is your DataFrame\n",
    "missing_values_count = df.isnull().sum()\n",
    "missing_values_percentage = (df.isnull().sum() / len(df)) * 100\n",
    "\n",
    "# Combine the counts and percentages into a single DataFrame\n",
    "missing_data = pd.DataFrame({'Missing Values': missing_values_count, 'Percentage': missing_values_percentage})\n",
    "\n",
    "print(missing_data)"
   ]
  },
  {
   "cell_type": "code",
   "execution_count": 48,
   "metadata": {},
   "outputs": [],
   "source": [
    "missing_data.to_csv('missing_data.csv', index=True)"
   ]
  },
  {
   "cell_type": "code",
   "execution_count": 51,
   "metadata": {},
   "outputs": [],
   "source": [
    "# Filter rows with year between 2010 and 2022\n",
    "filtered_df = df[(df['AAAAMM'].dt.year >= 2010) & (df['AAAAMM'].dt.year <= 2022)]"
   ]
  },
  {
   "cell_type": "code",
   "execution_count": 54,
   "metadata": {},
   "outputs": [
    {
     "name": "stdout",
     "output_type": "stream",
     "text": [
      "           Missing Values  Percentage\n",
      "NUM_POSTE               0    0.000000\n",
      "NOM_USUEL               0    0.000000\n",
      "LAT                     0    0.000000\n",
      "LON                     0    0.000000\n",
      "ALTI                    0    0.000000\n",
      "...                   ...         ...\n",
      "NBJGREL             12450   93.926820\n",
      "NBJORAG              9102   68.668427\n",
      "NBJBROU              9546   72.018106\n",
      "latitude                0    0.000000\n",
      "longitude               0    0.000000\n",
      "\n",
      "[164 rows x 2 columns]\n"
     ]
    }
   ],
   "source": [
    "\n",
    "# Assuming df is your DataFrame\n",
    "missing_values_count = filtered_df.isnull().sum()\n",
    "missing_values_percentage = (filtered_df.isnull().sum() / len(filtered_df)) * 100\n",
    "\n",
    "# Combine the counts and percentages into a single DataFrame\n",
    "missing_data = pd.DataFrame({'Missing Values': missing_values_count, 'Percentage': missing_values_percentage})\n",
    "\n",
    "print(missing_data)"
   ]
  },
  {
   "cell_type": "code",
   "execution_count": null,
   "metadata": {},
   "outputs": [],
   "source": []
  },
  {
   "cell_type": "code",
   "execution_count": 55,
   "metadata": {},
   "outputs": [],
   "source": [
    "missing_data.to_csv('missing_data_2010-2022.csv', index=True)"
   ]
  },
  {
   "cell_type": "code",
   "execution_count": 56,
   "metadata": {},
   "outputs": [
    {
     "data": {
      "text/plain": [
       "count    86110.000000\n",
       "mean         1.117025\n",
       "std          0.960639\n",
       "min          0.000000\n",
       "25%          1.000000\n",
       "50%          1.000000\n",
       "75%          1.000000\n",
       "max          9.000000\n",
       "Name: QRR, dtype: float64"
      ]
     },
     "execution_count": 56,
     "metadata": {},
     "output_type": "execute_result"
    }
   ],
   "source": [
    "df['QRR'].describe()"
   ]
  },
  {
   "cell_type": "code",
   "execution_count": 57,
   "metadata": {},
   "outputs": [
    {
     "data": {
      "text/plain": [
       "QRR\n",
       "1.0    84847\n",
       "9.0     1260\n",
       "0.0        3\n",
       "Name: count, dtype: int64"
      ]
     },
     "execution_count": 57,
     "metadata": {},
     "output_type": "execute_result"
    }
   ],
   "source": [
    "df['QRR'].value_counts()"
   ]
  }
 ],
 "metadata": {
  "kernelspec": {
   "display_name": "base",
   "language": "python",
   "name": "python3"
  },
  "language_info": {
   "codemirror_mode": {
    "name": "ipython",
    "version": 3
   },
   "file_extension": ".py",
   "mimetype": "text/x-python",
   "name": "python",
   "nbconvert_exporter": "python",
   "pygments_lexer": "ipython3",
   "version": "3.12.3"
  }
 },
 "nbformat": 4,
 "nbformat_minor": 2
}
