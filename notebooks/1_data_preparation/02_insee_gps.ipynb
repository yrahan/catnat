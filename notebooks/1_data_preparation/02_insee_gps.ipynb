{
 "cells": [
  {
   "cell_type": "markdown",
   "metadata": {},
   "source": [
    "# <p style=\"text-align: center;\">Insee GPS</p>"
   ]
  },
  {
   "cell_type": "markdown",
   "metadata": {},
   "source": [
    "## Import libraries"
   ]
  },
  {
   "cell_type": "code",
   "execution_count": 1,
   "metadata": {},
   "outputs": [],
   "source": [
    "import pandas as pd\n",
    "import numpy as np\n",
    "\n",
    "import glob\n",
    "import os\n",
    "\n",
    "import requests\n",
    "\n",
    "import seaborn as sns\n",
    "import matplotlib.pyplot as plt\n",
    "import plotly.express as px"
   ]
  },
  {
   "cell_type": "markdown",
   "metadata": {},
   "source": [
    "## Set parameters"
   ]
  },
  {
   "cell_type": "code",
   "execution_count": 32,
   "metadata": {},
   "outputs": [],
   "source": [
    "decree_filename_base = 'arrete_'\n",
    "decrees_folder_name = './../../data/raw/decrees'\n",
    "communes_folder_name = './../../data/raw/opendatasoft'\n",
    "processed_data_folder_name = './../../data/processed'\n",
    "decrees_filename = 'decrees.parquet'\n",
    "communes_csv_filename = 'correspondance-code-insee-code-postal.csv'"
   ]
  },
  {
   "cell_type": "markdown",
   "metadata": {},
   "source": [
    "## Import Decrees"
   ]
  },
  {
   "cell_type": "code",
   "execution_count": 21,
   "metadata": {},
   "outputs": [],
   "source": [
    "\n",
    "\n",
    "df = pd.read_parquet(os.path.join(processed_data_folder_name, decrees_filename))"
   ]
  },
  {
   "cell_type": "code",
   "execution_count": 22,
   "metadata": {},
   "outputs": [
    {
     "data": {
      "text/plain": [
       "insee               0\n",
       "nom_commune         0\n",
       "debut_evenement     0\n",
       "fin_evenement       0\n",
       "date_arrete         0\n",
       "date_parution_jo    0\n",
       "nom_peril           0\n",
       "code_peril          0\n",
       "franchise           0\n",
       "code_nor            0\n",
       "decision            0\n",
       "dtype: int64"
      ]
     },
     "execution_count": 22,
     "metadata": {},
     "output_type": "execute_result"
    }
   ],
   "source": [
    "df.isna().sum() "
   ]
  },
  {
   "cell_type": "code",
   "execution_count": 5,
   "metadata": {},
   "outputs": [
    {
     "data": {
      "text/html": [
       "<div>\n",
       "<style scoped>\n",
       "    .dataframe tbody tr th:only-of-type {\n",
       "        vertical-align: middle;\n",
       "    }\n",
       "\n",
       "    .dataframe tbody tr th {\n",
       "        vertical-align: top;\n",
       "    }\n",
       "\n",
       "    .dataframe thead th {\n",
       "        text-align: right;\n",
       "    }\n",
       "</style>\n",
       "<table border=\"1\" class=\"dataframe\">\n",
       "  <thead>\n",
       "    <tr style=\"text-align: right;\">\n",
       "      <th></th>\n",
       "      <th>insee</th>\n",
       "      <th>nom_commune</th>\n",
       "      <th>debut_evenement</th>\n",
       "      <th>fin_evenement</th>\n",
       "      <th>date_arrete</th>\n",
       "      <th>date_parution_jo</th>\n",
       "      <th>nom_peril</th>\n",
       "      <th>code_peril</th>\n",
       "      <th>franchise</th>\n",
       "      <th>code_nor</th>\n",
       "      <th>decision</th>\n",
       "    </tr>\n",
       "  </thead>\n",
       "  <tbody>\n",
       "    <tr>\n",
       "      <th>43661</th>\n",
       "      <td>5063</td>\n",
       "      <td>LA GRAVE</td>\n",
       "      <td>2001-03-19</td>\n",
       "      <td>2001-03-25</td>\n",
       "      <td>2001-11-15</td>\n",
       "      <td>2001-12-01</td>\n",
       "      <td>Mouvement de Terrain</td>\n",
       "      <td>MVT</td>\n",
       "      <td>Simple</td>\n",
       "      <td>INTE0100649A</td>\n",
       "      <td>Reconnue</td>\n",
       "    </tr>\n",
       "    <tr>\n",
       "      <th>43662</th>\n",
       "      <td>5128</td>\n",
       "      <td>SAINT ANDRE D EMBRUN</td>\n",
       "      <td>2001-03-29</td>\n",
       "      <td>2001-03-29</td>\n",
       "      <td>2001-11-15</td>\n",
       "      <td>2001-12-01</td>\n",
       "      <td>Mouvement de Terrain</td>\n",
       "      <td>MVT</td>\n",
       "      <td>Simple</td>\n",
       "      <td>INTE0100649A</td>\n",
       "      <td>Reconnue</td>\n",
       "    </tr>\n",
       "    <tr>\n",
       "      <th>43663</th>\n",
       "      <td>6031</td>\n",
       "      <td>CANTARON</td>\n",
       "      <td>2000-11-23</td>\n",
       "      <td>2000-11-24</td>\n",
       "      <td>2001-11-15</td>\n",
       "      <td>2001-12-01</td>\n",
       "      <td>Mouvement de Terrain</td>\n",
       "      <td>MVT</td>\n",
       "      <td>Simple</td>\n",
       "      <td>INTE0100649A</td>\n",
       "      <td>Reconnue</td>\n",
       "    </tr>\n",
       "    <tr>\n",
       "      <th>43664</th>\n",
       "      <td>6031</td>\n",
       "      <td>CANTARON</td>\n",
       "      <td>2000-11-23</td>\n",
       "      <td>2000-11-24</td>\n",
       "      <td>2001-11-15</td>\n",
       "      <td>2001-12-01</td>\n",
       "      <td>Inondations et/ou Coulées de Boue</td>\n",
       "      <td>ICB</td>\n",
       "      <td>Simple</td>\n",
       "      <td>INTE0100649A</td>\n",
       "      <td>Reconnue</td>\n",
       "    </tr>\n",
       "    <tr>\n",
       "      <th>43665</th>\n",
       "      <td>6057</td>\n",
       "      <td>L'ESCARENE</td>\n",
       "      <td>2000-10-30</td>\n",
       "      <td>2000-10-31</td>\n",
       "      <td>2001-11-15</td>\n",
       "      <td>2001-12-01</td>\n",
       "      <td>Mouvement de Terrain</td>\n",
       "      <td>MVT</td>\n",
       "      <td>Simple</td>\n",
       "      <td>INTE0100649A</td>\n",
       "      <td>Reconnue</td>\n",
       "    </tr>\n",
       "  </tbody>\n",
       "</table>\n",
       "</div>"
      ],
      "text/plain": [
       "      insee           nom_commune debut_evenement fin_evenement date_arrete  \\\n",
       "43661  5063              LA GRAVE      2001-03-19    2001-03-25  2001-11-15   \n",
       "43662  5128  SAINT ANDRE D EMBRUN      2001-03-29    2001-03-29  2001-11-15   \n",
       "43663  6031              CANTARON      2000-11-23    2000-11-24  2001-11-15   \n",
       "43664  6031              CANTARON      2000-11-23    2000-11-24  2001-11-15   \n",
       "43665  6057            L'ESCARENE      2000-10-30    2000-10-31  2001-11-15   \n",
       "\n",
       "      date_parution_jo                          nom_peril code_peril  \\\n",
       "43661       2001-12-01               Mouvement de Terrain        MVT   \n",
       "43662       2001-12-01               Mouvement de Terrain        MVT   \n",
       "43663       2001-12-01               Mouvement de Terrain        MVT   \n",
       "43664       2001-12-01  Inondations et/ou Coulées de Boue        ICB   \n",
       "43665       2001-12-01               Mouvement de Terrain        MVT   \n",
       "\n",
       "      franchise      code_nor  decision  \n",
       "43661    Simple  INTE0100649A  Reconnue  \n",
       "43662    Simple  INTE0100649A  Reconnue  \n",
       "43663    Simple  INTE0100649A  Reconnue  \n",
       "43664    Simple  INTE0100649A  Reconnue  \n",
       "43665    Simple  INTE0100649A  Reconnue  "
      ]
     },
     "execution_count": 5,
     "metadata": {},
     "output_type": "execute_result"
    }
   ],
   "source": [
    "df.head()"
   ]
  },
  {
   "cell_type": "markdown",
   "metadata": {},
   "source": [
    "## Get Insee gps coodinates of communes."
   ]
  },
  {
   "cell_type": "code",
   "execution_count": 6,
   "metadata": {},
   "outputs": [
    {
     "data": {
      "text/plain": [
       "decision\n",
       "Reconnue                                   130517\n",
       "Reconnue(sans impact sur la modulation)     65206\n",
       "Non reconnue                                39739\n",
       "Name: count, dtype: int64"
      ]
     },
     "execution_count": 6,
     "metadata": {},
     "output_type": "execute_result"
    }
   ],
   "source": [
    "df['decision'].value_counts()"
   ]
  },
  {
   "cell_type": "code",
   "execution_count": 7,
   "metadata": {},
   "outputs": [],
   "source": [
    "def get_coordinates_from_insee_api(insee_code):\n",
    "    url = f\"https://api-adresse.data.gouv.fr/search/?q={insee_code}&limit=1\"\n",
    "    response = requests.get(url)\n",
    "    data = response.json()\n",
    "    if data['features']:\n",
    "        coordinates = data['features'][0]['geometry']['coordinates']\n",
    "        return coordinates[1], coordinates[0]  # Retourne (latitude, longitude)\n",
    "    else:\n",
    "        return None, None  # Retourne None si le code INSEE est invalide\n",
    "\n"
   ]
  },
  {
   "cell_type": "code",
   "execution_count": 8,
   "metadata": {},
   "outputs": [
    {
     "name": "stdout",
     "output_type": "stream",
     "text": [
      "Latitude: 48.867945, Longitude: 2.326594\n"
     ]
    }
   ],
   "source": [
    "# Test de la fonction\n",
    "latitude, longitude = get_coordinates_from_insee_api('75101')\n",
    "print(f\"Latitude: {latitude}, Longitude: {longitude}\")"
   ]
  },
  {
   "cell_type": "code",
   "execution_count": 9,
   "metadata": {},
   "outputs": [],
   "source": [
    "# Récupérer les codes INSEE uniques\n",
    "unique_insee_codes = df['insee'].unique()"
   ]
  },
  {
   "cell_type": "code",
   "execution_count": 10,
   "metadata": {},
   "outputs": [
    {
     "data": {
      "text/plain": [
       "array(['5063', '5128', '6031', '6057', '6113', '6157', '9138', '9160',\n",
       "       '9282', '12018'], dtype=object)"
      ]
     },
     "execution_count": 10,
     "metadata": {},
     "output_type": "execute_result"
    }
   ],
   "source": [
    "unique_insee_codes[:10]"
   ]
  },
  {
   "cell_type": "code",
   "execution_count": 15,
   "metadata": {},
   "outputs": [
    {
     "data": {
      "text/html": [
       "<div>\n",
       "<style scoped>\n",
       "    .dataframe tbody tr th:only-of-type {\n",
       "        vertical-align: middle;\n",
       "    }\n",
       "\n",
       "    .dataframe tbody tr th {\n",
       "        vertical-align: top;\n",
       "    }\n",
       "\n",
       "    .dataframe thead th {\n",
       "        text-align: right;\n",
       "    }\n",
       "</style>\n",
       "<table border=\"1\" class=\"dataframe\">\n",
       "  <thead>\n",
       "    <tr style=\"text-align: right;\">\n",
       "      <th></th>\n",
       "      <th>insee</th>\n",
       "      <th>nom_commune</th>\n",
       "      <th>debut_evenement</th>\n",
       "      <th>fin_evenement</th>\n",
       "      <th>date_arrete</th>\n",
       "      <th>date_parution_jo</th>\n",
       "      <th>nom_peril</th>\n",
       "      <th>code_peril</th>\n",
       "      <th>franchise</th>\n",
       "      <th>code_nor</th>\n",
       "      <th>decision</th>\n",
       "    </tr>\n",
       "  </thead>\n",
       "  <tbody>\n",
       "    <tr>\n",
       "      <th>43661</th>\n",
       "      <td>5063</td>\n",
       "      <td>LA GRAVE</td>\n",
       "      <td>2001-03-19</td>\n",
       "      <td>2001-03-25</td>\n",
       "      <td>2001-11-15</td>\n",
       "      <td>2001-12-01</td>\n",
       "      <td>Mouvement de Terrain</td>\n",
       "      <td>MVT</td>\n",
       "      <td>Simple</td>\n",
       "      <td>INTE0100649A</td>\n",
       "      <td>Reconnue</td>\n",
       "    </tr>\n",
       "    <tr>\n",
       "      <th>43662</th>\n",
       "      <td>5128</td>\n",
       "      <td>SAINT ANDRE D EMBRUN</td>\n",
       "      <td>2001-03-29</td>\n",
       "      <td>2001-03-29</td>\n",
       "      <td>2001-11-15</td>\n",
       "      <td>2001-12-01</td>\n",
       "      <td>Mouvement de Terrain</td>\n",
       "      <td>MVT</td>\n",
       "      <td>Simple</td>\n",
       "      <td>INTE0100649A</td>\n",
       "      <td>Reconnue</td>\n",
       "    </tr>\n",
       "    <tr>\n",
       "      <th>43663</th>\n",
       "      <td>6031</td>\n",
       "      <td>CANTARON</td>\n",
       "      <td>2000-11-23</td>\n",
       "      <td>2000-11-24</td>\n",
       "      <td>2001-11-15</td>\n",
       "      <td>2001-12-01</td>\n",
       "      <td>Mouvement de Terrain</td>\n",
       "      <td>MVT</td>\n",
       "      <td>Simple</td>\n",
       "      <td>INTE0100649A</td>\n",
       "      <td>Reconnue</td>\n",
       "    </tr>\n",
       "    <tr>\n",
       "      <th>43664</th>\n",
       "      <td>6031</td>\n",
       "      <td>CANTARON</td>\n",
       "      <td>2000-11-23</td>\n",
       "      <td>2000-11-24</td>\n",
       "      <td>2001-11-15</td>\n",
       "      <td>2001-12-01</td>\n",
       "      <td>Inondations et/ou Coulées de Boue</td>\n",
       "      <td>ICB</td>\n",
       "      <td>Simple</td>\n",
       "      <td>INTE0100649A</td>\n",
       "      <td>Reconnue</td>\n",
       "    </tr>\n",
       "    <tr>\n",
       "      <th>43665</th>\n",
       "      <td>6057</td>\n",
       "      <td>L'ESCARENE</td>\n",
       "      <td>2000-10-30</td>\n",
       "      <td>2000-10-31</td>\n",
       "      <td>2001-11-15</td>\n",
       "      <td>2001-12-01</td>\n",
       "      <td>Mouvement de Terrain</td>\n",
       "      <td>MVT</td>\n",
       "      <td>Simple</td>\n",
       "      <td>INTE0100649A</td>\n",
       "      <td>Reconnue</td>\n",
       "    </tr>\n",
       "    <tr>\n",
       "      <th>...</th>\n",
       "      <td>...</td>\n",
       "      <td>...</td>\n",
       "      <td>...</td>\n",
       "      <td>...</td>\n",
       "      <td>...</td>\n",
       "      <td>...</td>\n",
       "      <td>...</td>\n",
       "      <td>...</td>\n",
       "      <td>...</td>\n",
       "      <td>...</td>\n",
       "      <td>...</td>\n",
       "    </tr>\n",
       "    <tr>\n",
       "      <th>280642</th>\n",
       "      <td>6157</td>\n",
       "      <td>VENCE</td>\n",
       "      <td>2017-06-21</td>\n",
       "      <td>2017-12-31</td>\n",
       "      <td>2023-07-21</td>\n",
       "      <td>2023-09-08</td>\n",
       "      <td>Sécheresse</td>\n",
       "      <td>SEC</td>\n",
       "      <td>-</td>\n",
       "      <td>IOME2313528A</td>\n",
       "      <td>Non reconnue</td>\n",
       "    </tr>\n",
       "    <tr>\n",
       "      <th>280676</th>\n",
       "      <td>9138</td>\n",
       "      <td>L'HERM</td>\n",
       "      <td>2022-07-01</td>\n",
       "      <td>2022-09-30</td>\n",
       "      <td>2023-07-21</td>\n",
       "      <td>2023-09-08</td>\n",
       "      <td>Sécheresse</td>\n",
       "      <td>SEC</td>\n",
       "      <td>Simple</td>\n",
       "      <td>IOME2313528A</td>\n",
       "      <td>Reconnue</td>\n",
       "    </tr>\n",
       "    <tr>\n",
       "      <th>280679</th>\n",
       "      <td>9160</td>\n",
       "      <td>LAVELANET</td>\n",
       "      <td>2022-07-01</td>\n",
       "      <td>2022-09-30</td>\n",
       "      <td>2023-07-21</td>\n",
       "      <td>2023-09-08</td>\n",
       "      <td>Sécheresse</td>\n",
       "      <td>SEC</td>\n",
       "      <td>Simple</td>\n",
       "      <td>IOME2313528A</td>\n",
       "      <td>Reconnue</td>\n",
       "    </tr>\n",
       "    <tr>\n",
       "      <th>288294</th>\n",
       "      <td>5063</td>\n",
       "      <td>LA GRAVE</td>\n",
       "      <td>2023-12-10</td>\n",
       "      <td>2023-12-12</td>\n",
       "      <td>2024-02-12</td>\n",
       "      <td>2024-02-23</td>\n",
       "      <td>Inondations et/ou Coulées de Boue</td>\n",
       "      <td>ICB</td>\n",
       "      <td>Simple</td>\n",
       "      <td>IOME2403657A</td>\n",
       "      <td>Reconnue</td>\n",
       "    </tr>\n",
       "    <tr>\n",
       "      <th>288386</th>\n",
       "      <td>6057</td>\n",
       "      <td>L'ESCARENE</td>\n",
       "      <td>2022-01-01</td>\n",
       "      <td>2022-09-30</td>\n",
       "      <td>2024-02-13</td>\n",
       "      <td>2024-02-24</td>\n",
       "      <td>Sécheresse</td>\n",
       "      <td>SEC</td>\n",
       "      <td>Simple</td>\n",
       "      <td>IOME2403659A</td>\n",
       "      <td>Reconnue</td>\n",
       "    </tr>\n",
       "  </tbody>\n",
       "</table>\n",
       "<p>84 rows × 11 columns</p>\n",
       "</div>"
      ],
      "text/plain": [
       "       insee           nom_commune debut_evenement fin_evenement date_arrete  \\\n",
       "43661   5063              LA GRAVE      2001-03-19    2001-03-25  2001-11-15   \n",
       "43662   5128  SAINT ANDRE D EMBRUN      2001-03-29    2001-03-29  2001-11-15   \n",
       "43663   6031              CANTARON      2000-11-23    2000-11-24  2001-11-15   \n",
       "43664   6031              CANTARON      2000-11-23    2000-11-24  2001-11-15   \n",
       "43665   6057            L'ESCARENE      2000-10-30    2000-10-31  2001-11-15   \n",
       "...      ...                   ...             ...           ...         ...   \n",
       "280642  6157                 VENCE      2017-06-21    2017-12-31  2023-07-21   \n",
       "280676  9138                L'HERM      2022-07-01    2022-09-30  2023-07-21   \n",
       "280679  9160             LAVELANET      2022-07-01    2022-09-30  2023-07-21   \n",
       "288294  5063              LA GRAVE      2023-12-10    2023-12-12  2024-02-12   \n",
       "288386  6057            L'ESCARENE      2022-01-01    2022-09-30  2024-02-13   \n",
       "\n",
       "       date_parution_jo                          nom_peril code_peril  \\\n",
       "43661        2001-12-01               Mouvement de Terrain        MVT   \n",
       "43662        2001-12-01               Mouvement de Terrain        MVT   \n",
       "43663        2001-12-01               Mouvement de Terrain        MVT   \n",
       "43664        2001-12-01  Inondations et/ou Coulées de Boue        ICB   \n",
       "43665        2001-12-01               Mouvement de Terrain        MVT   \n",
       "...                 ...                                ...        ...   \n",
       "280642       2023-09-08                         Sécheresse        SEC   \n",
       "280676       2023-09-08                         Sécheresse        SEC   \n",
       "280679       2023-09-08                         Sécheresse        SEC   \n",
       "288294       2024-02-23  Inondations et/ou Coulées de Boue        ICB   \n",
       "288386       2024-02-24                         Sécheresse        SEC   \n",
       "\n",
       "       franchise      code_nor      decision  \n",
       "43661     Simple  INTE0100649A      Reconnue  \n",
       "43662     Simple  INTE0100649A      Reconnue  \n",
       "43663     Simple  INTE0100649A      Reconnue  \n",
       "43664     Simple  INTE0100649A      Reconnue  \n",
       "43665     Simple  INTE0100649A      Reconnue  \n",
       "...          ...           ...           ...  \n",
       "280642         -  IOME2313528A  Non reconnue  \n",
       "280676    Simple  IOME2313528A      Reconnue  \n",
       "280679    Simple  IOME2313528A      Reconnue  \n",
       "288294    Simple  IOME2403657A      Reconnue  \n",
       "288386    Simple  IOME2403659A      Reconnue  \n",
       "\n",
       "[84 rows x 11 columns]"
      ]
     },
     "execution_count": 15,
     "metadata": {},
     "output_type": "execute_result"
    }
   ],
   "source": [
    "df[df['insee'].isin(['5063', '5128', '6031', '6057', '6113', '6157', '9138', '9160',\n",
    "       '9282', '12018'])]"
   ]
  },
  {
   "cell_type": "code",
   "execution_count": 11,
   "metadata": {},
   "outputs": [
    {
     "data": {
      "text/plain": [
       "37496"
      ]
     },
     "execution_count": 11,
     "metadata": {},
     "output_type": "execute_result"
    }
   ],
   "source": [
    "len(unique_insee_codes)"
   ]
  },
  {
   "cell_type": "code",
   "execution_count": 12,
   "metadata": {},
   "outputs": [],
   "source": [
    "# Obtenir les coordonnées pour chaque code INSEE unique\n",
    "coordinates_dict = {code: get_coordinates_from_insee_api(code) for code in unique_insee_codes[:10]}"
   ]
  },
  {
   "cell_type": "code",
   "execution_count": 13,
   "metadata": {},
   "outputs": [
    {
     "data": {
      "text/plain": [
       "{'5063': (None, None),\n",
       " '5128': (None, None),\n",
       " '6031': (None, None),\n",
       " '6057': (None, None),\n",
       " '6113': (None, None),\n",
       " '6157': (None, None),\n",
       " '9138': (None, None),\n",
       " '9160': (None, None),\n",
       " '9282': (None, None),\n",
       " '12018': (None, None)}"
      ]
     },
     "execution_count": 13,
     "metadata": {},
     "output_type": "execute_result"
    }
   ],
   "source": [
    "coordinates_dict"
   ]
  },
  {
   "cell_type": "code",
   "execution_count": 9,
   "metadata": {},
   "outputs": [
    {
     "ename": "KeyError",
     "evalue": "'features'",
     "output_type": "error",
     "traceback": [
      "\u001b[0;31m---------------------------------------------------------------------------\u001b[0m",
      "\u001b[0;31mKeyError\u001b[0m                                  Traceback (most recent call last)",
      "Cell \u001b[0;32mIn[9], line 2\u001b[0m\n\u001b[1;32m      1\u001b[0m \u001b[38;5;66;03m# Ajout des colonnes latitude et longitude\u001b[39;00m\n\u001b[0;32m----> 2\u001b[0m df[\u001b[38;5;124m'\u001b[39m\u001b[38;5;124mlatitude\u001b[39m\u001b[38;5;124m'\u001b[39m] \u001b[38;5;241m=\u001b[39m \u001b[43mdf\u001b[49m\u001b[43m[\u001b[49m\u001b[38;5;124;43m'\u001b[39;49m\u001b[38;5;124;43minsee\u001b[39;49m\u001b[38;5;124;43m'\u001b[39;49m\u001b[43m]\u001b[49m\u001b[38;5;241;43m.\u001b[39;49m\u001b[43mapply\u001b[49m\u001b[43m(\u001b[49m\u001b[38;5;28;43;01mlambda\u001b[39;49;00m\u001b[43m \u001b[49m\u001b[43mx\u001b[49m\u001b[43m:\u001b[49m\u001b[43m \u001b[49m\u001b[43mget_coordinates_from_insee_api\u001b[49m\u001b[43m(\u001b[49m\u001b[43mx\u001b[49m\u001b[43m)\u001b[49m\u001b[43m[\u001b[49m\u001b[38;5;241;43m0\u001b[39;49m\u001b[43m]\u001b[49m\u001b[43m)\u001b[49m\n\u001b[1;32m      3\u001b[0m df[\u001b[38;5;124m'\u001b[39m\u001b[38;5;124mlongitude\u001b[39m\u001b[38;5;124m'\u001b[39m] \u001b[38;5;241m=\u001b[39m df[\u001b[38;5;124m'\u001b[39m\u001b[38;5;124minsee\u001b[39m\u001b[38;5;124m'\u001b[39m]\u001b[38;5;241m.\u001b[39mapply(\u001b[38;5;28;01mlambda\u001b[39;00m x: get_coordinates_from_insee_api(x)[\u001b[38;5;241m1\u001b[39m])\n",
      "File \u001b[0;32m/opt/mamba/lib/python3.12/site-packages/pandas/core/series.py:4924\u001b[0m, in \u001b[0;36mSeries.apply\u001b[0;34m(self, func, convert_dtype, args, by_row, **kwargs)\u001b[0m\n\u001b[1;32m   4789\u001b[0m \u001b[38;5;28;01mdef\u001b[39;00m \u001b[38;5;21mapply\u001b[39m(\n\u001b[1;32m   4790\u001b[0m     \u001b[38;5;28mself\u001b[39m,\n\u001b[1;32m   4791\u001b[0m     func: AggFuncType,\n\u001b[0;32m   (...)\u001b[0m\n\u001b[1;32m   4796\u001b[0m     \u001b[38;5;241m*\u001b[39m\u001b[38;5;241m*\u001b[39mkwargs,\n\u001b[1;32m   4797\u001b[0m ) \u001b[38;5;241m-\u001b[39m\u001b[38;5;241m>\u001b[39m DataFrame \u001b[38;5;241m|\u001b[39m Series:\n\u001b[1;32m   4798\u001b[0m \u001b[38;5;250m    \u001b[39m\u001b[38;5;124;03m\"\"\"\u001b[39;00m\n\u001b[1;32m   4799\u001b[0m \u001b[38;5;124;03m    Invoke function on values of Series.\u001b[39;00m\n\u001b[1;32m   4800\u001b[0m \n\u001b[0;32m   (...)\u001b[0m\n\u001b[1;32m   4915\u001b[0m \u001b[38;5;124;03m    dtype: float64\u001b[39;00m\n\u001b[1;32m   4916\u001b[0m \u001b[38;5;124;03m    \"\"\"\u001b[39;00m\n\u001b[1;32m   4917\u001b[0m     \u001b[38;5;28;01mreturn\u001b[39;00m \u001b[43mSeriesApply\u001b[49m\u001b[43m(\u001b[49m\n\u001b[1;32m   4918\u001b[0m \u001b[43m        \u001b[49m\u001b[38;5;28;43mself\u001b[39;49m\u001b[43m,\u001b[49m\n\u001b[1;32m   4919\u001b[0m \u001b[43m        \u001b[49m\u001b[43mfunc\u001b[49m\u001b[43m,\u001b[49m\n\u001b[1;32m   4920\u001b[0m \u001b[43m        \u001b[49m\u001b[43mconvert_dtype\u001b[49m\u001b[38;5;241;43m=\u001b[39;49m\u001b[43mconvert_dtype\u001b[49m\u001b[43m,\u001b[49m\n\u001b[1;32m   4921\u001b[0m \u001b[43m        \u001b[49m\u001b[43mby_row\u001b[49m\u001b[38;5;241;43m=\u001b[39;49m\u001b[43mby_row\u001b[49m\u001b[43m,\u001b[49m\n\u001b[1;32m   4922\u001b[0m \u001b[43m        \u001b[49m\u001b[43margs\u001b[49m\u001b[38;5;241;43m=\u001b[39;49m\u001b[43margs\u001b[49m\u001b[43m,\u001b[49m\n\u001b[1;32m   4923\u001b[0m \u001b[43m        \u001b[49m\u001b[43mkwargs\u001b[49m\u001b[38;5;241;43m=\u001b[39;49m\u001b[43mkwargs\u001b[49m\u001b[43m,\u001b[49m\n\u001b[0;32m-> 4924\u001b[0m \u001b[43m    \u001b[49m\u001b[43m)\u001b[49m\u001b[38;5;241;43m.\u001b[39;49m\u001b[43mapply\u001b[49m\u001b[43m(\u001b[49m\u001b[43m)\u001b[49m\n",
      "File \u001b[0;32m/opt/mamba/lib/python3.12/site-packages/pandas/core/apply.py:1427\u001b[0m, in \u001b[0;36mSeriesApply.apply\u001b[0;34m(self)\u001b[0m\n\u001b[1;32m   1424\u001b[0m     \u001b[38;5;28;01mreturn\u001b[39;00m \u001b[38;5;28mself\u001b[39m\u001b[38;5;241m.\u001b[39mapply_compat()\n\u001b[1;32m   1426\u001b[0m \u001b[38;5;66;03m# self.func is Callable\u001b[39;00m\n\u001b[0;32m-> 1427\u001b[0m \u001b[38;5;28;01mreturn\u001b[39;00m \u001b[38;5;28;43mself\u001b[39;49m\u001b[38;5;241;43m.\u001b[39;49m\u001b[43mapply_standard\u001b[49m\u001b[43m(\u001b[49m\u001b[43m)\u001b[49m\n",
      "File \u001b[0;32m/opt/mamba/lib/python3.12/site-packages/pandas/core/apply.py:1507\u001b[0m, in \u001b[0;36mSeriesApply.apply_standard\u001b[0;34m(self)\u001b[0m\n\u001b[1;32m   1501\u001b[0m \u001b[38;5;66;03m# row-wise access\u001b[39;00m\n\u001b[1;32m   1502\u001b[0m \u001b[38;5;66;03m# apply doesn't have a `na_action` keyword and for backward compat reasons\u001b[39;00m\n\u001b[1;32m   1503\u001b[0m \u001b[38;5;66;03m# we need to give `na_action=\"ignore\"` for categorical data.\u001b[39;00m\n\u001b[1;32m   1504\u001b[0m \u001b[38;5;66;03m# TODO: remove the `na_action=\"ignore\"` when that default has been changed in\u001b[39;00m\n\u001b[1;32m   1505\u001b[0m \u001b[38;5;66;03m#  Categorical (GH51645).\u001b[39;00m\n\u001b[1;32m   1506\u001b[0m action \u001b[38;5;241m=\u001b[39m \u001b[38;5;124m\"\u001b[39m\u001b[38;5;124mignore\u001b[39m\u001b[38;5;124m\"\u001b[39m \u001b[38;5;28;01mif\u001b[39;00m \u001b[38;5;28misinstance\u001b[39m(obj\u001b[38;5;241m.\u001b[39mdtype, CategoricalDtype) \u001b[38;5;28;01melse\u001b[39;00m \u001b[38;5;28;01mNone\u001b[39;00m\n\u001b[0;32m-> 1507\u001b[0m mapped \u001b[38;5;241m=\u001b[39m \u001b[43mobj\u001b[49m\u001b[38;5;241;43m.\u001b[39;49m\u001b[43m_map_values\u001b[49m\u001b[43m(\u001b[49m\n\u001b[1;32m   1508\u001b[0m \u001b[43m    \u001b[49m\u001b[43mmapper\u001b[49m\u001b[38;5;241;43m=\u001b[39;49m\u001b[43mcurried\u001b[49m\u001b[43m,\u001b[49m\u001b[43m \u001b[49m\u001b[43mna_action\u001b[49m\u001b[38;5;241;43m=\u001b[39;49m\u001b[43maction\u001b[49m\u001b[43m,\u001b[49m\u001b[43m \u001b[49m\u001b[43mconvert\u001b[49m\u001b[38;5;241;43m=\u001b[39;49m\u001b[38;5;28;43mself\u001b[39;49m\u001b[38;5;241;43m.\u001b[39;49m\u001b[43mconvert_dtype\u001b[49m\n\u001b[1;32m   1509\u001b[0m \u001b[43m\u001b[49m\u001b[43m)\u001b[49m\n\u001b[1;32m   1511\u001b[0m \u001b[38;5;28;01mif\u001b[39;00m \u001b[38;5;28mlen\u001b[39m(mapped) \u001b[38;5;129;01mand\u001b[39;00m \u001b[38;5;28misinstance\u001b[39m(mapped[\u001b[38;5;241m0\u001b[39m], ABCSeries):\n\u001b[1;32m   1512\u001b[0m     \u001b[38;5;66;03m# GH#43986 Need to do list(mapped) in order to get treated as nested\u001b[39;00m\n\u001b[1;32m   1513\u001b[0m     \u001b[38;5;66;03m#  See also GH#25959 regarding EA support\u001b[39;00m\n\u001b[1;32m   1514\u001b[0m     \u001b[38;5;28;01mreturn\u001b[39;00m obj\u001b[38;5;241m.\u001b[39m_constructor_expanddim(\u001b[38;5;28mlist\u001b[39m(mapped), index\u001b[38;5;241m=\u001b[39mobj\u001b[38;5;241m.\u001b[39mindex)\n",
      "File \u001b[0;32m/opt/mamba/lib/python3.12/site-packages/pandas/core/base.py:921\u001b[0m, in \u001b[0;36mIndexOpsMixin._map_values\u001b[0;34m(self, mapper, na_action, convert)\u001b[0m\n\u001b[1;32m    918\u001b[0m \u001b[38;5;28;01mif\u001b[39;00m \u001b[38;5;28misinstance\u001b[39m(arr, ExtensionArray):\n\u001b[1;32m    919\u001b[0m     \u001b[38;5;28;01mreturn\u001b[39;00m arr\u001b[38;5;241m.\u001b[39mmap(mapper, na_action\u001b[38;5;241m=\u001b[39mna_action)\n\u001b[0;32m--> 921\u001b[0m \u001b[38;5;28;01mreturn\u001b[39;00m \u001b[43malgorithms\u001b[49m\u001b[38;5;241;43m.\u001b[39;49m\u001b[43mmap_array\u001b[49m\u001b[43m(\u001b[49m\u001b[43marr\u001b[49m\u001b[43m,\u001b[49m\u001b[43m \u001b[49m\u001b[43mmapper\u001b[49m\u001b[43m,\u001b[49m\u001b[43m \u001b[49m\u001b[43mna_action\u001b[49m\u001b[38;5;241;43m=\u001b[39;49m\u001b[43mna_action\u001b[49m\u001b[43m,\u001b[49m\u001b[43m \u001b[49m\u001b[43mconvert\u001b[49m\u001b[38;5;241;43m=\u001b[39;49m\u001b[43mconvert\u001b[49m\u001b[43m)\u001b[49m\n",
      "File \u001b[0;32m/opt/mamba/lib/python3.12/site-packages/pandas/core/algorithms.py:1743\u001b[0m, in \u001b[0;36mmap_array\u001b[0;34m(arr, mapper, na_action, convert)\u001b[0m\n\u001b[1;32m   1741\u001b[0m values \u001b[38;5;241m=\u001b[39m arr\u001b[38;5;241m.\u001b[39mastype(\u001b[38;5;28mobject\u001b[39m, copy\u001b[38;5;241m=\u001b[39m\u001b[38;5;28;01mFalse\u001b[39;00m)\n\u001b[1;32m   1742\u001b[0m \u001b[38;5;28;01mif\u001b[39;00m na_action \u001b[38;5;129;01mis\u001b[39;00m \u001b[38;5;28;01mNone\u001b[39;00m:\n\u001b[0;32m-> 1743\u001b[0m     \u001b[38;5;28;01mreturn\u001b[39;00m \u001b[43mlib\u001b[49m\u001b[38;5;241;43m.\u001b[39;49m\u001b[43mmap_infer\u001b[49m\u001b[43m(\u001b[49m\u001b[43mvalues\u001b[49m\u001b[43m,\u001b[49m\u001b[43m \u001b[49m\u001b[43mmapper\u001b[49m\u001b[43m,\u001b[49m\u001b[43m \u001b[49m\u001b[43mconvert\u001b[49m\u001b[38;5;241;43m=\u001b[39;49m\u001b[43mconvert\u001b[49m\u001b[43m)\u001b[49m\n\u001b[1;32m   1744\u001b[0m \u001b[38;5;28;01melse\u001b[39;00m:\n\u001b[1;32m   1745\u001b[0m     \u001b[38;5;28;01mreturn\u001b[39;00m lib\u001b[38;5;241m.\u001b[39mmap_infer_mask(\n\u001b[1;32m   1746\u001b[0m         values, mapper, mask\u001b[38;5;241m=\u001b[39misna(values)\u001b[38;5;241m.\u001b[39mview(np\u001b[38;5;241m.\u001b[39muint8), convert\u001b[38;5;241m=\u001b[39mconvert\n\u001b[1;32m   1747\u001b[0m     )\n",
      "File \u001b[0;32mlib.pyx:2972\u001b[0m, in \u001b[0;36mpandas._libs.lib.map_infer\u001b[0;34m()\u001b[0m\n",
      "Cell \u001b[0;32mIn[9], line 2\u001b[0m, in \u001b[0;36m<lambda>\u001b[0;34m(x)\u001b[0m\n\u001b[1;32m      1\u001b[0m \u001b[38;5;66;03m# Ajout des colonnes latitude et longitude\u001b[39;00m\n\u001b[0;32m----> 2\u001b[0m df[\u001b[38;5;124m'\u001b[39m\u001b[38;5;124mlatitude\u001b[39m\u001b[38;5;124m'\u001b[39m] \u001b[38;5;241m=\u001b[39m df[\u001b[38;5;124m'\u001b[39m\u001b[38;5;124minsee\u001b[39m\u001b[38;5;124m'\u001b[39m]\u001b[38;5;241m.\u001b[39mapply(\u001b[38;5;28;01mlambda\u001b[39;00m x: \u001b[43mget_coordinates_from_insee_api\u001b[49m\u001b[43m(\u001b[49m\u001b[43mx\u001b[49m\u001b[43m)\u001b[49m[\u001b[38;5;241m0\u001b[39m])\n\u001b[1;32m      3\u001b[0m df[\u001b[38;5;124m'\u001b[39m\u001b[38;5;124mlongitude\u001b[39m\u001b[38;5;124m'\u001b[39m] \u001b[38;5;241m=\u001b[39m df[\u001b[38;5;124m'\u001b[39m\u001b[38;5;124minsee\u001b[39m\u001b[38;5;124m'\u001b[39m]\u001b[38;5;241m.\u001b[39mapply(\u001b[38;5;28;01mlambda\u001b[39;00m x: get_coordinates_from_insee_api(x)[\u001b[38;5;241m1\u001b[39m])\n",
      "Cell \u001b[0;32mIn[8], line 8\u001b[0m, in \u001b[0;36mget_coordinates_from_insee_api\u001b[0;34m(insee_code)\u001b[0m\n\u001b[1;32m      6\u001b[0m data \u001b[38;5;241m=\u001b[39m response\u001b[38;5;241m.\u001b[39mjson()\n\u001b[1;32m      7\u001b[0m \u001b[38;5;66;03m# Vérifie si la réponse contient des données\u001b[39;00m\n\u001b[0;32m----> 8\u001b[0m \u001b[38;5;28;01mif\u001b[39;00m \u001b[43mdata\u001b[49m\u001b[43m[\u001b[49m\u001b[38;5;124;43m'\u001b[39;49m\u001b[38;5;124;43mfeatures\u001b[39;49m\u001b[38;5;124;43m'\u001b[39;49m\u001b[43m]\u001b[49m:\n\u001b[1;32m      9\u001b[0m     coordinates \u001b[38;5;241m=\u001b[39m data[\u001b[38;5;124m'\u001b[39m\u001b[38;5;124mfeatures\u001b[39m\u001b[38;5;124m'\u001b[39m][\u001b[38;5;241m0\u001b[39m][\u001b[38;5;124m'\u001b[39m\u001b[38;5;124mgeometry\u001b[39m\u001b[38;5;124m'\u001b[39m][\u001b[38;5;124m'\u001b[39m\u001b[38;5;124mcoordinates\u001b[39m\u001b[38;5;124m'\u001b[39m]\n\u001b[1;32m     10\u001b[0m     \u001b[38;5;28;01mreturn\u001b[39;00m coordinates[\u001b[38;5;241m1\u001b[39m], coordinates[\u001b[38;5;241m0\u001b[39m]  \u001b[38;5;66;03m# Retourne (latitude, longitude)\u001b[39;00m\n",
      "\u001b[0;31mKeyError\u001b[0m: 'features'"
     ]
    }
   ],
   "source": [
    "# Ajout des colonnes latitude et longitude\n",
    "df['latitude'] = df['insee'].apply(lambda x: get_coordinates_from_insee_api(x)[0])\n",
    "df['longitude'] = df['insee'].apply(lambda x: get_coordinates_from_insee_api(x)[1])"
   ]
  },
  {
   "cell_type": "code",
   "execution_count": 7,
   "metadata": {},
   "outputs": [
    {
     "data": {
      "text/html": [
       "<div>\n",
       "<style scoped>\n",
       "    .dataframe tbody tr th:only-of-type {\n",
       "        vertical-align: middle;\n",
       "    }\n",
       "\n",
       "    .dataframe tbody tr th {\n",
       "        vertical-align: top;\n",
       "    }\n",
       "\n",
       "    .dataframe thead th {\n",
       "        text-align: right;\n",
       "    }\n",
       "</style>\n",
       "<table border=\"1\" class=\"dataframe\">\n",
       "  <thead>\n",
       "    <tr style=\"text-align: right;\">\n",
       "      <th></th>\n",
       "      <th>insee</th>\n",
       "      <th>nom_commune</th>\n",
       "      <th>debut_evenement</th>\n",
       "      <th>fin_evenement</th>\n",
       "      <th>date_arrete</th>\n",
       "      <th>date_parution_jo</th>\n",
       "      <th>nom_peril</th>\n",
       "      <th>code_peril</th>\n",
       "      <th>franchise</th>\n",
       "      <th>code_nor</th>\n",
       "      <th>decision</th>\n",
       "    </tr>\n",
       "  </thead>\n",
       "  <tbody>\n",
       "    <tr>\n",
       "      <th>0</th>\n",
       "      <td>01386</td>\n",
       "      <td>SAINT SORLIN EN BUGEY</td>\n",
       "      <td>1982-11-06</td>\n",
       "      <td>1982-11-10</td>\n",
       "      <td>1982-11-30</td>\n",
       "      <td>1982-12-02</td>\n",
       "      <td>Tempête</td>\n",
       "      <td>TMP</td>\n",
       "      <td>Simple</td>\n",
       "      <td>None</td>\n",
       "      <td>Reconnue</td>\n",
       "    </tr>\n",
       "    <tr>\n",
       "      <th>1</th>\n",
       "      <td>01386</td>\n",
       "      <td>SAINT SORLIN EN BUGEY</td>\n",
       "      <td>1982-11-06</td>\n",
       "      <td>1982-11-10</td>\n",
       "      <td>1982-11-30</td>\n",
       "      <td>1982-12-02</td>\n",
       "      <td>Inondations et/ou Coulées de Boue</td>\n",
       "      <td>ICB</td>\n",
       "      <td>Simple</td>\n",
       "      <td>None</td>\n",
       "      <td>Reconnue</td>\n",
       "    </tr>\n",
       "    <tr>\n",
       "      <th>2</th>\n",
       "      <td>06073</td>\n",
       "      <td>ISOLA</td>\n",
       "      <td>1982-11-06</td>\n",
       "      <td>1982-11-10</td>\n",
       "      <td>1982-11-30</td>\n",
       "      <td>1982-12-02</td>\n",
       "      <td>Tempête</td>\n",
       "      <td>TMP</td>\n",
       "      <td>Simple</td>\n",
       "      <td>None</td>\n",
       "      <td>Reconnue</td>\n",
       "    </tr>\n",
       "    <tr>\n",
       "      <th>3</th>\n",
       "      <td>06073</td>\n",
       "      <td>ISOLA</td>\n",
       "      <td>1982-11-06</td>\n",
       "      <td>1982-11-10</td>\n",
       "      <td>1982-11-30</td>\n",
       "      <td>1982-12-02</td>\n",
       "      <td>Inondations et/ou Coulées de Boue</td>\n",
       "      <td>ICB</td>\n",
       "      <td>Simple</td>\n",
       "      <td>None</td>\n",
       "      <td>Reconnue</td>\n",
       "    </tr>\n",
       "    <tr>\n",
       "      <th>4</th>\n",
       "      <td>06088</td>\n",
       "      <td>NICE</td>\n",
       "      <td>1982-11-06</td>\n",
       "      <td>1982-11-10</td>\n",
       "      <td>1982-11-30</td>\n",
       "      <td>1982-12-02</td>\n",
       "      <td>Tempête</td>\n",
       "      <td>TMP</td>\n",
       "      <td>Simple</td>\n",
       "      <td>None</td>\n",
       "      <td>Reconnue</td>\n",
       "    </tr>\n",
       "  </tbody>\n",
       "</table>\n",
       "</div>"
      ],
      "text/plain": [
       "   insee            nom_commune debut_evenement fin_evenement date_arrete  \\\n",
       "0  01386  SAINT SORLIN EN BUGEY      1982-11-06    1982-11-10  1982-11-30   \n",
       "1  01386  SAINT SORLIN EN BUGEY      1982-11-06    1982-11-10  1982-11-30   \n",
       "2  06073                  ISOLA      1982-11-06    1982-11-10  1982-11-30   \n",
       "3  06073                  ISOLA      1982-11-06    1982-11-10  1982-11-30   \n",
       "4  06088                   NICE      1982-11-06    1982-11-10  1982-11-30   \n",
       "\n",
       "  date_parution_jo                          nom_peril code_peril franchise  \\\n",
       "0       1982-12-02                            Tempête        TMP    Simple   \n",
       "1       1982-12-02  Inondations et/ou Coulées de Boue        ICB    Simple   \n",
       "2       1982-12-02                            Tempête        TMP    Simple   \n",
       "3       1982-12-02  Inondations et/ou Coulées de Boue        ICB    Simple   \n",
       "4       1982-12-02                            Tempête        TMP    Simple   \n",
       "\n",
       "  code_nor  decision  \n",
       "0     None  Reconnue  \n",
       "1     None  Reconnue  \n",
       "2     None  Reconnue  \n",
       "3     None  Reconnue  \n",
       "4     None  Reconnue  "
      ]
     },
     "execution_count": 7,
     "metadata": {},
     "output_type": "execute_result"
    }
   ],
   "source": [
    "df.head()"
   ]
  },
  {
   "cell_type": "code",
   "execution_count": 18,
   "metadata": {},
   "outputs": [],
   "source": [
    "#!pip install geopy"
   ]
  },
  {
   "cell_type": "code",
   "execution_count": 19,
   "metadata": {},
   "outputs": [
    {
     "name": "stdout",
     "output_type": "stream",
     "text": [
      "Coordonnées GPS pour le code INSEE 5063:\n",
      "Latitude: 47.461593\n",
      "Longitude: 7.998588\n"
     ]
    }
   ],
   "source": [
    "# Installez la bibliothèque geopy si vous ne l'avez pas déjà fait\n",
    "# pip install geopy\n",
    "\n",
    "from geopy.geocoders import Nominatim\n",
    "\n",
    "def get_coordinates_from_insee_code(insee_code):\n",
    "    # Créez un géocodeur Nominatim\n",
    "    geolocator = Nominatim(user_agent=\"my_geocoder\")\n",
    "\n",
    "    # Recherchez la localisation en utilisant le code INSEE\n",
    "    location = geolocator.geocode(insee_code)\n",
    "\n",
    "    if location:\n",
    "        latitude, longitude = location.latitude, location.longitude\n",
    "        return latitude, longitude\n",
    "    else:\n",
    "        return None\n",
    "\n",
    "# Utilisation de la fonction pour récupérer les coordonnées\n",
    "insee_code = \"5063\"\n",
    "coordinates = get_coordinates_from_insee_code(insee_code)\n",
    "\n",
    "if coordinates:\n",
    "    latitude, longitude = coordinates\n",
    "    print(f\"Coordonnées GPS pour le code INSEE {insee_code}:\")\n",
    "    print(f\"Latitude: {latitude:.6f}\")\n",
    "    print(f\"Longitude: {longitude:.6f}\")\n",
    "else:\n",
    "    print(f\"Impossible de trouver les coordonnées pour le code INSEE {insee_code}.\")\n"
   ]
  },
  {
   "cell_type": "code",
   "execution_count": 24,
   "metadata": {},
   "outputs": [
    {
     "name": "stdout",
     "output_type": "stream",
     "text": [
      "        insee\n",
      "43661    5063\n",
      "43662    5128\n",
      "43663    6031\n",
      "43665    6057\n",
      "43668    6113\n",
      "...       ...\n",
      "290396  21550\n",
      "290398  21574\n",
      "290400  21619\n",
      "290464  26134\n",
      "290971  38208\n",
      "\n",
      "[37496 rows x 1 columns]\n"
     ]
    }
   ],
   "source": [
    "# Utilisez drop_duplicates() pour obtenir les codes INSEE uniques\n",
    "unique_codes_df = df[['insee']].drop_duplicates()\n",
    "\n",
    "# Affichez le nouveau dataframe\n",
    "print(unique_codes_df)"
   ]
  },
  {
   "cell_type": "code",
   "execution_count": 26,
   "metadata": {},
   "outputs": [
    {
     "ename": "KeyboardInterrupt",
     "evalue": "",
     "output_type": "error",
     "traceback": [
      "\u001b[0;31m---------------------------------------------------------------------------\u001b[0m",
      "\u001b[0;31mKeyboardInterrupt\u001b[0m                         Traceback (most recent call last)",
      "Cell \u001b[0;32mIn[26], line 8\u001b[0m\n\u001b[1;32m      1\u001b[0m \u001b[38;5;28;01mfrom\u001b[39;00m \u001b[38;5;21;01mgeopandas\u001b[39;00m\u001b[38;5;21;01m.\u001b[39;00m\u001b[38;5;21;01mtools\u001b[39;00m \u001b[38;5;28;01mimport\u001b[39;00m geocode\n\u001b[1;32m      3\u001b[0m \u001b[38;5;66;03m# Créez un DataFrame avec la colonne 'insee' contenant les codes INSEE des communes\u001b[39;00m\n\u001b[1;32m      4\u001b[0m \u001b[38;5;66;03m#data = {'insee': ['75001', '13055', '69001']}  # Exemple de codes INSEE\u001b[39;00m\n\u001b[1;32m      5\u001b[0m \u001b[38;5;66;03m#df = pd.DataFrame(data)\u001b[39;00m\n\u001b[1;32m      6\u001b[0m \n\u001b[1;32m      7\u001b[0m \u001b[38;5;66;03m# Utilisez GeoPandas pour géocoder les coordonnées à partir des codes INSEE\u001b[39;00m\n\u001b[0;32m----> 8\u001b[0m gdf \u001b[38;5;241m=\u001b[39m \u001b[43mgeocode\u001b[49m\u001b[43m(\u001b[49m\u001b[43munique_codes_df\u001b[49m\u001b[43m[\u001b[49m\u001b[38;5;124;43m'\u001b[39;49m\u001b[38;5;124;43minsee\u001b[39;49m\u001b[38;5;124;43m'\u001b[39;49m\u001b[43m]\u001b[49m\u001b[43m,\u001b[49m\u001b[43m \u001b[49m\u001b[43mprovider\u001b[49m\u001b[38;5;241;43m=\u001b[39;49m\u001b[38;5;124;43m'\u001b[39;49m\u001b[38;5;124;43mnominatim\u001b[39;49m\u001b[38;5;124;43m'\u001b[39;49m\u001b[43m,\u001b[49m\u001b[43m \u001b[49m\u001b[43muser_agent\u001b[49m\u001b[38;5;241;43m=\u001b[39;49m\u001b[38;5;124;43m'\u001b[39;49m\u001b[38;5;124;43mmon_geocodeur\u001b[39;49m\u001b[38;5;124;43m'\u001b[39;49m\u001b[43m)\u001b[49m\n\u001b[1;32m     10\u001b[0m \u001b[38;5;66;03m# Ajoutez les colonnes 'latitude' et 'longitude' au DataFrame\u001b[39;00m\n\u001b[1;32m     11\u001b[0m unique_codes_df[\u001b[38;5;124m'\u001b[39m\u001b[38;5;124mlatitude\u001b[39m\u001b[38;5;124m'\u001b[39m] \u001b[38;5;241m=\u001b[39m gdf[\u001b[38;5;124m'\u001b[39m\u001b[38;5;124mgeometry\u001b[39m\u001b[38;5;124m'\u001b[39m]\u001b[38;5;241m.\u001b[39my\n",
      "File \u001b[0;32m/opt/mamba/lib/python3.12/site-packages/geopandas/tools/geocoding.py:67\u001b[0m, in \u001b[0;36mgeocode\u001b[0;34m(strings, provider, **kwargs)\u001b[0m\n\u001b[1;32m     64\u001b[0m     provider \u001b[38;5;241m=\u001b[39m \u001b[38;5;124m\"\u001b[39m\u001b[38;5;124mphoton\u001b[39m\u001b[38;5;124m\"\u001b[39m\n\u001b[1;32m     65\u001b[0m throttle_time \u001b[38;5;241m=\u001b[39m _get_throttle_time(provider)\n\u001b[0;32m---> 67\u001b[0m \u001b[38;5;28;01mreturn\u001b[39;00m \u001b[43m_query\u001b[49m\u001b[43m(\u001b[49m\u001b[43mstrings\u001b[49m\u001b[43m,\u001b[49m\u001b[43m \u001b[49m\u001b[38;5;28;43;01mTrue\u001b[39;49;00m\u001b[43m,\u001b[49m\u001b[43m \u001b[49m\u001b[43mprovider\u001b[49m\u001b[43m,\u001b[49m\u001b[43m \u001b[49m\u001b[43mthrottle_time\u001b[49m\u001b[43m,\u001b[49m\u001b[43m \u001b[49m\u001b[38;5;241;43m*\u001b[39;49m\u001b[38;5;241;43m*\u001b[39;49m\u001b[43mkwargs\u001b[49m\u001b[43m)\u001b[49m\n",
      "File \u001b[0;32m/opt/mamba/lib/python3.12/site-packages/geopandas/tools/geocoding.py:141\u001b[0m, in \u001b[0;36m_query\u001b[0;34m(data, forward, provider, throttle_time, **kwargs)\u001b[0m\n\u001b[1;32m    139\u001b[0m \u001b[38;5;28;01mtry\u001b[39;00m:\n\u001b[1;32m    140\u001b[0m     \u001b[38;5;28;01mif\u001b[39;00m forward:\n\u001b[0;32m--> 141\u001b[0m         results[i] \u001b[38;5;241m=\u001b[39m \u001b[43mcoder\u001b[49m\u001b[38;5;241;43m.\u001b[39;49m\u001b[43mgeocode\u001b[49m\u001b[43m(\u001b[49m\u001b[43ms\u001b[49m\u001b[43m)\u001b[49m\n\u001b[1;32m    142\u001b[0m     \u001b[38;5;28;01melse\u001b[39;00m:\n\u001b[1;32m    143\u001b[0m         results[i] \u001b[38;5;241m=\u001b[39m coder\u001b[38;5;241m.\u001b[39mreverse((s\u001b[38;5;241m.\u001b[39my, s\u001b[38;5;241m.\u001b[39mx), exactly_one\u001b[38;5;241m=\u001b[39m\u001b[38;5;28;01mTrue\u001b[39;00m)\n",
      "File \u001b[0;32m/opt/mamba/lib/python3.12/site-packages/geopy/geocoders/nominatim.py:297\u001b[0m, in \u001b[0;36mNominatim.geocode\u001b[0;34m(self, query, exactly_one, timeout, limit, addressdetails, language, geometry, extratags, country_codes, viewbox, bounded, featuretype, namedetails)\u001b[0m\n\u001b[1;32m    295\u001b[0m logger\u001b[38;5;241m.\u001b[39mdebug(\u001b[38;5;124m\"\u001b[39m\u001b[38;5;132;01m%s\u001b[39;00m\u001b[38;5;124m.geocode: \u001b[39m\u001b[38;5;132;01m%s\u001b[39;00m\u001b[38;5;124m\"\u001b[39m, \u001b[38;5;28mself\u001b[39m\u001b[38;5;241m.\u001b[39m\u001b[38;5;18m__class__\u001b[39m\u001b[38;5;241m.\u001b[39m\u001b[38;5;18m__name__\u001b[39m, url)\n\u001b[1;32m    296\u001b[0m callback \u001b[38;5;241m=\u001b[39m partial(\u001b[38;5;28mself\u001b[39m\u001b[38;5;241m.\u001b[39m_parse_json, exactly_one\u001b[38;5;241m=\u001b[39mexactly_one)\n\u001b[0;32m--> 297\u001b[0m \u001b[38;5;28;01mreturn\u001b[39;00m \u001b[38;5;28;43mself\u001b[39;49m\u001b[38;5;241;43m.\u001b[39;49m\u001b[43m_call_geocoder\u001b[49m\u001b[43m(\u001b[49m\u001b[43murl\u001b[49m\u001b[43m,\u001b[49m\u001b[43m \u001b[49m\u001b[43mcallback\u001b[49m\u001b[43m,\u001b[49m\u001b[43m \u001b[49m\u001b[43mtimeout\u001b[49m\u001b[38;5;241;43m=\u001b[39;49m\u001b[43mtimeout\u001b[49m\u001b[43m)\u001b[49m\n",
      "File \u001b[0;32m/opt/mamba/lib/python3.12/site-packages/geopy/geocoders/base.py:368\u001b[0m, in \u001b[0;36mGeocoder._call_geocoder\u001b[0;34m(self, url, callback, timeout, is_json, headers)\u001b[0m\n\u001b[1;32m    366\u001b[0m \u001b[38;5;28;01mtry\u001b[39;00m:\n\u001b[1;32m    367\u001b[0m     \u001b[38;5;28;01mif\u001b[39;00m is_json:\n\u001b[0;32m--> 368\u001b[0m         result \u001b[38;5;241m=\u001b[39m \u001b[38;5;28;43mself\u001b[39;49m\u001b[38;5;241;43m.\u001b[39;49m\u001b[43madapter\u001b[49m\u001b[38;5;241;43m.\u001b[39;49m\u001b[43mget_json\u001b[49m\u001b[43m(\u001b[49m\u001b[43murl\u001b[49m\u001b[43m,\u001b[49m\u001b[43m \u001b[49m\u001b[43mtimeout\u001b[49m\u001b[38;5;241;43m=\u001b[39;49m\u001b[43mtimeout\u001b[49m\u001b[43m,\u001b[49m\u001b[43m \u001b[49m\u001b[43mheaders\u001b[49m\u001b[38;5;241;43m=\u001b[39;49m\u001b[43mreq_headers\u001b[49m\u001b[43m)\u001b[49m\n\u001b[1;32m    369\u001b[0m     \u001b[38;5;28;01melse\u001b[39;00m:\n\u001b[1;32m    370\u001b[0m         result \u001b[38;5;241m=\u001b[39m \u001b[38;5;28mself\u001b[39m\u001b[38;5;241m.\u001b[39madapter\u001b[38;5;241m.\u001b[39mget_text(url, timeout\u001b[38;5;241m=\u001b[39mtimeout, headers\u001b[38;5;241m=\u001b[39mreq_headers)\n",
      "File \u001b[0;32m/opt/mamba/lib/python3.12/site-packages/geopy/adapters.py:472\u001b[0m, in \u001b[0;36mRequestsAdapter.get_json\u001b[0;34m(self, url, timeout, headers)\u001b[0m\n\u001b[1;32m    471\u001b[0m \u001b[38;5;28;01mdef\u001b[39;00m \u001b[38;5;21mget_json\u001b[39m(\u001b[38;5;28mself\u001b[39m, url, \u001b[38;5;241m*\u001b[39m, timeout, headers):\n\u001b[0;32m--> 472\u001b[0m     resp \u001b[38;5;241m=\u001b[39m \u001b[38;5;28;43mself\u001b[39;49m\u001b[38;5;241;43m.\u001b[39;49m\u001b[43m_request\u001b[49m\u001b[43m(\u001b[49m\u001b[43murl\u001b[49m\u001b[43m,\u001b[49m\u001b[43m \u001b[49m\u001b[43mtimeout\u001b[49m\u001b[38;5;241;43m=\u001b[39;49m\u001b[43mtimeout\u001b[49m\u001b[43m,\u001b[49m\u001b[43m \u001b[49m\u001b[43mheaders\u001b[49m\u001b[38;5;241;43m=\u001b[39;49m\u001b[43mheaders\u001b[49m\u001b[43m)\u001b[49m\n\u001b[1;32m    473\u001b[0m     \u001b[38;5;28;01mtry\u001b[39;00m:\n\u001b[1;32m    474\u001b[0m         \u001b[38;5;28;01mreturn\u001b[39;00m resp\u001b[38;5;241m.\u001b[39mjson()\n",
      "File \u001b[0;32m/opt/mamba/lib/python3.12/site-packages/geopy/adapters.py:482\u001b[0m, in \u001b[0;36mRequestsAdapter._request\u001b[0;34m(self, url, timeout, headers)\u001b[0m\n\u001b[1;32m    480\u001b[0m \u001b[38;5;28;01mdef\u001b[39;00m \u001b[38;5;21m_request\u001b[39m(\u001b[38;5;28mself\u001b[39m, url, \u001b[38;5;241m*\u001b[39m, timeout, headers):\n\u001b[1;32m    481\u001b[0m     \u001b[38;5;28;01mtry\u001b[39;00m:\n\u001b[0;32m--> 482\u001b[0m         resp \u001b[38;5;241m=\u001b[39m \u001b[38;5;28;43mself\u001b[39;49m\u001b[38;5;241;43m.\u001b[39;49m\u001b[43msession\u001b[49m\u001b[38;5;241;43m.\u001b[39;49m\u001b[43mget\u001b[49m\u001b[43m(\u001b[49m\u001b[43murl\u001b[49m\u001b[43m,\u001b[49m\u001b[43m \u001b[49m\u001b[43mtimeout\u001b[49m\u001b[38;5;241;43m=\u001b[39;49m\u001b[43mtimeout\u001b[49m\u001b[43m,\u001b[49m\u001b[43m \u001b[49m\u001b[43mheaders\u001b[49m\u001b[38;5;241;43m=\u001b[39;49m\u001b[43mheaders\u001b[49m\u001b[43m)\u001b[49m\n\u001b[1;32m    483\u001b[0m     \u001b[38;5;28;01mexcept\u001b[39;00m \u001b[38;5;167;01mException\u001b[39;00m \u001b[38;5;28;01mas\u001b[39;00m error:\n\u001b[1;32m    484\u001b[0m         message \u001b[38;5;241m=\u001b[39m \u001b[38;5;28mstr\u001b[39m(error)\n",
      "File \u001b[0;32m/opt/mamba/lib/python3.12/site-packages/requests/sessions.py:602\u001b[0m, in \u001b[0;36mSession.get\u001b[0;34m(self, url, **kwargs)\u001b[0m\n\u001b[1;32m    594\u001b[0m \u001b[38;5;250m\u001b[39m\u001b[38;5;124mr\u001b[39m\u001b[38;5;124;03m\"\"\"Sends a GET request. Returns :class:`Response` object.\u001b[39;00m\n\u001b[1;32m    595\u001b[0m \n\u001b[1;32m    596\u001b[0m \u001b[38;5;124;03m:param url: URL for the new :class:`Request` object.\u001b[39;00m\n\u001b[1;32m    597\u001b[0m \u001b[38;5;124;03m:param \\*\\*kwargs: Optional arguments that ``request`` takes.\u001b[39;00m\n\u001b[1;32m    598\u001b[0m \u001b[38;5;124;03m:rtype: requests.Response\u001b[39;00m\n\u001b[1;32m    599\u001b[0m \u001b[38;5;124;03m\"\"\"\u001b[39;00m\n\u001b[1;32m    601\u001b[0m kwargs\u001b[38;5;241m.\u001b[39msetdefault(\u001b[38;5;124m\"\u001b[39m\u001b[38;5;124mallow_redirects\u001b[39m\u001b[38;5;124m\"\u001b[39m, \u001b[38;5;28;01mTrue\u001b[39;00m)\n\u001b[0;32m--> 602\u001b[0m \u001b[38;5;28;01mreturn\u001b[39;00m \u001b[38;5;28;43mself\u001b[39;49m\u001b[38;5;241;43m.\u001b[39;49m\u001b[43mrequest\u001b[49m\u001b[43m(\u001b[49m\u001b[38;5;124;43m\"\u001b[39;49m\u001b[38;5;124;43mGET\u001b[39;49m\u001b[38;5;124;43m\"\u001b[39;49m\u001b[43m,\u001b[49m\u001b[43m \u001b[49m\u001b[43murl\u001b[49m\u001b[43m,\u001b[49m\u001b[43m \u001b[49m\u001b[38;5;241;43m*\u001b[39;49m\u001b[38;5;241;43m*\u001b[39;49m\u001b[43mkwargs\u001b[49m\u001b[43m)\u001b[49m\n",
      "File \u001b[0;32m/opt/mamba/lib/python3.12/site-packages/requests/sessions.py:589\u001b[0m, in \u001b[0;36mSession.request\u001b[0;34m(self, method, url, params, data, headers, cookies, files, auth, timeout, allow_redirects, proxies, hooks, stream, verify, cert, json)\u001b[0m\n\u001b[1;32m    584\u001b[0m send_kwargs \u001b[38;5;241m=\u001b[39m {\n\u001b[1;32m    585\u001b[0m     \u001b[38;5;124m\"\u001b[39m\u001b[38;5;124mtimeout\u001b[39m\u001b[38;5;124m\"\u001b[39m: timeout,\n\u001b[1;32m    586\u001b[0m     \u001b[38;5;124m\"\u001b[39m\u001b[38;5;124mallow_redirects\u001b[39m\u001b[38;5;124m\"\u001b[39m: allow_redirects,\n\u001b[1;32m    587\u001b[0m }\n\u001b[1;32m    588\u001b[0m send_kwargs\u001b[38;5;241m.\u001b[39mupdate(settings)\n\u001b[0;32m--> 589\u001b[0m resp \u001b[38;5;241m=\u001b[39m \u001b[38;5;28;43mself\u001b[39;49m\u001b[38;5;241;43m.\u001b[39;49m\u001b[43msend\u001b[49m\u001b[43m(\u001b[49m\u001b[43mprep\u001b[49m\u001b[43m,\u001b[49m\u001b[43m \u001b[49m\u001b[38;5;241;43m*\u001b[39;49m\u001b[38;5;241;43m*\u001b[39;49m\u001b[43msend_kwargs\u001b[49m\u001b[43m)\u001b[49m\n\u001b[1;32m    591\u001b[0m \u001b[38;5;28;01mreturn\u001b[39;00m resp\n",
      "File \u001b[0;32m/opt/mamba/lib/python3.12/site-packages/requests/sessions.py:703\u001b[0m, in \u001b[0;36mSession.send\u001b[0;34m(self, request, **kwargs)\u001b[0m\n\u001b[1;32m    700\u001b[0m start \u001b[38;5;241m=\u001b[39m preferred_clock()\n\u001b[1;32m    702\u001b[0m \u001b[38;5;66;03m# Send the request\u001b[39;00m\n\u001b[0;32m--> 703\u001b[0m r \u001b[38;5;241m=\u001b[39m \u001b[43madapter\u001b[49m\u001b[38;5;241;43m.\u001b[39;49m\u001b[43msend\u001b[49m\u001b[43m(\u001b[49m\u001b[43mrequest\u001b[49m\u001b[43m,\u001b[49m\u001b[43m \u001b[49m\u001b[38;5;241;43m*\u001b[39;49m\u001b[38;5;241;43m*\u001b[39;49m\u001b[43mkwargs\u001b[49m\u001b[43m)\u001b[49m\n\u001b[1;32m    705\u001b[0m \u001b[38;5;66;03m# Total elapsed time of the request (approximately)\u001b[39;00m\n\u001b[1;32m    706\u001b[0m elapsed \u001b[38;5;241m=\u001b[39m preferred_clock() \u001b[38;5;241m-\u001b[39m start\n",
      "File \u001b[0;32m/opt/mamba/lib/python3.12/site-packages/requests/adapters.py:667\u001b[0m, in \u001b[0;36mHTTPAdapter.send\u001b[0;34m(self, request, stream, timeout, verify, cert, proxies)\u001b[0m\n\u001b[1;32m    664\u001b[0m     timeout \u001b[38;5;241m=\u001b[39m TimeoutSauce(connect\u001b[38;5;241m=\u001b[39mtimeout, read\u001b[38;5;241m=\u001b[39mtimeout)\n\u001b[1;32m    666\u001b[0m \u001b[38;5;28;01mtry\u001b[39;00m:\n\u001b[0;32m--> 667\u001b[0m     resp \u001b[38;5;241m=\u001b[39m \u001b[43mconn\u001b[49m\u001b[38;5;241;43m.\u001b[39;49m\u001b[43murlopen\u001b[49m\u001b[43m(\u001b[49m\n\u001b[1;32m    668\u001b[0m \u001b[43m        \u001b[49m\u001b[43mmethod\u001b[49m\u001b[38;5;241;43m=\u001b[39;49m\u001b[43mrequest\u001b[49m\u001b[38;5;241;43m.\u001b[39;49m\u001b[43mmethod\u001b[49m\u001b[43m,\u001b[49m\n\u001b[1;32m    669\u001b[0m \u001b[43m        \u001b[49m\u001b[43murl\u001b[49m\u001b[38;5;241;43m=\u001b[39;49m\u001b[43murl\u001b[49m\u001b[43m,\u001b[49m\n\u001b[1;32m    670\u001b[0m \u001b[43m        \u001b[49m\u001b[43mbody\u001b[49m\u001b[38;5;241;43m=\u001b[39;49m\u001b[43mrequest\u001b[49m\u001b[38;5;241;43m.\u001b[39;49m\u001b[43mbody\u001b[49m\u001b[43m,\u001b[49m\n\u001b[1;32m    671\u001b[0m \u001b[43m        \u001b[49m\u001b[43mheaders\u001b[49m\u001b[38;5;241;43m=\u001b[39;49m\u001b[43mrequest\u001b[49m\u001b[38;5;241;43m.\u001b[39;49m\u001b[43mheaders\u001b[49m\u001b[43m,\u001b[49m\n\u001b[1;32m    672\u001b[0m \u001b[43m        \u001b[49m\u001b[43mredirect\u001b[49m\u001b[38;5;241;43m=\u001b[39;49m\u001b[38;5;28;43;01mFalse\u001b[39;49;00m\u001b[43m,\u001b[49m\n\u001b[1;32m    673\u001b[0m \u001b[43m        \u001b[49m\u001b[43massert_same_host\u001b[49m\u001b[38;5;241;43m=\u001b[39;49m\u001b[38;5;28;43;01mFalse\u001b[39;49;00m\u001b[43m,\u001b[49m\n\u001b[1;32m    674\u001b[0m \u001b[43m        \u001b[49m\u001b[43mpreload_content\u001b[49m\u001b[38;5;241;43m=\u001b[39;49m\u001b[38;5;28;43;01mFalse\u001b[39;49;00m\u001b[43m,\u001b[49m\n\u001b[1;32m    675\u001b[0m \u001b[43m        \u001b[49m\u001b[43mdecode_content\u001b[49m\u001b[38;5;241;43m=\u001b[39;49m\u001b[38;5;28;43;01mFalse\u001b[39;49;00m\u001b[43m,\u001b[49m\n\u001b[1;32m    676\u001b[0m \u001b[43m        \u001b[49m\u001b[43mretries\u001b[49m\u001b[38;5;241;43m=\u001b[39;49m\u001b[38;5;28;43mself\u001b[39;49m\u001b[38;5;241;43m.\u001b[39;49m\u001b[43mmax_retries\u001b[49m\u001b[43m,\u001b[49m\n\u001b[1;32m    677\u001b[0m \u001b[43m        \u001b[49m\u001b[43mtimeout\u001b[49m\u001b[38;5;241;43m=\u001b[39;49m\u001b[43mtimeout\u001b[49m\u001b[43m,\u001b[49m\n\u001b[1;32m    678\u001b[0m \u001b[43m        \u001b[49m\u001b[43mchunked\u001b[49m\u001b[38;5;241;43m=\u001b[39;49m\u001b[43mchunked\u001b[49m\u001b[43m,\u001b[49m\n\u001b[1;32m    679\u001b[0m \u001b[43m    \u001b[49m\u001b[43m)\u001b[49m\n\u001b[1;32m    681\u001b[0m \u001b[38;5;28;01mexcept\u001b[39;00m (ProtocolError, \u001b[38;5;167;01mOSError\u001b[39;00m) \u001b[38;5;28;01mas\u001b[39;00m err:\n\u001b[1;32m    682\u001b[0m     \u001b[38;5;28;01mraise\u001b[39;00m \u001b[38;5;167;01mConnectionError\u001b[39;00m(err, request\u001b[38;5;241m=\u001b[39mrequest)\n",
      "File \u001b[0;32m/opt/mamba/lib/python3.12/site-packages/urllib3/connectionpool.py:715\u001b[0m, in \u001b[0;36mHTTPConnectionPool.urlopen\u001b[0;34m(self, method, url, body, headers, retries, redirect, assert_same_host, timeout, pool_timeout, release_conn, chunked, body_pos, **response_kw)\u001b[0m\n\u001b[1;32m    712\u001b[0m     \u001b[38;5;28mself\u001b[39m\u001b[38;5;241m.\u001b[39m_prepare_proxy(conn)\n\u001b[1;32m    714\u001b[0m \u001b[38;5;66;03m# Make the request on the httplib connection object.\u001b[39;00m\n\u001b[0;32m--> 715\u001b[0m httplib_response \u001b[38;5;241m=\u001b[39m \u001b[38;5;28;43mself\u001b[39;49m\u001b[38;5;241;43m.\u001b[39;49m\u001b[43m_make_request\u001b[49m\u001b[43m(\u001b[49m\n\u001b[1;32m    716\u001b[0m \u001b[43m    \u001b[49m\u001b[43mconn\u001b[49m\u001b[43m,\u001b[49m\n\u001b[1;32m    717\u001b[0m \u001b[43m    \u001b[49m\u001b[43mmethod\u001b[49m\u001b[43m,\u001b[49m\n\u001b[1;32m    718\u001b[0m \u001b[43m    \u001b[49m\u001b[43murl\u001b[49m\u001b[43m,\u001b[49m\n\u001b[1;32m    719\u001b[0m \u001b[43m    \u001b[49m\u001b[43mtimeout\u001b[49m\u001b[38;5;241;43m=\u001b[39;49m\u001b[43mtimeout_obj\u001b[49m\u001b[43m,\u001b[49m\n\u001b[1;32m    720\u001b[0m \u001b[43m    \u001b[49m\u001b[43mbody\u001b[49m\u001b[38;5;241;43m=\u001b[39;49m\u001b[43mbody\u001b[49m\u001b[43m,\u001b[49m\n\u001b[1;32m    721\u001b[0m \u001b[43m    \u001b[49m\u001b[43mheaders\u001b[49m\u001b[38;5;241;43m=\u001b[39;49m\u001b[43mheaders\u001b[49m\u001b[43m,\u001b[49m\n\u001b[1;32m    722\u001b[0m \u001b[43m    \u001b[49m\u001b[43mchunked\u001b[49m\u001b[38;5;241;43m=\u001b[39;49m\u001b[43mchunked\u001b[49m\u001b[43m,\u001b[49m\n\u001b[1;32m    723\u001b[0m \u001b[43m\u001b[49m\u001b[43m)\u001b[49m\n\u001b[1;32m    725\u001b[0m \u001b[38;5;66;03m# If we're going to release the connection in ``finally:``, then\u001b[39;00m\n\u001b[1;32m    726\u001b[0m \u001b[38;5;66;03m# the response doesn't need to know about the connection. Otherwise\u001b[39;00m\n\u001b[1;32m    727\u001b[0m \u001b[38;5;66;03m# it will also try to release it and we'll have a double-release\u001b[39;00m\n\u001b[1;32m    728\u001b[0m \u001b[38;5;66;03m# mess.\u001b[39;00m\n\u001b[1;32m    729\u001b[0m response_conn \u001b[38;5;241m=\u001b[39m conn \u001b[38;5;28;01mif\u001b[39;00m \u001b[38;5;129;01mnot\u001b[39;00m release_conn \u001b[38;5;28;01melse\u001b[39;00m \u001b[38;5;28;01mNone\u001b[39;00m\n",
      "File \u001b[0;32m/opt/mamba/lib/python3.12/site-packages/urllib3/connectionpool.py:467\u001b[0m, in \u001b[0;36mHTTPConnectionPool._make_request\u001b[0;34m(self, conn, method, url, timeout, chunked, **httplib_request_kw)\u001b[0m\n\u001b[1;32m    462\u001b[0m             httplib_response \u001b[38;5;241m=\u001b[39m conn\u001b[38;5;241m.\u001b[39mgetresponse()\n\u001b[1;32m    463\u001b[0m         \u001b[38;5;28;01mexcept\u001b[39;00m \u001b[38;5;167;01mBaseException\u001b[39;00m \u001b[38;5;28;01mas\u001b[39;00m e:\n\u001b[1;32m    464\u001b[0m             \u001b[38;5;66;03m# Remove the TypeError from the exception chain in\u001b[39;00m\n\u001b[1;32m    465\u001b[0m             \u001b[38;5;66;03m# Python 3 (including for exceptions like SystemExit).\u001b[39;00m\n\u001b[1;32m    466\u001b[0m             \u001b[38;5;66;03m# Otherwise it looks like a bug in the code.\u001b[39;00m\n\u001b[0;32m--> 467\u001b[0m             \u001b[43msix\u001b[49m\u001b[38;5;241;43m.\u001b[39;49m\u001b[43mraise_from\u001b[49m\u001b[43m(\u001b[49m\u001b[43me\u001b[49m\u001b[43m,\u001b[49m\u001b[43m \u001b[49m\u001b[38;5;28;43;01mNone\u001b[39;49;00m\u001b[43m)\u001b[49m\n\u001b[1;32m    468\u001b[0m \u001b[38;5;28;01mexcept\u001b[39;00m (SocketTimeout, BaseSSLError, SocketError) \u001b[38;5;28;01mas\u001b[39;00m e:\n\u001b[1;32m    469\u001b[0m     \u001b[38;5;28mself\u001b[39m\u001b[38;5;241m.\u001b[39m_raise_timeout(err\u001b[38;5;241m=\u001b[39me, url\u001b[38;5;241m=\u001b[39murl, timeout_value\u001b[38;5;241m=\u001b[39mread_timeout)\n",
      "File \u001b[0;32m<string>:3\u001b[0m, in \u001b[0;36mraise_from\u001b[0;34m(value, from_value)\u001b[0m\n",
      "File \u001b[0;32m/opt/mamba/lib/python3.12/site-packages/urllib3/connectionpool.py:462\u001b[0m, in \u001b[0;36mHTTPConnectionPool._make_request\u001b[0;34m(self, conn, method, url, timeout, chunked, **httplib_request_kw)\u001b[0m\n\u001b[1;32m    459\u001b[0m \u001b[38;5;28;01mexcept\u001b[39;00m \u001b[38;5;167;01mTypeError\u001b[39;00m:\n\u001b[1;32m    460\u001b[0m     \u001b[38;5;66;03m# Python 3\u001b[39;00m\n\u001b[1;32m    461\u001b[0m     \u001b[38;5;28;01mtry\u001b[39;00m:\n\u001b[0;32m--> 462\u001b[0m         httplib_response \u001b[38;5;241m=\u001b[39m \u001b[43mconn\u001b[49m\u001b[38;5;241;43m.\u001b[39;49m\u001b[43mgetresponse\u001b[49m\u001b[43m(\u001b[49m\u001b[43m)\u001b[49m\n\u001b[1;32m    463\u001b[0m     \u001b[38;5;28;01mexcept\u001b[39;00m \u001b[38;5;167;01mBaseException\u001b[39;00m \u001b[38;5;28;01mas\u001b[39;00m e:\n\u001b[1;32m    464\u001b[0m         \u001b[38;5;66;03m# Remove the TypeError from the exception chain in\u001b[39;00m\n\u001b[1;32m    465\u001b[0m         \u001b[38;5;66;03m# Python 3 (including for exceptions like SystemExit).\u001b[39;00m\n\u001b[1;32m    466\u001b[0m         \u001b[38;5;66;03m# Otherwise it looks like a bug in the code.\u001b[39;00m\n\u001b[1;32m    467\u001b[0m         six\u001b[38;5;241m.\u001b[39mraise_from(e, \u001b[38;5;28;01mNone\u001b[39;00m)\n",
      "File \u001b[0;32m/opt/mamba/lib/python3.12/http/client.py:1428\u001b[0m, in \u001b[0;36mHTTPConnection.getresponse\u001b[0;34m(self)\u001b[0m\n\u001b[1;32m   1426\u001b[0m \u001b[38;5;28;01mtry\u001b[39;00m:\n\u001b[1;32m   1427\u001b[0m     \u001b[38;5;28;01mtry\u001b[39;00m:\n\u001b[0;32m-> 1428\u001b[0m         \u001b[43mresponse\u001b[49m\u001b[38;5;241;43m.\u001b[39;49m\u001b[43mbegin\u001b[49m\u001b[43m(\u001b[49m\u001b[43m)\u001b[49m\n\u001b[1;32m   1429\u001b[0m     \u001b[38;5;28;01mexcept\u001b[39;00m \u001b[38;5;167;01mConnectionError\u001b[39;00m:\n\u001b[1;32m   1430\u001b[0m         \u001b[38;5;28mself\u001b[39m\u001b[38;5;241m.\u001b[39mclose()\n",
      "File \u001b[0;32m/opt/mamba/lib/python3.12/http/client.py:331\u001b[0m, in \u001b[0;36mHTTPResponse.begin\u001b[0;34m(self)\u001b[0m\n\u001b[1;32m    329\u001b[0m \u001b[38;5;66;03m# read until we get a non-100 response\u001b[39;00m\n\u001b[1;32m    330\u001b[0m \u001b[38;5;28;01mwhile\u001b[39;00m \u001b[38;5;28;01mTrue\u001b[39;00m:\n\u001b[0;32m--> 331\u001b[0m     version, status, reason \u001b[38;5;241m=\u001b[39m \u001b[38;5;28;43mself\u001b[39;49m\u001b[38;5;241;43m.\u001b[39;49m\u001b[43m_read_status\u001b[49m\u001b[43m(\u001b[49m\u001b[43m)\u001b[49m\n\u001b[1;32m    332\u001b[0m     \u001b[38;5;28;01mif\u001b[39;00m status \u001b[38;5;241m!=\u001b[39m CONTINUE:\n\u001b[1;32m    333\u001b[0m         \u001b[38;5;28;01mbreak\u001b[39;00m\n",
      "File \u001b[0;32m/opt/mamba/lib/python3.12/http/client.py:292\u001b[0m, in \u001b[0;36mHTTPResponse._read_status\u001b[0;34m(self)\u001b[0m\n\u001b[1;32m    291\u001b[0m \u001b[38;5;28;01mdef\u001b[39;00m \u001b[38;5;21m_read_status\u001b[39m(\u001b[38;5;28mself\u001b[39m):\n\u001b[0;32m--> 292\u001b[0m     line \u001b[38;5;241m=\u001b[39m \u001b[38;5;28mstr\u001b[39m(\u001b[38;5;28;43mself\u001b[39;49m\u001b[38;5;241;43m.\u001b[39;49m\u001b[43mfp\u001b[49m\u001b[38;5;241;43m.\u001b[39;49m\u001b[43mreadline\u001b[49m\u001b[43m(\u001b[49m\u001b[43m_MAXLINE\u001b[49m\u001b[43m \u001b[49m\u001b[38;5;241;43m+\u001b[39;49m\u001b[43m \u001b[49m\u001b[38;5;241;43m1\u001b[39;49m\u001b[43m)\u001b[49m, \u001b[38;5;124m\"\u001b[39m\u001b[38;5;124miso-8859-1\u001b[39m\u001b[38;5;124m\"\u001b[39m)\n\u001b[1;32m    293\u001b[0m     \u001b[38;5;28;01mif\u001b[39;00m \u001b[38;5;28mlen\u001b[39m(line) \u001b[38;5;241m>\u001b[39m _MAXLINE:\n\u001b[1;32m    294\u001b[0m         \u001b[38;5;28;01mraise\u001b[39;00m LineTooLong(\u001b[38;5;124m\"\u001b[39m\u001b[38;5;124mstatus line\u001b[39m\u001b[38;5;124m\"\u001b[39m)\n",
      "File \u001b[0;32m/opt/mamba/lib/python3.12/socket.py:707\u001b[0m, in \u001b[0;36mSocketIO.readinto\u001b[0;34m(self, b)\u001b[0m\n\u001b[1;32m    705\u001b[0m \u001b[38;5;28;01mwhile\u001b[39;00m \u001b[38;5;28;01mTrue\u001b[39;00m:\n\u001b[1;32m    706\u001b[0m     \u001b[38;5;28;01mtry\u001b[39;00m:\n\u001b[0;32m--> 707\u001b[0m         \u001b[38;5;28;01mreturn\u001b[39;00m \u001b[38;5;28;43mself\u001b[39;49m\u001b[38;5;241;43m.\u001b[39;49m\u001b[43m_sock\u001b[49m\u001b[38;5;241;43m.\u001b[39;49m\u001b[43mrecv_into\u001b[49m\u001b[43m(\u001b[49m\u001b[43mb\u001b[49m\u001b[43m)\u001b[49m\n\u001b[1;32m    708\u001b[0m     \u001b[38;5;28;01mexcept\u001b[39;00m timeout:\n\u001b[1;32m    709\u001b[0m         \u001b[38;5;28mself\u001b[39m\u001b[38;5;241m.\u001b[39m_timeout_occurred \u001b[38;5;241m=\u001b[39m \u001b[38;5;28;01mTrue\u001b[39;00m\n",
      "File \u001b[0;32m/opt/mamba/lib/python3.12/ssl.py:1252\u001b[0m, in \u001b[0;36mSSLSocket.recv_into\u001b[0;34m(self, buffer, nbytes, flags)\u001b[0m\n\u001b[1;32m   1248\u001b[0m     \u001b[38;5;28;01mif\u001b[39;00m flags \u001b[38;5;241m!=\u001b[39m \u001b[38;5;241m0\u001b[39m:\n\u001b[1;32m   1249\u001b[0m         \u001b[38;5;28;01mraise\u001b[39;00m \u001b[38;5;167;01mValueError\u001b[39;00m(\n\u001b[1;32m   1250\u001b[0m           \u001b[38;5;124m\"\u001b[39m\u001b[38;5;124mnon-zero flags not allowed in calls to recv_into() on \u001b[39m\u001b[38;5;132;01m%s\u001b[39;00m\u001b[38;5;124m\"\u001b[39m \u001b[38;5;241m%\u001b[39m\n\u001b[1;32m   1251\u001b[0m           \u001b[38;5;28mself\u001b[39m\u001b[38;5;241m.\u001b[39m\u001b[38;5;18m__class__\u001b[39m)\n\u001b[0;32m-> 1252\u001b[0m     \u001b[38;5;28;01mreturn\u001b[39;00m \u001b[38;5;28;43mself\u001b[39;49m\u001b[38;5;241;43m.\u001b[39;49m\u001b[43mread\u001b[49m\u001b[43m(\u001b[49m\u001b[43mnbytes\u001b[49m\u001b[43m,\u001b[49m\u001b[43m \u001b[49m\u001b[43mbuffer\u001b[49m\u001b[43m)\u001b[49m\n\u001b[1;32m   1253\u001b[0m \u001b[38;5;28;01melse\u001b[39;00m:\n\u001b[1;32m   1254\u001b[0m     \u001b[38;5;28;01mreturn\u001b[39;00m \u001b[38;5;28msuper\u001b[39m()\u001b[38;5;241m.\u001b[39mrecv_into(buffer, nbytes, flags)\n",
      "File \u001b[0;32m/opt/mamba/lib/python3.12/ssl.py:1104\u001b[0m, in \u001b[0;36mSSLSocket.read\u001b[0;34m(self, len, buffer)\u001b[0m\n\u001b[1;32m   1102\u001b[0m \u001b[38;5;28;01mtry\u001b[39;00m:\n\u001b[1;32m   1103\u001b[0m     \u001b[38;5;28;01mif\u001b[39;00m buffer \u001b[38;5;129;01mis\u001b[39;00m \u001b[38;5;129;01mnot\u001b[39;00m \u001b[38;5;28;01mNone\u001b[39;00m:\n\u001b[0;32m-> 1104\u001b[0m         \u001b[38;5;28;01mreturn\u001b[39;00m \u001b[38;5;28;43mself\u001b[39;49m\u001b[38;5;241;43m.\u001b[39;49m\u001b[43m_sslobj\u001b[49m\u001b[38;5;241;43m.\u001b[39;49m\u001b[43mread\u001b[49m\u001b[43m(\u001b[49m\u001b[38;5;28;43mlen\u001b[39;49m\u001b[43m,\u001b[49m\u001b[43m \u001b[49m\u001b[43mbuffer\u001b[49m\u001b[43m)\u001b[49m\n\u001b[1;32m   1105\u001b[0m     \u001b[38;5;28;01melse\u001b[39;00m:\n\u001b[1;32m   1106\u001b[0m         \u001b[38;5;28;01mreturn\u001b[39;00m \u001b[38;5;28mself\u001b[39m\u001b[38;5;241m.\u001b[39m_sslobj\u001b[38;5;241m.\u001b[39mread(\u001b[38;5;28mlen\u001b[39m)\n",
      "\u001b[0;31mKeyboardInterrupt\u001b[0m: "
     ]
    }
   ],
   "source": [
    "from geopandas.tools import geocode\n",
    "\n",
    "# Créez un DataFrame avec la colonne 'insee' contenant les codes INSEE des communes\n",
    "#data = {'insee': ['75001', '13055', '69001']}  # Exemple de codes INSEE\n",
    "#df = pd.DataFrame(data)\n",
    "\n",
    "# Utilisez GeoPandas pour géocoder les coordonnées à partir des codes INSEE\n",
    "gdf = geocode(unique_codes_df['insee'], provider='nominatim', user_agent='mon_geocodeur')\n",
    "\n",
    "# Ajoutez les colonnes 'latitude' et 'longitude' au DataFrame\n",
    "unique_codes_df['latitude'] = gdf['geometry'].y\n",
    "unique_codes_df['longitude'] = gdf['geometry'].x\n",
    "\n",
    "# Affichez le DataFrame enrichi\n",
    "print(unique_codes_df)"
   ]
  },
  {
   "cell_type": "code",
   "execution_count": 33,
   "metadata": {},
   "outputs": [],
   "source": [
    " df_communes = pd.read_csv(os.path.join(communes_folder_name, communes_csv_filename), sep=\";\")"
   ]
  },
  {
   "cell_type": "code",
   "execution_count": 36,
   "metadata": {},
   "outputs": [
    {
     "data": {
      "text/plain": [
       "(36742, 17)"
      ]
     },
     "execution_count": 36,
     "metadata": {},
     "output_type": "execute_result"
    }
   ],
   "source": [
    "df_communes.shape"
   ]
  },
  {
   "cell_type": "code",
   "execution_count": 37,
   "metadata": {},
   "outputs": [
    {
     "data": {
      "text/plain": [
       "Index(['Code INSEE', 'Code Postal', 'Commune', 'Département', 'Région',\n",
       "       'Statut', 'Altitude Moyenne', 'Superficie', 'Population',\n",
       "       'geo_point_2d', 'geo_shape', 'ID Geofla', 'Code Commune', 'Code Canton',\n",
       "       'Code Arrondissement', 'Code Département', 'Code Région'],\n",
       "      dtype='object')"
      ]
     },
     "execution_count": 37,
     "metadata": {},
     "output_type": "execute_result"
    }
   ],
   "source": [
    "df_communes.columns"
   ]
  },
  {
   "cell_type": "code",
   "execution_count": 39,
   "metadata": {},
   "outputs": [
    {
     "data": {
      "text/plain": [
       "True"
      ]
     },
     "execution_count": 39,
     "metadata": {},
     "output_type": "execute_result"
    }
   ],
   "source": [
    "df_communes['Code INSEE'].is_unique"
   ]
  },
  {
   "cell_type": "code",
   "execution_count": 42,
   "metadata": {},
   "outputs": [],
   "source": [
    "# Merge DataFrames based on 'insee'\n",
    "merged_df = pd.merge(df, df_communes[['Code INSEE', 'geo_point_2d']],  left_on='insee', right_on='Code INSEE', how='left')"
   ]
  },
  {
   "cell_type": "code",
   "execution_count": 43,
   "metadata": {},
   "outputs": [
    {
     "data": {
      "text/html": [
       "<div>\n",
       "<style scoped>\n",
       "    .dataframe tbody tr th:only-of-type {\n",
       "        vertical-align: middle;\n",
       "    }\n",
       "\n",
       "    .dataframe tbody tr th {\n",
       "        vertical-align: top;\n",
       "    }\n",
       "\n",
       "    .dataframe thead th {\n",
       "        text-align: right;\n",
       "    }\n",
       "</style>\n",
       "<table border=\"1\" class=\"dataframe\">\n",
       "  <thead>\n",
       "    <tr style=\"text-align: right;\">\n",
       "      <th></th>\n",
       "      <th>insee</th>\n",
       "      <th>nom_commune</th>\n",
       "      <th>debut_evenement</th>\n",
       "      <th>fin_evenement</th>\n",
       "      <th>date_arrete</th>\n",
       "      <th>date_parution_jo</th>\n",
       "      <th>nom_peril</th>\n",
       "      <th>code_peril</th>\n",
       "      <th>franchise</th>\n",
       "      <th>code_nor</th>\n",
       "      <th>decision</th>\n",
       "      <th>Code INSEE</th>\n",
       "      <th>geo_point_2d</th>\n",
       "    </tr>\n",
       "  </thead>\n",
       "  <tbody>\n",
       "    <tr>\n",
       "      <th>0</th>\n",
       "      <td>5063</td>\n",
       "      <td>LA GRAVE</td>\n",
       "      <td>2001-03-19</td>\n",
       "      <td>2001-03-25</td>\n",
       "      <td>2001-11-15</td>\n",
       "      <td>2001-12-01</td>\n",
       "      <td>Mouvement de Terrain</td>\n",
       "      <td>MVT</td>\n",
       "      <td>Simple</td>\n",
       "      <td>INTE0100649A</td>\n",
       "      <td>Reconnue</td>\n",
       "      <td>NaN</td>\n",
       "      <td>NaN</td>\n",
       "    </tr>\n",
       "    <tr>\n",
       "      <th>1</th>\n",
       "      <td>5128</td>\n",
       "      <td>SAINT ANDRE D EMBRUN</td>\n",
       "      <td>2001-03-29</td>\n",
       "      <td>2001-03-29</td>\n",
       "      <td>2001-11-15</td>\n",
       "      <td>2001-12-01</td>\n",
       "      <td>Mouvement de Terrain</td>\n",
       "      <td>MVT</td>\n",
       "      <td>Simple</td>\n",
       "      <td>INTE0100649A</td>\n",
       "      <td>Reconnue</td>\n",
       "      <td>NaN</td>\n",
       "      <td>NaN</td>\n",
       "    </tr>\n",
       "    <tr>\n",
       "      <th>2</th>\n",
       "      <td>6031</td>\n",
       "      <td>CANTARON</td>\n",
       "      <td>2000-11-23</td>\n",
       "      <td>2000-11-24</td>\n",
       "      <td>2001-11-15</td>\n",
       "      <td>2001-12-01</td>\n",
       "      <td>Mouvement de Terrain</td>\n",
       "      <td>MVT</td>\n",
       "      <td>Simple</td>\n",
       "      <td>INTE0100649A</td>\n",
       "      <td>Reconnue</td>\n",
       "      <td>NaN</td>\n",
       "      <td>NaN</td>\n",
       "    </tr>\n",
       "    <tr>\n",
       "      <th>3</th>\n",
       "      <td>6031</td>\n",
       "      <td>CANTARON</td>\n",
       "      <td>2000-11-23</td>\n",
       "      <td>2000-11-24</td>\n",
       "      <td>2001-11-15</td>\n",
       "      <td>2001-12-01</td>\n",
       "      <td>Inondations et/ou Coulées de Boue</td>\n",
       "      <td>ICB</td>\n",
       "      <td>Simple</td>\n",
       "      <td>INTE0100649A</td>\n",
       "      <td>Reconnue</td>\n",
       "      <td>NaN</td>\n",
       "      <td>NaN</td>\n",
       "    </tr>\n",
       "    <tr>\n",
       "      <th>4</th>\n",
       "      <td>6057</td>\n",
       "      <td>L'ESCARENE</td>\n",
       "      <td>2000-10-30</td>\n",
       "      <td>2000-10-31</td>\n",
       "      <td>2001-11-15</td>\n",
       "      <td>2001-12-01</td>\n",
       "      <td>Mouvement de Terrain</td>\n",
       "      <td>MVT</td>\n",
       "      <td>Simple</td>\n",
       "      <td>INTE0100649A</td>\n",
       "      <td>Reconnue</td>\n",
       "      <td>NaN</td>\n",
       "      <td>NaN</td>\n",
       "    </tr>\n",
       "    <tr>\n",
       "      <th>...</th>\n",
       "      <td>...</td>\n",
       "      <td>...</td>\n",
       "      <td>...</td>\n",
       "      <td>...</td>\n",
       "      <td>...</td>\n",
       "      <td>...</td>\n",
       "      <td>...</td>\n",
       "      <td>...</td>\n",
       "      <td>...</td>\n",
       "      <td>...</td>\n",
       "      <td>...</td>\n",
       "      <td>...</td>\n",
       "      <td>...</td>\n",
       "    </tr>\n",
       "    <tr>\n",
       "      <th>235457</th>\n",
       "      <td>90035</td>\n",
       "      <td>DORANS</td>\n",
       "      <td>2023-06-01</td>\n",
       "      <td>2023-09-30</td>\n",
       "      <td>2024-06-18</td>\n",
       "      <td>2024-07-02</td>\n",
       "      <td>Sécheresse</td>\n",
       "      <td>SEC</td>\n",
       "      <td>-</td>\n",
       "      <td>IOME2415881A</td>\n",
       "      <td>Non reconnue</td>\n",
       "      <td>90035</td>\n",
       "      <td>47.58474462701379, 6.837247587105974</td>\n",
       "    </tr>\n",
       "    <tr>\n",
       "      <th>235458</th>\n",
       "      <td>90039</td>\n",
       "      <td>ESSERT</td>\n",
       "      <td>2023-01-01</td>\n",
       "      <td>2023-12-31</td>\n",
       "      <td>2024-06-18</td>\n",
       "      <td>2024-07-02</td>\n",
       "      <td>Sécheresse</td>\n",
       "      <td>SEC</td>\n",
       "      <td>-</td>\n",
       "      <td>IOME2415881A</td>\n",
       "      <td>Non reconnue</td>\n",
       "      <td>90039</td>\n",
       "      <td>47.63670149621771, 6.811982362490323</td>\n",
       "    </tr>\n",
       "    <tr>\n",
       "      <th>235459</th>\n",
       "      <td>90045</td>\n",
       "      <td>FECHE L EGLISE</td>\n",
       "      <td>2023-07-01</td>\n",
       "      <td>2023-09-30</td>\n",
       "      <td>2024-06-18</td>\n",
       "      <td>2024-07-02</td>\n",
       "      <td>Sécheresse</td>\n",
       "      <td>SEC</td>\n",
       "      <td>-</td>\n",
       "      <td>IOME2415881A</td>\n",
       "      <td>Non reconnue</td>\n",
       "      <td>90045</td>\n",
       "      <td>47.502176741594155, 6.955880312380269</td>\n",
       "    </tr>\n",
       "    <tr>\n",
       "      <th>235460</th>\n",
       "      <td>90068</td>\n",
       "      <td>MEROUX MOVAL</td>\n",
       "      <td>2023-01-01</td>\n",
       "      <td>2023-10-31</td>\n",
       "      <td>2024-06-18</td>\n",
       "      <td>2024-07-02</td>\n",
       "      <td>Sécheresse</td>\n",
       "      <td>SEC</td>\n",
       "      <td>-</td>\n",
       "      <td>IOME2415881A</td>\n",
       "      <td>Non reconnue</td>\n",
       "      <td>90068</td>\n",
       "      <td>47.59254610319736, 6.9095726149755095</td>\n",
       "    </tr>\n",
       "    <tr>\n",
       "      <th>235461</th>\n",
       "      <td>90095</td>\n",
       "      <td>SUARCE</td>\n",
       "      <td>2023-10-01</td>\n",
       "      <td>2023-12-31</td>\n",
       "      <td>2024-06-18</td>\n",
       "      <td>2024-07-02</td>\n",
       "      <td>Sécheresse</td>\n",
       "      <td>SEC</td>\n",
       "      <td>Simple</td>\n",
       "      <td>IOME2415881A</td>\n",
       "      <td>Reconnue</td>\n",
       "      <td>90095</td>\n",
       "      <td>47.56129565165385, 7.080055686636721</td>\n",
       "    </tr>\n",
       "  </tbody>\n",
       "</table>\n",
       "<p>235462 rows × 13 columns</p>\n",
       "</div>"
      ],
      "text/plain": [
       "        insee           nom_commune debut_evenement fin_evenement date_arrete  \\\n",
       "0        5063              LA GRAVE      2001-03-19    2001-03-25  2001-11-15   \n",
       "1        5128  SAINT ANDRE D EMBRUN      2001-03-29    2001-03-29  2001-11-15   \n",
       "2        6031              CANTARON      2000-11-23    2000-11-24  2001-11-15   \n",
       "3        6031              CANTARON      2000-11-23    2000-11-24  2001-11-15   \n",
       "4        6057            L'ESCARENE      2000-10-30    2000-10-31  2001-11-15   \n",
       "...       ...                   ...             ...           ...         ...   \n",
       "235457  90035                DORANS      2023-06-01    2023-09-30  2024-06-18   \n",
       "235458  90039                ESSERT      2023-01-01    2023-12-31  2024-06-18   \n",
       "235459  90045        FECHE L EGLISE      2023-07-01    2023-09-30  2024-06-18   \n",
       "235460  90068          MEROUX MOVAL      2023-01-01    2023-10-31  2024-06-18   \n",
       "235461  90095                SUARCE      2023-10-01    2023-12-31  2024-06-18   \n",
       "\n",
       "       date_parution_jo                          nom_peril code_peril  \\\n",
       "0            2001-12-01               Mouvement de Terrain        MVT   \n",
       "1            2001-12-01               Mouvement de Terrain        MVT   \n",
       "2            2001-12-01               Mouvement de Terrain        MVT   \n",
       "3            2001-12-01  Inondations et/ou Coulées de Boue        ICB   \n",
       "4            2001-12-01               Mouvement de Terrain        MVT   \n",
       "...                 ...                                ...        ...   \n",
       "235457       2024-07-02                         Sécheresse        SEC   \n",
       "235458       2024-07-02                         Sécheresse        SEC   \n",
       "235459       2024-07-02                         Sécheresse        SEC   \n",
       "235460       2024-07-02                         Sécheresse        SEC   \n",
       "235461       2024-07-02                         Sécheresse        SEC   \n",
       "\n",
       "       franchise      code_nor      decision Code INSEE  \\\n",
       "0         Simple  INTE0100649A      Reconnue        NaN   \n",
       "1         Simple  INTE0100649A      Reconnue        NaN   \n",
       "2         Simple  INTE0100649A      Reconnue        NaN   \n",
       "3         Simple  INTE0100649A      Reconnue        NaN   \n",
       "4         Simple  INTE0100649A      Reconnue        NaN   \n",
       "...          ...           ...           ...        ...   \n",
       "235457         -  IOME2415881A  Non reconnue      90035   \n",
       "235458         -  IOME2415881A  Non reconnue      90039   \n",
       "235459         -  IOME2415881A  Non reconnue      90045   \n",
       "235460         -  IOME2415881A  Non reconnue      90068   \n",
       "235461    Simple  IOME2415881A      Reconnue      90095   \n",
       "\n",
       "                                 geo_point_2d  \n",
       "0                                         NaN  \n",
       "1                                         NaN  \n",
       "2                                         NaN  \n",
       "3                                         NaN  \n",
       "4                                         NaN  \n",
       "...                                       ...  \n",
       "235457   47.58474462701379, 6.837247587105974  \n",
       "235458   47.63670149621771, 6.811982362490323  \n",
       "235459  47.502176741594155, 6.955880312380269  \n",
       "235460  47.59254610319736, 6.9095726149755095  \n",
       "235461   47.56129565165385, 7.080055686636721  \n",
       "\n",
       "[235462 rows x 13 columns]"
      ]
     },
     "execution_count": 43,
     "metadata": {},
     "output_type": "execute_result"
    }
   ],
   "source": [
    "merged_df"
   ]
  },
  {
   "cell_type": "code",
   "execution_count": 45,
   "metadata": {},
   "outputs": [
    {
     "data": {
      "text/plain": [
       "insee                   0\n",
       "nom_commune             0\n",
       "debut_evenement         0\n",
       "fin_evenement           0\n",
       "date_arrete             0\n",
       "date_parution_jo        0\n",
       "nom_peril               0\n",
       "code_peril              0\n",
       "franchise               0\n",
       "code_nor                0\n",
       "decision                0\n",
       "Code INSEE          13818\n",
       "geo_point_2d        13818\n",
       "dtype: int64"
      ]
     },
     "execution_count": 45,
     "metadata": {},
     "output_type": "execute_result"
    }
   ],
   "source": [
    "merged_df.isna().sum() "
   ]
  },
  {
   "cell_type": "code",
   "execution_count": 46,
   "metadata": {},
   "outputs": [
    {
     "name": "stdout",
     "output_type": "stream",
     "text": [
      "Latitude: 46.2337295, Longitude: 5.3538775\n"
     ]
    }
   ],
   "source": [
    "from geopy.geocoders import Nominatim\n",
    "\n",
    "# Créez un objet géocodeur\n",
    "geolocator = Nominatim(user_agent=\"my_geocoder\")\n",
    "\n",
    "# Recherchez les coordonnées pour le code INSEE 5063\n",
    "location = geolocator.geocode(\"5063, France\")\n",
    "\n",
    "if location:\n",
    "    print(f\"Latitude: {location.latitude}, Longitude: {location.longitude}\")\n",
    "else:\n",
    "    print(\"Code INSEE 5063 introuvable.\")\n"
   ]
  },
  {
   "cell_type": "code",
   "execution_count": 48,
   "metadata": {},
   "outputs": [
    {
     "data": {
      "text/plain": [
       "3100"
      ]
     },
     "execution_count": 48,
     "metadata": {},
     "output_type": "execute_result"
    }
   ],
   "source": [
    "n_distinct_values = merged_df[merged_df['geo_point_2d'].isnull()]['insee'].nunique()\n",
    "n_distinct_values \n"
   ]
  },
  {
   "cell_type": "code",
   "execution_count": 49,
   "metadata": {},
   "outputs": [
    {
     "data": {
      "text/plain": [
       "0         5063\n",
       "1         5128\n",
       "2         6031\n",
       "4         6057\n",
       "7         6113\n",
       "          ... \n",
       "231036    5108\n",
       "231039    5152\n",
       "231042    5183\n",
       "231203    4137\n",
       "232161    1105\n",
       "Name: insee, Length: 3100, dtype: object"
      ]
     },
     "execution_count": 49,
     "metadata": {},
     "output_type": "execute_result"
    }
   ],
   "source": [
    "distinct_values = merged_df[merged_df['geo_point_2d'].isnull()]['insee'].drop_duplicates()\n",
    "distinct_values "
   ]
  },
  {
   "cell_type": "code",
   "execution_count": 51,
   "metadata": {},
   "outputs": [
    {
     "data": {
      "text/html": [
       "<div>\n",
       "<style scoped>\n",
       "    .dataframe tbody tr th:only-of-type {\n",
       "        vertical-align: middle;\n",
       "    }\n",
       "\n",
       "    .dataframe tbody tr th {\n",
       "        vertical-align: top;\n",
       "    }\n",
       "\n",
       "    .dataframe thead th {\n",
       "        text-align: right;\n",
       "    }\n",
       "</style>\n",
       "<table border=\"1\" class=\"dataframe\">\n",
       "  <thead>\n",
       "    <tr style=\"text-align: right;\">\n",
       "      <th></th>\n",
       "      <th>insee</th>\n",
       "      <th>nom_commune</th>\n",
       "      <th>debut_evenement</th>\n",
       "      <th>fin_evenement</th>\n",
       "      <th>date_arrete</th>\n",
       "      <th>date_parution_jo</th>\n",
       "      <th>nom_peril</th>\n",
       "      <th>code_peril</th>\n",
       "      <th>franchise</th>\n",
       "      <th>code_nor</th>\n",
       "      <th>decision</th>\n",
       "    </tr>\n",
       "  </thead>\n",
       "  <tbody>\n",
       "    <tr>\n",
       "      <th>287380</th>\n",
       "      <td>5152</td>\n",
       "      <td>SAINT MAURICE EN VALGODEMARD</td>\n",
       "      <td>2023-10-19</td>\n",
       "      <td>2023-10-20</td>\n",
       "      <td>2024-01-18</td>\n",
       "      <td>2024-01-30</td>\n",
       "      <td>Inondations et/ou Coulées de Boue</td>\n",
       "      <td>ICB</td>\n",
       "      <td>Simple</td>\n",
       "      <td>IOME2400969A</td>\n",
       "      <td>Reconnue</td>\n",
       "    </tr>\n",
       "  </tbody>\n",
       "</table>\n",
       "</div>"
      ],
      "text/plain": [
       "       insee                   nom_commune debut_evenement fin_evenement  \\\n",
       "287380  5152  SAINT MAURICE EN VALGODEMARD      2023-10-19    2023-10-20   \n",
       "\n",
       "       date_arrete date_parution_jo                          nom_peril  \\\n",
       "287380  2024-01-18       2024-01-30  Inondations et/ou Coulées de Boue   \n",
       "\n",
       "       code_peril franchise      code_nor  decision  \n",
       "287380        ICB    Simple  IOME2400969A  Reconnue  "
      ]
     },
     "execution_count": 51,
     "metadata": {},
     "output_type": "execute_result"
    }
   ],
   "source": [
    "df[df['insee']=='5152']"
   ]
  },
  {
   "cell_type": "code",
   "execution_count": 52,
   "metadata": {},
   "outputs": [],
   "source": [
    "distinct_col1b = df['insee'].unique()"
   ]
  },
  {
   "cell_type": "code",
   "execution_count": 54,
   "metadata": {},
   "outputs": [
    {
     "data": {
      "text/plain": [
       "37496"
      ]
     },
     "execution_count": 54,
     "metadata": {},
     "output_type": "execute_result"
    }
   ],
   "source": [
    "len(distinct_col1)"
   ]
  },
  {
   "cell_type": "code",
   "execution_count": 55,
   "metadata": {},
   "outputs": [
    {
     "data": {
      "text/plain": [
       "36742"
      ]
     },
     "execution_count": 55,
     "metadata": {},
     "output_type": "execute_result"
    }
   ],
   "source": [
    "len(df_communes['Code INSEE'])"
   ]
  },
  {
   "cell_type": "code",
   "execution_count": 56,
   "metadata": {},
   "outputs": [
    {
     "ename": "AttributeError",
     "evalue": "'numpy.ndarray' object has no attribute 'isin'",
     "output_type": "error",
     "traceback": [
      "\u001b[0;31m---------------------------------------------------------------------------\u001b[0m",
      "\u001b[0;31mAttributeError\u001b[0m                            Traceback (most recent call last)",
      "Cell \u001b[0;32mIn[56], line 1\u001b[0m\n\u001b[0;32m----> 1\u001b[0m df1[\u001b[38;5;124m'\u001b[39m\u001b[38;5;124mis_in_df2\u001b[39m\u001b[38;5;124m'\u001b[39m] \u001b[38;5;241m=\u001b[39m \u001b[43mdistinct_col1\u001b[49m\u001b[38;5;241;43m.\u001b[39;49m\u001b[43misin\u001b[49m(df_communes[\u001b[38;5;124m'\u001b[39m\u001b[38;5;124mCode INSEE\u001b[39m\u001b[38;5;124m'\u001b[39m])\n",
      "\u001b[0;31mAttributeError\u001b[0m: 'numpy.ndarray' object has no attribute 'isin'"
     ]
    }
   ],
   "source": [
    "\n",
    "df1['is_in_df2'] = distinct_col1.isin(df_communes['Code INSEE'])"
   ]
  },
  {
   "cell_type": "code",
   "execution_count": null,
   "metadata": {},
   "outputs": [],
   "source": [
    "# Ensure that the columns are of the same type\n",
    "df1['col1'] = df1['col1'].astype(str)\n",
    "df2['col2'] = df2['col2'].astype(str)\n",
    "\n",
    "# Find distinct values of col1 of df1 that are not in col2 of df2\n",
    "distinct_values = df1[~df1['col1'].isin(df2['col2'])]['col1'].nunique()\n",
    "\n",
    "print(f'There are {distinct_values} distinct values of col1 in df1 that are not in col2 of df2.')\n"
   ]
  },
  {
   "cell_type": "code",
   "execution_count": 57,
   "metadata": {},
   "outputs": [
    {
     "data": {
      "text/plain": [
       "3100"
      ]
     },
     "execution_count": 57,
     "metadata": {},
     "output_type": "execute_result"
    }
   ],
   "source": [
    "distinct_values = df[~df['insee'].isin(df_communes['Code INSEE'])]['insee'].nunique()\n",
    "distinct_values"
   ]
  }
 ],
 "metadata": {
  "kernelspec": {
   "display_name": "base",
   "language": "python",
   "name": "python3"
  },
  "language_info": {
   "codemirror_mode": {
    "name": "ipython",
    "version": 3
   },
   "file_extension": ".py",
   "mimetype": "text/x-python",
   "name": "python",
   "nbconvert_exporter": "python",
   "pygments_lexer": "ipython3",
   "version": "3.12.3"
  }
 },
 "nbformat": 4,
 "nbformat_minor": 2
}
