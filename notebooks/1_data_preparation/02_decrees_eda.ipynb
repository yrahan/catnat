{
 "cells": [
  {
   "cell_type": "markdown",
   "metadata": {},
   "source": [
    "# <p style=\"text-align: center;\">Decrees EDA</p>"
   ]
  },
  {
   "cell_type": "markdown",
   "metadata": {},
   "source": [
    "## import libraries"
   ]
  },
  {
   "cell_type": "code",
   "execution_count": 2,
   "metadata": {},
   "outputs": [],
   "source": [
    "import pandas as pd\n",
    "import glob\n",
    "import os"
   ]
  },
  {
   "cell_type": "markdown",
   "metadata": {},
   "source": [
    "## set parameters"
   ]
  },
  {
   "cell_type": "code",
   "execution_count": 3,
   "metadata": {},
   "outputs": [],
   "source": [
    "decree_filename_base = 'arrete_'\n",
    "decrees_folder_name = './../../data/raw/decrees'\n",
    "processed_data_folder_name = './../../data/processed'\n",
    "decrees_filename = 'decrees.parquet'"
   ]
  },
  {
   "cell_type": "markdown",
   "metadata": {},
   "source": [
    "## import Decrees"
   ]
  },
  {
   "cell_type": "code",
   "execution_count": 4,
   "metadata": {},
   "outputs": [],
   "source": [
    "\n",
    "\n",
    "df = pd.read_parquet(os.path.join(processed_data_folder_name, decrees_filename))"
   ]
  },
  {
   "cell_type": "code",
   "execution_count": 5,
   "metadata": {},
   "outputs": [
    {
     "data": {
      "text/html": [
       "<div>\n",
       "<style scoped>\n",
       "    .dataframe tbody tr th:only-of-type {\n",
       "        vertical-align: middle;\n",
       "    }\n",
       "\n",
       "    .dataframe tbody tr th {\n",
       "        vertical-align: top;\n",
       "    }\n",
       "\n",
       "    .dataframe thead th {\n",
       "        text-align: right;\n",
       "    }\n",
       "</style>\n",
       "<table border=\"1\" class=\"dataframe\">\n",
       "  <thead>\n",
       "    <tr style=\"text-align: right;\">\n",
       "      <th></th>\n",
       "      <th>insee</th>\n",
       "      <th>nom_commune</th>\n",
       "      <th>debut_evenement</th>\n",
       "      <th>fin_evenement</th>\n",
       "      <th>date_arrete</th>\n",
       "      <th>date_parution_jo</th>\n",
       "      <th>nom_peril</th>\n",
       "      <th>code_peril</th>\n",
       "      <th>franchise</th>\n",
       "      <th>code_nor</th>\n",
       "      <th>decision</th>\n",
       "    </tr>\n",
       "  </thead>\n",
       "  <tbody>\n",
       "    <tr>\n",
       "      <th>0</th>\n",
       "      <td>01386</td>\n",
       "      <td>SAINT SORLIN EN BUGEY</td>\n",
       "      <td>1982-11-06</td>\n",
       "      <td>1982-11-10</td>\n",
       "      <td>1982-11-30</td>\n",
       "      <td>1982-12-02</td>\n",
       "      <td>Tempête</td>\n",
       "      <td>TMP</td>\n",
       "      <td>Simple</td>\n",
       "      <td>None</td>\n",
       "      <td>Reconnue</td>\n",
       "    </tr>\n",
       "    <tr>\n",
       "      <th>1</th>\n",
       "      <td>01386</td>\n",
       "      <td>SAINT SORLIN EN BUGEY</td>\n",
       "      <td>1982-11-06</td>\n",
       "      <td>1982-11-10</td>\n",
       "      <td>1982-11-30</td>\n",
       "      <td>1982-12-02</td>\n",
       "      <td>Inondations et/ou Coulées de Boue</td>\n",
       "      <td>ICB</td>\n",
       "      <td>Simple</td>\n",
       "      <td>None</td>\n",
       "      <td>Reconnue</td>\n",
       "    </tr>\n",
       "    <tr>\n",
       "      <th>2</th>\n",
       "      <td>06073</td>\n",
       "      <td>ISOLA</td>\n",
       "      <td>1982-11-06</td>\n",
       "      <td>1982-11-10</td>\n",
       "      <td>1982-11-30</td>\n",
       "      <td>1982-12-02</td>\n",
       "      <td>Tempête</td>\n",
       "      <td>TMP</td>\n",
       "      <td>Simple</td>\n",
       "      <td>None</td>\n",
       "      <td>Reconnue</td>\n",
       "    </tr>\n",
       "    <tr>\n",
       "      <th>3</th>\n",
       "      <td>06073</td>\n",
       "      <td>ISOLA</td>\n",
       "      <td>1982-11-06</td>\n",
       "      <td>1982-11-10</td>\n",
       "      <td>1982-11-30</td>\n",
       "      <td>1982-12-02</td>\n",
       "      <td>Inondations et/ou Coulées de Boue</td>\n",
       "      <td>ICB</td>\n",
       "      <td>Simple</td>\n",
       "      <td>None</td>\n",
       "      <td>Reconnue</td>\n",
       "    </tr>\n",
       "    <tr>\n",
       "      <th>4</th>\n",
       "      <td>06088</td>\n",
       "      <td>NICE</td>\n",
       "      <td>1982-11-06</td>\n",
       "      <td>1982-11-10</td>\n",
       "      <td>1982-11-30</td>\n",
       "      <td>1982-12-02</td>\n",
       "      <td>Tempête</td>\n",
       "      <td>TMP</td>\n",
       "      <td>Simple</td>\n",
       "      <td>None</td>\n",
       "      <td>Reconnue</td>\n",
       "    </tr>\n",
       "  </tbody>\n",
       "</table>\n",
       "</div>"
      ],
      "text/plain": [
       "   insee            nom_commune debut_evenement fin_evenement date_arrete  \\\n",
       "0  01386  SAINT SORLIN EN BUGEY      1982-11-06    1982-11-10  1982-11-30   \n",
       "1  01386  SAINT SORLIN EN BUGEY      1982-11-06    1982-11-10  1982-11-30   \n",
       "2  06073                  ISOLA      1982-11-06    1982-11-10  1982-11-30   \n",
       "3  06073                  ISOLA      1982-11-06    1982-11-10  1982-11-30   \n",
       "4  06088                   NICE      1982-11-06    1982-11-10  1982-11-30   \n",
       "\n",
       "  date_parution_jo                          nom_peril code_peril franchise  \\\n",
       "0       1982-12-02                            Tempête        TMP    Simple   \n",
       "1       1982-12-02  Inondations et/ou Coulées de Boue        ICB    Simple   \n",
       "2       1982-12-02                            Tempête        TMP    Simple   \n",
       "3       1982-12-02  Inondations et/ou Coulées de Boue        ICB    Simple   \n",
       "4       1982-12-02                            Tempête        TMP    Simple   \n",
       "\n",
       "  code_nor  decision  \n",
       "0     None  Reconnue  \n",
       "1     None  Reconnue  \n",
       "2     None  Reconnue  \n",
       "3     None  Reconnue  \n",
       "4     None  Reconnue  "
      ]
     },
     "execution_count": 5,
     "metadata": {},
     "output_type": "execute_result"
    }
   ],
   "source": [
    "df.head()"
   ]
  }
 ],
 "metadata": {
  "kernelspec": {
   "display_name": "base",
   "language": "python",
   "name": "python3"
  },
  "language_info": {
   "codemirror_mode": {
    "name": "ipython",
    "version": 3
   },
   "file_extension": ".py",
   "mimetype": "text/x-python",
   "name": "python",
   "nbconvert_exporter": "python",
   "pygments_lexer": "ipython3",
   "version": "3.12.3"
  }
 },
 "nbformat": 4,
 "nbformat_minor": 2
}
