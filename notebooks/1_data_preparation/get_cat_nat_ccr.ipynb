{
 "cells": [
  {
   "cell_type": "markdown",
   "metadata": {},
   "source": [
    "# <p style=\"text-align: center;\">Declarations of Natural Disaster Data</p>"
   ]
  },
  {
   "cell_type": "code",
   "execution_count": 133,
   "metadata": {},
   "outputs": [],
   "source": [
    "# set parameters\n",
    "# url of one download link of a decree. we'll guess and build a list of the other links from it.\n",
    "decree_url=('https://catastrophes-naturelles.ccr.fr/detail-arrete?'\n",
    "            'p_p_id=fr_ccr_web_arretes_portlet_CatnatArretePortlet_INSTANCE_pbThEG0b7gDm&'\n",
    "            'p_p_lifecycle=2&p_p_state=normal&p_p_mode=view&p_p_cacheability=cacheLevelPage&'\n",
    "            '_fr_ccr_web_arretes_portlet_CatnatArretePortlet_INSTANCE_pbThEG0b7gDm_codeArrete=000859&'\n",
    "            '_fr_ccr_web_arretes_portlet_CatnatArretePortlet_INSTANCE_pbThEG0b7gDm_resource_action=action_download')"
   ]
  },
  {
   "cell_type": "code",
   "execution_count": 134,
   "metadata": {},
   "outputs": [],
   "source": [
    "#decree_url='https://catastrophes-naturelles.ccr.fr/detail-arrete?codeArrete=000048&insee=&departement='"
   ]
  },
  {
   "cell_type": "code",
   "execution_count": 135,
   "metadata": {},
   "outputs": [],
   "source": [
    "decree_filename_base = 'arrete_'\n",
    "decrees_folder_name = './../../data/raw/decrees'\n",
    "decree_extension_name = 'csv'"
   ]
  },
  {
   "cell_type": "code",
   "execution_count": 136,
   "metadata": {},
   "outputs": [],
   "source": [
    "# get libraries\n",
    "from urllib.request import urlopen\n",
    "import requests\n",
    "\n",
    "import re\n",
    "import os"
   ]
  },
  {
   "cell_type": "code",
   "execution_count": 142,
   "metadata": {},
   "outputs": [],
   "source": [
    "def get_decree_id(url):\n",
    "    # Extract the decree code using regex\n",
    "    match = re.search(r\"_codeArrete=(\\d+)\", url)\n",
    "    if match:\n",
    "        code = match.group(1)\n",
    "        return f\"{code}\"\n",
    "    else:\n",
    "        return None"
   ]
  },
  {
   "cell_type": "code",
   "execution_count": 143,
   "metadata": {},
   "outputs": [],
   "source": [
    "def generate_decree_filename(url, base_name='arrete_', extension='csv'):\n",
    "    # Extract the decree number using regex\n",
    "    return f\"{base_name}{code}.{extension}\"   "
   ]
  },
  {
   "cell_type": "code",
   "execution_count": 144,
   "metadata": {},
   "outputs": [
    {
     "data": {
      "text/plain": [
       "'000859'"
      ]
     },
     "execution_count": 144,
     "metadata": {},
     "output_type": "execute_result"
    }
   ],
   "source": [
    "get_decree_id(decree_url)"
   ]
  },
  {
   "cell_type": "code",
   "execution_count": 145,
   "metadata": {},
   "outputs": [
    {
     "data": {
      "text/plain": [
       "'https://catastrophes-naturelles.ccr.fr/detail-arrete?p_p_id=fr_ccr_web_arretes_portlet_CatnatArretePortlet_INSTANCE_pbThEG0b7gDm&p_p_lifecycle=2&p_p_state=normal&p_p_mode=view&p_p_cacheability=cacheLevelPage&_fr_ccr_web_arretes_portlet_CatnatArretePortlet_INSTANCE_pbThEG0b7gDm_codeArrete='"
      ]
     },
     "execution_count": 145,
     "metadata": {},
     "output_type": "execute_result"
    }
   ],
   "source": [
    "decree_url.split(get_decree_id(decree_url))[0]"
   ]
  },
  {
   "cell_type": "code",
   "execution_count": 146,
   "metadata": {},
   "outputs": [
    {
     "data": {
      "text/plain": [
       "'&_fr_ccr_web_arretes_portlet_CatnatArretePortlet_INSTANCE_pbThEG0b7gDm_resource_action=action_download'"
      ]
     },
     "execution_count": 146,
     "metadata": {},
     "output_type": "execute_result"
    }
   ],
   "source": [
    "decree_url.split(get_decree_id(decree_url))[1]"
   ]
  },
  {
   "cell_type": "code",
   "execution_count": 148,
   "metadata": {},
   "outputs": [],
   "source": [
    "def generate_urls_list(url, start=1, end=859):\n",
    "    # return  list of urls containing decrees from start to end\n",
    "    \n",
    "    base_url = url.split(get_decree_id(url))[0]\n",
    "    tail_url = url.split(get_decree_id(url))[1]\n",
    "\n",
    "    # Initialize an empty list to store the URLs\n",
    "    url_list = []\n",
    "\n",
    "    # Generate URLs with codeArrete values from 1 to 859\n",
    "    for code in range(1, 860):\n",
    "        url = f\"{base_url}{code:06d}{tail_url}\"\n",
    "        url_list.append(url)\n",
    "\n",
    "    return url_list\n"
   ]
  },
  {
   "cell_type": "code",
   "execution_count": 156,
   "metadata": {},
   "outputs": [],
   "source": [
    "urls = generate_urls_list(decree_url)"
   ]
  },
  {
   "cell_type": "code",
   "execution_count": 157,
   "metadata": {},
   "outputs": [
    {
     "data": {
      "text/plain": [
       "859"
      ]
     },
     "execution_count": 157,
     "metadata": {},
     "output_type": "execute_result"
    }
   ],
   "source": [
    "len(urls)"
   ]
  },
  {
   "cell_type": "code",
   "execution_count": 158,
   "metadata": {},
   "outputs": [
    {
     "name": "stdout",
     "output_type": "stream",
     "text": [
      "https://catastrophes-naturelles.ccr.fr/detail-arrete?p_p_id=fr_ccr_web_arretes_portlet_CatnatArretePortlet_INSTANCE_pbThEG0b7gDm&p_p_lifecycle=2&p_p_state=normal&p_p_mode=view&p_p_cacheability=cacheLevelPage&_fr_ccr_web_arretes_portlet_CatnatArretePortlet_INSTANCE_pbThEG0b7gDm_codeArrete=000001&_fr_ccr_web_arretes_portlet_CatnatArretePortlet_INSTANCE_pbThEG0b7gDm_resource_action=action_download\n",
      "https://catastrophes-naturelles.ccr.fr/detail-arrete?p_p_id=fr_ccr_web_arretes_portlet_CatnatArretePortlet_INSTANCE_pbThEG0b7gDm&p_p_lifecycle=2&p_p_state=normal&p_p_mode=view&p_p_cacheability=cacheLevelPage&_fr_ccr_web_arretes_portlet_CatnatArretePortlet_INSTANCE_pbThEG0b7gDm_codeArrete=000002&_fr_ccr_web_arretes_portlet_CatnatArretePortlet_INSTANCE_pbThEG0b7gDm_resource_action=action_download\n",
      "https://catastrophes-naturelles.ccr.fr/detail-arrete?p_p_id=fr_ccr_web_arretes_portlet_CatnatArretePortlet_INSTANCE_pbThEG0b7gDm&p_p_lifecycle=2&p_p_state=normal&p_p_mode=view&p_p_cacheability=cacheLevelPage&_fr_ccr_web_arretes_portlet_CatnatArretePortlet_INSTANCE_pbThEG0b7gDm_codeArrete=000003&_fr_ccr_web_arretes_portlet_CatnatArretePortlet_INSTANCE_pbThEG0b7gDm_resource_action=action_download\n",
      "https://catastrophes-naturelles.ccr.fr/detail-arrete?p_p_id=fr_ccr_web_arretes_portlet_CatnatArretePortlet_INSTANCE_pbThEG0b7gDm&p_p_lifecycle=2&p_p_state=normal&p_p_mode=view&p_p_cacheability=cacheLevelPage&_fr_ccr_web_arretes_portlet_CatnatArretePortlet_INSTANCE_pbThEG0b7gDm_codeArrete=000004&_fr_ccr_web_arretes_portlet_CatnatArretePortlet_INSTANCE_pbThEG0b7gDm_resource_action=action_download\n",
      "https://catastrophes-naturelles.ccr.fr/detail-arrete?p_p_id=fr_ccr_web_arretes_portlet_CatnatArretePortlet_INSTANCE_pbThEG0b7gDm&p_p_lifecycle=2&p_p_state=normal&p_p_mode=view&p_p_cacheability=cacheLevelPage&_fr_ccr_web_arretes_portlet_CatnatArretePortlet_INSTANCE_pbThEG0b7gDm_codeArrete=000005&_fr_ccr_web_arretes_portlet_CatnatArretePortlet_INSTANCE_pbThEG0b7gDm_resource_action=action_download\n"
     ]
    }
   ],
   "source": [
    "# Print the first few URLs (optional)\n",
    "for i in range(5):\n",
    "    print(urls[i])"
   ]
  },
  {
   "cell_type": "code",
   "execution_count": 159,
   "metadata": {},
   "outputs": [
    {
     "name": "stdout",
     "output_type": "stream",
     "text": [
      "/home/onyxia/work/catnat/notebooks/1_data_preparation\n"
     ]
    }
   ],
   "source": [
    "import os\n",
    "current_path = os.getcwd()\n",
    "print(current_path)"
   ]
  },
  {
   "cell_type": "code",
   "execution_count": 160,
   "metadata": {},
   "outputs": [
    {
     "name": "stdout",
     "output_type": "stream",
     "text": [
      "arrete_\n",
      "./../../data/raw/decrees\n",
      "csv\n"
     ]
    }
   ],
   "source": [
    "print(decree_filename_base)\n",
    "print(decrees_folder_name)\n",
    "print(decree_extension_name)"
   ]
  },
  {
   "cell_type": "code",
   "execution_count": 162,
   "metadata": {},
   "outputs": [
    {
     "name": "stdout",
     "output_type": "stream",
     "text": [
      "arrete_000046.csv\n",
      "https://catastrophes-naturelles.ccr.fr/detail-arrete?p_p_id=fr_ccr_web_arretes_portlet_CatnatArretePortlet_INSTANCE_pbThEG0b7gDm&p_p_lifecycle=2&p_p_state=normal&p_p_mode=view&p_p_cacheability=cacheLevelPage&_fr_ccr_web_arretes_portlet_CatnatArretePortlet_INSTANCE_pbThEG0b7gDm_codeArrete=000046&_fr_ccr_web_arretes_portlet_CatnatArretePortlet_INSTANCE_pbThEG0b7gDm_resource_action=action_download\n",
      "./../../data/raw/decrees/arrete_000046.csv\n",
      "2.129\n",
      "arrete_000047.csv\n",
      "https://catastrophes-naturelles.ccr.fr/detail-arrete?p_p_id=fr_ccr_web_arretes_portlet_CatnatArretePortlet_INSTANCE_pbThEG0b7gDm&p_p_lifecycle=2&p_p_state=normal&p_p_mode=view&p_p_cacheability=cacheLevelPage&_fr_ccr_web_arretes_portlet_CatnatArretePortlet_INSTANCE_pbThEG0b7gDm_codeArrete=000047&_fr_ccr_web_arretes_portlet_CatnatArretePortlet_INSTANCE_pbThEG0b7gDm_resource_action=action_download\n",
      "./../../data/raw/decrees/arrete_000047.csv\n",
      "2.178\n",
      "arrete_000048.csv\n",
      "https://catastrophes-naturelles.ccr.fr/detail-arrete?p_p_id=fr_ccr_web_arretes_portlet_CatnatArretePortlet_INSTANCE_pbThEG0b7gDm&p_p_lifecycle=2&p_p_state=normal&p_p_mode=view&p_p_cacheability=cacheLevelPage&_fr_ccr_web_arretes_portlet_CatnatArretePortlet_INSTANCE_pbThEG0b7gDm_codeArrete=000048&_fr_ccr_web_arretes_portlet_CatnatArretePortlet_INSTANCE_pbThEG0b7gDm_resource_action=action_download\n",
      "./../../data/raw/decrees/arrete_000048.csv\n",
      "2.224\n",
      "arrete_000049.csv\n",
      "https://catastrophes-naturelles.ccr.fr/detail-arrete?p_p_id=fr_ccr_web_arretes_portlet_CatnatArretePortlet_INSTANCE_pbThEG0b7gDm&p_p_lifecycle=2&p_p_state=normal&p_p_mode=view&p_p_cacheability=cacheLevelPage&_fr_ccr_web_arretes_portlet_CatnatArretePortlet_INSTANCE_pbThEG0b7gDm_codeArrete=000049&_fr_ccr_web_arretes_portlet_CatnatArretePortlet_INSTANCE_pbThEG0b7gDm_resource_action=action_download\n",
      "./../../data/raw/decrees/arrete_000049.csv\n",
      "1.993\n",
      "arrete_000050.csv\n",
      "https://catastrophes-naturelles.ccr.fr/detail-arrete?p_p_id=fr_ccr_web_arretes_portlet_CatnatArretePortlet_INSTANCE_pbThEG0b7gDm&p_p_lifecycle=2&p_p_state=normal&p_p_mode=view&p_p_cacheability=cacheLevelPage&_fr_ccr_web_arretes_portlet_CatnatArretePortlet_INSTANCE_pbThEG0b7gDm_codeArrete=000050&_fr_ccr_web_arretes_portlet_CatnatArretePortlet_INSTANCE_pbThEG0b7gDm_resource_action=action_download\n",
      "./../../data/raw/decrees/arrete_000050.csv\n",
      "3.009\n",
      "arrete_000051.csv\n",
      "https://catastrophes-naturelles.ccr.fr/detail-arrete?p_p_id=fr_ccr_web_arretes_portlet_CatnatArretePortlet_INSTANCE_pbThEG0b7gDm&p_p_lifecycle=2&p_p_state=normal&p_p_mode=view&p_p_cacheability=cacheLevelPage&_fr_ccr_web_arretes_portlet_CatnatArretePortlet_INSTANCE_pbThEG0b7gDm_codeArrete=000051&_fr_ccr_web_arretes_portlet_CatnatArretePortlet_INSTANCE_pbThEG0b7gDm_resource_action=action_download\n",
      "./../../data/raw/decrees/arrete_000051.csv\n",
      "4.264\n",
      "arrete_000052.csv\n",
      "https://catastrophes-naturelles.ccr.fr/detail-arrete?p_p_id=fr_ccr_web_arretes_portlet_CatnatArretePortlet_INSTANCE_pbThEG0b7gDm&p_p_lifecycle=2&p_p_state=normal&p_p_mode=view&p_p_cacheability=cacheLevelPage&_fr_ccr_web_arretes_portlet_CatnatArretePortlet_INSTANCE_pbThEG0b7gDm_codeArrete=000052&_fr_ccr_web_arretes_portlet_CatnatArretePortlet_INSTANCE_pbThEG0b7gDm_resource_action=action_download\n",
      "./../../data/raw/decrees/arrete_000052.csv\n",
      "2.691\n",
      "arrete_000053.csv\n",
      "https://catastrophes-naturelles.ccr.fr/detail-arrete?p_p_id=fr_ccr_web_arretes_portlet_CatnatArretePortlet_INSTANCE_pbThEG0b7gDm&p_p_lifecycle=2&p_p_state=normal&p_p_mode=view&p_p_cacheability=cacheLevelPage&_fr_ccr_web_arretes_portlet_CatnatArretePortlet_INSTANCE_pbThEG0b7gDm_codeArrete=000053&_fr_ccr_web_arretes_portlet_CatnatArretePortlet_INSTANCE_pbThEG0b7gDm_resource_action=action_download\n",
      "./../../data/raw/decrees/arrete_000053.csv\n",
      "0.906\n",
      "arrete_000054.csv\n",
      "https://catastrophes-naturelles.ccr.fr/detail-arrete?p_p_id=fr_ccr_web_arretes_portlet_CatnatArretePortlet_INSTANCE_pbThEG0b7gDm&p_p_lifecycle=2&p_p_state=normal&p_p_mode=view&p_p_cacheability=cacheLevelPage&_fr_ccr_web_arretes_portlet_CatnatArretePortlet_INSTANCE_pbThEG0b7gDm_codeArrete=000054&_fr_ccr_web_arretes_portlet_CatnatArretePortlet_INSTANCE_pbThEG0b7gDm_resource_action=action_download\n",
      "./../../data/raw/decrees/arrete_000054.csv\n",
      "1.619\n",
      "arrete_000055.csv\n",
      "https://catastrophes-naturelles.ccr.fr/detail-arrete?p_p_id=fr_ccr_web_arretes_portlet_CatnatArretePortlet_INSTANCE_pbThEG0b7gDm&p_p_lifecycle=2&p_p_state=normal&p_p_mode=view&p_p_cacheability=cacheLevelPage&_fr_ccr_web_arretes_portlet_CatnatArretePortlet_INSTANCE_pbThEG0b7gDm_codeArrete=000055&_fr_ccr_web_arretes_portlet_CatnatArretePortlet_INSTANCE_pbThEG0b7gDm_resource_action=action_download\n",
      "./../../data/raw/decrees/arrete_000055.csv\n",
      "0.488\n"
     ]
    }
   ],
   "source": [
    "\n",
    "#folder_name = 'my_csv_folder'\n",
    "if not os.path.exists(decrees_folder_name):\n",
    "    os.makedirs(decrees_folder_name)\n",
    "for url in urls[45:55]:    \n",
    "    local_filename = f\"{decree_filename_base}{get_decree_id(url)}.{decree_extension_name}\"\n",
    "    print(local_filename)\n",
    "    path = os.path.join(decrees_folder_name, local_filename)\n",
    "    print(url)\n",
    "    print(path)\n",
    "\n",
    "    with open(path, 'w', encoding='utf-8') as f:\n",
    "        f.write(decoded_content)\n",
    "\n",
    "    secondstowait = random.randint(10, 5000)/1000\n",
    "\n",
    "\n",
    "    # Sleep for the total random time\n",
    "    time.sleep(secondstowait)\n",
    "    print(secondstowait)        "
   ]
  },
  {
   "cell_type": "code",
   "execution_count": 132,
   "metadata": {},
   "outputs": [
    {
     "data": {
      "text/plain": [
       "['https://catastrophes-naturelles.ccr.fr/detail-arrete?codeArrete=000046&insee=&departement=',\n",
       " 'https://catastrophes-naturelles.ccr.fr/detail-arrete?codeArrete=000047&insee=&departement=',\n",
       " 'https://catastrophes-naturelles.ccr.fr/detail-arrete?codeArrete=000048&insee=&departement=',\n",
       " 'https://catastrophes-naturelles.ccr.fr/detail-arrete?codeArrete=000049&insee=&departement=',\n",
       " 'https://catastrophes-naturelles.ccr.fr/detail-arrete?codeArrete=000050&insee=&departement=',\n",
       " 'https://catastrophes-naturelles.ccr.fr/detail-arrete?codeArrete=000051&insee=&departement=',\n",
       " 'https://catastrophes-naturelles.ccr.fr/detail-arrete?codeArrete=000052&insee=&departement=',\n",
       " 'https://catastrophes-naturelles.ccr.fr/detail-arrete?codeArrete=000053&insee=&departement=',\n",
       " 'https://catastrophes-naturelles.ccr.fr/detail-arrete?codeArrete=000054&insee=&departement=',\n",
       " 'https://catastrophes-naturelles.ccr.fr/detail-arrete?codeArrete=000055&insee=&departement=']"
      ]
     },
     "execution_count": 132,
     "metadata": {},
     "output_type": "execute_result"
    }
   ],
   "source": [
    "urls[45:55]"
   ]
  },
  {
   "cell_type": "code",
   "execution_count": 42,
   "metadata": {},
   "outputs": [
    {
     "data": {
      "text/plain": [
       "'arrete_000859.csv'"
      ]
     },
     "execution_count": 42,
     "metadata": {},
     "output_type": "execute_result"
    }
   ],
   "source": [
    "get_decree(url)"
   ]
  },
  {
   "cell_type": "code",
   "execution_count": 84,
   "metadata": {},
   "outputs": [
    {
     "name": "stdout",
     "output_type": "stream",
     "text": [
      "3.725\n"
     ]
    }
   ],
   "source": [
    "import random\n",
    "import time\n",
    "\n",
    "# Generate random seconds and minutes\n",
    "secondstowait = random.randint(10, 5000)/1000\n",
    "\n",
    "\n",
    "# Sleep for the total random time\n",
    "time.sleep(secondstowait)\n",
    "print(secondstowait)"
   ]
  },
  {
   "cell_type": "code",
   "execution_count": 77,
   "metadata": {},
   "outputs": [
    {
     "data": {
      "text/plain": [
       "45.0"
      ]
     },
     "execution_count": 77,
     "metadata": {},
     "output_type": "execute_result"
    }
   ],
   "source": [
    "3*900/60"
   ]
  }
 ],
 "metadata": {
  "kernelspec": {
   "display_name": "base",
   "language": "python",
   "name": "python3"
  },
  "language_info": {
   "codemirror_mode": {
    "name": "ipython",
    "version": 3
   },
   "file_extension": ".py",
   "mimetype": "text/x-python",
   "name": "python",
   "nbconvert_exporter": "python",
   "pygments_lexer": "ipython3",
   "version": "3.12.3"
  }
 },
 "nbformat": 4,
 "nbformat_minor": 2
}
