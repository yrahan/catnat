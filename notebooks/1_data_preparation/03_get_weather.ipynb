{
 "cells": [
  {
   "cell_type": "markdown",
   "metadata": {},
   "source": [
    "# <p style=\"text-align: center;\">Get Weather</p>"
   ]
  },
  {
   "cell_type": "code",
   "execution_count": 43,
   "metadata": {},
   "outputs": [],
   "source": [
    "#https://ecmwf-projects.github.io/copernicus-training-c3s/reanalysis-climatology.html\n",
    "#https://cds-beta.climate.copernicus.eu/datasets/reanalysis-era5-single-levels-monthly-means?tab=overview"
   ]
  },
  {
   "cell_type": "markdown",
   "metadata": {},
   "source": [
    "## Import libraries"
   ]
  },
  {
   "cell_type": "code",
   "execution_count": 51,
   "metadata": {},
   "outputs": [],
   "source": [
    "#!pip install xarray pandas\n",
    "#!pip install netcdf4\n",
    "#!pip install h5netcdf\n",
    "#!pip install geopy\n"
   ]
  },
  {
   "cell_type": "code",
   "execution_count": 52,
   "metadata": {},
   "outputs": [],
   "source": [
    "import pandas as pd\n",
    "import numpy as np\n",
    "\n",
    "import glob\n",
    "import os\n",
    "\n",
    "import requests\n",
    "\n",
    "import seaborn as sns\n",
    "import matplotlib.pyplot as plt\n",
    "import plotly.express as px\n",
    "\n",
    "import zipfile\n",
    "\n",
    "import xarray as xr\n",
    "\n",
    "import folium\n",
    "from folium.plugins import MarkerCluster\n",
    "\n",
    "import pandas as pd\n",
    "from geopy.geocoders import Nominatim"
   ]
  },
  {
   "cell_type": "markdown",
   "metadata": {},
   "source": [
    "## Set parameters"
   ]
  },
  {
   "cell_type": "code",
   "execution_count": 53,
   "metadata": {},
   "outputs": [],
   "source": [
    "decree_filename_base = 'arrete_'\n",
    "decrees_folder_name = './../../data/raw/decrees'\n",
    "communes_folder_name = './../../data/raw/opendatasoft'\n",
    "weather_folder_name = './../../data/raw/weather/era5'\n",
    "weather_ncfiles_folder_name = './../../data/raw/weather/era5/ncfiles'\n",
    "processed_data_folder_name = './../../data/processed'\n",
    "decrees_filename = 'decrees.parquet'\n",
    "decrees_locations_filename = 'decrees_locations.parquet'\n",
    "communes_csv_filename = 'correspondance-code-insee-code-postal.csv'\n",
    "weather_filename = 'weather.parquet'\n",
    "weather_shema = 'weather_shema.csv'\n",
    "#weather_zip_file = \"193fcd51a8958175843ecbbcaba057c8.zip\""
   ]
  },
  {
   "cell_type": "markdown",
   "metadata": {},
   "source": [
    "\n",
    "## Unzip file"
   ]
  },
  {
   "cell_type": "code",
   "execution_count": 54,
   "metadata": {},
   "outputs": [],
   "source": [
    "## (os.path.join(weather_folder_name, weather_zip_file))"
   ]
  },
  {
   "cell_type": "code",
   "execution_count": 55,
   "metadata": {},
   "outputs": [
    {
     "data": {
      "text/plain": [
       "'\\n\\n# Specify the path to the zip file and the directory to extract to\\nzip_file_path = (os.path.join(weather_folder_name, weather_zip_file))\\nextract_to_path = weather_ncfiles_folder_name\\n\\n# Open the zip file in read mode\\nwith zipfile.ZipFile(zip_file_path, \\'r\\') as zip_ref:\\n    # Extract all the contents to the specified directory\\n    zip_ref.extractall(extract_to_path)\\n\\nprint(\"File unzipped successfully!\")\\n\\n\\n'"
      ]
     },
     "execution_count": 55,
     "metadata": {},
     "output_type": "execute_result"
    }
   ],
   "source": [
    "\"\"\"\n",
    "\n",
    "# Specify the path to the zip file and the directory to extract to\n",
    "zip_file_path = (os.path.join(weather_folder_name, weather_zip_file))\n",
    "extract_to_path = weather_ncfiles_folder_name\n",
    "\n",
    "# Open the zip file in read mode\n",
    "with zipfile.ZipFile(zip_file_path, 'r') as zip_ref:\n",
    "    # Extract all the contents to the specified directory\n",
    "    zip_ref.extractall(extract_to_path)\n",
    "\n",
    "print(\"File unzipped successfully!\")\n",
    "\n",
    "\n",
    "\"\"\""
   ]
  },
  {
   "cell_type": "markdown",
   "metadata": {},
   "source": [
    "## Read and merge .nc weather files"
   ]
  },
  {
   "cell_type": "code",
   "execution_count": 56,
   "metadata": {},
   "outputs": [],
   "source": [
    "#df = df_weather"
   ]
  },
  {
   "cell_type": "code",
   "execution_count": 57,
   "metadata": {},
   "outputs": [
    {
     "name": "stdout",
     "output_type": "stream",
     "text": [
      "       date  latitude  longitude  number expver       u10       v10  \\\n",
      "0  19900101      52.0      -5.00       0   0001  4.854118  5.280374   \n",
      "1  19900101      52.0      -4.75       0   0001  4.120720  4.837014   \n",
      "2  19900101      52.0      -4.50       0   0001  2.978630  3.999124   \n",
      "3  19900101      52.0      -4.25       0   0001  2.781364  3.996194   \n",
      "4  19900101      52.0      -4.00       0   0001  2.592888  3.729104   \n",
      "\n",
      "          t2m           sp        tp  ...      tcrw        stl1        stl2  \\\n",
      "0  281.949219  100561.1875  0.004912  ...  0.009117  281.940674  281.824951   \n",
      "1  281.458984  100306.1875  0.005552  ...  0.010391  281.493408  281.375732   \n",
      "2  280.863281   99834.1875  0.005424  ...  0.009438  280.300049  280.006592   \n",
      "3  280.437500   99420.1875  0.006426  ...  0.010941  279.934814  279.651123   \n",
      "4  279.666016   98529.1875  0.007340  ...  0.012314  279.288330  279.022217   \n",
      "\n",
      "   slt     swvl1     swvl2       cvh       cvl   tvh  tvl  \n",
      "0  0.0  0.186213  0.187341  0.000000  0.000000  19.0  1.0  \n",
      "1  0.0  0.188273  0.189202  0.000000  0.000000  19.0  1.0  \n",
      "2  2.0  0.401729  0.404138  0.444855  0.294592  19.0  1.0  \n",
      "3  2.0  0.405009  0.406976  0.236176  0.737630  19.0  1.0  \n",
      "4  2.0  0.408809  0.410440  0.440437  0.559563  19.0  1.0  \n",
      "\n",
      "[5 rows x 22 columns]\n"
     ]
    }
   ],
   "source": [
    "# Folder path containing .nc files\n",
    "folder_path = weather_ncfiles_folder_name\n",
    "\n",
    "# List all .nc files in the folder\n",
    "nc_files = [os.path.join(folder_path, file) for file in os.listdir(folder_path) if file.endswith('.nc')]\n",
    "\n",
    "# Read and concatenate all .nc files into a single xarray Dataset\n",
    "ds = xr.open_mfdataset(nc_files, combine='by_coords')\n",
    "\n",
    "# Convert the xarray Dataset to a pandas DataFrame\n",
    "df = ds.to_dataframe().reset_index()\n",
    "\n",
    "print(df.head())\n"
   ]
  },
  {
   "cell_type": "markdown",
   "metadata": {},
   "source": [
    "## Columns description"
   ]
  },
  {
   "cell_type": "code",
   "execution_count": 58,
   "metadata": {},
   "outputs": [
    {
     "data": {
      "text/plain": [
       "Index(['date', 'latitude', 'longitude', 'number', 'expver', 'u10', 'v10',\n",
       "       't2m', 'sp', 'tp', 'e', 'sro', 'tcrw', 'stl1', 'stl2', 'slt', 'swvl1',\n",
       "       'swvl2', 'cvh', 'cvl', 'tvh', 'tvl'],\n",
       "      dtype='object')"
      ]
     },
     "execution_count": 58,
     "metadata": {},
     "output_type": "execute_result"
    }
   ],
   "source": [
    "df.columns"
   ]
  },
  {
   "cell_type": "markdown",
   "metadata": {},
   "source": [
    "| Column    | Description                                      |\n",
    "|-----------|--------------------------------------------------|\n",
    "| date      | The date of the observation.                     |\n",
    "| latitude  | The latitude coordinate of the observation point.|\n",
    "| longitude | The longitude coordinate of the observation point.|\n",
    "| number    | A unique identifier for the observation.         |\n",
    "| expver    | Experiment version number.                       |\n",
    "| u10       | 10-meter U-component of wind (eastward wind).    |\n",
    "| v10       | 10-meter V-component of wind (northward wind).   |\n",
    "| t2m       | 2-meter temperature (air temperature at 2 meters above the surface).|\n",
    "| sp        | Surface pressure.                                |\n",
    "| tp        | Total precipitation.                             |\n",
    "| e         | Evaporation.                                     |\n",
    "| sro       | Surface runoff.                                  |\n",
    "| tcrw      | Total column water vapor.                        |\n",
    "| stl1      | Soil temperature level 1.                        |\n",
    "| stl2      | Soil temperature level 2.                        |\n",
    "| slt       | Soil type.                                       |\n",
    "| swvl1     | Volumetric soil water layer 1.                   |\n",
    "| swvl2     | Volumetric soil water layer 2.                   |\n",
    "| cvh       | High vegetation cover.                           |\n",
    "| cvl       | Low vegetation cover.                            |\n",
    "| tvh       | High vegetation type.                            |\n",
    "| tvl       | Low vegetation type.                             |\n"
   ]
  },
  {
   "cell_type": "markdown",
   "metadata": {},
   "source": [
    "## Column temperatures"
   ]
  },
  {
   "cell_type": "code",
   "execution_count": 59,
   "metadata": {},
   "outputs": [
    {
     "data": {
      "text/html": [
       "<div>\n",
       "<style scoped>\n",
       "    .dataframe tbody tr th:only-of-type {\n",
       "        vertical-align: middle;\n",
       "    }\n",
       "\n",
       "    .dataframe tbody tr th {\n",
       "        vertical-align: top;\n",
       "    }\n",
       "\n",
       "    .dataframe thead th {\n",
       "        text-align: right;\n",
       "    }\n",
       "</style>\n",
       "<table border=\"1\" class=\"dataframe\">\n",
       "  <thead>\n",
       "    <tr style=\"text-align: right;\">\n",
       "      <th></th>\n",
       "      <th>t2m</th>\n",
       "      <th>stl1</th>\n",
       "      <th>stl2</th>\n",
       "    </tr>\n",
       "  </thead>\n",
       "  <tbody>\n",
       "    <tr>\n",
       "      <th>count</th>\n",
       "      <td>972192.000000</td>\n",
       "      <td>972192.000000</td>\n",
       "      <td>972192.000000</td>\n",
       "    </tr>\n",
       "    <tr>\n",
       "      <th>mean</th>\n",
       "      <td>284.948151</td>\n",
       "      <td>285.371765</td>\n",
       "      <td>285.260864</td>\n",
       "    </tr>\n",
       "    <tr>\n",
       "      <th>std</th>\n",
       "      <td>6.006083</td>\n",
       "      <td>6.001902</td>\n",
       "      <td>5.854948</td>\n",
       "    </tr>\n",
       "    <tr>\n",
       "      <th>min</th>\n",
       "      <td>257.364258</td>\n",
       "      <td>263.356934</td>\n",
       "      <td>264.196289</td>\n",
       "    </tr>\n",
       "    <tr>\n",
       "      <th>25%</th>\n",
       "      <td>280.623779</td>\n",
       "      <td>280.720215</td>\n",
       "      <td>280.664551</td>\n",
       "    </tr>\n",
       "    <tr>\n",
       "      <th>50%</th>\n",
       "      <td>285.065674</td>\n",
       "      <td>285.776367</td>\n",
       "      <td>285.668213</td>\n",
       "    </tr>\n",
       "    <tr>\n",
       "      <th>75%</th>\n",
       "      <td>289.634033</td>\n",
       "      <td>290.016602</td>\n",
       "      <td>289.792786</td>\n",
       "    </tr>\n",
       "    <tr>\n",
       "      <th>max</th>\n",
       "      <td>302.022461</td>\n",
       "      <td>304.711914</td>\n",
       "      <td>303.523438</td>\n",
       "    </tr>\n",
       "  </tbody>\n",
       "</table>\n",
       "</div>"
      ],
      "text/plain": [
       "                 t2m           stl1           stl2\n",
       "count  972192.000000  972192.000000  972192.000000\n",
       "mean      284.948151     285.371765     285.260864\n",
       "std         6.006083       6.001902       5.854948\n",
       "min       257.364258     263.356934     264.196289\n",
       "25%       280.623779     280.720215     280.664551\n",
       "50%       285.065674     285.776367     285.668213\n",
       "75%       289.634033     290.016602     289.792786\n",
       "max       302.022461     304.711914     303.523438"
      ]
     },
     "execution_count": 59,
     "metadata": {},
     "output_type": "execute_result"
    }
   ],
   "source": [
    "df[['t2m','stl1', 'stl2']].describe()"
   ]
  },
  {
   "cell_type": "markdown",
   "metadata": {},
   "source": [
    "### Convert temperatures from Kelvin to Celsius"
   ]
  },
  {
   "cell_type": "code",
   "execution_count": 60,
   "metadata": {},
   "outputs": [],
   "source": [
    "# Function to convert Kelvin to Celsius\n",
    "def kelvin_to_celsius(kelvin):\n",
    "    return kelvin - 273.15\n"
   ]
  },
  {
   "cell_type": "code",
   "execution_count": 61,
   "metadata": {},
   "outputs": [],
   "source": [
    "# Apply the function to multiple columns\n",
    "columns_to_convert = ['t2m','stl1', 'stl2']\n",
    "for column in columns_to_convert:\n",
    "    df[column] = df[column].apply(kelvin_to_celsius)"
   ]
  },
  {
   "cell_type": "code",
   "execution_count": 62,
   "metadata": {},
   "outputs": [
    {
     "data": {
      "text/html": [
       "<div>\n",
       "<style scoped>\n",
       "    .dataframe tbody tr th:only-of-type {\n",
       "        vertical-align: middle;\n",
       "    }\n",
       "\n",
       "    .dataframe tbody tr th {\n",
       "        vertical-align: top;\n",
       "    }\n",
       "\n",
       "    .dataframe thead th {\n",
       "        text-align: right;\n",
       "    }\n",
       "</style>\n",
       "<table border=\"1\" class=\"dataframe\">\n",
       "  <thead>\n",
       "    <tr style=\"text-align: right;\">\n",
       "      <th></th>\n",
       "      <th>t2m</th>\n",
       "      <th>stl1</th>\n",
       "      <th>stl2</th>\n",
       "    </tr>\n",
       "  </thead>\n",
       "  <tbody>\n",
       "    <tr>\n",
       "      <th>count</th>\n",
       "      <td>972192.000000</td>\n",
       "      <td>972192.000000</td>\n",
       "      <td>972192.000000</td>\n",
       "    </tr>\n",
       "    <tr>\n",
       "      <th>mean</th>\n",
       "      <td>11.798119</td>\n",
       "      <td>12.221794</td>\n",
       "      <td>12.110854</td>\n",
       "    </tr>\n",
       "    <tr>\n",
       "      <th>std</th>\n",
       "      <td>6.006083</td>\n",
       "      <td>6.001902</td>\n",
       "      <td>5.854948</td>\n",
       "    </tr>\n",
       "    <tr>\n",
       "      <th>min</th>\n",
       "      <td>-15.785742</td>\n",
       "      <td>-9.793066</td>\n",
       "      <td>-8.953711</td>\n",
       "    </tr>\n",
       "    <tr>\n",
       "      <th>25%</th>\n",
       "      <td>7.473779</td>\n",
       "      <td>7.570215</td>\n",
       "      <td>7.514551</td>\n",
       "    </tr>\n",
       "    <tr>\n",
       "      <th>50%</th>\n",
       "      <td>11.915674</td>\n",
       "      <td>12.626367</td>\n",
       "      <td>12.518213</td>\n",
       "    </tr>\n",
       "    <tr>\n",
       "      <th>75%</th>\n",
       "      <td>16.484033</td>\n",
       "      <td>16.866602</td>\n",
       "      <td>16.642786</td>\n",
       "    </tr>\n",
       "    <tr>\n",
       "      <th>max</th>\n",
       "      <td>28.872461</td>\n",
       "      <td>31.561914</td>\n",
       "      <td>30.373438</td>\n",
       "    </tr>\n",
       "  </tbody>\n",
       "</table>\n",
       "</div>"
      ],
      "text/plain": [
       "                 t2m           stl1           stl2\n",
       "count  972192.000000  972192.000000  972192.000000\n",
       "mean       11.798119      12.221794      12.110854\n",
       "std         6.006083       6.001902       5.854948\n",
       "min       -15.785742      -9.793066      -8.953711\n",
       "25%         7.473779       7.570215       7.514551\n",
       "50%        11.915674      12.626367      12.518213\n",
       "75%        16.484033      16.866602      16.642786\n",
       "max        28.872461      31.561914      30.373438"
      ]
     },
     "execution_count": 62,
     "metadata": {},
     "output_type": "execute_result"
    }
   ],
   "source": [
    "df[['t2m','stl1', 'stl2']].describe()"
   ]
  },
  {
   "cell_type": "code",
   "execution_count": 63,
   "metadata": {},
   "outputs": [
    {
     "data": {
      "text/plain": [
       "0         19900101\n",
       "1         19900101\n",
       "2         19900101\n",
       "3         19900101\n",
       "4         19900101\n",
       "            ...   \n",
       "972187    20240801\n",
       "972188    20240801\n",
       "972189    20240801\n",
       "972190    20240801\n",
       "972191    20240801\n",
       "Name: date, Length: 972192, dtype: int64"
      ]
     },
     "execution_count": 63,
     "metadata": {},
     "output_type": "execute_result"
    }
   ],
   "source": [
    "df['date']"
   ]
  },
  {
   "cell_type": "markdown",
   "metadata": {},
   "source": [
    "## Columns type"
   ]
  },
  {
   "cell_type": "code",
   "execution_count": 64,
   "metadata": {},
   "outputs": [
    {
     "data": {
      "text/plain": [
       "date           int64\n",
       "latitude     float64\n",
       "longitude    float64\n",
       "number         int64\n",
       "expver        object\n",
       "u10          float32\n",
       "v10          float32\n",
       "t2m          float64\n",
       "sp           float32\n",
       "tp           float32\n",
       "e            float32\n",
       "sro          float32\n",
       "tcrw         float32\n",
       "stl1         float64\n",
       "stl2         float64\n",
       "slt          float32\n",
       "swvl1        float32\n",
       "swvl2        float32\n",
       "cvh          float32\n",
       "cvl          float32\n",
       "tvh          float32\n",
       "tvl          float32\n",
       "dtype: object"
      ]
     },
     "execution_count": 64,
     "metadata": {},
     "output_type": "execute_result"
    }
   ],
   "source": [
    "df.dtypes"
   ]
  },
  {
   "cell_type": "markdown",
   "metadata": {},
   "source": [
    "### Converte date type to datetime"
   ]
  },
  {
   "cell_type": "code",
   "execution_count": 65,
   "metadata": {},
   "outputs": [
    {
     "data": {
      "text/plain": [
       "0    19900101\n",
       "1    19900101\n",
       "2    19900101\n",
       "3    19900101\n",
       "4    19900101\n",
       "Name: date, dtype: int64"
      ]
     },
     "execution_count": 65,
     "metadata": {},
     "output_type": "execute_result"
    }
   ],
   "source": [
    "df['date'].head()"
   ]
  },
  {
   "cell_type": "code",
   "execution_count": 66,
   "metadata": {},
   "outputs": [],
   "source": [
    "# Convert the 'date' column to datetime\n",
    "df['date'] = pd.to_datetime(df['date'], format='%Y%m%d')"
   ]
  },
  {
   "cell_type": "code",
   "execution_count": 67,
   "metadata": {},
   "outputs": [
    {
     "data": {
      "text/plain": [
       "0   1990-01-01\n",
       "1   1990-01-01\n",
       "2   1990-01-01\n",
       "3   1990-01-01\n",
       "4   1990-01-01\n",
       "Name: date, dtype: datetime64[ns]"
      ]
     },
     "execution_count": 67,
     "metadata": {},
     "output_type": "execute_result"
    }
   ],
   "source": [
    "df['date'].head()"
   ]
  },
  {
   "cell_type": "code",
   "execution_count": 68,
   "metadata": {},
   "outputs": [
    {
     "data": {
      "text/plain": [
       "count                           972192\n",
       "mean     2007-04-16 22:43:50.769230592\n",
       "min                1990-01-01 00:00:00\n",
       "25%                1998-08-24 06:00:00\n",
       "50%                2007-04-16 00:00:00\n",
       "75%                2015-12-08 18:00:00\n",
       "max                2024-08-01 00:00:00\n",
       "Name: date, dtype: object"
      ]
     },
     "execution_count": 68,
     "metadata": {},
     "output_type": "execute_result"
    }
   ],
   "source": [
    "df['date'].describe()"
   ]
  },
  {
   "cell_type": "markdown",
   "metadata": {},
   "source": [
    "### Convert categorical data type to object"
   ]
  },
  {
   "cell_type": "code",
   "execution_count": 69,
   "metadata": {},
   "outputs": [],
   "source": [
    "# List of columns to convert\n",
    "columns_to_convert = ['slt', 'tvh', 'tvl', 'number', 'expver']\n",
    "\n",
    "# Convert columns to object type\n",
    "df[columns_to_convert] = df[columns_to_convert].astype('object')"
   ]
  },
  {
   "cell_type": "code",
   "execution_count": 70,
   "metadata": {},
   "outputs": [
    {
     "data": {
      "text/html": [
       "<div>\n",
       "<style scoped>\n",
       "    .dataframe tbody tr th:only-of-type {\n",
       "        vertical-align: middle;\n",
       "    }\n",
       "\n",
       "    .dataframe tbody tr th {\n",
       "        vertical-align: top;\n",
       "    }\n",
       "\n",
       "    .dataframe thead th {\n",
       "        text-align: right;\n",
       "    }\n",
       "</style>\n",
       "<table border=\"1\" class=\"dataframe\">\n",
       "  <thead>\n",
       "    <tr style=\"text-align: right;\">\n",
       "      <th></th>\n",
       "      <th>slt</th>\n",
       "      <th>tvh</th>\n",
       "      <th>tvl</th>\n",
       "      <th>number</th>\n",
       "      <th>expver</th>\n",
       "    </tr>\n",
       "  </thead>\n",
       "  <tbody>\n",
       "    <tr>\n",
       "      <th>count</th>\n",
       "      <td>972192.0</td>\n",
       "      <td>972192.0</td>\n",
       "      <td>972192.0</td>\n",
       "      <td>972192</td>\n",
       "      <td>972192</td>\n",
       "    </tr>\n",
       "    <tr>\n",
       "      <th>unique</th>\n",
       "      <td>5.0</td>\n",
       "      <td>5.0</td>\n",
       "      <td>8.0</td>\n",
       "      <td>1</td>\n",
       "      <td>2</td>\n",
       "    </tr>\n",
       "    <tr>\n",
       "      <th>top</th>\n",
       "      <td>2.0</td>\n",
       "      <td>19.0</td>\n",
       "      <td>1.0</td>\n",
       "      <td>0</td>\n",
       "      <td>0001</td>\n",
       "    </tr>\n",
       "    <tr>\n",
       "      <th>freq</th>\n",
       "      <td>418080.0</td>\n",
       "      <td>702208.0</td>\n",
       "      <td>695552.0</td>\n",
       "      <td>972192</td>\n",
       "      <td>967518</td>\n",
       "    </tr>\n",
       "  </tbody>\n",
       "</table>\n",
       "</div>"
      ],
      "text/plain": [
       "             slt       tvh       tvl  number  expver\n",
       "count   972192.0  972192.0  972192.0  972192  972192\n",
       "unique       5.0       5.0       8.0       1       2\n",
       "top          2.0      19.0       1.0       0    0001\n",
       "freq    418080.0  702208.0  695552.0  972192  967518"
      ]
     },
     "execution_count": 70,
     "metadata": {},
     "output_type": "execute_result"
    }
   ],
   "source": [
    "df[columns_to_convert].describe()"
   ]
  },
  {
   "cell_type": "code",
   "execution_count": 71,
   "metadata": {},
   "outputs": [
    {
     "data": {
      "text/plain": [
       "date         datetime64[ns]\n",
       "latitude            float64\n",
       "longitude           float64\n",
       "number               object\n",
       "expver               object\n",
       "u10                 float32\n",
       "v10                 float32\n",
       "t2m                 float64\n",
       "sp                  float32\n",
       "tp                  float32\n",
       "e                   float32\n",
       "sro                 float32\n",
       "tcrw                float32\n",
       "stl1                float64\n",
       "stl2                float64\n",
       "slt                  object\n",
       "swvl1               float32\n",
       "swvl2               float32\n",
       "cvh                 float32\n",
       "cvl                 float32\n",
       "tvh                  object\n",
       "tvl                  object\n",
       "dtype: object"
      ]
     },
     "execution_count": 71,
     "metadata": {},
     "output_type": "execute_result"
    }
   ],
   "source": [
    "df.dtypes"
   ]
  },
  {
   "cell_type": "code",
   "execution_count": 72,
   "metadata": {},
   "outputs": [
    {
     "data": {
      "text/plain": [
       "(972192, 22)"
      ]
     },
     "execution_count": 72,
     "metadata": {},
     "output_type": "execute_result"
    }
   ],
   "source": [
    "df.shape"
   ]
  },
  {
   "cell_type": "code",
   "execution_count": 73,
   "metadata": {},
   "outputs": [],
   "source": [
    "## Check for dupicates"
   ]
  },
  {
   "cell_type": "code",
   "execution_count": 74,
   "metadata": {},
   "outputs": [
    {
     "name": "stdout",
     "output_type": "stream",
     "text": [
      "0\n"
     ]
    }
   ],
   "source": [
    "# Count the number of duplicates in the specified columns\n",
    "num_duplicates = df.duplicated(subset=['date', 'latitude', 'longitude']).sum()\n",
    "\n",
    "print(num_duplicates)"
   ]
  },
  {
   "cell_type": "code",
   "execution_count": 75,
   "metadata": {},
   "outputs": [],
   "source": [
    "### Drop "
   ]
  },
  {
   "cell_type": "code",
   "execution_count": 76,
   "metadata": {},
   "outputs": [],
   "source": [
    "# we can safely drop columns 'number',\t'expver' related to weathe simuation, cause we don't have duplicates. one observation per time, no mater the experiment number\n",
    "df = df.drop(['number', 'expver'], axis=1)"
   ]
  },
  {
   "cell_type": "markdown",
   "metadata": {},
   "source": [
    "## Coordinates "
   ]
  },
  {
   "cell_type": "code",
   "execution_count": 77,
   "metadata": {},
   "outputs": [
    {
     "data": {
      "text/html": [
       "<div>\n",
       "<style scoped>\n",
       "    .dataframe tbody tr th:only-of-type {\n",
       "        vertical-align: middle;\n",
       "    }\n",
       "\n",
       "    .dataframe tbody tr th {\n",
       "        vertical-align: top;\n",
       "    }\n",
       "\n",
       "    .dataframe thead th {\n",
       "        text-align: right;\n",
       "    }\n",
       "</style>\n",
       "<table border=\"1\" class=\"dataframe\">\n",
       "  <thead>\n",
       "    <tr style=\"text-align: right;\">\n",
       "      <th></th>\n",
       "      <th>latitude</th>\n",
       "      <th>longitude</th>\n",
       "    </tr>\n",
       "  </thead>\n",
       "  <tbody>\n",
       "    <tr>\n",
       "      <th>count</th>\n",
       "      <td>972192.000000</td>\n",
       "      <td>972192.00000</td>\n",
       "    </tr>\n",
       "    <tr>\n",
       "      <th>mean</th>\n",
       "      <td>47.000000</td>\n",
       "      <td>2.00000</td>\n",
       "    </tr>\n",
       "    <tr>\n",
       "      <th>std</th>\n",
       "      <td>2.958041</td>\n",
       "      <td>4.11299</td>\n",
       "    </tr>\n",
       "    <tr>\n",
       "      <th>min</th>\n",
       "      <td>42.000000</td>\n",
       "      <td>-5.00000</td>\n",
       "    </tr>\n",
       "    <tr>\n",
       "      <th>25%</th>\n",
       "      <td>44.500000</td>\n",
       "      <td>-1.50000</td>\n",
       "    </tr>\n",
       "    <tr>\n",
       "      <th>50%</th>\n",
       "      <td>47.000000</td>\n",
       "      <td>2.00000</td>\n",
       "    </tr>\n",
       "    <tr>\n",
       "      <th>75%</th>\n",
       "      <td>49.500000</td>\n",
       "      <td>5.50000</td>\n",
       "    </tr>\n",
       "    <tr>\n",
       "      <th>max</th>\n",
       "      <td>52.000000</td>\n",
       "      <td>9.00000</td>\n",
       "    </tr>\n",
       "  </tbody>\n",
       "</table>\n",
       "</div>"
      ],
      "text/plain": [
       "            latitude     longitude\n",
       "count  972192.000000  972192.00000\n",
       "mean       47.000000       2.00000\n",
       "std         2.958041       4.11299\n",
       "min        42.000000      -5.00000\n",
       "25%        44.500000      -1.50000\n",
       "50%        47.000000       2.00000\n",
       "75%        49.500000       5.50000\n",
       "max        52.000000       9.00000"
      ]
     },
     "execution_count": 77,
     "metadata": {},
     "output_type": "execute_result"
    }
   ],
   "source": [
    "df[['latitude', 'longitude']].describe()"
   ]
  },
  {
   "cell_type": "code",
   "execution_count": 78,
   "metadata": {},
   "outputs": [
    {
     "data": {
      "text/plain": [
       "\"\\n# Create a map centered around the average latitude and longitude\\nm = folium.Map(location=[df['latitude'].mean(), df['longitude'].mean()], zoom_start=12)\\n\\n# Add points to the map using MarkerCluster\\nmarker_cluster = MarkerCluster().add_to(m)\\nfor idx, row in df.iterrows():\\n    folium.Marker(location=[row['latitude'], row['longitude']]).add_to(marker_cluster)\\n\\n# Display the map\\nm\\n\""
      ]
     },
     "execution_count": 78,
     "metadata": {},
     "output_type": "execute_result"
    }
   ],
   "source": [
    "\"\"\"\n",
    "# Create a map centered around the average latitude and longitude\n",
    "m = folium.Map(location=[df['latitude'].mean(), df['longitude'].mean()], zoom_start=12)\n",
    "\n",
    "# Add points to the map using MarkerCluster\n",
    "marker_cluster = MarkerCluster().add_to(m)\n",
    "for idx, row in df.iterrows():\n",
    "    folium.Marker(location=[row['latitude'], row['longitude']]).add_to(marker_cluster)\n",
    "\n",
    "# Display the map\n",
    "m\n",
    "\"\"\""
   ]
  },
  {
   "cell_type": "markdown",
   "metadata": {},
   "source": [
    "## Standard reference period and climate normals "
   ]
  },
  {
   "cell_type": "markdown",
   "metadata": {},
   "source": [
    "### Note"
   ]
  },
  {
   "cell_type": "markdown",
   "metadata": {},
   "source": [
    ">Until 2020, the most current and widely used standard reference period was the 30-year range of 1981-2010. With the start of 2021, the WMO recommended updating the climate normal reference period to the range 1991-2020."
   ]
  },
  {
   "cell_type": "code",
   "execution_count": 79,
   "metadata": {},
   "outputs": [
    {
     "data": {
      "text/plain": [
       "date         datetime64[ns]\n",
       "latitude            float64\n",
       "longitude           float64\n",
       "u10                 float32\n",
       "v10                 float32\n",
       "t2m                 float64\n",
       "sp                  float32\n",
       "tp                  float32\n",
       "e                   float32\n",
       "sro                 float32\n",
       "tcrw                float32\n",
       "stl1                float64\n",
       "stl2                float64\n",
       "slt                  object\n",
       "swvl1               float32\n",
       "swvl2               float32\n",
       "cvh                 float32\n",
       "cvl                 float32\n",
       "tvh                  object\n",
       "tvl                  object\n",
       "dtype: object"
      ]
     },
     "execution_count": 79,
     "metadata": {},
     "output_type": "execute_result"
    }
   ],
   "source": [
    "df.dtypes"
   ]
  },
  {
   "cell_type": "code",
   "execution_count": 80,
   "metadata": {},
   "outputs": [
    {
     "name": "stdout",
     "output_type": "stream",
     "text": [
      "['u10', 'v10', 't2m', 'sp', 'tp', 'e', 'sro', 'tcrw', 'stl1', 'stl2', 'swvl1', 'swvl2', 'cvh', 'cvl']\n"
     ]
    }
   ],
   "source": [
    "# Identify float columns\n",
    "measure_columns = df.select_dtypes(include=['float32', 'float64']).columns.tolist()\n",
    "\n",
    "# Remove latitude and longitude\n",
    "measure_columns = [col for col in measure_columns if col not in ['longitude', 'latitude']]\n",
    "\n",
    "print(measure_columns)"
   ]
  },
  {
   "cell_type": "code",
   "execution_count": 83,
   "metadata": {},
   "outputs": [
    {
     "name": "stdout",
     "output_type": "stream",
     "text": [
      "             date  latitude  longitude       u10       v10        t2m  \\\n",
      "0      1990-01-01      52.0      -5.00  4.854118  5.280374   8.799219   \n",
      "1      1990-01-01      52.0      -4.75  4.120720  4.837014   8.308984   \n",
      "2      1990-01-01      52.0      -4.50  2.978630  3.999124   7.713281   \n",
      "3      1990-01-01      52.0      -4.25  2.781364  3.996194   7.287500   \n",
      "4      1990-01-01      52.0      -4.00  2.592888  3.729104   6.516016   \n",
      "...           ...       ...        ...       ...       ...        ...   \n",
      "972187 2024-08-01      42.0       8.00  1.438617 -0.738438  26.516504   \n",
      "972188 2024-08-01      42.0       8.25  1.178851 -0.563145  26.979395   \n",
      "972189 2024-08-01      42.0       8.50  0.999652 -0.279453  26.137598   \n",
      "972190 2024-08-01      42.0       8.75  0.703265 -0.061680  24.969629   \n",
      "972191 2024-08-01      42.0       9.00  0.246722  0.062832  23.719629   \n",
      "\n",
      "                 sp        tp         e       sro  ...  swvl2_delta   swvl2_z  \\\n",
      "0       100561.1875  0.004912 -0.001651  0.000077  ...     0.004298  0.734757   \n",
      "1       100306.1875  0.005552 -0.001413  0.000115  ...     0.005095  0.924681   \n",
      "2        99834.1875  0.005424 -0.000871  0.000253  ...     0.010266  0.819139   \n",
      "3        99420.1875  0.006426 -0.000815  0.000324  ...     0.012148  0.903294   \n",
      "4        98529.1875  0.007340 -0.000660  0.000378  ...     0.014235  0.994208   \n",
      "...             ...       ...       ...       ...  ...          ...       ...   \n",
      "972187  101065.5000  0.000513 -0.002241  0.000000  ...    -0.000002 -0.349216   \n",
      "972188  102177.5000  0.000330 -0.002213  0.000000  ...    -0.000002 -0.349216   \n",
      "972189  100430.5000  0.000277 -0.001707  0.000000  ...    -0.000002 -0.349216   \n",
      "972190   96995.5000  0.000477 -0.001419  0.000011  ...    -0.018208 -1.218273   \n",
      "972191   92165.5000  0.000977 -0.001506  0.000040  ...    -0.056727 -1.172399   \n",
      "\n",
      "         cvh_ref cvh_std     cvh_delta  cvh_z   cvl_ref  cvl_std cvl_delta  \\\n",
      "0       0.000000     0.0  0.000000e+00    NaN  0.000000      0.0       0.0   \n",
      "1       0.000000     0.0  0.000000e+00    NaN  0.000000      0.0       0.0   \n",
      "2       0.444855     0.0  0.000000e+00    NaN  0.294592      0.0       0.0   \n",
      "3       0.236176     0.0  0.000000e+00    NaN  0.737630      0.0       0.0   \n",
      "4       0.440437     0.0  0.000000e+00    NaN  0.559563      0.0       0.0   \n",
      "...          ...     ...           ...    ...       ...      ...       ...   \n",
      "972187  0.000000     0.0  0.000000e+00    NaN  0.000000      0.0       0.0   \n",
      "972188  0.000000     0.0  0.000000e+00    NaN  0.000000      0.0       0.0   \n",
      "972189  0.000000     0.0  0.000000e+00    NaN  0.000000      0.0       0.0   \n",
      "972190  0.000000     0.0  0.000000e+00    NaN  0.000000      0.0       0.0   \n",
      "972191  0.873649     0.0  5.960464e-08    inf  0.126351      0.0       0.0   \n",
      "\n",
      "       cvl_z  \n",
      "0        NaN  \n",
      "1        NaN  \n",
      "2        NaN  \n",
      "3        NaN  \n",
      "4        NaN  \n",
      "...      ...  \n",
      "972187   NaN  \n",
      "972188   NaN  \n",
      "972189   NaN  \n",
      "972190   NaN  \n",
      "972191   NaN  \n",
      "\n",
      "[972192 rows x 78 columns]\n"
     ]
    }
   ],
   "source": [
    "'''\n",
    "import pandas as pd\n",
    "import numpy as np\n",
    "\n",
    "# Sample dataframe\n",
    "data = {\n",
    "    'date': pd.date_range(start='1/1/2000', periods=24, freq='MS'),\n",
    "    'latitude': np.random.uniform(-90, 90, 24),\n",
    "    'longitude': np.random.uniform(-180, 180, 24),\n",
    "    'temperature': np.random.uniform(-10, 40, 24),\n",
    "    'precipitation': np.random.uniform(0, 200, 24)\n",
    "}\n",
    "df = pd.DataFrame(data)\n",
    "'''\n",
    "\n",
    "# Convert date to datetime and extract month and year\n",
    "# df['date'] = pd.to_datetime(df['date'])\n",
    "df['month'] = df['date'].dt.month\n",
    "df['year'] = df['date'].dt.year\n",
    "\n",
    "# Filter data for the reference period (1990-2010)\n",
    "ref_period = df[(df['year'] >= 1990) & (df['year'] <= 2010)]\n",
    "\n",
    "# Initialize reference columns\n",
    "for measure in measure_columns:\n",
    "    # mean of monthly measures of a location over the reference period\n",
    "    ref_col = f'{measure}_ref'\n",
    "    # standard deviation of monthly measures of a location over the reference period\n",
    "    std_col = f'{measure}_std'\n",
    "    # standard deviation of monthly measures of a location over the reference period\n",
    "    delta_col = f'{measure}_delta'\n",
    "    # z_transformation taking the reference mean and the reference std of monthly measures of a location over the reference period\n",
    "    # this is part of the process of building a simplified extreame weather mesure indicator\n",
    "    z_col = f'{measure}_z'\n",
    "    \n",
    "    \n",
    "    # Calculate monthly mean for each location\n",
    "    monthly_mean = ref_period.groupby(['latitude', 'longitude', 'month'])[measure].mean().reset_index()\n",
    "    monthly_std = ref_period.groupby(['latitude', 'longitude', 'month'])[measure].std().reset_index()\n",
    "    monthly_mean.columns = ['latitude', 'longitude', 'month', ref_col]\n",
    "    monthly_std.columns = ['latitude', 'longitude', 'month', std_col]\n",
    "        \n",
    "    # Merge reference data with the original dataframe\n",
    "    df = pd.merge(df, monthly_mean, on=['latitude', 'longitude', 'month'], how='left')\n",
    "    df = pd.merge(df, monthly_std, on=['latitude', 'longitude', 'month'], how='left')\n",
    "    \n",
    "    # Calculate delta\n",
    "    df[delta_col] = df[measure] - df[ref_col]\n",
    "    # Calculate z_score using mean and std of the reference period\n",
    "    df[z_col] = (df[measure] - df[ref_col] )/ ( df[std_col])\n",
    "\n",
    "# Display the dataframe\n",
    "print(df)\n"
   ]
  },
  {
   "cell_type": "code",
   "execution_count": 86,
   "metadata": {},
   "outputs": [
    {
     "data": {
      "text/html": [
       "<div>\n",
       "<style scoped>\n",
       "    .dataframe tbody tr th:only-of-type {\n",
       "        vertical-align: middle;\n",
       "    }\n",
       "\n",
       "    .dataframe tbody tr th {\n",
       "        vertical-align: top;\n",
       "    }\n",
       "\n",
       "    .dataframe thead th {\n",
       "        text-align: right;\n",
       "    }\n",
       "</style>\n",
       "<table border=\"1\" class=\"dataframe\">\n",
       "  <thead>\n",
       "    <tr style=\"text-align: right;\">\n",
       "      <th></th>\n",
       "      <th>date</th>\n",
       "      <th>longitude</th>\n",
       "      <th>latitude</th>\n",
       "      <th>t2m</th>\n",
       "      <th>t2m_ref</th>\n",
       "      <th>t2m_delta</th>\n",
       "      <th>t2m_z</th>\n",
       "    </tr>\n",
       "  </thead>\n",
       "  <tbody>\n",
       "    <tr>\n",
       "      <th>0</th>\n",
       "      <td>1990-01-01</td>\n",
       "      <td>-5.00</td>\n",
       "      <td>52.0</td>\n",
       "      <td>8.799219</td>\n",
       "      <td>7.136981</td>\n",
       "      <td>1.662237</td>\n",
       "      <td>1.278302</td>\n",
       "    </tr>\n",
       "    <tr>\n",
       "      <th>1</th>\n",
       "      <td>1990-01-01</td>\n",
       "      <td>-4.75</td>\n",
       "      <td>52.0</td>\n",
       "      <td>8.308984</td>\n",
       "      <td>6.522677</td>\n",
       "      <td>1.786307</td>\n",
       "      <td>1.278592</td>\n",
       "    </tr>\n",
       "    <tr>\n",
       "      <th>2</th>\n",
       "      <td>1990-01-01</td>\n",
       "      <td>-4.50</td>\n",
       "      <td>52.0</td>\n",
       "      <td>7.713281</td>\n",
       "      <td>5.749705</td>\n",
       "      <td>1.963577</td>\n",
       "      <td>1.268917</td>\n",
       "    </tr>\n",
       "    <tr>\n",
       "      <th>3</th>\n",
       "      <td>1990-01-01</td>\n",
       "      <td>-4.25</td>\n",
       "      <td>52.0</td>\n",
       "      <td>7.287500</td>\n",
       "      <td>5.332294</td>\n",
       "      <td>1.955206</td>\n",
       "      <td>1.267388</td>\n",
       "    </tr>\n",
       "    <tr>\n",
       "      <th>4</th>\n",
       "      <td>1990-01-01</td>\n",
       "      <td>-4.00</td>\n",
       "      <td>52.0</td>\n",
       "      <td>6.516016</td>\n",
       "      <td>4.571133</td>\n",
       "      <td>1.944882</td>\n",
       "      <td>1.265657</td>\n",
       "    </tr>\n",
       "    <tr>\n",
       "      <th>...</th>\n",
       "      <td>...</td>\n",
       "      <td>...</td>\n",
       "      <td>...</td>\n",
       "      <td>...</td>\n",
       "      <td>...</td>\n",
       "      <td>...</td>\n",
       "      <td>...</td>\n",
       "    </tr>\n",
       "    <tr>\n",
       "      <th>972187</th>\n",
       "      <td>2024-08-01</td>\n",
       "      <td>8.00</td>\n",
       "      <td>42.0</td>\n",
       "      <td>26.516504</td>\n",
       "      <td>24.017178</td>\n",
       "      <td>2.499326</td>\n",
       "      <td>2.200762</td>\n",
       "    </tr>\n",
       "    <tr>\n",
       "      <th>972188</th>\n",
       "      <td>2024-08-01</td>\n",
       "      <td>8.25</td>\n",
       "      <td>42.0</td>\n",
       "      <td>26.979395</td>\n",
       "      <td>24.679567</td>\n",
       "      <td>2.299828</td>\n",
       "      <td>2.093247</td>\n",
       "    </tr>\n",
       "    <tr>\n",
       "      <th>972189</th>\n",
       "      <td>2024-08-01</td>\n",
       "      <td>8.50</td>\n",
       "      <td>42.0</td>\n",
       "      <td>26.137598</td>\n",
       "      <td>23.726442</td>\n",
       "      <td>2.411156</td>\n",
       "      <td>2.146372</td>\n",
       "    </tr>\n",
       "    <tr>\n",
       "      <th>972190</th>\n",
       "      <td>2024-08-01</td>\n",
       "      <td>8.75</td>\n",
       "      <td>42.0</td>\n",
       "      <td>24.969629</td>\n",
       "      <td>22.386598</td>\n",
       "      <td>2.583031</td>\n",
       "      <td>2.120975</td>\n",
       "    </tr>\n",
       "    <tr>\n",
       "      <th>972191</th>\n",
       "      <td>2024-08-01</td>\n",
       "      <td>9.00</td>\n",
       "      <td>42.0</td>\n",
       "      <td>23.719629</td>\n",
       "      <td>20.952167</td>\n",
       "      <td>2.767462</td>\n",
       "      <td>1.848521</td>\n",
       "    </tr>\n",
       "  </tbody>\n",
       "</table>\n",
       "<p>972192 rows × 7 columns</p>\n",
       "</div>"
      ],
      "text/plain": [
       "             date  longitude  latitude        t2m    t2m_ref  t2m_delta  \\\n",
       "0      1990-01-01      -5.00      52.0   8.799219   7.136981   1.662237   \n",
       "1      1990-01-01      -4.75      52.0   8.308984   6.522677   1.786307   \n",
       "2      1990-01-01      -4.50      52.0   7.713281   5.749705   1.963577   \n",
       "3      1990-01-01      -4.25      52.0   7.287500   5.332294   1.955206   \n",
       "4      1990-01-01      -4.00      52.0   6.516016   4.571133   1.944882   \n",
       "...           ...        ...       ...        ...        ...        ...   \n",
       "972187 2024-08-01       8.00      42.0  26.516504  24.017178   2.499326   \n",
       "972188 2024-08-01       8.25      42.0  26.979395  24.679567   2.299828   \n",
       "972189 2024-08-01       8.50      42.0  26.137598  23.726442   2.411156   \n",
       "972190 2024-08-01       8.75      42.0  24.969629  22.386598   2.583031   \n",
       "972191 2024-08-01       9.00      42.0  23.719629  20.952167   2.767462   \n",
       "\n",
       "           t2m_z  \n",
       "0       1.278302  \n",
       "1       1.278592  \n",
       "2       1.268917  \n",
       "3       1.267388  \n",
       "4       1.265657  \n",
       "...          ...  \n",
       "972187  2.200762  \n",
       "972188  2.093247  \n",
       "972189  2.146372  \n",
       "972190  2.120975  \n",
       "972191  1.848521  \n",
       "\n",
       "[972192 rows x 7 columns]"
      ]
     },
     "execution_count": 86,
     "metadata": {},
     "output_type": "execute_result"
    }
   ],
   "source": [
    "df[['date', 'longitude', 'latitude', 't2m','t2m_ref','t2m_delta', 't2m_z']]"
   ]
  },
  {
   "cell_type": "code",
   "execution_count": 87,
   "metadata": {},
   "outputs": [
    {
     "data": {
      "text/html": [
       "<div>\n",
       "<style scoped>\n",
       "    .dataframe tbody tr th:only-of-type {\n",
       "        vertical-align: middle;\n",
       "    }\n",
       "\n",
       "    .dataframe tbody tr th {\n",
       "        vertical-align: top;\n",
       "    }\n",
       "\n",
       "    .dataframe thead th {\n",
       "        text-align: right;\n",
       "    }\n",
       "</style>\n",
       "<table border=\"1\" class=\"dataframe\">\n",
       "  <thead>\n",
       "    <tr style=\"text-align: right;\">\n",
       "      <th></th>\n",
       "      <th>date</th>\n",
       "      <th>longitude</th>\n",
       "      <th>latitude</th>\n",
       "      <th>t2m</th>\n",
       "      <th>t2m_ref</th>\n",
       "      <th>t2m_delta</th>\n",
       "      <th>t2m_z</th>\n",
       "    </tr>\n",
       "  </thead>\n",
       "  <tbody>\n",
       "    <tr>\n",
       "      <th>2</th>\n",
       "      <td>1990-01-01</td>\n",
       "      <td>-4.5</td>\n",
       "      <td>52.0</td>\n",
       "      <td>7.713281</td>\n",
       "      <td>5.749705</td>\n",
       "      <td>1.963577</td>\n",
       "      <td>1.268917</td>\n",
       "    </tr>\n",
       "    <tr>\n",
       "      <th>2339</th>\n",
       "      <td>1990-02-01</td>\n",
       "      <td>-4.5</td>\n",
       "      <td>52.0</td>\n",
       "      <td>7.987939</td>\n",
       "      <td>5.769073</td>\n",
       "      <td>2.218866</td>\n",
       "      <td>1.474079</td>\n",
       "    </tr>\n",
       "    <tr>\n",
       "      <th>280442</th>\n",
       "      <td>2000-01-01</td>\n",
       "      <td>-4.5</td>\n",
       "      <td>52.0</td>\n",
       "      <td>5.898828</td>\n",
       "      <td>5.749705</td>\n",
       "      <td>0.149123</td>\n",
       "      <td>0.096368</td>\n",
       "    </tr>\n",
       "    <tr>\n",
       "      <th>282779</th>\n",
       "      <td>2000-02-01</td>\n",
       "      <td>-4.5</td>\n",
       "      <td>52.0</td>\n",
       "      <td>7.053857</td>\n",
       "      <td>5.769073</td>\n",
       "      <td>1.284784</td>\n",
       "      <td>0.853532</td>\n",
       "    </tr>\n",
       "  </tbody>\n",
       "</table>\n",
       "</div>"
      ],
      "text/plain": [
       "             date  longitude  latitude       t2m   t2m_ref  t2m_delta  \\\n",
       "2      1990-01-01       -4.5      52.0  7.713281  5.749705   1.963577   \n",
       "2339   1990-02-01       -4.5      52.0  7.987939  5.769073   2.218866   \n",
       "280442 2000-01-01       -4.5      52.0  5.898828  5.749705   0.149123   \n",
       "282779 2000-02-01       -4.5      52.0  7.053857  5.769073   1.284784   \n",
       "\n",
       "           t2m_z  \n",
       "2       1.268917  \n",
       "2339    1.474079  \n",
       "280442  0.096368  \n",
       "282779  0.853532  "
      ]
     },
     "execution_count": 87,
     "metadata": {},
     "output_type": "execute_result"
    }
   ],
   "source": [
    "df[(df['longitude'] == -4.50\t) & (df['latitude'] == 52.0) & \\\n",
    "    (df['year'].isin([1990, 2000])) & (df['month'].isin([1,2]))][['date', 'longitude', 'latitude', 't2m','t2m_ref','t2m_delta', 't2m_z']]"
   ]
  },
  {
   "cell_type": "code",
   "execution_count": 88,
   "metadata": {},
   "outputs": [
    {
     "name": "stdout",
     "output_type": "stream",
     "text": [
      "date         2024-02-01 00:00:00\n",
      "longitude                    7.5\n",
      "latitude                    46.0\n",
      "t2m                    -1.679297\n",
      "t2m_ref                -10.26227\n",
      "t2m_delta               8.582973\n",
      "Name: 957251, dtype: object\n"
     ]
    }
   ],
   "source": [
    "max_abs_t2m_delta_row = df.loc[df['t2m_delta'].abs().idxmax(), ['date', 'longitude', 'latitude','t2m','t2m_ref','t2m_delta']]\n",
    "print(max_abs_t2m_delta_row)"
   ]
  },
  {
   "cell_type": "code",
   "execution_count": 90,
   "metadata": {},
   "outputs": [
    {
     "data": {
      "application/vnd.plotly.v1+json": {
       "config": {
        "plotlyServerURL": "https://plot.ly"
       },
       "data": [
        {
         "hovertemplate": "date=%{x}<br>t2m_delta=%{y}<extra></extra>",
         "legendgroup": "",
         "line": {
          "color": "#636efa",
          "dash": "solid"
         },
         "marker": {
          "symbol": "circle"
         },
         "mode": "lines",
         "name": "",
         "orientation": "v",
         "showlegend": false,
         "type": "scatter",
         "x": [
          "1990-01-01T00:00:00",
          "1990-02-01T00:00:00",
          "1990-03-01T00:00:00",
          "1990-04-01T00:00:00",
          "1990-05-01T00:00:00",
          "1990-06-01T00:00:00",
          "1990-07-01T00:00:00",
          "1990-08-01T00:00:00",
          "1990-09-01T00:00:00",
          "1990-10-01T00:00:00",
          "1990-11-01T00:00:00",
          "1990-12-01T00:00:00",
          "1991-01-01T00:00:00",
          "1991-02-01T00:00:00",
          "1991-03-01T00:00:00",
          "1991-04-01T00:00:00",
          "1991-05-01T00:00:00",
          "1991-06-01T00:00:00",
          "1991-07-01T00:00:00",
          "1991-08-01T00:00:00",
          "1991-09-01T00:00:00",
          "1991-10-01T00:00:00",
          "1991-11-01T00:00:00",
          "1991-12-01T00:00:00",
          "1992-01-01T00:00:00",
          "1992-02-01T00:00:00",
          "1992-03-01T00:00:00",
          "1992-04-01T00:00:00",
          "1992-05-01T00:00:00",
          "1992-06-01T00:00:00",
          "1992-07-01T00:00:00",
          "1992-08-01T00:00:00",
          "1992-09-01T00:00:00",
          "1992-10-01T00:00:00",
          "1992-11-01T00:00:00",
          "1992-12-01T00:00:00",
          "1993-01-01T00:00:00",
          "1993-02-01T00:00:00",
          "1993-03-01T00:00:00",
          "1993-04-01T00:00:00",
          "1993-05-01T00:00:00",
          "1993-06-01T00:00:00",
          "1993-07-01T00:00:00",
          "1993-08-01T00:00:00",
          "1993-09-01T00:00:00",
          "1993-10-01T00:00:00",
          "1993-11-01T00:00:00",
          "1993-12-01T00:00:00",
          "1994-01-01T00:00:00",
          "1994-02-01T00:00:00",
          "1994-03-01T00:00:00",
          "1994-04-01T00:00:00",
          "1994-05-01T00:00:00",
          "1994-06-01T00:00:00",
          "1994-07-01T00:00:00",
          "1994-08-01T00:00:00",
          "1994-09-01T00:00:00",
          "1994-10-01T00:00:00",
          "1994-11-01T00:00:00",
          "1994-12-01T00:00:00",
          "1995-01-01T00:00:00",
          "1995-02-01T00:00:00",
          "1995-03-01T00:00:00",
          "1995-04-01T00:00:00",
          "1995-05-01T00:00:00",
          "1995-06-01T00:00:00",
          "1995-07-01T00:00:00",
          "1995-08-01T00:00:00",
          "1995-09-01T00:00:00",
          "1995-10-01T00:00:00",
          "1995-11-01T00:00:00",
          "1995-12-01T00:00:00",
          "1996-01-01T00:00:00",
          "1996-02-01T00:00:00",
          "1996-03-01T00:00:00",
          "1996-04-01T00:00:00",
          "1996-05-01T00:00:00",
          "1996-06-01T00:00:00",
          "1996-07-01T00:00:00",
          "1996-08-01T00:00:00",
          "1996-09-01T00:00:00",
          "1996-10-01T00:00:00",
          "1996-11-01T00:00:00",
          "1996-12-01T00:00:00",
          "1997-01-01T00:00:00",
          "1997-02-01T00:00:00",
          "1997-03-01T00:00:00",
          "1997-04-01T00:00:00",
          "1997-05-01T00:00:00",
          "1997-06-01T00:00:00",
          "1997-07-01T00:00:00",
          "1997-08-01T00:00:00",
          "1997-09-01T00:00:00",
          "1997-10-01T00:00:00",
          "1997-11-01T00:00:00",
          "1997-12-01T00:00:00",
          "1998-01-01T00:00:00",
          "1998-02-01T00:00:00",
          "1998-03-01T00:00:00",
          "1998-04-01T00:00:00",
          "1998-05-01T00:00:00",
          "1998-06-01T00:00:00",
          "1998-07-01T00:00:00",
          "1998-08-01T00:00:00",
          "1998-09-01T00:00:00",
          "1998-10-01T00:00:00",
          "1998-11-01T00:00:00",
          "1998-12-01T00:00:00",
          "1999-01-01T00:00:00",
          "1999-02-01T00:00:00",
          "1999-03-01T00:00:00",
          "1999-04-01T00:00:00",
          "1999-05-01T00:00:00",
          "1999-06-01T00:00:00",
          "1999-07-01T00:00:00",
          "1999-08-01T00:00:00",
          "1999-09-01T00:00:00",
          "1999-10-01T00:00:00",
          "1999-11-01T00:00:00",
          "1999-12-01T00:00:00",
          "2000-01-01T00:00:00",
          "2000-02-01T00:00:00",
          "2000-03-01T00:00:00",
          "2000-04-01T00:00:00",
          "2000-05-01T00:00:00",
          "2000-06-01T00:00:00",
          "2000-07-01T00:00:00",
          "2000-08-01T00:00:00",
          "2000-09-01T00:00:00",
          "2000-10-01T00:00:00",
          "2000-11-01T00:00:00",
          "2000-12-01T00:00:00",
          "2001-01-01T00:00:00",
          "2001-02-01T00:00:00",
          "2001-03-01T00:00:00",
          "2001-04-01T00:00:00",
          "2001-05-01T00:00:00",
          "2001-06-01T00:00:00",
          "2001-07-01T00:00:00",
          "2001-08-01T00:00:00",
          "2001-09-01T00:00:00",
          "2001-10-01T00:00:00",
          "2001-11-01T00:00:00",
          "2001-12-01T00:00:00",
          "2002-01-01T00:00:00",
          "2002-02-01T00:00:00",
          "2002-03-01T00:00:00",
          "2002-04-01T00:00:00",
          "2002-05-01T00:00:00",
          "2002-06-01T00:00:00",
          "2002-07-01T00:00:00",
          "2002-08-01T00:00:00",
          "2002-09-01T00:00:00",
          "2002-10-01T00:00:00",
          "2002-11-01T00:00:00",
          "2002-12-01T00:00:00",
          "2003-01-01T00:00:00",
          "2003-02-01T00:00:00",
          "2003-03-01T00:00:00",
          "2003-04-01T00:00:00",
          "2003-05-01T00:00:00",
          "2003-06-01T00:00:00",
          "2003-07-01T00:00:00",
          "2003-08-01T00:00:00",
          "2003-09-01T00:00:00",
          "2003-10-01T00:00:00",
          "2003-11-01T00:00:00",
          "2003-12-01T00:00:00",
          "2004-01-01T00:00:00",
          "2004-02-01T00:00:00",
          "2004-03-01T00:00:00",
          "2004-04-01T00:00:00",
          "2004-05-01T00:00:00",
          "2004-06-01T00:00:00",
          "2004-07-01T00:00:00",
          "2004-08-01T00:00:00",
          "2004-09-01T00:00:00",
          "2004-10-01T00:00:00",
          "2004-11-01T00:00:00",
          "2004-12-01T00:00:00",
          "2005-01-01T00:00:00",
          "2005-02-01T00:00:00",
          "2005-03-01T00:00:00",
          "2005-04-01T00:00:00",
          "2005-05-01T00:00:00",
          "2005-06-01T00:00:00",
          "2005-07-01T00:00:00",
          "2005-08-01T00:00:00",
          "2005-09-01T00:00:00",
          "2005-10-01T00:00:00",
          "2005-11-01T00:00:00",
          "2005-12-01T00:00:00",
          "2006-01-01T00:00:00",
          "2006-02-01T00:00:00",
          "2006-03-01T00:00:00",
          "2006-04-01T00:00:00",
          "2006-05-01T00:00:00",
          "2006-06-01T00:00:00",
          "2006-07-01T00:00:00",
          "2006-08-01T00:00:00",
          "2006-09-01T00:00:00",
          "2006-10-01T00:00:00",
          "2006-11-01T00:00:00",
          "2006-12-01T00:00:00",
          "2007-01-01T00:00:00",
          "2007-02-01T00:00:00",
          "2007-03-01T00:00:00",
          "2007-04-01T00:00:00",
          "2007-05-01T00:00:00",
          "2007-06-01T00:00:00",
          "2007-07-01T00:00:00",
          "2007-08-01T00:00:00",
          "2007-09-01T00:00:00",
          "2007-10-01T00:00:00",
          "2007-11-01T00:00:00",
          "2007-12-01T00:00:00",
          "2008-01-01T00:00:00",
          "2008-02-01T00:00:00",
          "2008-03-01T00:00:00",
          "2008-04-01T00:00:00",
          "2008-05-01T00:00:00",
          "2008-06-01T00:00:00",
          "2008-07-01T00:00:00",
          "2008-08-01T00:00:00",
          "2008-09-01T00:00:00",
          "2008-10-01T00:00:00",
          "2008-11-01T00:00:00",
          "2008-12-01T00:00:00",
          "2009-01-01T00:00:00",
          "2009-02-01T00:00:00",
          "2009-03-01T00:00:00",
          "2009-04-01T00:00:00",
          "2009-05-01T00:00:00",
          "2009-06-01T00:00:00",
          "2009-07-01T00:00:00",
          "2009-08-01T00:00:00",
          "2009-09-01T00:00:00",
          "2009-10-01T00:00:00",
          "2009-11-01T00:00:00",
          "2009-12-01T00:00:00",
          "2010-01-01T00:00:00",
          "2010-02-01T00:00:00",
          "2010-03-01T00:00:00",
          "2010-04-01T00:00:00",
          "2010-05-01T00:00:00",
          "2010-06-01T00:00:00",
          "2010-07-01T00:00:00",
          "2010-08-01T00:00:00",
          "2010-09-01T00:00:00",
          "2010-10-01T00:00:00",
          "2010-11-01T00:00:00",
          "2010-12-01T00:00:00",
          "2011-01-01T00:00:00",
          "2011-02-01T00:00:00",
          "2011-03-01T00:00:00",
          "2011-04-01T00:00:00",
          "2011-05-01T00:00:00",
          "2011-06-01T00:00:00",
          "2011-07-01T00:00:00",
          "2011-08-01T00:00:00",
          "2011-09-01T00:00:00",
          "2011-10-01T00:00:00",
          "2011-11-01T00:00:00",
          "2011-12-01T00:00:00",
          "2012-01-01T00:00:00",
          "2012-02-01T00:00:00",
          "2012-03-01T00:00:00",
          "2012-04-01T00:00:00",
          "2012-05-01T00:00:00",
          "2012-06-01T00:00:00",
          "2012-07-01T00:00:00",
          "2012-08-01T00:00:00",
          "2012-09-01T00:00:00",
          "2012-10-01T00:00:00",
          "2012-11-01T00:00:00",
          "2012-12-01T00:00:00",
          "2013-01-01T00:00:00",
          "2013-02-01T00:00:00",
          "2013-03-01T00:00:00",
          "2013-04-01T00:00:00",
          "2013-05-01T00:00:00",
          "2013-06-01T00:00:00",
          "2013-07-01T00:00:00",
          "2013-08-01T00:00:00",
          "2013-09-01T00:00:00",
          "2013-10-01T00:00:00",
          "2013-11-01T00:00:00",
          "2013-12-01T00:00:00",
          "2014-01-01T00:00:00",
          "2014-02-01T00:00:00",
          "2014-03-01T00:00:00",
          "2014-04-01T00:00:00",
          "2014-05-01T00:00:00",
          "2014-06-01T00:00:00",
          "2014-07-01T00:00:00",
          "2014-08-01T00:00:00",
          "2014-09-01T00:00:00",
          "2014-10-01T00:00:00",
          "2014-11-01T00:00:00",
          "2014-12-01T00:00:00",
          "2015-01-01T00:00:00",
          "2015-02-01T00:00:00",
          "2015-03-01T00:00:00",
          "2015-04-01T00:00:00",
          "2015-05-01T00:00:00",
          "2015-06-01T00:00:00",
          "2015-07-01T00:00:00",
          "2015-08-01T00:00:00",
          "2015-09-01T00:00:00",
          "2015-10-01T00:00:00",
          "2015-11-01T00:00:00",
          "2015-12-01T00:00:00",
          "2016-01-01T00:00:00",
          "2016-02-01T00:00:00",
          "2016-03-01T00:00:00",
          "2016-04-01T00:00:00",
          "2016-05-01T00:00:00",
          "2016-06-01T00:00:00",
          "2016-07-01T00:00:00",
          "2016-08-01T00:00:00",
          "2016-09-01T00:00:00",
          "2016-10-01T00:00:00",
          "2016-11-01T00:00:00",
          "2016-12-01T00:00:00",
          "2017-01-01T00:00:00",
          "2017-02-01T00:00:00",
          "2017-03-01T00:00:00",
          "2017-04-01T00:00:00",
          "2017-05-01T00:00:00",
          "2017-06-01T00:00:00",
          "2017-07-01T00:00:00",
          "2017-08-01T00:00:00",
          "2017-09-01T00:00:00",
          "2017-10-01T00:00:00",
          "2017-11-01T00:00:00",
          "2017-12-01T00:00:00",
          "2018-01-01T00:00:00",
          "2018-02-01T00:00:00",
          "2018-03-01T00:00:00",
          "2018-04-01T00:00:00",
          "2018-05-01T00:00:00",
          "2018-06-01T00:00:00",
          "2018-07-01T00:00:00",
          "2018-08-01T00:00:00",
          "2018-09-01T00:00:00",
          "2018-10-01T00:00:00",
          "2018-11-01T00:00:00",
          "2018-12-01T00:00:00",
          "2019-01-01T00:00:00",
          "2019-02-01T00:00:00",
          "2019-03-01T00:00:00",
          "2019-04-01T00:00:00",
          "2019-05-01T00:00:00",
          "2019-06-01T00:00:00",
          "2019-07-01T00:00:00",
          "2019-08-01T00:00:00",
          "2019-09-01T00:00:00",
          "2019-10-01T00:00:00",
          "2019-11-01T00:00:00",
          "2019-12-01T00:00:00",
          "2020-01-01T00:00:00",
          "2020-02-01T00:00:00",
          "2020-03-01T00:00:00",
          "2020-04-01T00:00:00",
          "2020-05-01T00:00:00",
          "2020-06-01T00:00:00",
          "2020-07-01T00:00:00",
          "2020-08-01T00:00:00",
          "2020-09-01T00:00:00",
          "2020-10-01T00:00:00",
          "2020-11-01T00:00:00",
          "2020-12-01T00:00:00",
          "2021-01-01T00:00:00",
          "2021-02-01T00:00:00",
          "2021-03-01T00:00:00",
          "2021-04-01T00:00:00",
          "2021-05-01T00:00:00",
          "2021-06-01T00:00:00",
          "2021-07-01T00:00:00",
          "2021-08-01T00:00:00",
          "2021-09-01T00:00:00",
          "2021-10-01T00:00:00",
          "2021-11-01T00:00:00",
          "2021-12-01T00:00:00",
          "2022-01-01T00:00:00",
          "2022-02-01T00:00:00",
          "2022-03-01T00:00:00",
          "2022-04-01T00:00:00",
          "2022-05-01T00:00:00",
          "2022-06-01T00:00:00",
          "2022-07-01T00:00:00",
          "2022-08-01T00:00:00",
          "2022-09-01T00:00:00",
          "2022-10-01T00:00:00",
          "2022-11-01T00:00:00",
          "2022-12-01T00:00:00",
          "2023-01-01T00:00:00",
          "2023-02-01T00:00:00",
          "2023-03-01T00:00:00",
          "2023-04-01T00:00:00",
          "2023-05-01T00:00:00",
          "2023-06-01T00:00:00",
          "2023-07-01T00:00:00",
          "2023-08-01T00:00:00",
          "2023-09-01T00:00:00",
          "2023-10-01T00:00:00",
          "2023-11-01T00:00:00",
          "2023-12-01T00:00:00",
          "2024-01-01T00:00:00",
          "2024-02-01T00:00:00",
          "2024-03-01T00:00:00",
          "2024-04-01T00:00:00",
          "2024-05-01T00:00:00",
          "2024-06-01T00:00:00",
          "2024-07-01T00:00:00",
          "2024-08-01T00:00:00"
         ],
         "xaxis": "x",
         "y": [
          -0.12589518229166607,
          3.7052873883928577,
          1.52587890625,
          -1.4910714285714284,
          0.5741838727678572,
          -0.852294921875,
          0.7598470052083339,
          0.6553431919642865,
          0.1211170014880949,
          1.1395089285714286,
          -1.6157807849702381,
          -2.942406063988095,
          0.3577473958333339,
          -3.3616071428571423,
          2.635498046875,
          -1.9227120535714284,
          -4.063511439732142,
          -2.999755859375,
          0.8640950520833339,
          1.5899135044642865,
          2.468529110863095,
          -2.5240652901785716,
          -0.9785737537202381,
          -0.6084216889880949,
          0.2661946614583339,
          0.5036272321428577,
          0.31396484375,
          -0.10679408482142838,
          0.9015764508928572,
          -2.392578125,
          0.17781575520833393,
          2.4805385044642865,
          0.1823962983630949,
          -3.7223074776785716,
          1.9181547619047619,
          0.7267833891369051,
          2.386311848958334,
          -0.9868512834821423,
          -1.48193359375,
          0.2716238839285716,
          0.028529575892857206,
          -0.21044921875,
          -2.112467447916666,
          0.15509905133928648,
          -1.805884951636905,
          -2.7838309151785716,
          -2.291562034970238,
          1.719947451636905,
          1.475423177083334,
          -0.44949776785714235,
          3.763671875,
          -1.8982979910714284,
          -0.1304059709821428,
          -0.769775390625,
          2.197347005208334,
          1.2742396763392865,
          -1.413062686011905,
          0.09922572544642858,
          3.559512183779762,
          1.308814639136905,
          -2.000162760416666,
          3.0339006696428577,
          -3.34326171875,
          0.5186941964285716,
          -1.3154645647321428,
          -2.67578125,
          1.573567708333334,
          -1.9279087611607135,
          -3.789527529761905,
          3.4749581473214284,
          -0.42266555059523814,
          0.3124767485119051,
          0.7693684895833339,
          -2.4778180803571423,
          -2.437255859375,
          0.5670340401785716,
          -0.4416852678571428,
          0.185791015625,
          -1.327067057291666,
          -1.6300571986607135,
          -2.842994326636905,
          -0.6197684151785714,
          -0.08794875372023814,
          -0.0249255952380949,
          1.223958333333334,
          2.4826311383928577,
          1.726806640625,
          -1.2518136160714284,
          -0.7331891741071428,
          -1.447021484375,
          -2.119547526041666,
          0.5674525669642865,
          2.904075985863095,
          -0.4598563058035714,
          -0.33916945684523814,
          1.063697451636905,
          -0.061930338541666075,
          3.5741838727678577,
          -0.35205078125,
          -0.7007882254464284,
          0.1852678571428572,
          0.39892578125,
          0.7029622395833339,
          0.4468470982142865,
          -0.7428966703869051,
          -1.2491629464285714,
          -5.474667503720238,
          -0.4665759858630949,
          0.9004720052083339,
          -1.8970075334821423,
          -0.418212890625,
          -0.4747140066964284,
          1.2902483258928572,
          -1.158935546875,
          -0.027018229166666075,
          0.19147600446428648,
          2.407249813988095,
          0.6204659598214286,
          -2.629696800595238,
          -0.0901111421130949,
          -1.877848307291666,
          1.3805803571428577,
          0.228271484375,
          0.6214773995535716,
          1.0827287946428572,
          2.00634765625,
          -2.694010416666666,
          0.3438197544642865,
          0.6679920014880949,
          -0.7386648995535714,
          -1.1882905505952381,
          1.177222842261905,
          -0.3277994791666661,
          0.7106584821428577,
          2.296630859375,
          -1.7320382254464284,
          1.5456194196428572,
          -1.141845703125,
          -0.3226725260416661,
          1.0125209263392865,
          -3.969215029761905,
          3.0648018973214284,
          -0.6570405505952381,
          -3.056908017113095,
          -0.5721842447916661,
          2.7245744977678577,
          0.543212890625,
          -0.09043666294642838,
          -1.1482282366071428,
          1.636474609375,
          -0.5763346354166661,
          -1.5978306361607135,
          -1.553443545386905,
          -0.5050223214285714,
          1.5646391369047619,
          2.271461123511905,
          -1.649820963541666,
          -4.712193080357142,
          1.80224609375,
          -0.2635323660714284,
          0.7001604352678572,
          4.484130859375,
          1.111165364583334,
          2.7564174107142865,
          0.7788318452380949,
          -4.358782087053571,
          1.3725004650297619,
          0.8090587797619051,
          -0.3114420572916661,
          0.5807756696428577,
          -1.604248046875,
          -0.10532924107142838,
          -1.7908063616071428,
          -0.08642578125,
          -0.9967447916666661,
          -0.3646763392857135,
          1.741478329613095,
          0.9874093191964286,
          -0.36285109747023814,
          -0.1579822358630949,
          -1.493082682291666,
          -5.523472377232142,
          -0.449951171875,
          0.20179966517857162,
          0.2475237165178572,
          1.720947265625,
          -0.5316569010416661,
          -1.9445103236607135,
          1.628441220238095,
          1.4085518973214286,
          1.4596586681547619,
          -1.274437313988095,
          -1.313151041666666,
          -0.9558454241071423,
          -1.931396484375,
          0.9867117745535716,
          0.4735979352678572,
          1.414306640625,
          2.235188802083334,
          -4.1129673549107135,
          2.603050595238095,
          3.0689522879464284,
          4.298037574404762,
          2.808570498511905,
          3.718098958333334,
          3.1908830915178577,
          -0.019775390625,
          4.666643415178571,
          0.6742815290178572,
          0.514892578125,
          -0.8507486979166661,
          -1.0524204799107135,
          -0.6899181547619051,
          1.0152413504464286,
          0.39960007440476186,
          -0.9797595796130949,
          3.130940755208334,
          2.5937151227678577,
          -0.95654296875,
          -1.1627022879464284,
          0.6125139508928572,
          0.634033203125,
          -0.039469401041666075,
          0.3313685825892865,
          -0.2267833891369051,
          2.1475655691964284,
          -0.8958100818452381,
          -0.0058826264880949,
          -1.744303385416666,
          -1.7773786272321423,
          -0.62744140625,
          2.0262625558035716,
          2.372279575892857,
          0.353759765625,
          0.4397786458333339,
          2.2781459263392865,
          2.157493954613095,
          0.8633858816964286,
          2.508486793154762,
          -0.5290759858630949,
          -2.750895182291666,
          -2.3391462053571423,
          -1.214111328125,
          1.3399832589285716,
          -1.0652204241071428,
          0.38525390625,
          1.535970052083334,
          -1.4528111049107135,
          -0.6269298735119051,
          -0.9286063058035714,
          -0.13653273809523814,
          -2.061546688988095,
          -0.7674967447916661,
          2.3166155133928577,
          1.11181640625,
          4.477678571428571,
          2.286586216517857,
          0.512451171875,
          -2.240397135416666,
          1.2774135044642865,
          3.118431454613095,
          0.6910226004464286,
          3.068789527529762,
          1.842506045386905,
          1.161458333333334,
          -3.7009626116071423,
          3.1376953125,
          0.22206333705357162,
          1.0526994977678572,
          2.369384765625,
          0.3186848958333339,
          2.3303920200892865,
          0.9619373139880949,
          0.18687220982142858,
          1.5414457775297619,
          -1.268089657738095,
          -0.17716471354166607,
          -3.8105817522321423,
          -1.792236328125,
          1.4559500558035716,
          -2.608189174107143,
          -2.096435546875,
          1.118733723958334,
          0.4986049107142865,
          1.382835751488095,
          1.0616280691964286,
          -0.10821242559523814,
          2.831763857886905,
          1.379720052083334,
          1.4347795758928577,
          1.429443359375,
          2.7716238839285716,
          -1.0720563616071428,
          -0.496337890625,
          -3.587809244791666,
          -3.9030064174107135,
          0.2400134858630949,
          1.9861886160714286,
          3.832949683779762,
          2.894752139136905,
          1.390706380208334,
          -0.5630231584821423,
          1.56201171875,
          1.6395438058035716,
          0.7497209821428572,
          1.84814453125,
          3.903401692708334,
          1.1533900669642865,
          -0.3871837797619051,
          -1.1910574776785714,
          3.184756324404762,
          4.641334170386905,
          1.600911458333334,
          2.4513811383928577,
          -0.742431640625,
          1.5186941964285716,
          -0.9221540178571428,
          -0.625244140625,
          1.150227864583334,
          1.1155482700892865,
          2.470726376488095,
          -0.6163504464285714,
          1.2472563244047619,
          3.559547061011905,
          -3.381022135416666,
          2.5370744977678577,
          3.763427734375,
          0.9305594308035716,
          0.7765764508928572,
          3.435302734375,
          0.7635091145833339,
          1.2171107700892865,
          -1.343238467261905,
          2.3440987723214284,
          0.26288132440476186,
          -0.8093494233630949,
          3.216878255208334,
          -2.6411481584821423,
          -1.546630859375,
          3.2738211495535716,
          1.7118791852678572,
          2.636962890625,
          2.033040364583334,
          1.2095424107142865,
          3.237327938988095,
          2.3711983816964284,
          2.541201636904762,
          1.797095889136905,
          -3.044352213541666,
          2.5968889508928577,
          0.39013671875,
          0.18983677455357162,
          -2.842564174107143,
          2.065185546875,
          2.277425130208334,
          1.2522670200892865,
          1.946312313988095,
          2.2256905691964284,
          0.40301804315476186,
          3.284888857886905,
          1.549641927083334,
          3.2470354352678577,
          0.907958984375,
          3.4198172433035716,
          2.297816685267857,
          -0.17626953125,
          2.032307942708334,
          1.4751674107142865,
          1.913353329613095,
          -2.0348074776785716,
          4.226992652529762,
          1.123511904761905,
          -0.5016276041666661,
          4.028285435267858,
          -0.109130859375,
          -1.0267159598214284,
          -2.248814174107143,
          1.217529296875,
          0.031575520833333925,
          -0.11467633928571352,
          2.407738095238095,
          0.9803292410714286,
          -0.19463820684523814,
          1.963599795386905,
          1.702962239583334,
          1.8510393415178577,
          0.5390625,
          0.5384695870535716,
          2.348842075892857,
          3.72607421875,
          3.609944661458334,
          2.5862513950892865,
          0.7097400483630949,
          4.438092912946429,
          2.009951636904762,
          2.409400576636905,
          0.3865559895833339,
          2.8925432477678577,
          1.773193359375,
          -0.3201729910714284,
          0.4174455915178572,
          1.85498046875,
          2.275716145833334,
          1.6900111607142865,
          4.673118954613095,
          3.7940499441964284,
          0.7282133556547619,
          4.923072451636905,
          5.904134114583334,
          8.582972935267858,
          3.644287109375,
          2.1593191964285716,
          -0.4634137834821428,
          -0.05908203125,
          1.899739583333334,
          3.2305385044642865
         ],
         "yaxis": "y"
        }
       ],
       "layout": {
        "legend": {
         "tracegroupgap": 0
        },
        "template": {
         "data": {
          "bar": [
           {
            "error_x": {
             "color": "#2a3f5f"
            },
            "error_y": {
             "color": "#2a3f5f"
            },
            "marker": {
             "line": {
              "color": "#E5ECF6",
              "width": 0.5
             },
             "pattern": {
              "fillmode": "overlay",
              "size": 10,
              "solidity": 0.2
             }
            },
            "type": "bar"
           }
          ],
          "barpolar": [
           {
            "marker": {
             "line": {
              "color": "#E5ECF6",
              "width": 0.5
             },
             "pattern": {
              "fillmode": "overlay",
              "size": 10,
              "solidity": 0.2
             }
            },
            "type": "barpolar"
           }
          ],
          "carpet": [
           {
            "aaxis": {
             "endlinecolor": "#2a3f5f",
             "gridcolor": "white",
             "linecolor": "white",
             "minorgridcolor": "white",
             "startlinecolor": "#2a3f5f"
            },
            "baxis": {
             "endlinecolor": "#2a3f5f",
             "gridcolor": "white",
             "linecolor": "white",
             "minorgridcolor": "white",
             "startlinecolor": "#2a3f5f"
            },
            "type": "carpet"
           }
          ],
          "choropleth": [
           {
            "colorbar": {
             "outlinewidth": 0,
             "ticks": ""
            },
            "type": "choropleth"
           }
          ],
          "contour": [
           {
            "colorbar": {
             "outlinewidth": 0,
             "ticks": ""
            },
            "colorscale": [
             [
              0,
              "#0d0887"
             ],
             [
              0.1111111111111111,
              "#46039f"
             ],
             [
              0.2222222222222222,
              "#7201a8"
             ],
             [
              0.3333333333333333,
              "#9c179e"
             ],
             [
              0.4444444444444444,
              "#bd3786"
             ],
             [
              0.5555555555555556,
              "#d8576b"
             ],
             [
              0.6666666666666666,
              "#ed7953"
             ],
             [
              0.7777777777777778,
              "#fb9f3a"
             ],
             [
              0.8888888888888888,
              "#fdca26"
             ],
             [
              1,
              "#f0f921"
             ]
            ],
            "type": "contour"
           }
          ],
          "contourcarpet": [
           {
            "colorbar": {
             "outlinewidth": 0,
             "ticks": ""
            },
            "type": "contourcarpet"
           }
          ],
          "heatmap": [
           {
            "colorbar": {
             "outlinewidth": 0,
             "ticks": ""
            },
            "colorscale": [
             [
              0,
              "#0d0887"
             ],
             [
              0.1111111111111111,
              "#46039f"
             ],
             [
              0.2222222222222222,
              "#7201a8"
             ],
             [
              0.3333333333333333,
              "#9c179e"
             ],
             [
              0.4444444444444444,
              "#bd3786"
             ],
             [
              0.5555555555555556,
              "#d8576b"
             ],
             [
              0.6666666666666666,
              "#ed7953"
             ],
             [
              0.7777777777777778,
              "#fb9f3a"
             ],
             [
              0.8888888888888888,
              "#fdca26"
             ],
             [
              1,
              "#f0f921"
             ]
            ],
            "type": "heatmap"
           }
          ],
          "heatmapgl": [
           {
            "colorbar": {
             "outlinewidth": 0,
             "ticks": ""
            },
            "colorscale": [
             [
              0,
              "#0d0887"
             ],
             [
              0.1111111111111111,
              "#46039f"
             ],
             [
              0.2222222222222222,
              "#7201a8"
             ],
             [
              0.3333333333333333,
              "#9c179e"
             ],
             [
              0.4444444444444444,
              "#bd3786"
             ],
             [
              0.5555555555555556,
              "#d8576b"
             ],
             [
              0.6666666666666666,
              "#ed7953"
             ],
             [
              0.7777777777777778,
              "#fb9f3a"
             ],
             [
              0.8888888888888888,
              "#fdca26"
             ],
             [
              1,
              "#f0f921"
             ]
            ],
            "type": "heatmapgl"
           }
          ],
          "histogram": [
           {
            "marker": {
             "pattern": {
              "fillmode": "overlay",
              "size": 10,
              "solidity": 0.2
             }
            },
            "type": "histogram"
           }
          ],
          "histogram2d": [
           {
            "colorbar": {
             "outlinewidth": 0,
             "ticks": ""
            },
            "colorscale": [
             [
              0,
              "#0d0887"
             ],
             [
              0.1111111111111111,
              "#46039f"
             ],
             [
              0.2222222222222222,
              "#7201a8"
             ],
             [
              0.3333333333333333,
              "#9c179e"
             ],
             [
              0.4444444444444444,
              "#bd3786"
             ],
             [
              0.5555555555555556,
              "#d8576b"
             ],
             [
              0.6666666666666666,
              "#ed7953"
             ],
             [
              0.7777777777777778,
              "#fb9f3a"
             ],
             [
              0.8888888888888888,
              "#fdca26"
             ],
             [
              1,
              "#f0f921"
             ]
            ],
            "type": "histogram2d"
           }
          ],
          "histogram2dcontour": [
           {
            "colorbar": {
             "outlinewidth": 0,
             "ticks": ""
            },
            "colorscale": [
             [
              0,
              "#0d0887"
             ],
             [
              0.1111111111111111,
              "#46039f"
             ],
             [
              0.2222222222222222,
              "#7201a8"
             ],
             [
              0.3333333333333333,
              "#9c179e"
             ],
             [
              0.4444444444444444,
              "#bd3786"
             ],
             [
              0.5555555555555556,
              "#d8576b"
             ],
             [
              0.6666666666666666,
              "#ed7953"
             ],
             [
              0.7777777777777778,
              "#fb9f3a"
             ],
             [
              0.8888888888888888,
              "#fdca26"
             ],
             [
              1,
              "#f0f921"
             ]
            ],
            "type": "histogram2dcontour"
           }
          ],
          "mesh3d": [
           {
            "colorbar": {
             "outlinewidth": 0,
             "ticks": ""
            },
            "type": "mesh3d"
           }
          ],
          "parcoords": [
           {
            "line": {
             "colorbar": {
              "outlinewidth": 0,
              "ticks": ""
             }
            },
            "type": "parcoords"
           }
          ],
          "pie": [
           {
            "automargin": true,
            "type": "pie"
           }
          ],
          "scatter": [
           {
            "fillpattern": {
             "fillmode": "overlay",
             "size": 10,
             "solidity": 0.2
            },
            "type": "scatter"
           }
          ],
          "scatter3d": [
           {
            "line": {
             "colorbar": {
              "outlinewidth": 0,
              "ticks": ""
             }
            },
            "marker": {
             "colorbar": {
              "outlinewidth": 0,
              "ticks": ""
             }
            },
            "type": "scatter3d"
           }
          ],
          "scattercarpet": [
           {
            "marker": {
             "colorbar": {
              "outlinewidth": 0,
              "ticks": ""
             }
            },
            "type": "scattercarpet"
           }
          ],
          "scattergeo": [
           {
            "marker": {
             "colorbar": {
              "outlinewidth": 0,
              "ticks": ""
             }
            },
            "type": "scattergeo"
           }
          ],
          "scattergl": [
           {
            "marker": {
             "colorbar": {
              "outlinewidth": 0,
              "ticks": ""
             }
            },
            "type": "scattergl"
           }
          ],
          "scattermapbox": [
           {
            "marker": {
             "colorbar": {
              "outlinewidth": 0,
              "ticks": ""
             }
            },
            "type": "scattermapbox"
           }
          ],
          "scatterpolar": [
           {
            "marker": {
             "colorbar": {
              "outlinewidth": 0,
              "ticks": ""
             }
            },
            "type": "scatterpolar"
           }
          ],
          "scatterpolargl": [
           {
            "marker": {
             "colorbar": {
              "outlinewidth": 0,
              "ticks": ""
             }
            },
            "type": "scatterpolargl"
           }
          ],
          "scatterternary": [
           {
            "marker": {
             "colorbar": {
              "outlinewidth": 0,
              "ticks": ""
             }
            },
            "type": "scatterternary"
           }
          ],
          "surface": [
           {
            "colorbar": {
             "outlinewidth": 0,
             "ticks": ""
            },
            "colorscale": [
             [
              0,
              "#0d0887"
             ],
             [
              0.1111111111111111,
              "#46039f"
             ],
             [
              0.2222222222222222,
              "#7201a8"
             ],
             [
              0.3333333333333333,
              "#9c179e"
             ],
             [
              0.4444444444444444,
              "#bd3786"
             ],
             [
              0.5555555555555556,
              "#d8576b"
             ],
             [
              0.6666666666666666,
              "#ed7953"
             ],
             [
              0.7777777777777778,
              "#fb9f3a"
             ],
             [
              0.8888888888888888,
              "#fdca26"
             ],
             [
              1,
              "#f0f921"
             ]
            ],
            "type": "surface"
           }
          ],
          "table": [
           {
            "cells": {
             "fill": {
              "color": "#EBF0F8"
             },
             "line": {
              "color": "white"
             }
            },
            "header": {
             "fill": {
              "color": "#C8D4E3"
             },
             "line": {
              "color": "white"
             }
            },
            "type": "table"
           }
          ]
         },
         "layout": {
          "annotationdefaults": {
           "arrowcolor": "#2a3f5f",
           "arrowhead": 0,
           "arrowwidth": 1
          },
          "autotypenumbers": "strict",
          "coloraxis": {
           "colorbar": {
            "outlinewidth": 0,
            "ticks": ""
           }
          },
          "colorscale": {
           "diverging": [
            [
             0,
             "#8e0152"
            ],
            [
             0.1,
             "#c51b7d"
            ],
            [
             0.2,
             "#de77ae"
            ],
            [
             0.3,
             "#f1b6da"
            ],
            [
             0.4,
             "#fde0ef"
            ],
            [
             0.5,
             "#f7f7f7"
            ],
            [
             0.6,
             "#e6f5d0"
            ],
            [
             0.7,
             "#b8e186"
            ],
            [
             0.8,
             "#7fbc41"
            ],
            [
             0.9,
             "#4d9221"
            ],
            [
             1,
             "#276419"
            ]
           ],
           "sequential": [
            [
             0,
             "#0d0887"
            ],
            [
             0.1111111111111111,
             "#46039f"
            ],
            [
             0.2222222222222222,
             "#7201a8"
            ],
            [
             0.3333333333333333,
             "#9c179e"
            ],
            [
             0.4444444444444444,
             "#bd3786"
            ],
            [
             0.5555555555555556,
             "#d8576b"
            ],
            [
             0.6666666666666666,
             "#ed7953"
            ],
            [
             0.7777777777777778,
             "#fb9f3a"
            ],
            [
             0.8888888888888888,
             "#fdca26"
            ],
            [
             1,
             "#f0f921"
            ]
           ],
           "sequentialminus": [
            [
             0,
             "#0d0887"
            ],
            [
             0.1111111111111111,
             "#46039f"
            ],
            [
             0.2222222222222222,
             "#7201a8"
            ],
            [
             0.3333333333333333,
             "#9c179e"
            ],
            [
             0.4444444444444444,
             "#bd3786"
            ],
            [
             0.5555555555555556,
             "#d8576b"
            ],
            [
             0.6666666666666666,
             "#ed7953"
            ],
            [
             0.7777777777777778,
             "#fb9f3a"
            ],
            [
             0.8888888888888888,
             "#fdca26"
            ],
            [
             1,
             "#f0f921"
            ]
           ]
          },
          "colorway": [
           "#636efa",
           "#EF553B",
           "#00cc96",
           "#ab63fa",
           "#FFA15A",
           "#19d3f3",
           "#FF6692",
           "#B6E880",
           "#FF97FF",
           "#FECB52"
          ],
          "font": {
           "color": "#2a3f5f"
          },
          "geo": {
           "bgcolor": "white",
           "lakecolor": "white",
           "landcolor": "#E5ECF6",
           "showlakes": true,
           "showland": true,
           "subunitcolor": "white"
          },
          "hoverlabel": {
           "align": "left"
          },
          "hovermode": "closest",
          "mapbox": {
           "style": "light"
          },
          "paper_bgcolor": "white",
          "plot_bgcolor": "#E5ECF6",
          "polar": {
           "angularaxis": {
            "gridcolor": "white",
            "linecolor": "white",
            "ticks": ""
           },
           "bgcolor": "#E5ECF6",
           "radialaxis": {
            "gridcolor": "white",
            "linecolor": "white",
            "ticks": ""
           }
          },
          "scene": {
           "xaxis": {
            "backgroundcolor": "#E5ECF6",
            "gridcolor": "white",
            "gridwidth": 2,
            "linecolor": "white",
            "showbackground": true,
            "ticks": "",
            "zerolinecolor": "white"
           },
           "yaxis": {
            "backgroundcolor": "#E5ECF6",
            "gridcolor": "white",
            "gridwidth": 2,
            "linecolor": "white",
            "showbackground": true,
            "ticks": "",
            "zerolinecolor": "white"
           },
           "zaxis": {
            "backgroundcolor": "#E5ECF6",
            "gridcolor": "white",
            "gridwidth": 2,
            "linecolor": "white",
            "showbackground": true,
            "ticks": "",
            "zerolinecolor": "white"
           }
          },
          "shapedefaults": {
           "line": {
            "color": "#2a3f5f"
           }
          },
          "ternary": {
           "aaxis": {
            "gridcolor": "white",
            "linecolor": "white",
            "ticks": ""
           },
           "baxis": {
            "gridcolor": "white",
            "linecolor": "white",
            "ticks": ""
           },
           "bgcolor": "#E5ECF6",
           "caxis": {
            "gridcolor": "white",
            "linecolor": "white",
            "ticks": ""
           }
          },
          "title": {
           "x": 0.05
          },
          "xaxis": {
           "automargin": true,
           "gridcolor": "white",
           "linecolor": "white",
           "ticks": "",
           "title": {
            "standoff": 15
           },
           "zerolinecolor": "white",
           "zerolinewidth": 2
          },
          "yaxis": {
           "automargin": true,
           "gridcolor": "white",
           "linecolor": "white",
           "ticks": "",
           "title": {
            "standoff": 15
           },
           "zerolinecolor": "white",
           "zerolinewidth": 2
          }
         }
        },
        "title": {
         "text": "t2m_delta over Time for Longitude 7.5 and Latitude 46.0"
        },
        "xaxis": {
         "anchor": "y",
         "domain": [
          0,
          1
         ],
         "title": {
          "text": "date"
         }
        },
        "yaxis": {
         "anchor": "x",
         "domain": [
          0,
          1
         ],
         "title": {
          "text": "t2m_delta"
         }
        }
       }
      },
      "text/html": [
       "<div>                            <div id=\"a3b12d23-7b7a-4829-baa0-d71fbf5b044d\" class=\"plotly-graph-div\" style=\"height:525px; width:100%;\"></div>            <script type=\"text/javascript\">                require([\"plotly\"], function(Plotly) {                    window.PLOTLYENV=window.PLOTLYENV || {};                                    if (document.getElementById(\"a3b12d23-7b7a-4829-baa0-d71fbf5b044d\")) {                    Plotly.newPlot(                        \"a3b12d23-7b7a-4829-baa0-d71fbf5b044d\",                        [{\"hovertemplate\":\"date=%{x}\\u003cbr\\u003et2m_delta=%{y}\\u003cextra\\u003e\\u003c\\u002fextra\\u003e\",\"legendgroup\":\"\",\"line\":{\"color\":\"#636efa\",\"dash\":\"solid\"},\"marker\":{\"symbol\":\"circle\"},\"mode\":\"lines\",\"name\":\"\",\"orientation\":\"v\",\"showlegend\":false,\"x\":[\"1990-01-01T00:00:00\",\"1990-02-01T00:00:00\",\"1990-03-01T00:00:00\",\"1990-04-01T00:00:00\",\"1990-05-01T00:00:00\",\"1990-06-01T00:00:00\",\"1990-07-01T00:00:00\",\"1990-08-01T00:00:00\",\"1990-09-01T00:00:00\",\"1990-10-01T00:00:00\",\"1990-11-01T00:00:00\",\"1990-12-01T00:00:00\",\"1991-01-01T00:00:00\",\"1991-02-01T00:00:00\",\"1991-03-01T00:00:00\",\"1991-04-01T00:00:00\",\"1991-05-01T00:00:00\",\"1991-06-01T00:00:00\",\"1991-07-01T00:00:00\",\"1991-08-01T00:00:00\",\"1991-09-01T00:00:00\",\"1991-10-01T00:00:00\",\"1991-11-01T00:00:00\",\"1991-12-01T00:00:00\",\"1992-01-01T00:00:00\",\"1992-02-01T00:00:00\",\"1992-03-01T00:00:00\",\"1992-04-01T00:00:00\",\"1992-05-01T00:00:00\",\"1992-06-01T00:00:00\",\"1992-07-01T00:00:00\",\"1992-08-01T00:00:00\",\"1992-09-01T00:00:00\",\"1992-10-01T00:00:00\",\"1992-11-01T00:00:00\",\"1992-12-01T00:00:00\",\"1993-01-01T00:00:00\",\"1993-02-01T00:00:00\",\"1993-03-01T00:00:00\",\"1993-04-01T00:00:00\",\"1993-05-01T00:00:00\",\"1993-06-01T00:00:00\",\"1993-07-01T00:00:00\",\"1993-08-01T00:00:00\",\"1993-09-01T00:00:00\",\"1993-10-01T00:00:00\",\"1993-11-01T00:00:00\",\"1993-12-01T00:00:00\",\"1994-01-01T00:00:00\",\"1994-02-01T00:00:00\",\"1994-03-01T00:00:00\",\"1994-04-01T00:00:00\",\"1994-05-01T00:00:00\",\"1994-06-01T00:00:00\",\"1994-07-01T00:00:00\",\"1994-08-01T00:00:00\",\"1994-09-01T00:00:00\",\"1994-10-01T00:00:00\",\"1994-11-01T00:00:00\",\"1994-12-01T00:00:00\",\"1995-01-01T00:00:00\",\"1995-02-01T00:00:00\",\"1995-03-01T00:00:00\",\"1995-04-01T00:00:00\",\"1995-05-01T00:00:00\",\"1995-06-01T00:00:00\",\"1995-07-01T00:00:00\",\"1995-08-01T00:00:00\",\"1995-09-01T00:00:00\",\"1995-10-01T00:00:00\",\"1995-11-01T00:00:00\",\"1995-12-01T00:00:00\",\"1996-01-01T00:00:00\",\"1996-02-01T00:00:00\",\"1996-03-01T00:00:00\",\"1996-04-01T00:00:00\",\"1996-05-01T00:00:00\",\"1996-06-01T00:00:00\",\"1996-07-01T00:00:00\",\"1996-08-01T00:00:00\",\"1996-09-01T00:00:00\",\"1996-10-01T00:00:00\",\"1996-11-01T00:00:00\",\"1996-12-01T00:00:00\",\"1997-01-01T00:00:00\",\"1997-02-01T00:00:00\",\"1997-03-01T00:00:00\",\"1997-04-01T00:00:00\",\"1997-05-01T00:00:00\",\"1997-06-01T00:00:00\",\"1997-07-01T00:00:00\",\"1997-08-01T00:00:00\",\"1997-09-01T00:00:00\",\"1997-10-01T00:00:00\",\"1997-11-01T00:00:00\",\"1997-12-01T00:00:00\",\"1998-01-01T00:00:00\",\"1998-02-01T00:00:00\",\"1998-03-01T00:00:00\",\"1998-04-01T00:00:00\",\"1998-05-01T00:00:00\",\"1998-06-01T00:00:00\",\"1998-07-01T00:00:00\",\"1998-08-01T00:00:00\",\"1998-09-01T00:00:00\",\"1998-10-01T00:00:00\",\"1998-11-01T00:00:00\",\"1998-12-01T00:00:00\",\"1999-01-01T00:00:00\",\"1999-02-01T00:00:00\",\"1999-03-01T00:00:00\",\"1999-04-01T00:00:00\",\"1999-05-01T00:00:00\",\"1999-06-01T00:00:00\",\"1999-07-01T00:00:00\",\"1999-08-01T00:00:00\",\"1999-09-01T00:00:00\",\"1999-10-01T00:00:00\",\"1999-11-01T00:00:00\",\"1999-12-01T00:00:00\",\"2000-01-01T00:00:00\",\"2000-02-01T00:00:00\",\"2000-03-01T00:00:00\",\"2000-04-01T00:00:00\",\"2000-05-01T00:00:00\",\"2000-06-01T00:00:00\",\"2000-07-01T00:00:00\",\"2000-08-01T00:00:00\",\"2000-09-01T00:00:00\",\"2000-10-01T00:00:00\",\"2000-11-01T00:00:00\",\"2000-12-01T00:00:00\",\"2001-01-01T00:00:00\",\"2001-02-01T00:00:00\",\"2001-03-01T00:00:00\",\"2001-04-01T00:00:00\",\"2001-05-01T00:00:00\",\"2001-06-01T00:00:00\",\"2001-07-01T00:00:00\",\"2001-08-01T00:00:00\",\"2001-09-01T00:00:00\",\"2001-10-01T00:00:00\",\"2001-11-01T00:00:00\",\"2001-12-01T00:00:00\",\"2002-01-01T00:00:00\",\"2002-02-01T00:00:00\",\"2002-03-01T00:00:00\",\"2002-04-01T00:00:00\",\"2002-05-01T00:00:00\",\"2002-06-01T00:00:00\",\"2002-07-01T00:00:00\",\"2002-08-01T00:00:00\",\"2002-09-01T00:00:00\",\"2002-10-01T00:00:00\",\"2002-11-01T00:00:00\",\"2002-12-01T00:00:00\",\"2003-01-01T00:00:00\",\"2003-02-01T00:00:00\",\"2003-03-01T00:00:00\",\"2003-04-01T00:00:00\",\"2003-05-01T00:00:00\",\"2003-06-01T00:00:00\",\"2003-07-01T00:00:00\",\"2003-08-01T00:00:00\",\"2003-09-01T00:00:00\",\"2003-10-01T00:00:00\",\"2003-11-01T00:00:00\",\"2003-12-01T00:00:00\",\"2004-01-01T00:00:00\",\"2004-02-01T00:00:00\",\"2004-03-01T00:00:00\",\"2004-04-01T00:00:00\",\"2004-05-01T00:00:00\",\"2004-06-01T00:00:00\",\"2004-07-01T00:00:00\",\"2004-08-01T00:00:00\",\"2004-09-01T00:00:00\",\"2004-10-01T00:00:00\",\"2004-11-01T00:00:00\",\"2004-12-01T00:00:00\",\"2005-01-01T00:00:00\",\"2005-02-01T00:00:00\",\"2005-03-01T00:00:00\",\"2005-04-01T00:00:00\",\"2005-05-01T00:00:00\",\"2005-06-01T00:00:00\",\"2005-07-01T00:00:00\",\"2005-08-01T00:00:00\",\"2005-09-01T00:00:00\",\"2005-10-01T00:00:00\",\"2005-11-01T00:00:00\",\"2005-12-01T00:00:00\",\"2006-01-01T00:00:00\",\"2006-02-01T00:00:00\",\"2006-03-01T00:00:00\",\"2006-04-01T00:00:00\",\"2006-05-01T00:00:00\",\"2006-06-01T00:00:00\",\"2006-07-01T00:00:00\",\"2006-08-01T00:00:00\",\"2006-09-01T00:00:00\",\"2006-10-01T00:00:00\",\"2006-11-01T00:00:00\",\"2006-12-01T00:00:00\",\"2007-01-01T00:00:00\",\"2007-02-01T00:00:00\",\"2007-03-01T00:00:00\",\"2007-04-01T00:00:00\",\"2007-05-01T00:00:00\",\"2007-06-01T00:00:00\",\"2007-07-01T00:00:00\",\"2007-08-01T00:00:00\",\"2007-09-01T00:00:00\",\"2007-10-01T00:00:00\",\"2007-11-01T00:00:00\",\"2007-12-01T00:00:00\",\"2008-01-01T00:00:00\",\"2008-02-01T00:00:00\",\"2008-03-01T00:00:00\",\"2008-04-01T00:00:00\",\"2008-05-01T00:00:00\",\"2008-06-01T00:00:00\",\"2008-07-01T00:00:00\",\"2008-08-01T00:00:00\",\"2008-09-01T00:00:00\",\"2008-10-01T00:00:00\",\"2008-11-01T00:00:00\",\"2008-12-01T00:00:00\",\"2009-01-01T00:00:00\",\"2009-02-01T00:00:00\",\"2009-03-01T00:00:00\",\"2009-04-01T00:00:00\",\"2009-05-01T00:00:00\",\"2009-06-01T00:00:00\",\"2009-07-01T00:00:00\",\"2009-08-01T00:00:00\",\"2009-09-01T00:00:00\",\"2009-10-01T00:00:00\",\"2009-11-01T00:00:00\",\"2009-12-01T00:00:00\",\"2010-01-01T00:00:00\",\"2010-02-01T00:00:00\",\"2010-03-01T00:00:00\",\"2010-04-01T00:00:00\",\"2010-05-01T00:00:00\",\"2010-06-01T00:00:00\",\"2010-07-01T00:00:00\",\"2010-08-01T00:00:00\",\"2010-09-01T00:00:00\",\"2010-10-01T00:00:00\",\"2010-11-01T00:00:00\",\"2010-12-01T00:00:00\",\"2011-01-01T00:00:00\",\"2011-02-01T00:00:00\",\"2011-03-01T00:00:00\",\"2011-04-01T00:00:00\",\"2011-05-01T00:00:00\",\"2011-06-01T00:00:00\",\"2011-07-01T00:00:00\",\"2011-08-01T00:00:00\",\"2011-09-01T00:00:00\",\"2011-10-01T00:00:00\",\"2011-11-01T00:00:00\",\"2011-12-01T00:00:00\",\"2012-01-01T00:00:00\",\"2012-02-01T00:00:00\",\"2012-03-01T00:00:00\",\"2012-04-01T00:00:00\",\"2012-05-01T00:00:00\",\"2012-06-01T00:00:00\",\"2012-07-01T00:00:00\",\"2012-08-01T00:00:00\",\"2012-09-01T00:00:00\",\"2012-10-01T00:00:00\",\"2012-11-01T00:00:00\",\"2012-12-01T00:00:00\",\"2013-01-01T00:00:00\",\"2013-02-01T00:00:00\",\"2013-03-01T00:00:00\",\"2013-04-01T00:00:00\",\"2013-05-01T00:00:00\",\"2013-06-01T00:00:00\",\"2013-07-01T00:00:00\",\"2013-08-01T00:00:00\",\"2013-09-01T00:00:00\",\"2013-10-01T00:00:00\",\"2013-11-01T00:00:00\",\"2013-12-01T00:00:00\",\"2014-01-01T00:00:00\",\"2014-02-01T00:00:00\",\"2014-03-01T00:00:00\",\"2014-04-01T00:00:00\",\"2014-05-01T00:00:00\",\"2014-06-01T00:00:00\",\"2014-07-01T00:00:00\",\"2014-08-01T00:00:00\",\"2014-09-01T00:00:00\",\"2014-10-01T00:00:00\",\"2014-11-01T00:00:00\",\"2014-12-01T00:00:00\",\"2015-01-01T00:00:00\",\"2015-02-01T00:00:00\",\"2015-03-01T00:00:00\",\"2015-04-01T00:00:00\",\"2015-05-01T00:00:00\",\"2015-06-01T00:00:00\",\"2015-07-01T00:00:00\",\"2015-08-01T00:00:00\",\"2015-09-01T00:00:00\",\"2015-10-01T00:00:00\",\"2015-11-01T00:00:00\",\"2015-12-01T00:00:00\",\"2016-01-01T00:00:00\",\"2016-02-01T00:00:00\",\"2016-03-01T00:00:00\",\"2016-04-01T00:00:00\",\"2016-05-01T00:00:00\",\"2016-06-01T00:00:00\",\"2016-07-01T00:00:00\",\"2016-08-01T00:00:00\",\"2016-09-01T00:00:00\",\"2016-10-01T00:00:00\",\"2016-11-01T00:00:00\",\"2016-12-01T00:00:00\",\"2017-01-01T00:00:00\",\"2017-02-01T00:00:00\",\"2017-03-01T00:00:00\",\"2017-04-01T00:00:00\",\"2017-05-01T00:00:00\",\"2017-06-01T00:00:00\",\"2017-07-01T00:00:00\",\"2017-08-01T00:00:00\",\"2017-09-01T00:00:00\",\"2017-10-01T00:00:00\",\"2017-11-01T00:00:00\",\"2017-12-01T00:00:00\",\"2018-01-01T00:00:00\",\"2018-02-01T00:00:00\",\"2018-03-01T00:00:00\",\"2018-04-01T00:00:00\",\"2018-05-01T00:00:00\",\"2018-06-01T00:00:00\",\"2018-07-01T00:00:00\",\"2018-08-01T00:00:00\",\"2018-09-01T00:00:00\",\"2018-10-01T00:00:00\",\"2018-11-01T00:00:00\",\"2018-12-01T00:00:00\",\"2019-01-01T00:00:00\",\"2019-02-01T00:00:00\",\"2019-03-01T00:00:00\",\"2019-04-01T00:00:00\",\"2019-05-01T00:00:00\",\"2019-06-01T00:00:00\",\"2019-07-01T00:00:00\",\"2019-08-01T00:00:00\",\"2019-09-01T00:00:00\",\"2019-10-01T00:00:00\",\"2019-11-01T00:00:00\",\"2019-12-01T00:00:00\",\"2020-01-01T00:00:00\",\"2020-02-01T00:00:00\",\"2020-03-01T00:00:00\",\"2020-04-01T00:00:00\",\"2020-05-01T00:00:00\",\"2020-06-01T00:00:00\",\"2020-07-01T00:00:00\",\"2020-08-01T00:00:00\",\"2020-09-01T00:00:00\",\"2020-10-01T00:00:00\",\"2020-11-01T00:00:00\",\"2020-12-01T00:00:00\",\"2021-01-01T00:00:00\",\"2021-02-01T00:00:00\",\"2021-03-01T00:00:00\",\"2021-04-01T00:00:00\",\"2021-05-01T00:00:00\",\"2021-06-01T00:00:00\",\"2021-07-01T00:00:00\",\"2021-08-01T00:00:00\",\"2021-09-01T00:00:00\",\"2021-10-01T00:00:00\",\"2021-11-01T00:00:00\",\"2021-12-01T00:00:00\",\"2022-01-01T00:00:00\",\"2022-02-01T00:00:00\",\"2022-03-01T00:00:00\",\"2022-04-01T00:00:00\",\"2022-05-01T00:00:00\",\"2022-06-01T00:00:00\",\"2022-07-01T00:00:00\",\"2022-08-01T00:00:00\",\"2022-09-01T00:00:00\",\"2022-10-01T00:00:00\",\"2022-11-01T00:00:00\",\"2022-12-01T00:00:00\",\"2023-01-01T00:00:00\",\"2023-02-01T00:00:00\",\"2023-03-01T00:00:00\",\"2023-04-01T00:00:00\",\"2023-05-01T00:00:00\",\"2023-06-01T00:00:00\",\"2023-07-01T00:00:00\",\"2023-08-01T00:00:00\",\"2023-09-01T00:00:00\",\"2023-10-01T00:00:00\",\"2023-11-01T00:00:00\",\"2023-12-01T00:00:00\",\"2024-01-01T00:00:00\",\"2024-02-01T00:00:00\",\"2024-03-01T00:00:00\",\"2024-04-01T00:00:00\",\"2024-05-01T00:00:00\",\"2024-06-01T00:00:00\",\"2024-07-01T00:00:00\",\"2024-08-01T00:00:00\"],\"xaxis\":\"x\",\"y\":[-0.12589518229166607,3.7052873883928577,1.52587890625,-1.4910714285714284,0.5741838727678572,-0.852294921875,0.7598470052083339,0.6553431919642865,0.1211170014880949,1.1395089285714286,-1.6157807849702381,-2.942406063988095,0.3577473958333339,-3.3616071428571423,2.635498046875,-1.9227120535714284,-4.063511439732142,-2.999755859375,0.8640950520833339,1.5899135044642865,2.468529110863095,-2.5240652901785716,-0.9785737537202381,-0.6084216889880949,0.2661946614583339,0.5036272321428577,0.31396484375,-0.10679408482142838,0.9015764508928572,-2.392578125,0.17781575520833393,2.4805385044642865,0.1823962983630949,-3.7223074776785716,1.9181547619047619,0.7267833891369051,2.386311848958334,-0.9868512834821423,-1.48193359375,0.2716238839285716,0.028529575892857206,-0.21044921875,-2.112467447916666,0.15509905133928648,-1.805884951636905,-2.7838309151785716,-2.291562034970238,1.719947451636905,1.475423177083334,-0.44949776785714235,3.763671875,-1.8982979910714284,-0.1304059709821428,-0.769775390625,2.197347005208334,1.2742396763392865,-1.413062686011905,0.09922572544642858,3.559512183779762,1.308814639136905,-2.000162760416666,3.0339006696428577,-3.34326171875,0.5186941964285716,-1.3154645647321428,-2.67578125,1.573567708333334,-1.9279087611607135,-3.789527529761905,3.4749581473214284,-0.42266555059523814,0.3124767485119051,0.7693684895833339,-2.4778180803571423,-2.437255859375,0.5670340401785716,-0.4416852678571428,0.185791015625,-1.327067057291666,-1.6300571986607135,-2.842994326636905,-0.6197684151785714,-0.08794875372023814,-0.0249255952380949,1.223958333333334,2.4826311383928577,1.726806640625,-1.2518136160714284,-0.7331891741071428,-1.447021484375,-2.119547526041666,0.5674525669642865,2.904075985863095,-0.4598563058035714,-0.33916945684523814,1.063697451636905,-0.061930338541666075,3.5741838727678577,-0.35205078125,-0.7007882254464284,0.1852678571428572,0.39892578125,0.7029622395833339,0.4468470982142865,-0.7428966703869051,-1.2491629464285714,-5.474667503720238,-0.4665759858630949,0.9004720052083339,-1.8970075334821423,-0.418212890625,-0.4747140066964284,1.2902483258928572,-1.158935546875,-0.027018229166666075,0.19147600446428648,2.407249813988095,0.6204659598214286,-2.629696800595238,-0.0901111421130949,-1.877848307291666,1.3805803571428577,0.228271484375,0.6214773995535716,1.0827287946428572,2.00634765625,-2.694010416666666,0.3438197544642865,0.6679920014880949,-0.7386648995535714,-1.1882905505952381,1.177222842261905,-0.3277994791666661,0.7106584821428577,2.296630859375,-1.7320382254464284,1.5456194196428572,-1.141845703125,-0.3226725260416661,1.0125209263392865,-3.969215029761905,3.0648018973214284,-0.6570405505952381,-3.056908017113095,-0.5721842447916661,2.7245744977678577,0.543212890625,-0.09043666294642838,-1.1482282366071428,1.636474609375,-0.5763346354166661,-1.5978306361607135,-1.553443545386905,-0.5050223214285714,1.5646391369047619,2.271461123511905,-1.649820963541666,-4.712193080357142,1.80224609375,-0.2635323660714284,0.7001604352678572,4.484130859375,1.111165364583334,2.7564174107142865,0.7788318452380949,-4.358782087053571,1.3725004650297619,0.8090587797619051,-0.3114420572916661,0.5807756696428577,-1.604248046875,-0.10532924107142838,-1.7908063616071428,-0.08642578125,-0.9967447916666661,-0.3646763392857135,1.741478329613095,0.9874093191964286,-0.36285109747023814,-0.1579822358630949,-1.493082682291666,-5.523472377232142,-0.449951171875,0.20179966517857162,0.2475237165178572,1.720947265625,-0.5316569010416661,-1.9445103236607135,1.628441220238095,1.4085518973214286,1.4596586681547619,-1.274437313988095,-1.313151041666666,-0.9558454241071423,-1.931396484375,0.9867117745535716,0.4735979352678572,1.414306640625,2.235188802083334,-4.1129673549107135,2.603050595238095,3.0689522879464284,4.298037574404762,2.808570498511905,3.718098958333334,3.1908830915178577,-0.019775390625,4.666643415178571,0.6742815290178572,0.514892578125,-0.8507486979166661,-1.0524204799107135,-0.6899181547619051,1.0152413504464286,0.39960007440476186,-0.9797595796130949,3.130940755208334,2.5937151227678577,-0.95654296875,-1.1627022879464284,0.6125139508928572,0.634033203125,-0.039469401041666075,0.3313685825892865,-0.2267833891369051,2.1475655691964284,-0.8958100818452381,-0.0058826264880949,-1.744303385416666,-1.7773786272321423,-0.62744140625,2.0262625558035716,2.372279575892857,0.353759765625,0.4397786458333339,2.2781459263392865,2.157493954613095,0.8633858816964286,2.508486793154762,-0.5290759858630949,-2.750895182291666,-2.3391462053571423,-1.214111328125,1.3399832589285716,-1.0652204241071428,0.38525390625,1.535970052083334,-1.4528111049107135,-0.6269298735119051,-0.9286063058035714,-0.13653273809523814,-2.061546688988095,-0.7674967447916661,2.3166155133928577,1.11181640625,4.477678571428571,2.286586216517857,0.512451171875,-2.240397135416666,1.2774135044642865,3.118431454613095,0.6910226004464286,3.068789527529762,1.842506045386905,1.161458333333334,-3.7009626116071423,3.1376953125,0.22206333705357162,1.0526994977678572,2.369384765625,0.3186848958333339,2.3303920200892865,0.9619373139880949,0.18687220982142858,1.5414457775297619,-1.268089657738095,-0.17716471354166607,-3.8105817522321423,-1.792236328125,1.4559500558035716,-2.608189174107143,-2.096435546875,1.118733723958334,0.4986049107142865,1.382835751488095,1.0616280691964286,-0.10821242559523814,2.831763857886905,1.379720052083334,1.4347795758928577,1.429443359375,2.7716238839285716,-1.0720563616071428,-0.496337890625,-3.587809244791666,-3.9030064174107135,0.2400134858630949,1.9861886160714286,3.832949683779762,2.894752139136905,1.390706380208334,-0.5630231584821423,1.56201171875,1.6395438058035716,0.7497209821428572,1.84814453125,3.903401692708334,1.1533900669642865,-0.3871837797619051,-1.1910574776785714,3.184756324404762,4.641334170386905,1.600911458333334,2.4513811383928577,-0.742431640625,1.5186941964285716,-0.9221540178571428,-0.625244140625,1.150227864583334,1.1155482700892865,2.470726376488095,-0.6163504464285714,1.2472563244047619,3.559547061011905,-3.381022135416666,2.5370744977678577,3.763427734375,0.9305594308035716,0.7765764508928572,3.435302734375,0.7635091145833339,1.2171107700892865,-1.343238467261905,2.3440987723214284,0.26288132440476186,-0.8093494233630949,3.216878255208334,-2.6411481584821423,-1.546630859375,3.2738211495535716,1.7118791852678572,2.636962890625,2.033040364583334,1.2095424107142865,3.237327938988095,2.3711983816964284,2.541201636904762,1.797095889136905,-3.044352213541666,2.5968889508928577,0.39013671875,0.18983677455357162,-2.842564174107143,2.065185546875,2.277425130208334,1.2522670200892865,1.946312313988095,2.2256905691964284,0.40301804315476186,3.284888857886905,1.549641927083334,3.2470354352678577,0.907958984375,3.4198172433035716,2.297816685267857,-0.17626953125,2.032307942708334,1.4751674107142865,1.913353329613095,-2.0348074776785716,4.226992652529762,1.123511904761905,-0.5016276041666661,4.028285435267858,-0.109130859375,-1.0267159598214284,-2.248814174107143,1.217529296875,0.031575520833333925,-0.11467633928571352,2.407738095238095,0.9803292410714286,-0.19463820684523814,1.963599795386905,1.702962239583334,1.8510393415178577,0.5390625,0.5384695870535716,2.348842075892857,3.72607421875,3.609944661458334,2.5862513950892865,0.7097400483630949,4.438092912946429,2.009951636904762,2.409400576636905,0.3865559895833339,2.8925432477678577,1.773193359375,-0.3201729910714284,0.4174455915178572,1.85498046875,2.275716145833334,1.6900111607142865,4.673118954613095,3.7940499441964284,0.7282133556547619,4.923072451636905,5.904134114583334,8.582972935267858,3.644287109375,2.1593191964285716,-0.4634137834821428,-0.05908203125,1.899739583333334,3.2305385044642865],\"yaxis\":\"y\",\"type\":\"scatter\"}],                        {\"template\":{\"data\":{\"histogram2dcontour\":[{\"type\":\"histogram2dcontour\",\"colorbar\":{\"outlinewidth\":0,\"ticks\":\"\"},\"colorscale\":[[0.0,\"#0d0887\"],[0.1111111111111111,\"#46039f\"],[0.2222222222222222,\"#7201a8\"],[0.3333333333333333,\"#9c179e\"],[0.4444444444444444,\"#bd3786\"],[0.5555555555555556,\"#d8576b\"],[0.6666666666666666,\"#ed7953\"],[0.7777777777777778,\"#fb9f3a\"],[0.8888888888888888,\"#fdca26\"],[1.0,\"#f0f921\"]]}],\"choropleth\":[{\"type\":\"choropleth\",\"colorbar\":{\"outlinewidth\":0,\"ticks\":\"\"}}],\"histogram2d\":[{\"type\":\"histogram2d\",\"colorbar\":{\"outlinewidth\":0,\"ticks\":\"\"},\"colorscale\":[[0.0,\"#0d0887\"],[0.1111111111111111,\"#46039f\"],[0.2222222222222222,\"#7201a8\"],[0.3333333333333333,\"#9c179e\"],[0.4444444444444444,\"#bd3786\"],[0.5555555555555556,\"#d8576b\"],[0.6666666666666666,\"#ed7953\"],[0.7777777777777778,\"#fb9f3a\"],[0.8888888888888888,\"#fdca26\"],[1.0,\"#f0f921\"]]}],\"heatmap\":[{\"type\":\"heatmap\",\"colorbar\":{\"outlinewidth\":0,\"ticks\":\"\"},\"colorscale\":[[0.0,\"#0d0887\"],[0.1111111111111111,\"#46039f\"],[0.2222222222222222,\"#7201a8\"],[0.3333333333333333,\"#9c179e\"],[0.4444444444444444,\"#bd3786\"],[0.5555555555555556,\"#d8576b\"],[0.6666666666666666,\"#ed7953\"],[0.7777777777777778,\"#fb9f3a\"],[0.8888888888888888,\"#fdca26\"],[1.0,\"#f0f921\"]]}],\"heatmapgl\":[{\"type\":\"heatmapgl\",\"colorbar\":{\"outlinewidth\":0,\"ticks\":\"\"},\"colorscale\":[[0.0,\"#0d0887\"],[0.1111111111111111,\"#46039f\"],[0.2222222222222222,\"#7201a8\"],[0.3333333333333333,\"#9c179e\"],[0.4444444444444444,\"#bd3786\"],[0.5555555555555556,\"#d8576b\"],[0.6666666666666666,\"#ed7953\"],[0.7777777777777778,\"#fb9f3a\"],[0.8888888888888888,\"#fdca26\"],[1.0,\"#f0f921\"]]}],\"contourcarpet\":[{\"type\":\"contourcarpet\",\"colorbar\":{\"outlinewidth\":0,\"ticks\":\"\"}}],\"contour\":[{\"type\":\"contour\",\"colorbar\":{\"outlinewidth\":0,\"ticks\":\"\"},\"colorscale\":[[0.0,\"#0d0887\"],[0.1111111111111111,\"#46039f\"],[0.2222222222222222,\"#7201a8\"],[0.3333333333333333,\"#9c179e\"],[0.4444444444444444,\"#bd3786\"],[0.5555555555555556,\"#d8576b\"],[0.6666666666666666,\"#ed7953\"],[0.7777777777777778,\"#fb9f3a\"],[0.8888888888888888,\"#fdca26\"],[1.0,\"#f0f921\"]]}],\"surface\":[{\"type\":\"surface\",\"colorbar\":{\"outlinewidth\":0,\"ticks\":\"\"},\"colorscale\":[[0.0,\"#0d0887\"],[0.1111111111111111,\"#46039f\"],[0.2222222222222222,\"#7201a8\"],[0.3333333333333333,\"#9c179e\"],[0.4444444444444444,\"#bd3786\"],[0.5555555555555556,\"#d8576b\"],[0.6666666666666666,\"#ed7953\"],[0.7777777777777778,\"#fb9f3a\"],[0.8888888888888888,\"#fdca26\"],[1.0,\"#f0f921\"]]}],\"mesh3d\":[{\"type\":\"mesh3d\",\"colorbar\":{\"outlinewidth\":0,\"ticks\":\"\"}}],\"scatter\":[{\"fillpattern\":{\"fillmode\":\"overlay\",\"size\":10,\"solidity\":0.2},\"type\":\"scatter\"}],\"parcoords\":[{\"type\":\"parcoords\",\"line\":{\"colorbar\":{\"outlinewidth\":0,\"ticks\":\"\"}}}],\"scatterpolargl\":[{\"type\":\"scatterpolargl\",\"marker\":{\"colorbar\":{\"outlinewidth\":0,\"ticks\":\"\"}}}],\"bar\":[{\"error_x\":{\"color\":\"#2a3f5f\"},\"error_y\":{\"color\":\"#2a3f5f\"},\"marker\":{\"line\":{\"color\":\"#E5ECF6\",\"width\":0.5},\"pattern\":{\"fillmode\":\"overlay\",\"size\":10,\"solidity\":0.2}},\"type\":\"bar\"}],\"scattergeo\":[{\"type\":\"scattergeo\",\"marker\":{\"colorbar\":{\"outlinewidth\":0,\"ticks\":\"\"}}}],\"scatterpolar\":[{\"type\":\"scatterpolar\",\"marker\":{\"colorbar\":{\"outlinewidth\":0,\"ticks\":\"\"}}}],\"histogram\":[{\"marker\":{\"pattern\":{\"fillmode\":\"overlay\",\"size\":10,\"solidity\":0.2}},\"type\":\"histogram\"}],\"scattergl\":[{\"type\":\"scattergl\",\"marker\":{\"colorbar\":{\"outlinewidth\":0,\"ticks\":\"\"}}}],\"scatter3d\":[{\"type\":\"scatter3d\",\"line\":{\"colorbar\":{\"outlinewidth\":0,\"ticks\":\"\"}},\"marker\":{\"colorbar\":{\"outlinewidth\":0,\"ticks\":\"\"}}}],\"scattermapbox\":[{\"type\":\"scattermapbox\",\"marker\":{\"colorbar\":{\"outlinewidth\":0,\"ticks\":\"\"}}}],\"scatterternary\":[{\"type\":\"scatterternary\",\"marker\":{\"colorbar\":{\"outlinewidth\":0,\"ticks\":\"\"}}}],\"scattercarpet\":[{\"type\":\"scattercarpet\",\"marker\":{\"colorbar\":{\"outlinewidth\":0,\"ticks\":\"\"}}}],\"carpet\":[{\"aaxis\":{\"endlinecolor\":\"#2a3f5f\",\"gridcolor\":\"white\",\"linecolor\":\"white\",\"minorgridcolor\":\"white\",\"startlinecolor\":\"#2a3f5f\"},\"baxis\":{\"endlinecolor\":\"#2a3f5f\",\"gridcolor\":\"white\",\"linecolor\":\"white\",\"minorgridcolor\":\"white\",\"startlinecolor\":\"#2a3f5f\"},\"type\":\"carpet\"}],\"table\":[{\"cells\":{\"fill\":{\"color\":\"#EBF0F8\"},\"line\":{\"color\":\"white\"}},\"header\":{\"fill\":{\"color\":\"#C8D4E3\"},\"line\":{\"color\":\"white\"}},\"type\":\"table\"}],\"barpolar\":[{\"marker\":{\"line\":{\"color\":\"#E5ECF6\",\"width\":0.5},\"pattern\":{\"fillmode\":\"overlay\",\"size\":10,\"solidity\":0.2}},\"type\":\"barpolar\"}],\"pie\":[{\"automargin\":true,\"type\":\"pie\"}]},\"layout\":{\"autotypenumbers\":\"strict\",\"colorway\":[\"#636efa\",\"#EF553B\",\"#00cc96\",\"#ab63fa\",\"#FFA15A\",\"#19d3f3\",\"#FF6692\",\"#B6E880\",\"#FF97FF\",\"#FECB52\"],\"font\":{\"color\":\"#2a3f5f\"},\"hovermode\":\"closest\",\"hoverlabel\":{\"align\":\"left\"},\"paper_bgcolor\":\"white\",\"plot_bgcolor\":\"#E5ECF6\",\"polar\":{\"bgcolor\":\"#E5ECF6\",\"angularaxis\":{\"gridcolor\":\"white\",\"linecolor\":\"white\",\"ticks\":\"\"},\"radialaxis\":{\"gridcolor\":\"white\",\"linecolor\":\"white\",\"ticks\":\"\"}},\"ternary\":{\"bgcolor\":\"#E5ECF6\",\"aaxis\":{\"gridcolor\":\"white\",\"linecolor\":\"white\",\"ticks\":\"\"},\"baxis\":{\"gridcolor\":\"white\",\"linecolor\":\"white\",\"ticks\":\"\"},\"caxis\":{\"gridcolor\":\"white\",\"linecolor\":\"white\",\"ticks\":\"\"}},\"coloraxis\":{\"colorbar\":{\"outlinewidth\":0,\"ticks\":\"\"}},\"colorscale\":{\"sequential\":[[0.0,\"#0d0887\"],[0.1111111111111111,\"#46039f\"],[0.2222222222222222,\"#7201a8\"],[0.3333333333333333,\"#9c179e\"],[0.4444444444444444,\"#bd3786\"],[0.5555555555555556,\"#d8576b\"],[0.6666666666666666,\"#ed7953\"],[0.7777777777777778,\"#fb9f3a\"],[0.8888888888888888,\"#fdca26\"],[1.0,\"#f0f921\"]],\"sequentialminus\":[[0.0,\"#0d0887\"],[0.1111111111111111,\"#46039f\"],[0.2222222222222222,\"#7201a8\"],[0.3333333333333333,\"#9c179e\"],[0.4444444444444444,\"#bd3786\"],[0.5555555555555556,\"#d8576b\"],[0.6666666666666666,\"#ed7953\"],[0.7777777777777778,\"#fb9f3a\"],[0.8888888888888888,\"#fdca26\"],[1.0,\"#f0f921\"]],\"diverging\":[[0,\"#8e0152\"],[0.1,\"#c51b7d\"],[0.2,\"#de77ae\"],[0.3,\"#f1b6da\"],[0.4,\"#fde0ef\"],[0.5,\"#f7f7f7\"],[0.6,\"#e6f5d0\"],[0.7,\"#b8e186\"],[0.8,\"#7fbc41\"],[0.9,\"#4d9221\"],[1,\"#276419\"]]},\"xaxis\":{\"gridcolor\":\"white\",\"linecolor\":\"white\",\"ticks\":\"\",\"title\":{\"standoff\":15},\"zerolinecolor\":\"white\",\"automargin\":true,\"zerolinewidth\":2},\"yaxis\":{\"gridcolor\":\"white\",\"linecolor\":\"white\",\"ticks\":\"\",\"title\":{\"standoff\":15},\"zerolinecolor\":\"white\",\"automargin\":true,\"zerolinewidth\":2},\"scene\":{\"xaxis\":{\"backgroundcolor\":\"#E5ECF6\",\"gridcolor\":\"white\",\"linecolor\":\"white\",\"showbackground\":true,\"ticks\":\"\",\"zerolinecolor\":\"white\",\"gridwidth\":2},\"yaxis\":{\"backgroundcolor\":\"#E5ECF6\",\"gridcolor\":\"white\",\"linecolor\":\"white\",\"showbackground\":true,\"ticks\":\"\",\"zerolinecolor\":\"white\",\"gridwidth\":2},\"zaxis\":{\"backgroundcolor\":\"#E5ECF6\",\"gridcolor\":\"white\",\"linecolor\":\"white\",\"showbackground\":true,\"ticks\":\"\",\"zerolinecolor\":\"white\",\"gridwidth\":2}},\"shapedefaults\":{\"line\":{\"color\":\"#2a3f5f\"}},\"annotationdefaults\":{\"arrowcolor\":\"#2a3f5f\",\"arrowhead\":0,\"arrowwidth\":1},\"geo\":{\"bgcolor\":\"white\",\"landcolor\":\"#E5ECF6\",\"subunitcolor\":\"white\",\"showland\":true,\"showlakes\":true,\"lakecolor\":\"white\"},\"title\":{\"x\":0.05},\"mapbox\":{\"style\":\"light\"}}},\"xaxis\":{\"anchor\":\"y\",\"domain\":[0.0,1.0],\"title\":{\"text\":\"date\"}},\"yaxis\":{\"anchor\":\"x\",\"domain\":[0.0,1.0],\"title\":{\"text\":\"t2m_delta\"}},\"legend\":{\"tracegroupgap\":0},\"title\":{\"text\":\"t2m_delta over Time for Longitude 7.5 and Latitude 46.0\"}},                        {\"responsive\": true}                    ).then(function(){\n",
       "                            \n",
       "var gd = document.getElementById('a3b12d23-7b7a-4829-baa0-d71fbf5b044d');\n",
       "var x = new MutationObserver(function (mutations, observer) {{\n",
       "        var display = window.getComputedStyle(gd).display;\n",
       "        if (!display || display === 'none') {{\n",
       "            console.log([gd, 'removed!']);\n",
       "            Plotly.purge(gd);\n",
       "            observer.disconnect();\n",
       "        }}\n",
       "}});\n",
       "\n",
       "// Listen for the removal of the full notebook cells\n",
       "var notebookContainer = gd.closest('#notebook-container');\n",
       "if (notebookContainer) {{\n",
       "    x.observe(notebookContainer, {childList: true});\n",
       "}}\n",
       "\n",
       "// Listen for the clearing of the current output cell\n",
       "var outputEl = gd.closest('.output');\n",
       "if (outputEl) {{\n",
       "    x.observe(outputEl, {childList: true});\n",
       "}}\n",
       "\n",
       "                        })                };                });            </script>        </div>"
      ]
     },
     "metadata": {},
     "output_type": "display_data"
    }
   ],
   "source": [
    "\n",
    "\n",
    "# Assuming your dataframe is named df\n",
    "filtered_df = df[(df['longitude'] == 7.5) & (df['latitude'] == 46.0)]\n",
    "\n",
    "fig = px.line(filtered_df, x='date', y='t2m_delta', title='t2m_delta over Time for Longitude 7.5 and Latitude 46.0')\n",
    "fig.show()"
   ]
  },
  {
   "cell_type": "code",
   "execution_count": 91,
   "metadata": {},
   "outputs": [
    {
     "data": {
      "application/vnd.plotly.v1+json": {
       "config": {
        "plotlyServerURL": "https://plot.ly"
       },
       "data": [
        {
         "hovertemplate": "date=%{x}<br>t2m_delta=%{y}<extra></extra>",
         "legendgroup": "",
         "marker": {
          "color": "#636efa",
          "symbol": "circle"
         },
         "mode": "lines+markers",
         "name": "",
         "orientation": "v",
         "showlegend": false,
         "type": "scatter",
         "x": [
          "1990-01-01T00:00:00",
          "1990-02-01T00:00:00",
          "1990-03-01T00:00:00",
          "1990-04-01T00:00:00",
          "1990-05-01T00:00:00",
          "1990-06-01T00:00:00",
          "1990-07-01T00:00:00",
          "1990-08-01T00:00:00",
          "1990-09-01T00:00:00",
          "1990-10-01T00:00:00",
          "1990-11-01T00:00:00",
          "1990-12-01T00:00:00",
          "1991-01-01T00:00:00",
          "1991-02-01T00:00:00",
          "1991-03-01T00:00:00",
          "1991-04-01T00:00:00",
          "1991-05-01T00:00:00",
          "1991-06-01T00:00:00",
          "1991-07-01T00:00:00",
          "1991-08-01T00:00:00",
          "1991-09-01T00:00:00",
          "1991-10-01T00:00:00",
          "1991-11-01T00:00:00",
          "1991-12-01T00:00:00",
          "1992-01-01T00:00:00",
          "1992-02-01T00:00:00",
          "1992-03-01T00:00:00",
          "1992-04-01T00:00:00",
          "1992-05-01T00:00:00",
          "1992-06-01T00:00:00",
          "1992-07-01T00:00:00",
          "1992-08-01T00:00:00",
          "1992-09-01T00:00:00",
          "1992-10-01T00:00:00",
          "1992-11-01T00:00:00",
          "1992-12-01T00:00:00",
          "1993-01-01T00:00:00",
          "1993-02-01T00:00:00",
          "1993-03-01T00:00:00",
          "1993-04-01T00:00:00",
          "1993-05-01T00:00:00",
          "1993-06-01T00:00:00",
          "1993-07-01T00:00:00",
          "1993-08-01T00:00:00",
          "1993-09-01T00:00:00",
          "1993-10-01T00:00:00",
          "1993-11-01T00:00:00",
          "1993-12-01T00:00:00",
          "1994-01-01T00:00:00",
          "1994-02-01T00:00:00",
          "1994-03-01T00:00:00",
          "1994-04-01T00:00:00",
          "1994-05-01T00:00:00",
          "1994-06-01T00:00:00",
          "1994-07-01T00:00:00",
          "1994-08-01T00:00:00",
          "1994-09-01T00:00:00",
          "1994-10-01T00:00:00",
          "1994-11-01T00:00:00",
          "1994-12-01T00:00:00",
          "1995-01-01T00:00:00",
          "1995-02-01T00:00:00",
          "1995-03-01T00:00:00",
          "1995-04-01T00:00:00",
          "1995-05-01T00:00:00",
          "1995-06-01T00:00:00",
          "1995-07-01T00:00:00",
          "1995-08-01T00:00:00",
          "1995-09-01T00:00:00",
          "1995-10-01T00:00:00",
          "1995-11-01T00:00:00",
          "1995-12-01T00:00:00",
          "1996-01-01T00:00:00",
          "1996-02-01T00:00:00",
          "1996-03-01T00:00:00",
          "1996-04-01T00:00:00",
          "1996-05-01T00:00:00",
          "1996-06-01T00:00:00",
          "1996-07-01T00:00:00",
          "1996-08-01T00:00:00",
          "1996-09-01T00:00:00",
          "1996-10-01T00:00:00",
          "1996-11-01T00:00:00",
          "1996-12-01T00:00:00",
          "1997-01-01T00:00:00",
          "1997-02-01T00:00:00",
          "1997-03-01T00:00:00",
          "1997-04-01T00:00:00",
          "1997-05-01T00:00:00",
          "1997-06-01T00:00:00",
          "1997-07-01T00:00:00",
          "1997-08-01T00:00:00",
          "1997-09-01T00:00:00",
          "1997-10-01T00:00:00",
          "1997-11-01T00:00:00",
          "1997-12-01T00:00:00",
          "1998-01-01T00:00:00",
          "1998-02-01T00:00:00",
          "1998-03-01T00:00:00",
          "1998-04-01T00:00:00",
          "1998-05-01T00:00:00",
          "1998-06-01T00:00:00",
          "1998-07-01T00:00:00",
          "1998-08-01T00:00:00",
          "1998-09-01T00:00:00",
          "1998-10-01T00:00:00",
          "1998-11-01T00:00:00",
          "1998-12-01T00:00:00",
          "1999-01-01T00:00:00",
          "1999-02-01T00:00:00",
          "1999-03-01T00:00:00",
          "1999-04-01T00:00:00",
          "1999-05-01T00:00:00",
          "1999-06-01T00:00:00",
          "1999-07-01T00:00:00",
          "1999-08-01T00:00:00",
          "1999-09-01T00:00:00",
          "1999-10-01T00:00:00",
          "1999-11-01T00:00:00",
          "1999-12-01T00:00:00",
          "2000-01-01T00:00:00",
          "2000-02-01T00:00:00",
          "2000-03-01T00:00:00",
          "2000-04-01T00:00:00",
          "2000-05-01T00:00:00",
          "2000-06-01T00:00:00",
          "2000-07-01T00:00:00",
          "2000-08-01T00:00:00",
          "2000-09-01T00:00:00",
          "2000-10-01T00:00:00",
          "2000-11-01T00:00:00",
          "2000-12-01T00:00:00",
          "2001-01-01T00:00:00",
          "2001-02-01T00:00:00",
          "2001-03-01T00:00:00",
          "2001-04-01T00:00:00",
          "2001-05-01T00:00:00",
          "2001-06-01T00:00:00",
          "2001-07-01T00:00:00",
          "2001-08-01T00:00:00",
          "2001-09-01T00:00:00",
          "2001-10-01T00:00:00",
          "2001-11-01T00:00:00",
          "2001-12-01T00:00:00",
          "2002-01-01T00:00:00",
          "2002-02-01T00:00:00",
          "2002-03-01T00:00:00",
          "2002-04-01T00:00:00",
          "2002-05-01T00:00:00",
          "2002-06-01T00:00:00",
          "2002-07-01T00:00:00",
          "2002-08-01T00:00:00",
          "2002-09-01T00:00:00",
          "2002-10-01T00:00:00",
          "2002-11-01T00:00:00",
          "2002-12-01T00:00:00",
          "2003-01-01T00:00:00",
          "2003-02-01T00:00:00",
          "2003-03-01T00:00:00",
          "2003-04-01T00:00:00",
          "2003-05-01T00:00:00",
          "2003-06-01T00:00:00",
          "2003-07-01T00:00:00",
          "2003-08-01T00:00:00",
          "2003-09-01T00:00:00",
          "2003-10-01T00:00:00",
          "2003-11-01T00:00:00",
          "2003-12-01T00:00:00",
          "2004-01-01T00:00:00",
          "2004-02-01T00:00:00",
          "2004-03-01T00:00:00",
          "2004-04-01T00:00:00",
          "2004-05-01T00:00:00",
          "2004-06-01T00:00:00",
          "2004-07-01T00:00:00",
          "2004-08-01T00:00:00",
          "2004-09-01T00:00:00",
          "2004-10-01T00:00:00",
          "2004-11-01T00:00:00",
          "2004-12-01T00:00:00",
          "2005-01-01T00:00:00",
          "2005-02-01T00:00:00",
          "2005-03-01T00:00:00",
          "2005-04-01T00:00:00",
          "2005-05-01T00:00:00",
          "2005-06-01T00:00:00",
          "2005-07-01T00:00:00",
          "2005-08-01T00:00:00",
          "2005-09-01T00:00:00",
          "2005-10-01T00:00:00",
          "2005-11-01T00:00:00",
          "2005-12-01T00:00:00",
          "2006-01-01T00:00:00",
          "2006-02-01T00:00:00",
          "2006-03-01T00:00:00",
          "2006-04-01T00:00:00",
          "2006-05-01T00:00:00",
          "2006-06-01T00:00:00",
          "2006-07-01T00:00:00",
          "2006-08-01T00:00:00",
          "2006-09-01T00:00:00",
          "2006-10-01T00:00:00",
          "2006-11-01T00:00:00",
          "2006-12-01T00:00:00",
          "2007-01-01T00:00:00",
          "2007-02-01T00:00:00",
          "2007-03-01T00:00:00",
          "2007-04-01T00:00:00",
          "2007-05-01T00:00:00",
          "2007-06-01T00:00:00",
          "2007-07-01T00:00:00",
          "2007-08-01T00:00:00",
          "2007-09-01T00:00:00",
          "2007-10-01T00:00:00",
          "2007-11-01T00:00:00",
          "2007-12-01T00:00:00",
          "2008-01-01T00:00:00",
          "2008-02-01T00:00:00",
          "2008-03-01T00:00:00",
          "2008-04-01T00:00:00",
          "2008-05-01T00:00:00",
          "2008-06-01T00:00:00",
          "2008-07-01T00:00:00",
          "2008-08-01T00:00:00",
          "2008-09-01T00:00:00",
          "2008-10-01T00:00:00",
          "2008-11-01T00:00:00",
          "2008-12-01T00:00:00",
          "2009-01-01T00:00:00",
          "2009-02-01T00:00:00",
          "2009-03-01T00:00:00",
          "2009-04-01T00:00:00",
          "2009-05-01T00:00:00",
          "2009-06-01T00:00:00",
          "2009-07-01T00:00:00",
          "2009-08-01T00:00:00",
          "2009-09-01T00:00:00",
          "2009-10-01T00:00:00",
          "2009-11-01T00:00:00",
          "2009-12-01T00:00:00",
          "2010-01-01T00:00:00",
          "2010-02-01T00:00:00",
          "2010-03-01T00:00:00",
          "2010-04-01T00:00:00",
          "2010-05-01T00:00:00",
          "2010-06-01T00:00:00",
          "2010-07-01T00:00:00",
          "2010-08-01T00:00:00",
          "2010-09-01T00:00:00",
          "2010-10-01T00:00:00",
          "2010-11-01T00:00:00",
          "2010-12-01T00:00:00",
          "2011-01-01T00:00:00",
          "2011-02-01T00:00:00",
          "2011-03-01T00:00:00",
          "2011-04-01T00:00:00",
          "2011-05-01T00:00:00",
          "2011-06-01T00:00:00",
          "2011-07-01T00:00:00",
          "2011-08-01T00:00:00",
          "2011-09-01T00:00:00",
          "2011-10-01T00:00:00",
          "2011-11-01T00:00:00",
          "2011-12-01T00:00:00",
          "2012-01-01T00:00:00",
          "2012-02-01T00:00:00",
          "2012-03-01T00:00:00",
          "2012-04-01T00:00:00",
          "2012-05-01T00:00:00",
          "2012-06-01T00:00:00",
          "2012-07-01T00:00:00",
          "2012-08-01T00:00:00",
          "2012-09-01T00:00:00",
          "2012-10-01T00:00:00",
          "2012-11-01T00:00:00",
          "2012-12-01T00:00:00",
          "2013-01-01T00:00:00",
          "2013-02-01T00:00:00",
          "2013-03-01T00:00:00",
          "2013-04-01T00:00:00",
          "2013-05-01T00:00:00",
          "2013-06-01T00:00:00",
          "2013-07-01T00:00:00",
          "2013-08-01T00:00:00",
          "2013-09-01T00:00:00",
          "2013-10-01T00:00:00",
          "2013-11-01T00:00:00",
          "2013-12-01T00:00:00",
          "2014-01-01T00:00:00",
          "2014-02-01T00:00:00",
          "2014-03-01T00:00:00",
          "2014-04-01T00:00:00",
          "2014-05-01T00:00:00",
          "2014-06-01T00:00:00",
          "2014-07-01T00:00:00",
          "2014-08-01T00:00:00",
          "2014-09-01T00:00:00",
          "2014-10-01T00:00:00",
          "2014-11-01T00:00:00",
          "2014-12-01T00:00:00",
          "2015-01-01T00:00:00",
          "2015-02-01T00:00:00",
          "2015-03-01T00:00:00",
          "2015-04-01T00:00:00",
          "2015-05-01T00:00:00",
          "2015-06-01T00:00:00",
          "2015-07-01T00:00:00",
          "2015-08-01T00:00:00",
          "2015-09-01T00:00:00",
          "2015-10-01T00:00:00",
          "2015-11-01T00:00:00",
          "2015-12-01T00:00:00",
          "2016-01-01T00:00:00",
          "2016-02-01T00:00:00",
          "2016-03-01T00:00:00",
          "2016-04-01T00:00:00",
          "2016-05-01T00:00:00",
          "2016-06-01T00:00:00",
          "2016-07-01T00:00:00",
          "2016-08-01T00:00:00",
          "2016-09-01T00:00:00",
          "2016-10-01T00:00:00",
          "2016-11-01T00:00:00",
          "2016-12-01T00:00:00",
          "2017-01-01T00:00:00",
          "2017-02-01T00:00:00",
          "2017-03-01T00:00:00",
          "2017-04-01T00:00:00",
          "2017-05-01T00:00:00",
          "2017-06-01T00:00:00",
          "2017-07-01T00:00:00",
          "2017-08-01T00:00:00",
          "2017-09-01T00:00:00",
          "2017-10-01T00:00:00",
          "2017-11-01T00:00:00",
          "2017-12-01T00:00:00",
          "2018-01-01T00:00:00",
          "2018-02-01T00:00:00",
          "2018-03-01T00:00:00",
          "2018-04-01T00:00:00",
          "2018-05-01T00:00:00",
          "2018-06-01T00:00:00",
          "2018-07-01T00:00:00",
          "2018-08-01T00:00:00",
          "2018-09-01T00:00:00",
          "2018-10-01T00:00:00",
          "2018-11-01T00:00:00",
          "2018-12-01T00:00:00",
          "2019-01-01T00:00:00",
          "2019-02-01T00:00:00",
          "2019-03-01T00:00:00",
          "2019-04-01T00:00:00",
          "2019-05-01T00:00:00",
          "2019-06-01T00:00:00",
          "2019-07-01T00:00:00",
          "2019-08-01T00:00:00",
          "2019-09-01T00:00:00",
          "2019-10-01T00:00:00",
          "2019-11-01T00:00:00",
          "2019-12-01T00:00:00",
          "2020-01-01T00:00:00",
          "2020-02-01T00:00:00",
          "2020-03-01T00:00:00",
          "2020-04-01T00:00:00",
          "2020-05-01T00:00:00",
          "2020-06-01T00:00:00",
          "2020-07-01T00:00:00",
          "2020-08-01T00:00:00",
          "2020-09-01T00:00:00",
          "2020-10-01T00:00:00",
          "2020-11-01T00:00:00",
          "2020-12-01T00:00:00",
          "2021-01-01T00:00:00",
          "2021-02-01T00:00:00",
          "2021-03-01T00:00:00",
          "2021-04-01T00:00:00",
          "2021-05-01T00:00:00",
          "2021-06-01T00:00:00",
          "2021-07-01T00:00:00",
          "2021-08-01T00:00:00",
          "2021-09-01T00:00:00",
          "2021-10-01T00:00:00",
          "2021-11-01T00:00:00",
          "2021-12-01T00:00:00",
          "2022-01-01T00:00:00",
          "2022-02-01T00:00:00",
          "2022-03-01T00:00:00",
          "2022-04-01T00:00:00",
          "2022-05-01T00:00:00",
          "2022-06-01T00:00:00",
          "2022-07-01T00:00:00",
          "2022-08-01T00:00:00",
          "2022-09-01T00:00:00",
          "2022-10-01T00:00:00",
          "2022-11-01T00:00:00",
          "2022-12-01T00:00:00",
          "2023-01-01T00:00:00",
          "2023-02-01T00:00:00",
          "2023-03-01T00:00:00",
          "2023-04-01T00:00:00",
          "2023-05-01T00:00:00",
          "2023-06-01T00:00:00",
          "2023-07-01T00:00:00",
          "2023-08-01T00:00:00",
          "2023-09-01T00:00:00",
          "2023-10-01T00:00:00",
          "2023-11-01T00:00:00",
          "2023-12-01T00:00:00",
          "2024-01-01T00:00:00",
          "2024-02-01T00:00:00",
          "2024-03-01T00:00:00",
          "2024-04-01T00:00:00",
          "2024-05-01T00:00:00",
          "2024-06-01T00:00:00",
          "2024-07-01T00:00:00",
          "2024-08-01T00:00:00"
         ],
         "xaxis": "x",
         "y": [
          -0.12589518229166607,
          3.7052873883928577,
          1.52587890625,
          -1.4910714285714284,
          0.5741838727678572,
          -0.852294921875,
          0.7598470052083339,
          0.6553431919642865,
          0.1211170014880949,
          1.1395089285714286,
          -1.6157807849702381,
          -2.942406063988095,
          0.3577473958333339,
          -3.3616071428571423,
          2.635498046875,
          -1.9227120535714284,
          -4.063511439732142,
          -2.999755859375,
          0.8640950520833339,
          1.5899135044642865,
          2.468529110863095,
          -2.5240652901785716,
          -0.9785737537202381,
          -0.6084216889880949,
          0.2661946614583339,
          0.5036272321428577,
          0.31396484375,
          -0.10679408482142838,
          0.9015764508928572,
          -2.392578125,
          0.17781575520833393,
          2.4805385044642865,
          0.1823962983630949,
          -3.7223074776785716,
          1.9181547619047619,
          0.7267833891369051,
          2.386311848958334,
          -0.9868512834821423,
          -1.48193359375,
          0.2716238839285716,
          0.028529575892857206,
          -0.21044921875,
          -2.112467447916666,
          0.15509905133928648,
          -1.805884951636905,
          -2.7838309151785716,
          -2.291562034970238,
          1.719947451636905,
          1.475423177083334,
          -0.44949776785714235,
          3.763671875,
          -1.8982979910714284,
          -0.1304059709821428,
          -0.769775390625,
          2.197347005208334,
          1.2742396763392865,
          -1.413062686011905,
          0.09922572544642858,
          3.559512183779762,
          1.308814639136905,
          -2.000162760416666,
          3.0339006696428577,
          -3.34326171875,
          0.5186941964285716,
          -1.3154645647321428,
          -2.67578125,
          1.573567708333334,
          -1.9279087611607135,
          -3.789527529761905,
          3.4749581473214284,
          -0.42266555059523814,
          0.3124767485119051,
          0.7693684895833339,
          -2.4778180803571423,
          -2.437255859375,
          0.5670340401785716,
          -0.4416852678571428,
          0.185791015625,
          -1.327067057291666,
          -1.6300571986607135,
          -2.842994326636905,
          -0.6197684151785714,
          -0.08794875372023814,
          -0.0249255952380949,
          1.223958333333334,
          2.4826311383928577,
          1.726806640625,
          -1.2518136160714284,
          -0.7331891741071428,
          -1.447021484375,
          -2.119547526041666,
          0.5674525669642865,
          2.904075985863095,
          -0.4598563058035714,
          -0.33916945684523814,
          1.063697451636905,
          -0.061930338541666075,
          3.5741838727678577,
          -0.35205078125,
          -0.7007882254464284,
          0.1852678571428572,
          0.39892578125,
          0.7029622395833339,
          0.4468470982142865,
          -0.7428966703869051,
          -1.2491629464285714,
          -5.474667503720238,
          -0.4665759858630949,
          0.9004720052083339,
          -1.8970075334821423,
          -0.418212890625,
          -0.4747140066964284,
          1.2902483258928572,
          -1.158935546875,
          -0.027018229166666075,
          0.19147600446428648,
          2.407249813988095,
          0.6204659598214286,
          -2.629696800595238,
          -0.0901111421130949,
          -1.877848307291666,
          1.3805803571428577,
          0.228271484375,
          0.6214773995535716,
          1.0827287946428572,
          2.00634765625,
          -2.694010416666666,
          0.3438197544642865,
          0.6679920014880949,
          -0.7386648995535714,
          -1.1882905505952381,
          1.177222842261905,
          -0.3277994791666661,
          0.7106584821428577,
          2.296630859375,
          -1.7320382254464284,
          1.5456194196428572,
          -1.141845703125,
          -0.3226725260416661,
          1.0125209263392865,
          -3.969215029761905,
          3.0648018973214284,
          -0.6570405505952381,
          -3.056908017113095,
          -0.5721842447916661,
          2.7245744977678577,
          0.543212890625,
          -0.09043666294642838,
          -1.1482282366071428,
          1.636474609375,
          -0.5763346354166661,
          -1.5978306361607135,
          -1.553443545386905,
          -0.5050223214285714,
          1.5646391369047619,
          2.271461123511905,
          -1.649820963541666,
          -4.712193080357142,
          1.80224609375,
          -0.2635323660714284,
          0.7001604352678572,
          4.484130859375,
          1.111165364583334,
          2.7564174107142865,
          0.7788318452380949,
          -4.358782087053571,
          1.3725004650297619,
          0.8090587797619051,
          -0.3114420572916661,
          0.5807756696428577,
          -1.604248046875,
          -0.10532924107142838,
          -1.7908063616071428,
          -0.08642578125,
          -0.9967447916666661,
          -0.3646763392857135,
          1.741478329613095,
          0.9874093191964286,
          -0.36285109747023814,
          -0.1579822358630949,
          -1.493082682291666,
          -5.523472377232142,
          -0.449951171875,
          0.20179966517857162,
          0.2475237165178572,
          1.720947265625,
          -0.5316569010416661,
          -1.9445103236607135,
          1.628441220238095,
          1.4085518973214286,
          1.4596586681547619,
          -1.274437313988095,
          -1.313151041666666,
          -0.9558454241071423,
          -1.931396484375,
          0.9867117745535716,
          0.4735979352678572,
          1.414306640625,
          2.235188802083334,
          -4.1129673549107135,
          2.603050595238095,
          3.0689522879464284,
          4.298037574404762,
          2.808570498511905,
          3.718098958333334,
          3.1908830915178577,
          -0.019775390625,
          4.666643415178571,
          0.6742815290178572,
          0.514892578125,
          -0.8507486979166661,
          -1.0524204799107135,
          -0.6899181547619051,
          1.0152413504464286,
          0.39960007440476186,
          -0.9797595796130949,
          3.130940755208334,
          2.5937151227678577,
          -0.95654296875,
          -1.1627022879464284,
          0.6125139508928572,
          0.634033203125,
          -0.039469401041666075,
          0.3313685825892865,
          -0.2267833891369051,
          2.1475655691964284,
          -0.8958100818452381,
          -0.0058826264880949,
          -1.744303385416666,
          -1.7773786272321423,
          -0.62744140625,
          2.0262625558035716,
          2.372279575892857,
          0.353759765625,
          0.4397786458333339,
          2.2781459263392865,
          2.157493954613095,
          0.8633858816964286,
          2.508486793154762,
          -0.5290759858630949,
          -2.750895182291666,
          -2.3391462053571423,
          -1.214111328125,
          1.3399832589285716,
          -1.0652204241071428,
          0.38525390625,
          1.535970052083334,
          -1.4528111049107135,
          -0.6269298735119051,
          -0.9286063058035714,
          -0.13653273809523814,
          -2.061546688988095,
          -0.7674967447916661,
          2.3166155133928577,
          1.11181640625,
          4.477678571428571,
          2.286586216517857,
          0.512451171875,
          -2.240397135416666,
          1.2774135044642865,
          3.118431454613095,
          0.6910226004464286,
          3.068789527529762,
          1.842506045386905,
          1.161458333333334,
          -3.7009626116071423,
          3.1376953125,
          0.22206333705357162,
          1.0526994977678572,
          2.369384765625,
          0.3186848958333339,
          2.3303920200892865,
          0.9619373139880949,
          0.18687220982142858,
          1.5414457775297619,
          -1.268089657738095,
          -0.17716471354166607,
          -3.8105817522321423,
          -1.792236328125,
          1.4559500558035716,
          -2.608189174107143,
          -2.096435546875,
          1.118733723958334,
          0.4986049107142865,
          1.382835751488095,
          1.0616280691964286,
          -0.10821242559523814,
          2.831763857886905,
          1.379720052083334,
          1.4347795758928577,
          1.429443359375,
          2.7716238839285716,
          -1.0720563616071428,
          -0.496337890625,
          -3.587809244791666,
          -3.9030064174107135,
          0.2400134858630949,
          1.9861886160714286,
          3.832949683779762,
          2.894752139136905,
          1.390706380208334,
          -0.5630231584821423,
          1.56201171875,
          1.6395438058035716,
          0.7497209821428572,
          1.84814453125,
          3.903401692708334,
          1.1533900669642865,
          -0.3871837797619051,
          -1.1910574776785714,
          3.184756324404762,
          4.641334170386905,
          1.600911458333334,
          2.4513811383928577,
          -0.742431640625,
          1.5186941964285716,
          -0.9221540178571428,
          -0.625244140625,
          1.150227864583334,
          1.1155482700892865,
          2.470726376488095,
          -0.6163504464285714,
          1.2472563244047619,
          3.559547061011905,
          -3.381022135416666,
          2.5370744977678577,
          3.763427734375,
          0.9305594308035716,
          0.7765764508928572,
          3.435302734375,
          0.7635091145833339,
          1.2171107700892865,
          -1.343238467261905,
          2.3440987723214284,
          0.26288132440476186,
          -0.8093494233630949,
          3.216878255208334,
          -2.6411481584821423,
          -1.546630859375,
          3.2738211495535716,
          1.7118791852678572,
          2.636962890625,
          2.033040364583334,
          1.2095424107142865,
          3.237327938988095,
          2.3711983816964284,
          2.541201636904762,
          1.797095889136905,
          -3.044352213541666,
          2.5968889508928577,
          0.39013671875,
          0.18983677455357162,
          -2.842564174107143,
          2.065185546875,
          2.277425130208334,
          1.2522670200892865,
          1.946312313988095,
          2.2256905691964284,
          0.40301804315476186,
          3.284888857886905,
          1.549641927083334,
          3.2470354352678577,
          0.907958984375,
          3.4198172433035716,
          2.297816685267857,
          -0.17626953125,
          2.032307942708334,
          1.4751674107142865,
          1.913353329613095,
          -2.0348074776785716,
          4.226992652529762,
          1.123511904761905,
          -0.5016276041666661,
          4.028285435267858,
          -0.109130859375,
          -1.0267159598214284,
          -2.248814174107143,
          1.217529296875,
          0.031575520833333925,
          -0.11467633928571352,
          2.407738095238095,
          0.9803292410714286,
          -0.19463820684523814,
          1.963599795386905,
          1.702962239583334,
          1.8510393415178577,
          0.5390625,
          0.5384695870535716,
          2.348842075892857,
          3.72607421875,
          3.609944661458334,
          2.5862513950892865,
          0.7097400483630949,
          4.438092912946429,
          2.009951636904762,
          2.409400576636905,
          0.3865559895833339,
          2.8925432477678577,
          1.773193359375,
          -0.3201729910714284,
          0.4174455915178572,
          1.85498046875,
          2.275716145833334,
          1.6900111607142865,
          4.673118954613095,
          3.7940499441964284,
          0.7282133556547619,
          4.923072451636905,
          5.904134114583334,
          8.582972935267858,
          3.644287109375,
          2.1593191964285716,
          -0.4634137834821428,
          -0.05908203125,
          1.899739583333334,
          3.2305385044642865
         ],
         "yaxis": "y"
        },
        {
         "hovertemplate": "<b>OLS trendline</b><br>t2m_delta = 2.07757e-09 * date + -1.95257<br>R<sup>2</sup>=0.109259<br><br>date=%{x}<br>t2m_delta=%{y} <b>(trend)</b><extra></extra>",
         "legendgroup": "",
         "marker": {
          "color": "#636efa",
          "symbol": "circle"
         },
         "mode": "lines+markers",
         "name": "",
         "showlegend": false,
         "type": "scatter",
         "x": [
          "1990-01-01T00:00:00",
          "1990-02-01T00:00:00",
          "1990-03-01T00:00:00",
          "1990-04-01T00:00:00",
          "1990-05-01T00:00:00",
          "1990-06-01T00:00:00",
          "1990-07-01T00:00:00",
          "1990-08-01T00:00:00",
          "1990-09-01T00:00:00",
          "1990-10-01T00:00:00",
          "1990-11-01T00:00:00",
          "1990-12-01T00:00:00",
          "1991-01-01T00:00:00",
          "1991-02-01T00:00:00",
          "1991-03-01T00:00:00",
          "1991-04-01T00:00:00",
          "1991-05-01T00:00:00",
          "1991-06-01T00:00:00",
          "1991-07-01T00:00:00",
          "1991-08-01T00:00:00",
          "1991-09-01T00:00:00",
          "1991-10-01T00:00:00",
          "1991-11-01T00:00:00",
          "1991-12-01T00:00:00",
          "1992-01-01T00:00:00",
          "1992-02-01T00:00:00",
          "1992-03-01T00:00:00",
          "1992-04-01T00:00:00",
          "1992-05-01T00:00:00",
          "1992-06-01T00:00:00",
          "1992-07-01T00:00:00",
          "1992-08-01T00:00:00",
          "1992-09-01T00:00:00",
          "1992-10-01T00:00:00",
          "1992-11-01T00:00:00",
          "1992-12-01T00:00:00",
          "1993-01-01T00:00:00",
          "1993-02-01T00:00:00",
          "1993-03-01T00:00:00",
          "1993-04-01T00:00:00",
          "1993-05-01T00:00:00",
          "1993-06-01T00:00:00",
          "1993-07-01T00:00:00",
          "1993-08-01T00:00:00",
          "1993-09-01T00:00:00",
          "1993-10-01T00:00:00",
          "1993-11-01T00:00:00",
          "1993-12-01T00:00:00",
          "1994-01-01T00:00:00",
          "1994-02-01T00:00:00",
          "1994-03-01T00:00:00",
          "1994-04-01T00:00:00",
          "1994-05-01T00:00:00",
          "1994-06-01T00:00:00",
          "1994-07-01T00:00:00",
          "1994-08-01T00:00:00",
          "1994-09-01T00:00:00",
          "1994-10-01T00:00:00",
          "1994-11-01T00:00:00",
          "1994-12-01T00:00:00",
          "1995-01-01T00:00:00",
          "1995-02-01T00:00:00",
          "1995-03-01T00:00:00",
          "1995-04-01T00:00:00",
          "1995-05-01T00:00:00",
          "1995-06-01T00:00:00",
          "1995-07-01T00:00:00",
          "1995-08-01T00:00:00",
          "1995-09-01T00:00:00",
          "1995-10-01T00:00:00",
          "1995-11-01T00:00:00",
          "1995-12-01T00:00:00",
          "1996-01-01T00:00:00",
          "1996-02-01T00:00:00",
          "1996-03-01T00:00:00",
          "1996-04-01T00:00:00",
          "1996-05-01T00:00:00",
          "1996-06-01T00:00:00",
          "1996-07-01T00:00:00",
          "1996-08-01T00:00:00",
          "1996-09-01T00:00:00",
          "1996-10-01T00:00:00",
          "1996-11-01T00:00:00",
          "1996-12-01T00:00:00",
          "1997-01-01T00:00:00",
          "1997-02-01T00:00:00",
          "1997-03-01T00:00:00",
          "1997-04-01T00:00:00",
          "1997-05-01T00:00:00",
          "1997-06-01T00:00:00",
          "1997-07-01T00:00:00",
          "1997-08-01T00:00:00",
          "1997-09-01T00:00:00",
          "1997-10-01T00:00:00",
          "1997-11-01T00:00:00",
          "1997-12-01T00:00:00",
          "1998-01-01T00:00:00",
          "1998-02-01T00:00:00",
          "1998-03-01T00:00:00",
          "1998-04-01T00:00:00",
          "1998-05-01T00:00:00",
          "1998-06-01T00:00:00",
          "1998-07-01T00:00:00",
          "1998-08-01T00:00:00",
          "1998-09-01T00:00:00",
          "1998-10-01T00:00:00",
          "1998-11-01T00:00:00",
          "1998-12-01T00:00:00",
          "1999-01-01T00:00:00",
          "1999-02-01T00:00:00",
          "1999-03-01T00:00:00",
          "1999-04-01T00:00:00",
          "1999-05-01T00:00:00",
          "1999-06-01T00:00:00",
          "1999-07-01T00:00:00",
          "1999-08-01T00:00:00",
          "1999-09-01T00:00:00",
          "1999-10-01T00:00:00",
          "1999-11-01T00:00:00",
          "1999-12-01T00:00:00",
          "2000-01-01T00:00:00",
          "2000-02-01T00:00:00",
          "2000-03-01T00:00:00",
          "2000-04-01T00:00:00",
          "2000-05-01T00:00:00",
          "2000-06-01T00:00:00",
          "2000-07-01T00:00:00",
          "2000-08-01T00:00:00",
          "2000-09-01T00:00:00",
          "2000-10-01T00:00:00",
          "2000-11-01T00:00:00",
          "2000-12-01T00:00:00",
          "2001-01-01T00:00:00",
          "2001-02-01T00:00:00",
          "2001-03-01T00:00:00",
          "2001-04-01T00:00:00",
          "2001-05-01T00:00:00",
          "2001-06-01T00:00:00",
          "2001-07-01T00:00:00",
          "2001-08-01T00:00:00",
          "2001-09-01T00:00:00",
          "2001-10-01T00:00:00",
          "2001-11-01T00:00:00",
          "2001-12-01T00:00:00",
          "2002-01-01T00:00:00",
          "2002-02-01T00:00:00",
          "2002-03-01T00:00:00",
          "2002-04-01T00:00:00",
          "2002-05-01T00:00:00",
          "2002-06-01T00:00:00",
          "2002-07-01T00:00:00",
          "2002-08-01T00:00:00",
          "2002-09-01T00:00:00",
          "2002-10-01T00:00:00",
          "2002-11-01T00:00:00",
          "2002-12-01T00:00:00",
          "2003-01-01T00:00:00",
          "2003-02-01T00:00:00",
          "2003-03-01T00:00:00",
          "2003-04-01T00:00:00",
          "2003-05-01T00:00:00",
          "2003-06-01T00:00:00",
          "2003-07-01T00:00:00",
          "2003-08-01T00:00:00",
          "2003-09-01T00:00:00",
          "2003-10-01T00:00:00",
          "2003-11-01T00:00:00",
          "2003-12-01T00:00:00",
          "2004-01-01T00:00:00",
          "2004-02-01T00:00:00",
          "2004-03-01T00:00:00",
          "2004-04-01T00:00:00",
          "2004-05-01T00:00:00",
          "2004-06-01T00:00:00",
          "2004-07-01T00:00:00",
          "2004-08-01T00:00:00",
          "2004-09-01T00:00:00",
          "2004-10-01T00:00:00",
          "2004-11-01T00:00:00",
          "2004-12-01T00:00:00",
          "2005-01-01T00:00:00",
          "2005-02-01T00:00:00",
          "2005-03-01T00:00:00",
          "2005-04-01T00:00:00",
          "2005-05-01T00:00:00",
          "2005-06-01T00:00:00",
          "2005-07-01T00:00:00",
          "2005-08-01T00:00:00",
          "2005-09-01T00:00:00",
          "2005-10-01T00:00:00",
          "2005-11-01T00:00:00",
          "2005-12-01T00:00:00",
          "2006-01-01T00:00:00",
          "2006-02-01T00:00:00",
          "2006-03-01T00:00:00",
          "2006-04-01T00:00:00",
          "2006-05-01T00:00:00",
          "2006-06-01T00:00:00",
          "2006-07-01T00:00:00",
          "2006-08-01T00:00:00",
          "2006-09-01T00:00:00",
          "2006-10-01T00:00:00",
          "2006-11-01T00:00:00",
          "2006-12-01T00:00:00",
          "2007-01-01T00:00:00",
          "2007-02-01T00:00:00",
          "2007-03-01T00:00:00",
          "2007-04-01T00:00:00",
          "2007-05-01T00:00:00",
          "2007-06-01T00:00:00",
          "2007-07-01T00:00:00",
          "2007-08-01T00:00:00",
          "2007-09-01T00:00:00",
          "2007-10-01T00:00:00",
          "2007-11-01T00:00:00",
          "2007-12-01T00:00:00",
          "2008-01-01T00:00:00",
          "2008-02-01T00:00:00",
          "2008-03-01T00:00:00",
          "2008-04-01T00:00:00",
          "2008-05-01T00:00:00",
          "2008-06-01T00:00:00",
          "2008-07-01T00:00:00",
          "2008-08-01T00:00:00",
          "2008-09-01T00:00:00",
          "2008-10-01T00:00:00",
          "2008-11-01T00:00:00",
          "2008-12-01T00:00:00",
          "2009-01-01T00:00:00",
          "2009-02-01T00:00:00",
          "2009-03-01T00:00:00",
          "2009-04-01T00:00:00",
          "2009-05-01T00:00:00",
          "2009-06-01T00:00:00",
          "2009-07-01T00:00:00",
          "2009-08-01T00:00:00",
          "2009-09-01T00:00:00",
          "2009-10-01T00:00:00",
          "2009-11-01T00:00:00",
          "2009-12-01T00:00:00",
          "2010-01-01T00:00:00",
          "2010-02-01T00:00:00",
          "2010-03-01T00:00:00",
          "2010-04-01T00:00:00",
          "2010-05-01T00:00:00",
          "2010-06-01T00:00:00",
          "2010-07-01T00:00:00",
          "2010-08-01T00:00:00",
          "2010-09-01T00:00:00",
          "2010-10-01T00:00:00",
          "2010-11-01T00:00:00",
          "2010-12-01T00:00:00",
          "2011-01-01T00:00:00",
          "2011-02-01T00:00:00",
          "2011-03-01T00:00:00",
          "2011-04-01T00:00:00",
          "2011-05-01T00:00:00",
          "2011-06-01T00:00:00",
          "2011-07-01T00:00:00",
          "2011-08-01T00:00:00",
          "2011-09-01T00:00:00",
          "2011-10-01T00:00:00",
          "2011-11-01T00:00:00",
          "2011-12-01T00:00:00",
          "2012-01-01T00:00:00",
          "2012-02-01T00:00:00",
          "2012-03-01T00:00:00",
          "2012-04-01T00:00:00",
          "2012-05-01T00:00:00",
          "2012-06-01T00:00:00",
          "2012-07-01T00:00:00",
          "2012-08-01T00:00:00",
          "2012-09-01T00:00:00",
          "2012-10-01T00:00:00",
          "2012-11-01T00:00:00",
          "2012-12-01T00:00:00",
          "2013-01-01T00:00:00",
          "2013-02-01T00:00:00",
          "2013-03-01T00:00:00",
          "2013-04-01T00:00:00",
          "2013-05-01T00:00:00",
          "2013-06-01T00:00:00",
          "2013-07-01T00:00:00",
          "2013-08-01T00:00:00",
          "2013-09-01T00:00:00",
          "2013-10-01T00:00:00",
          "2013-11-01T00:00:00",
          "2013-12-01T00:00:00",
          "2014-01-01T00:00:00",
          "2014-02-01T00:00:00",
          "2014-03-01T00:00:00",
          "2014-04-01T00:00:00",
          "2014-05-01T00:00:00",
          "2014-06-01T00:00:00",
          "2014-07-01T00:00:00",
          "2014-08-01T00:00:00",
          "2014-09-01T00:00:00",
          "2014-10-01T00:00:00",
          "2014-11-01T00:00:00",
          "2014-12-01T00:00:00",
          "2015-01-01T00:00:00",
          "2015-02-01T00:00:00",
          "2015-03-01T00:00:00",
          "2015-04-01T00:00:00",
          "2015-05-01T00:00:00",
          "2015-06-01T00:00:00",
          "2015-07-01T00:00:00",
          "2015-08-01T00:00:00",
          "2015-09-01T00:00:00",
          "2015-10-01T00:00:00",
          "2015-11-01T00:00:00",
          "2015-12-01T00:00:00",
          "2016-01-01T00:00:00",
          "2016-02-01T00:00:00",
          "2016-03-01T00:00:00",
          "2016-04-01T00:00:00",
          "2016-05-01T00:00:00",
          "2016-06-01T00:00:00",
          "2016-07-01T00:00:00",
          "2016-08-01T00:00:00",
          "2016-09-01T00:00:00",
          "2016-10-01T00:00:00",
          "2016-11-01T00:00:00",
          "2016-12-01T00:00:00",
          "2017-01-01T00:00:00",
          "2017-02-01T00:00:00",
          "2017-03-01T00:00:00",
          "2017-04-01T00:00:00",
          "2017-05-01T00:00:00",
          "2017-06-01T00:00:00",
          "2017-07-01T00:00:00",
          "2017-08-01T00:00:00",
          "2017-09-01T00:00:00",
          "2017-10-01T00:00:00",
          "2017-11-01T00:00:00",
          "2017-12-01T00:00:00",
          "2018-01-01T00:00:00",
          "2018-02-01T00:00:00",
          "2018-03-01T00:00:00",
          "2018-04-01T00:00:00",
          "2018-05-01T00:00:00",
          "2018-06-01T00:00:00",
          "2018-07-01T00:00:00",
          "2018-08-01T00:00:00",
          "2018-09-01T00:00:00",
          "2018-10-01T00:00:00",
          "2018-11-01T00:00:00",
          "2018-12-01T00:00:00",
          "2019-01-01T00:00:00",
          "2019-02-01T00:00:00",
          "2019-03-01T00:00:00",
          "2019-04-01T00:00:00",
          "2019-05-01T00:00:00",
          "2019-06-01T00:00:00",
          "2019-07-01T00:00:00",
          "2019-08-01T00:00:00",
          "2019-09-01T00:00:00",
          "2019-10-01T00:00:00",
          "2019-11-01T00:00:00",
          "2019-12-01T00:00:00",
          "2020-01-01T00:00:00",
          "2020-02-01T00:00:00",
          "2020-03-01T00:00:00",
          "2020-04-01T00:00:00",
          "2020-05-01T00:00:00",
          "2020-06-01T00:00:00",
          "2020-07-01T00:00:00",
          "2020-08-01T00:00:00",
          "2020-09-01T00:00:00",
          "2020-10-01T00:00:00",
          "2020-11-01T00:00:00",
          "2020-12-01T00:00:00",
          "2021-01-01T00:00:00",
          "2021-02-01T00:00:00",
          "2021-03-01T00:00:00",
          "2021-04-01T00:00:00",
          "2021-05-01T00:00:00",
          "2021-06-01T00:00:00",
          "2021-07-01T00:00:00",
          "2021-08-01T00:00:00",
          "2021-09-01T00:00:00",
          "2021-10-01T00:00:00",
          "2021-11-01T00:00:00",
          "2021-12-01T00:00:00",
          "2022-01-01T00:00:00",
          "2022-02-01T00:00:00",
          "2022-03-01T00:00:00",
          "2022-04-01T00:00:00",
          "2022-05-01T00:00:00",
          "2022-06-01T00:00:00",
          "2022-07-01T00:00:00",
          "2022-08-01T00:00:00",
          "2022-09-01T00:00:00",
          "2022-10-01T00:00:00",
          "2022-11-01T00:00:00",
          "2022-12-01T00:00:00",
          "2023-01-01T00:00:00",
          "2023-02-01T00:00:00",
          "2023-03-01T00:00:00",
          "2023-04-01T00:00:00",
          "2023-05-01T00:00:00",
          "2023-06-01T00:00:00",
          "2023-07-01T00:00:00",
          "2023-08-01T00:00:00",
          "2023-09-01T00:00:00",
          "2023-10-01T00:00:00",
          "2023-11-01T00:00:00",
          "2023-12-01T00:00:00",
          "2024-01-01T00:00:00",
          "2024-02-01T00:00:00",
          "2024-03-01T00:00:00",
          "2024-04-01T00:00:00",
          "2024-05-01T00:00:00",
          "2024-06-01T00:00:00",
          "2024-07-01T00:00:00",
          "2024-08-01T00:00:00"
         ],
         "xaxis": "x",
         "y": [
          -0.6413049930065919,
          -0.6357404360327894,
          -0.6307143845725804,
          -0.6251498275987779,
          -0.6197647724628397,
          -0.6142002154890371,
          -0.6088151603530991,
          -0.6032506033792964,
          -0.5976860464054936,
          -0.5923009912695556,
          -0.5867364342957531,
          -0.5813513791598148,
          -0.5757868221860123,
          -0.5702222652122095,
          -0.5651962137520008,
          -0.559631656778198,
          -0.55424660164226,
          -0.5486820446684573,
          -0.5432969895325193,
          -0.5377324325587165,
          -0.532167875584914,
          -0.526782820448976,
          -0.5212182634751732,
          -0.5158332083392352,
          -0.5102686513654324,
          -0.5047040943916299,
          -0.4994985410935564,
          -0.49393398411975364,
          -0.48854892898381563,
          -0.4829843720100129,
          -0.47759931687407486,
          -0.4720347599002723,
          -0.46647020292646957,
          -0.46108514779053156,
          -0.4555205908167288,
          -0.4501355356807908,
          -0.44457097870698803,
          -0.4390064217331855,
          -0.43398037027297653,
          -0.428415813299174,
          -0.42303075816323576,
          -0.41746620118943323,
          -0.4120811460534952,
          -0.40651658907969246,
          -0.4009520321058897,
          -0.3955669769699517,
          -0.39000241999614915,
          -0.3846173648602109,
          -0.3790528078864084,
          -0.3734882509126056,
          -0.3684621994523969,
          -0.36289764247859413,
          -0.3575125873426561,
          -0.35194803036885336,
          -0.34656297523291535,
          -0.3409984182591126,
          -0.33543386128531005,
          -0.33004880614937204,
          -0.3244842491755693,
          -0.3190991940396313,
          -0.3135346370658285,
          -0.307970080092026,
          -0.302944028631817,
          -0.2973794716580145,
          -0.29199441652207625,
          -0.2864298595482737,
          -0.2810448044123355,
          -0.27548024743853294,
          -0.2699156904647302,
          -0.2645306353287922,
          -0.2589660783549894,
          -0.2535810232190514,
          -0.24801646624524887,
          -0.2424519092714461,
          -0.23724635597337262,
          -0.2316817989995701,
          -0.22629674386363186,
          -0.22073218688982932,
          -0.2153471317538913,
          -0.20978257478008855,
          -0.2042180178062858,
          -0.19883296267034778,
          -0.19326840569654524,
          -0.187883350560607,
          -0.18231879358680447,
          -0.17675423661300171,
          -0.17172818515279298,
          -0.16616362817899022,
          -0.1607785730430522,
          -0.15521401606924945,
          -0.14982896093331144,
          -0.14426440395950868,
          -0.13869984698570614,
          -0.13331479184976813,
          -0.12775023487596537,
          -0.12236517974002736,
          -0.1168006227662246,
          -0.11123606579242207,
          -0.10621001433221311,
          -0.10064545735841057,
          -0.09526040222247234,
          -0.0896958452486698,
          -0.08431079011273157,
          -0.07874623313892903,
          -0.07318167616512627,
          -0.06779662102918826,
          -0.06223206405538573,
          -0.056847008919447495,
          -0.05128245194564496,
          -0.0457178949718422,
          -0.04069184351163346,
          -0.035127286537830704,
          -0.029742231401892694,
          -0.024177674428089935,
          -0.018792619292151924,
          -0.013228062318349165,
          -0.007663505344546628,
          -0.002278450208608618,
          0.003286106765194141,
          0.008671161901132152,
          0.01423571887493491,
          0.019800275848737448,
          0.02500582914681093,
          0.03057038612061369,
          0.0359554412565517,
          0.04151999823035446,
          0.04690505336629247,
          0.05246961034009523,
          0.05803416731389799,
          0.063419222449836,
          0.06898377942363831,
          0.07436883455957677,
          0.07993339153337908,
          0.08549794850718184,
          0.0905239999673908,
          0.09608855694119356,
          0.10147361207713157,
          0.10703816905093433,
          0.11242322418687234,
          0.1179877811606751,
          0.12355233813447741,
          0.12893739327041542,
          0.13450195024421818,
          0.1398870053801562,
          0.14545156235395895,
          0.1510161193277617,
          0.15604217078797067,
          0.16160672776177343,
          0.16699178289771144,
          0.17255633987151375,
          0.1779413950074522,
          0.18350595198125452,
          0.18907050895505728,
          0.1944555640909953,
          0.20002012106479805,
          0.20540517620073606,
          0.21096973317453882,
          0.21653429014834158,
          0.2215603416085501,
          0.22712489858235285,
          0.23250995371829086,
          0.23807451069209362,
          0.24345956582803163,
          0.2490241228018344,
          0.25458867977563715,
          0.25997373491157516,
          0.2655382918853779,
          0.27092334702131593,
          0.2764879039951187,
          0.282052460968921,
          0.2872580142669947,
          0.29282257124079747,
          0.2982076263767355,
          0.30377218335053824,
          0.30915723848647625,
          0.314721795460279,
          0.3202863524340813,
          0.32567140757001933,
          0.3312359645438221,
          0.3366210196797601,
          0.34218557665356286,
          0.3477501336273656,
          0.3527761850875746,
          0.35834074206137734,
          0.36372579719731535,
          0.36929035417111766,
          0.3746754093070561,
          0.38023996628085843,
          0.3858045232546612,
          0.3911895783905992,
          0.39675413536440196,
          0.40213919050033997,
          0.40770374747414273,
          0.4132683044479455,
          0.418294355908154,
          0.42385891288195676,
          0.4292439680178948,
          0.43480852499169753,
          0.44019358012763554,
          0.4457581371014383,
          0.45132269407524106,
          0.45670774921117907,
          0.46227230618498183,
          0.46765736132091984,
          0.4732219182947226,
          0.4787864752685249,
          0.48381252672873387,
          0.48937708370253663,
          0.49476213883847464,
          0.5003266958122774,
          0.5057117509482154,
          0.5112763079220182,
          0.5168408648958209,
          0.5222259200317589,
          0.5277904770055617,
          0.5331755321414997,
          0.538740089115302,
          0.5443046460891048,
          0.5495101993871785,
          0.5550747563609808,
          0.5604598114969193,
          0.5660243684707216,
          0.57140942360666,
          0.5769739805804623,
          0.5825385375542651,
          0.5879235926902031,
          0.5934881496640059,
          0.5988732047999439,
          0.6044377617737466,
          0.6100023187475494,
          0.6150283702077579,
          0.6205929271815607,
          0.6259779823174987,
          0.6315425392913014,
          0.6369275944272395,
          0.6424921514010422,
          0.648056708374845,
          0.653441763510783,
          0.6590063204845857,
          0.6643913756205237,
          0.6699559325943265,
          0.6755204895681288,
          0.6805465410283378,
          0.6861110980021405,
          0.6914961531380786,
          0.6970607101118813,
          0.7024457652478193,
          0.7080103222216221,
          0.7135748791954248,
          0.7189599343313628,
          0.7245244913051656,
          0.7299095464411036,
          0.7354741034149059,
          0.7410386603887087,
          0.7460647118489176,
          0.7516292688227204,
          0.7570143239586584,
          0.7625788809324612,
          0.7679639360683992,
          0.773528493042202,
          0.7790930500160043,
          0.7844781051519427,
          0.790042662125745,
          0.795427717261683,
          0.8009922742354858,
          0.8065568312092886,
          0.8117623845073618,
          0.8173269414811646,
          0.8227119966171026,
          0.8282765535909054,
          0.8336616087268434,
          0.8392261657006461,
          0.8447907226744489,
          0.8501757778103869,
          0.8557403347841896,
          0.8611253899201277,
          0.8666899468939304,
          0.8722545038677327,
          0.8772805553279417,
          0.8828451123017445,
          0.8882301674376825,
          0.8937947244114852,
          0.8991797795474232,
          0.904744336521226,
          0.9103088934950287,
          0.9156939486309668,
          0.9212585056047695,
          0.9266435607407075,
          0.9322081177145098,
          0.9377726746883126,
          0.9427987261485216,
          0.9483632831223243,
          0.9537483382582623,
          0.9593128952320651,
          0.9646979503680031,
          0.9702625073418059,
          0.9758270643156082,
          0.9812121194515466,
          0.9867766764253489,
          0.992161731561287,
          0.9977262885350897,
          1.0032908455088925,
          1.0083168969691014,
          1.0138814539429042,
          1.0192665090788422,
          1.0248310660526445,
          1.030216121188583,
          1.0357806781623853,
          1.041345235136188,
          1.046730290272126,
          1.0522948472459288,
          1.0576799023818668,
          1.0632444593556696,
          1.0688090163294723,
          1.0740145696275456,
          1.0795791266013484,
          1.0849641817372864,
          1.0905287387110891,
          1.0959137938470271,
          1.10147835082083,
          1.1070429077946327,
          1.1124279629305707,
          1.1179925199043734,
          1.1233775750403114,
          1.1289421320141138,
          1.1345066889879165,
          1.1395327404481255,
          1.1450972974219282,
          1.1504823525578662,
          1.156046909531669,
          1.161431964667607,
          1.1669965216414098,
          1.172561078615212,
          1.1779461337511505,
          1.1835106907249529,
          1.1888957458608909,
          1.1944603028346936,
          1.2000248598084964,
          1.2050509112687053,
          1.210615468242508,
          1.216000523378446,
          1.2215650803522484,
          1.2269501354881869,
          1.2325146924619892,
          1.238079249435792,
          1.24346430457173,
          1.2490288615455327,
          1.2544139166814707,
          1.2599784736552735,
          1.2655430306290762,
          1.2705690820892852,
          1.2761336390630875,
          1.2815186941990255,
          1.2870832511728283,
          1.2924683063087663,
          1.298032863282569,
          1.3035974202563718,
          1.3089824753923098,
          1.3145470323661126,
          1.3199320875020506,
          1.3254966444758534,
          1.3310612014496561,
          1.3362667547477294,
          1.3418313117215321,
          1.3472163668574701,
          1.352780923831273,
          1.358165978967211,
          1.3637305359410137,
          1.369295092914816,
          1.3746801480507544,
          1.3802447050245568,
          1.3856297601604948,
          1.3911943171342975,
          1.3967588741081003,
          1.4017849255683092,
          1.407349482542112,
          1.41273453767805,
          1.4182990946518523,
          1.4236841497877908,
          1.429248706761593,
          1.4348132637353959,
          1.4401983188713339,
          1.4457628758451366,
          1.4511479309810746,
          1.4567124879548774,
          1.4622770449286802,
          1.4673030963888891,
          1.4728676533626914,
          1.4782527084986294,
          1.4838172654724322,
          1.4892023206083702,
          1.494766877582173,
          1.5003314345559757,
          1.5057164896919137,
          1.5112810466657165,
          1.5166661018016545,
          1.5222306587754573,
          1.52779521574926,
          1.5328212672094685,
          1.5383858241832713,
          1.5437708793192093,
          1.549335436293012,
          1.55472049142895,
          1.5602850484027528,
          1.5658496053765556,
          1.5712346605124936,
          1.5767992174862964,
          1.5821842726222344,
          1.5877488295960371,
          1.5933133865698395,
          1.5985189398679132,
          1.604083496841716,
          1.609468551977654,
          1.6150331089514562,
          1.6204181640873947,
          1.625982721061197
         ],
         "yaxis": "y"
        }
       ],
       "layout": {
        "legend": {
         "tracegroupgap": 0
        },
        "template": {
         "data": {
          "bar": [
           {
            "error_x": {
             "color": "#2a3f5f"
            },
            "error_y": {
             "color": "#2a3f5f"
            },
            "marker": {
             "line": {
              "color": "#E5ECF6",
              "width": 0.5
             },
             "pattern": {
              "fillmode": "overlay",
              "size": 10,
              "solidity": 0.2
             }
            },
            "type": "bar"
           }
          ],
          "barpolar": [
           {
            "marker": {
             "line": {
              "color": "#E5ECF6",
              "width": 0.5
             },
             "pattern": {
              "fillmode": "overlay",
              "size": 10,
              "solidity": 0.2
             }
            },
            "type": "barpolar"
           }
          ],
          "carpet": [
           {
            "aaxis": {
             "endlinecolor": "#2a3f5f",
             "gridcolor": "white",
             "linecolor": "white",
             "minorgridcolor": "white",
             "startlinecolor": "#2a3f5f"
            },
            "baxis": {
             "endlinecolor": "#2a3f5f",
             "gridcolor": "white",
             "linecolor": "white",
             "minorgridcolor": "white",
             "startlinecolor": "#2a3f5f"
            },
            "type": "carpet"
           }
          ],
          "choropleth": [
           {
            "colorbar": {
             "outlinewidth": 0,
             "ticks": ""
            },
            "type": "choropleth"
           }
          ],
          "contour": [
           {
            "colorbar": {
             "outlinewidth": 0,
             "ticks": ""
            },
            "colorscale": [
             [
              0,
              "#0d0887"
             ],
             [
              0.1111111111111111,
              "#46039f"
             ],
             [
              0.2222222222222222,
              "#7201a8"
             ],
             [
              0.3333333333333333,
              "#9c179e"
             ],
             [
              0.4444444444444444,
              "#bd3786"
             ],
             [
              0.5555555555555556,
              "#d8576b"
             ],
             [
              0.6666666666666666,
              "#ed7953"
             ],
             [
              0.7777777777777778,
              "#fb9f3a"
             ],
             [
              0.8888888888888888,
              "#fdca26"
             ],
             [
              1,
              "#f0f921"
             ]
            ],
            "type": "contour"
           }
          ],
          "contourcarpet": [
           {
            "colorbar": {
             "outlinewidth": 0,
             "ticks": ""
            },
            "type": "contourcarpet"
           }
          ],
          "heatmap": [
           {
            "colorbar": {
             "outlinewidth": 0,
             "ticks": ""
            },
            "colorscale": [
             [
              0,
              "#0d0887"
             ],
             [
              0.1111111111111111,
              "#46039f"
             ],
             [
              0.2222222222222222,
              "#7201a8"
             ],
             [
              0.3333333333333333,
              "#9c179e"
             ],
             [
              0.4444444444444444,
              "#bd3786"
             ],
             [
              0.5555555555555556,
              "#d8576b"
             ],
             [
              0.6666666666666666,
              "#ed7953"
             ],
             [
              0.7777777777777778,
              "#fb9f3a"
             ],
             [
              0.8888888888888888,
              "#fdca26"
             ],
             [
              1,
              "#f0f921"
             ]
            ],
            "type": "heatmap"
           }
          ],
          "heatmapgl": [
           {
            "colorbar": {
             "outlinewidth": 0,
             "ticks": ""
            },
            "colorscale": [
             [
              0,
              "#0d0887"
             ],
             [
              0.1111111111111111,
              "#46039f"
             ],
             [
              0.2222222222222222,
              "#7201a8"
             ],
             [
              0.3333333333333333,
              "#9c179e"
             ],
             [
              0.4444444444444444,
              "#bd3786"
             ],
             [
              0.5555555555555556,
              "#d8576b"
             ],
             [
              0.6666666666666666,
              "#ed7953"
             ],
             [
              0.7777777777777778,
              "#fb9f3a"
             ],
             [
              0.8888888888888888,
              "#fdca26"
             ],
             [
              1,
              "#f0f921"
             ]
            ],
            "type": "heatmapgl"
           }
          ],
          "histogram": [
           {
            "marker": {
             "pattern": {
              "fillmode": "overlay",
              "size": 10,
              "solidity": 0.2
             }
            },
            "type": "histogram"
           }
          ],
          "histogram2d": [
           {
            "colorbar": {
             "outlinewidth": 0,
             "ticks": ""
            },
            "colorscale": [
             [
              0,
              "#0d0887"
             ],
             [
              0.1111111111111111,
              "#46039f"
             ],
             [
              0.2222222222222222,
              "#7201a8"
             ],
             [
              0.3333333333333333,
              "#9c179e"
             ],
             [
              0.4444444444444444,
              "#bd3786"
             ],
             [
              0.5555555555555556,
              "#d8576b"
             ],
             [
              0.6666666666666666,
              "#ed7953"
             ],
             [
              0.7777777777777778,
              "#fb9f3a"
             ],
             [
              0.8888888888888888,
              "#fdca26"
             ],
             [
              1,
              "#f0f921"
             ]
            ],
            "type": "histogram2d"
           }
          ],
          "histogram2dcontour": [
           {
            "colorbar": {
             "outlinewidth": 0,
             "ticks": ""
            },
            "colorscale": [
             [
              0,
              "#0d0887"
             ],
             [
              0.1111111111111111,
              "#46039f"
             ],
             [
              0.2222222222222222,
              "#7201a8"
             ],
             [
              0.3333333333333333,
              "#9c179e"
             ],
             [
              0.4444444444444444,
              "#bd3786"
             ],
             [
              0.5555555555555556,
              "#d8576b"
             ],
             [
              0.6666666666666666,
              "#ed7953"
             ],
             [
              0.7777777777777778,
              "#fb9f3a"
             ],
             [
              0.8888888888888888,
              "#fdca26"
             ],
             [
              1,
              "#f0f921"
             ]
            ],
            "type": "histogram2dcontour"
           }
          ],
          "mesh3d": [
           {
            "colorbar": {
             "outlinewidth": 0,
             "ticks": ""
            },
            "type": "mesh3d"
           }
          ],
          "parcoords": [
           {
            "line": {
             "colorbar": {
              "outlinewidth": 0,
              "ticks": ""
             }
            },
            "type": "parcoords"
           }
          ],
          "pie": [
           {
            "automargin": true,
            "type": "pie"
           }
          ],
          "scatter": [
           {
            "fillpattern": {
             "fillmode": "overlay",
             "size": 10,
             "solidity": 0.2
            },
            "type": "scatter"
           }
          ],
          "scatter3d": [
           {
            "line": {
             "colorbar": {
              "outlinewidth": 0,
              "ticks": ""
             }
            },
            "marker": {
             "colorbar": {
              "outlinewidth": 0,
              "ticks": ""
             }
            },
            "type": "scatter3d"
           }
          ],
          "scattercarpet": [
           {
            "marker": {
             "colorbar": {
              "outlinewidth": 0,
              "ticks": ""
             }
            },
            "type": "scattercarpet"
           }
          ],
          "scattergeo": [
           {
            "marker": {
             "colorbar": {
              "outlinewidth": 0,
              "ticks": ""
             }
            },
            "type": "scattergeo"
           }
          ],
          "scattergl": [
           {
            "marker": {
             "colorbar": {
              "outlinewidth": 0,
              "ticks": ""
             }
            },
            "type": "scattergl"
           }
          ],
          "scattermapbox": [
           {
            "marker": {
             "colorbar": {
              "outlinewidth": 0,
              "ticks": ""
             }
            },
            "type": "scattermapbox"
           }
          ],
          "scatterpolar": [
           {
            "marker": {
             "colorbar": {
              "outlinewidth": 0,
              "ticks": ""
             }
            },
            "type": "scatterpolar"
           }
          ],
          "scatterpolargl": [
           {
            "marker": {
             "colorbar": {
              "outlinewidth": 0,
              "ticks": ""
             }
            },
            "type": "scatterpolargl"
           }
          ],
          "scatterternary": [
           {
            "marker": {
             "colorbar": {
              "outlinewidth": 0,
              "ticks": ""
             }
            },
            "type": "scatterternary"
           }
          ],
          "surface": [
           {
            "colorbar": {
             "outlinewidth": 0,
             "ticks": ""
            },
            "colorscale": [
             [
              0,
              "#0d0887"
             ],
             [
              0.1111111111111111,
              "#46039f"
             ],
             [
              0.2222222222222222,
              "#7201a8"
             ],
             [
              0.3333333333333333,
              "#9c179e"
             ],
             [
              0.4444444444444444,
              "#bd3786"
             ],
             [
              0.5555555555555556,
              "#d8576b"
             ],
             [
              0.6666666666666666,
              "#ed7953"
             ],
             [
              0.7777777777777778,
              "#fb9f3a"
             ],
             [
              0.8888888888888888,
              "#fdca26"
             ],
             [
              1,
              "#f0f921"
             ]
            ],
            "type": "surface"
           }
          ],
          "table": [
           {
            "cells": {
             "fill": {
              "color": "#EBF0F8"
             },
             "line": {
              "color": "white"
             }
            },
            "header": {
             "fill": {
              "color": "#C8D4E3"
             },
             "line": {
              "color": "white"
             }
            },
            "type": "table"
           }
          ]
         },
         "layout": {
          "annotationdefaults": {
           "arrowcolor": "#2a3f5f",
           "arrowhead": 0,
           "arrowwidth": 1
          },
          "autotypenumbers": "strict",
          "coloraxis": {
           "colorbar": {
            "outlinewidth": 0,
            "ticks": ""
           }
          },
          "colorscale": {
           "diverging": [
            [
             0,
             "#8e0152"
            ],
            [
             0.1,
             "#c51b7d"
            ],
            [
             0.2,
             "#de77ae"
            ],
            [
             0.3,
             "#f1b6da"
            ],
            [
             0.4,
             "#fde0ef"
            ],
            [
             0.5,
             "#f7f7f7"
            ],
            [
             0.6,
             "#e6f5d0"
            ],
            [
             0.7,
             "#b8e186"
            ],
            [
             0.8,
             "#7fbc41"
            ],
            [
             0.9,
             "#4d9221"
            ],
            [
             1,
             "#276419"
            ]
           ],
           "sequential": [
            [
             0,
             "#0d0887"
            ],
            [
             0.1111111111111111,
             "#46039f"
            ],
            [
             0.2222222222222222,
             "#7201a8"
            ],
            [
             0.3333333333333333,
             "#9c179e"
            ],
            [
             0.4444444444444444,
             "#bd3786"
            ],
            [
             0.5555555555555556,
             "#d8576b"
            ],
            [
             0.6666666666666666,
             "#ed7953"
            ],
            [
             0.7777777777777778,
             "#fb9f3a"
            ],
            [
             0.8888888888888888,
             "#fdca26"
            ],
            [
             1,
             "#f0f921"
            ]
           ],
           "sequentialminus": [
            [
             0,
             "#0d0887"
            ],
            [
             0.1111111111111111,
             "#46039f"
            ],
            [
             0.2222222222222222,
             "#7201a8"
            ],
            [
             0.3333333333333333,
             "#9c179e"
            ],
            [
             0.4444444444444444,
             "#bd3786"
            ],
            [
             0.5555555555555556,
             "#d8576b"
            ],
            [
             0.6666666666666666,
             "#ed7953"
            ],
            [
             0.7777777777777778,
             "#fb9f3a"
            ],
            [
             0.8888888888888888,
             "#fdca26"
            ],
            [
             1,
             "#f0f921"
            ]
           ]
          },
          "colorway": [
           "#636efa",
           "#EF553B",
           "#00cc96",
           "#ab63fa",
           "#FFA15A",
           "#19d3f3",
           "#FF6692",
           "#B6E880",
           "#FF97FF",
           "#FECB52"
          ],
          "font": {
           "color": "#2a3f5f"
          },
          "geo": {
           "bgcolor": "white",
           "lakecolor": "white",
           "landcolor": "#E5ECF6",
           "showlakes": true,
           "showland": true,
           "subunitcolor": "white"
          },
          "hoverlabel": {
           "align": "left"
          },
          "hovermode": "closest",
          "mapbox": {
           "style": "light"
          },
          "paper_bgcolor": "white",
          "plot_bgcolor": "#E5ECF6",
          "polar": {
           "angularaxis": {
            "gridcolor": "white",
            "linecolor": "white",
            "ticks": ""
           },
           "bgcolor": "#E5ECF6",
           "radialaxis": {
            "gridcolor": "white",
            "linecolor": "white",
            "ticks": ""
           }
          },
          "scene": {
           "xaxis": {
            "backgroundcolor": "#E5ECF6",
            "gridcolor": "white",
            "gridwidth": 2,
            "linecolor": "white",
            "showbackground": true,
            "ticks": "",
            "zerolinecolor": "white"
           },
           "yaxis": {
            "backgroundcolor": "#E5ECF6",
            "gridcolor": "white",
            "gridwidth": 2,
            "linecolor": "white",
            "showbackground": true,
            "ticks": "",
            "zerolinecolor": "white"
           },
           "zaxis": {
            "backgroundcolor": "#E5ECF6",
            "gridcolor": "white",
            "gridwidth": 2,
            "linecolor": "white",
            "showbackground": true,
            "ticks": "",
            "zerolinecolor": "white"
           }
          },
          "shapedefaults": {
           "line": {
            "color": "#2a3f5f"
           }
          },
          "ternary": {
           "aaxis": {
            "gridcolor": "white",
            "linecolor": "white",
            "ticks": ""
           },
           "baxis": {
            "gridcolor": "white",
            "linecolor": "white",
            "ticks": ""
           },
           "bgcolor": "#E5ECF6",
           "caxis": {
            "gridcolor": "white",
            "linecolor": "white",
            "ticks": ""
           }
          },
          "title": {
           "x": 0.05
          },
          "xaxis": {
           "automargin": true,
           "gridcolor": "white",
           "linecolor": "white",
           "ticks": "",
           "title": {
            "standoff": 15
           },
           "zerolinecolor": "white",
           "zerolinewidth": 2
          },
          "yaxis": {
           "automargin": true,
           "gridcolor": "white",
           "linecolor": "white",
           "ticks": "",
           "title": {
            "standoff": 15
           },
           "zerolinecolor": "white",
           "zerolinewidth": 2
          }
         }
        },
        "title": {
         "text": "t2m_delta over Time for Longitude 7.5 and Latitude 46.0"
        },
        "xaxis": {
         "anchor": "y",
         "domain": [
          0,
          1
         ],
         "title": {
          "text": "date"
         }
        },
        "yaxis": {
         "anchor": "x",
         "domain": [
          0,
          1
         ],
         "title": {
          "text": "t2m_delta"
         }
        }
       }
      },
      "text/html": [
       "<div>                            <div id=\"a998fc70-5fe3-456e-8e09-984f3b35022e\" class=\"plotly-graph-div\" style=\"height:525px; width:100%;\"></div>            <script type=\"text/javascript\">                require([\"plotly\"], function(Plotly) {                    window.PLOTLYENV=window.PLOTLYENV || {};                                    if (document.getElementById(\"a998fc70-5fe3-456e-8e09-984f3b35022e\")) {                    Plotly.newPlot(                        \"a998fc70-5fe3-456e-8e09-984f3b35022e\",                        [{\"hovertemplate\":\"date=%{x}\\u003cbr\\u003et2m_delta=%{y}\\u003cextra\\u003e\\u003c\\u002fextra\\u003e\",\"legendgroup\":\"\",\"marker\":{\"color\":\"#636efa\",\"symbol\":\"circle\"},\"mode\":\"lines+markers\",\"name\":\"\",\"orientation\":\"v\",\"showlegend\":false,\"x\":[\"1990-01-01T00:00:00\",\"1990-02-01T00:00:00\",\"1990-03-01T00:00:00\",\"1990-04-01T00:00:00\",\"1990-05-01T00:00:00\",\"1990-06-01T00:00:00\",\"1990-07-01T00:00:00\",\"1990-08-01T00:00:00\",\"1990-09-01T00:00:00\",\"1990-10-01T00:00:00\",\"1990-11-01T00:00:00\",\"1990-12-01T00:00:00\",\"1991-01-01T00:00:00\",\"1991-02-01T00:00:00\",\"1991-03-01T00:00:00\",\"1991-04-01T00:00:00\",\"1991-05-01T00:00:00\",\"1991-06-01T00:00:00\",\"1991-07-01T00:00:00\",\"1991-08-01T00:00:00\",\"1991-09-01T00:00:00\",\"1991-10-01T00:00:00\",\"1991-11-01T00:00:00\",\"1991-12-01T00:00:00\",\"1992-01-01T00:00:00\",\"1992-02-01T00:00:00\",\"1992-03-01T00:00:00\",\"1992-04-01T00:00:00\",\"1992-05-01T00:00:00\",\"1992-06-01T00:00:00\",\"1992-07-01T00:00:00\",\"1992-08-01T00:00:00\",\"1992-09-01T00:00:00\",\"1992-10-01T00:00:00\",\"1992-11-01T00:00:00\",\"1992-12-01T00:00:00\",\"1993-01-01T00:00:00\",\"1993-02-01T00:00:00\",\"1993-03-01T00:00:00\",\"1993-04-01T00:00:00\",\"1993-05-01T00:00:00\",\"1993-06-01T00:00:00\",\"1993-07-01T00:00:00\",\"1993-08-01T00:00:00\",\"1993-09-01T00:00:00\",\"1993-10-01T00:00:00\",\"1993-11-01T00:00:00\",\"1993-12-01T00:00:00\",\"1994-01-01T00:00:00\",\"1994-02-01T00:00:00\",\"1994-03-01T00:00:00\",\"1994-04-01T00:00:00\",\"1994-05-01T00:00:00\",\"1994-06-01T00:00:00\",\"1994-07-01T00:00:00\",\"1994-08-01T00:00:00\",\"1994-09-01T00:00:00\",\"1994-10-01T00:00:00\",\"1994-11-01T00:00:00\",\"1994-12-01T00:00:00\",\"1995-01-01T00:00:00\",\"1995-02-01T00:00:00\",\"1995-03-01T00:00:00\",\"1995-04-01T00:00:00\",\"1995-05-01T00:00:00\",\"1995-06-01T00:00:00\",\"1995-07-01T00:00:00\",\"1995-08-01T00:00:00\",\"1995-09-01T00:00:00\",\"1995-10-01T00:00:00\",\"1995-11-01T00:00:00\",\"1995-12-01T00:00:00\",\"1996-01-01T00:00:00\",\"1996-02-01T00:00:00\",\"1996-03-01T00:00:00\",\"1996-04-01T00:00:00\",\"1996-05-01T00:00:00\",\"1996-06-01T00:00:00\",\"1996-07-01T00:00:00\",\"1996-08-01T00:00:00\",\"1996-09-01T00:00:00\",\"1996-10-01T00:00:00\",\"1996-11-01T00:00:00\",\"1996-12-01T00:00:00\",\"1997-01-01T00:00:00\",\"1997-02-01T00:00:00\",\"1997-03-01T00:00:00\",\"1997-04-01T00:00:00\",\"1997-05-01T00:00:00\",\"1997-06-01T00:00:00\",\"1997-07-01T00:00:00\",\"1997-08-01T00:00:00\",\"1997-09-01T00:00:00\",\"1997-10-01T00:00:00\",\"1997-11-01T00:00:00\",\"1997-12-01T00:00:00\",\"1998-01-01T00:00:00\",\"1998-02-01T00:00:00\",\"1998-03-01T00:00:00\",\"1998-04-01T00:00:00\",\"1998-05-01T00:00:00\",\"1998-06-01T00:00:00\",\"1998-07-01T00:00:00\",\"1998-08-01T00:00:00\",\"1998-09-01T00:00:00\",\"1998-10-01T00:00:00\",\"1998-11-01T00:00:00\",\"1998-12-01T00:00:00\",\"1999-01-01T00:00:00\",\"1999-02-01T00:00:00\",\"1999-03-01T00:00:00\",\"1999-04-01T00:00:00\",\"1999-05-01T00:00:00\",\"1999-06-01T00:00:00\",\"1999-07-01T00:00:00\",\"1999-08-01T00:00:00\",\"1999-09-01T00:00:00\",\"1999-10-01T00:00:00\",\"1999-11-01T00:00:00\",\"1999-12-01T00:00:00\",\"2000-01-01T00:00:00\",\"2000-02-01T00:00:00\",\"2000-03-01T00:00:00\",\"2000-04-01T00:00:00\",\"2000-05-01T00:00:00\",\"2000-06-01T00:00:00\",\"2000-07-01T00:00:00\",\"2000-08-01T00:00:00\",\"2000-09-01T00:00:00\",\"2000-10-01T00:00:00\",\"2000-11-01T00:00:00\",\"2000-12-01T00:00:00\",\"2001-01-01T00:00:00\",\"2001-02-01T00:00:00\",\"2001-03-01T00:00:00\",\"2001-04-01T00:00:00\",\"2001-05-01T00:00:00\",\"2001-06-01T00:00:00\",\"2001-07-01T00:00:00\",\"2001-08-01T00:00:00\",\"2001-09-01T00:00:00\",\"2001-10-01T00:00:00\",\"2001-11-01T00:00:00\",\"2001-12-01T00:00:00\",\"2002-01-01T00:00:00\",\"2002-02-01T00:00:00\",\"2002-03-01T00:00:00\",\"2002-04-01T00:00:00\",\"2002-05-01T00:00:00\",\"2002-06-01T00:00:00\",\"2002-07-01T00:00:00\",\"2002-08-01T00:00:00\",\"2002-09-01T00:00:00\",\"2002-10-01T00:00:00\",\"2002-11-01T00:00:00\",\"2002-12-01T00:00:00\",\"2003-01-01T00:00:00\",\"2003-02-01T00:00:00\",\"2003-03-01T00:00:00\",\"2003-04-01T00:00:00\",\"2003-05-01T00:00:00\",\"2003-06-01T00:00:00\",\"2003-07-01T00:00:00\",\"2003-08-01T00:00:00\",\"2003-09-01T00:00:00\",\"2003-10-01T00:00:00\",\"2003-11-01T00:00:00\",\"2003-12-01T00:00:00\",\"2004-01-01T00:00:00\",\"2004-02-01T00:00:00\",\"2004-03-01T00:00:00\",\"2004-04-01T00:00:00\",\"2004-05-01T00:00:00\",\"2004-06-01T00:00:00\",\"2004-07-01T00:00:00\",\"2004-08-01T00:00:00\",\"2004-09-01T00:00:00\",\"2004-10-01T00:00:00\",\"2004-11-01T00:00:00\",\"2004-12-01T00:00:00\",\"2005-01-01T00:00:00\",\"2005-02-01T00:00:00\",\"2005-03-01T00:00:00\",\"2005-04-01T00:00:00\",\"2005-05-01T00:00:00\",\"2005-06-01T00:00:00\",\"2005-07-01T00:00:00\",\"2005-08-01T00:00:00\",\"2005-09-01T00:00:00\",\"2005-10-01T00:00:00\",\"2005-11-01T00:00:00\",\"2005-12-01T00:00:00\",\"2006-01-01T00:00:00\",\"2006-02-01T00:00:00\",\"2006-03-01T00:00:00\",\"2006-04-01T00:00:00\",\"2006-05-01T00:00:00\",\"2006-06-01T00:00:00\",\"2006-07-01T00:00:00\",\"2006-08-01T00:00:00\",\"2006-09-01T00:00:00\",\"2006-10-01T00:00:00\",\"2006-11-01T00:00:00\",\"2006-12-01T00:00:00\",\"2007-01-01T00:00:00\",\"2007-02-01T00:00:00\",\"2007-03-01T00:00:00\",\"2007-04-01T00:00:00\",\"2007-05-01T00:00:00\",\"2007-06-01T00:00:00\",\"2007-07-01T00:00:00\",\"2007-08-01T00:00:00\",\"2007-09-01T00:00:00\",\"2007-10-01T00:00:00\",\"2007-11-01T00:00:00\",\"2007-12-01T00:00:00\",\"2008-01-01T00:00:00\",\"2008-02-01T00:00:00\",\"2008-03-01T00:00:00\",\"2008-04-01T00:00:00\",\"2008-05-01T00:00:00\",\"2008-06-01T00:00:00\",\"2008-07-01T00:00:00\",\"2008-08-01T00:00:00\",\"2008-09-01T00:00:00\",\"2008-10-01T00:00:00\",\"2008-11-01T00:00:00\",\"2008-12-01T00:00:00\",\"2009-01-01T00:00:00\",\"2009-02-01T00:00:00\",\"2009-03-01T00:00:00\",\"2009-04-01T00:00:00\",\"2009-05-01T00:00:00\",\"2009-06-01T00:00:00\",\"2009-07-01T00:00:00\",\"2009-08-01T00:00:00\",\"2009-09-01T00:00:00\",\"2009-10-01T00:00:00\",\"2009-11-01T00:00:00\",\"2009-12-01T00:00:00\",\"2010-01-01T00:00:00\",\"2010-02-01T00:00:00\",\"2010-03-01T00:00:00\",\"2010-04-01T00:00:00\",\"2010-05-01T00:00:00\",\"2010-06-01T00:00:00\",\"2010-07-01T00:00:00\",\"2010-08-01T00:00:00\",\"2010-09-01T00:00:00\",\"2010-10-01T00:00:00\",\"2010-11-01T00:00:00\",\"2010-12-01T00:00:00\",\"2011-01-01T00:00:00\",\"2011-02-01T00:00:00\",\"2011-03-01T00:00:00\",\"2011-04-01T00:00:00\",\"2011-05-01T00:00:00\",\"2011-06-01T00:00:00\",\"2011-07-01T00:00:00\",\"2011-08-01T00:00:00\",\"2011-09-01T00:00:00\",\"2011-10-01T00:00:00\",\"2011-11-01T00:00:00\",\"2011-12-01T00:00:00\",\"2012-01-01T00:00:00\",\"2012-02-01T00:00:00\",\"2012-03-01T00:00:00\",\"2012-04-01T00:00:00\",\"2012-05-01T00:00:00\",\"2012-06-01T00:00:00\",\"2012-07-01T00:00:00\",\"2012-08-01T00:00:00\",\"2012-09-01T00:00:00\",\"2012-10-01T00:00:00\",\"2012-11-01T00:00:00\",\"2012-12-01T00:00:00\",\"2013-01-01T00:00:00\",\"2013-02-01T00:00:00\",\"2013-03-01T00:00:00\",\"2013-04-01T00:00:00\",\"2013-05-01T00:00:00\",\"2013-06-01T00:00:00\",\"2013-07-01T00:00:00\",\"2013-08-01T00:00:00\",\"2013-09-01T00:00:00\",\"2013-10-01T00:00:00\",\"2013-11-01T00:00:00\",\"2013-12-01T00:00:00\",\"2014-01-01T00:00:00\",\"2014-02-01T00:00:00\",\"2014-03-01T00:00:00\",\"2014-04-01T00:00:00\",\"2014-05-01T00:00:00\",\"2014-06-01T00:00:00\",\"2014-07-01T00:00:00\",\"2014-08-01T00:00:00\",\"2014-09-01T00:00:00\",\"2014-10-01T00:00:00\",\"2014-11-01T00:00:00\",\"2014-12-01T00:00:00\",\"2015-01-01T00:00:00\",\"2015-02-01T00:00:00\",\"2015-03-01T00:00:00\",\"2015-04-01T00:00:00\",\"2015-05-01T00:00:00\",\"2015-06-01T00:00:00\",\"2015-07-01T00:00:00\",\"2015-08-01T00:00:00\",\"2015-09-01T00:00:00\",\"2015-10-01T00:00:00\",\"2015-11-01T00:00:00\",\"2015-12-01T00:00:00\",\"2016-01-01T00:00:00\",\"2016-02-01T00:00:00\",\"2016-03-01T00:00:00\",\"2016-04-01T00:00:00\",\"2016-05-01T00:00:00\",\"2016-06-01T00:00:00\",\"2016-07-01T00:00:00\",\"2016-08-01T00:00:00\",\"2016-09-01T00:00:00\",\"2016-10-01T00:00:00\",\"2016-11-01T00:00:00\",\"2016-12-01T00:00:00\",\"2017-01-01T00:00:00\",\"2017-02-01T00:00:00\",\"2017-03-01T00:00:00\",\"2017-04-01T00:00:00\",\"2017-05-01T00:00:00\",\"2017-06-01T00:00:00\",\"2017-07-01T00:00:00\",\"2017-08-01T00:00:00\",\"2017-09-01T00:00:00\",\"2017-10-01T00:00:00\",\"2017-11-01T00:00:00\",\"2017-12-01T00:00:00\",\"2018-01-01T00:00:00\",\"2018-02-01T00:00:00\",\"2018-03-01T00:00:00\",\"2018-04-01T00:00:00\",\"2018-05-01T00:00:00\",\"2018-06-01T00:00:00\",\"2018-07-01T00:00:00\",\"2018-08-01T00:00:00\",\"2018-09-01T00:00:00\",\"2018-10-01T00:00:00\",\"2018-11-01T00:00:00\",\"2018-12-01T00:00:00\",\"2019-01-01T00:00:00\",\"2019-02-01T00:00:00\",\"2019-03-01T00:00:00\",\"2019-04-01T00:00:00\",\"2019-05-01T00:00:00\",\"2019-06-01T00:00:00\",\"2019-07-01T00:00:00\",\"2019-08-01T00:00:00\",\"2019-09-01T00:00:00\",\"2019-10-01T00:00:00\",\"2019-11-01T00:00:00\",\"2019-12-01T00:00:00\",\"2020-01-01T00:00:00\",\"2020-02-01T00:00:00\",\"2020-03-01T00:00:00\",\"2020-04-01T00:00:00\",\"2020-05-01T00:00:00\",\"2020-06-01T00:00:00\",\"2020-07-01T00:00:00\",\"2020-08-01T00:00:00\",\"2020-09-01T00:00:00\",\"2020-10-01T00:00:00\",\"2020-11-01T00:00:00\",\"2020-12-01T00:00:00\",\"2021-01-01T00:00:00\",\"2021-02-01T00:00:00\",\"2021-03-01T00:00:00\",\"2021-04-01T00:00:00\",\"2021-05-01T00:00:00\",\"2021-06-01T00:00:00\",\"2021-07-01T00:00:00\",\"2021-08-01T00:00:00\",\"2021-09-01T00:00:00\",\"2021-10-01T00:00:00\",\"2021-11-01T00:00:00\",\"2021-12-01T00:00:00\",\"2022-01-01T00:00:00\",\"2022-02-01T00:00:00\",\"2022-03-01T00:00:00\",\"2022-04-01T00:00:00\",\"2022-05-01T00:00:00\",\"2022-06-01T00:00:00\",\"2022-07-01T00:00:00\",\"2022-08-01T00:00:00\",\"2022-09-01T00:00:00\",\"2022-10-01T00:00:00\",\"2022-11-01T00:00:00\",\"2022-12-01T00:00:00\",\"2023-01-01T00:00:00\",\"2023-02-01T00:00:00\",\"2023-03-01T00:00:00\",\"2023-04-01T00:00:00\",\"2023-05-01T00:00:00\",\"2023-06-01T00:00:00\",\"2023-07-01T00:00:00\",\"2023-08-01T00:00:00\",\"2023-09-01T00:00:00\",\"2023-10-01T00:00:00\",\"2023-11-01T00:00:00\",\"2023-12-01T00:00:00\",\"2024-01-01T00:00:00\",\"2024-02-01T00:00:00\",\"2024-03-01T00:00:00\",\"2024-04-01T00:00:00\",\"2024-05-01T00:00:00\",\"2024-06-01T00:00:00\",\"2024-07-01T00:00:00\",\"2024-08-01T00:00:00\"],\"xaxis\":\"x\",\"y\":[-0.12589518229166607,3.7052873883928577,1.52587890625,-1.4910714285714284,0.5741838727678572,-0.852294921875,0.7598470052083339,0.6553431919642865,0.1211170014880949,1.1395089285714286,-1.6157807849702381,-2.942406063988095,0.3577473958333339,-3.3616071428571423,2.635498046875,-1.9227120535714284,-4.063511439732142,-2.999755859375,0.8640950520833339,1.5899135044642865,2.468529110863095,-2.5240652901785716,-0.9785737537202381,-0.6084216889880949,0.2661946614583339,0.5036272321428577,0.31396484375,-0.10679408482142838,0.9015764508928572,-2.392578125,0.17781575520833393,2.4805385044642865,0.1823962983630949,-3.7223074776785716,1.9181547619047619,0.7267833891369051,2.386311848958334,-0.9868512834821423,-1.48193359375,0.2716238839285716,0.028529575892857206,-0.21044921875,-2.112467447916666,0.15509905133928648,-1.805884951636905,-2.7838309151785716,-2.291562034970238,1.719947451636905,1.475423177083334,-0.44949776785714235,3.763671875,-1.8982979910714284,-0.1304059709821428,-0.769775390625,2.197347005208334,1.2742396763392865,-1.413062686011905,0.09922572544642858,3.559512183779762,1.308814639136905,-2.000162760416666,3.0339006696428577,-3.34326171875,0.5186941964285716,-1.3154645647321428,-2.67578125,1.573567708333334,-1.9279087611607135,-3.789527529761905,3.4749581473214284,-0.42266555059523814,0.3124767485119051,0.7693684895833339,-2.4778180803571423,-2.437255859375,0.5670340401785716,-0.4416852678571428,0.185791015625,-1.327067057291666,-1.6300571986607135,-2.842994326636905,-0.6197684151785714,-0.08794875372023814,-0.0249255952380949,1.223958333333334,2.4826311383928577,1.726806640625,-1.2518136160714284,-0.7331891741071428,-1.447021484375,-2.119547526041666,0.5674525669642865,2.904075985863095,-0.4598563058035714,-0.33916945684523814,1.063697451636905,-0.061930338541666075,3.5741838727678577,-0.35205078125,-0.7007882254464284,0.1852678571428572,0.39892578125,0.7029622395833339,0.4468470982142865,-0.7428966703869051,-1.2491629464285714,-5.474667503720238,-0.4665759858630949,0.9004720052083339,-1.8970075334821423,-0.418212890625,-0.4747140066964284,1.2902483258928572,-1.158935546875,-0.027018229166666075,0.19147600446428648,2.407249813988095,0.6204659598214286,-2.629696800595238,-0.0901111421130949,-1.877848307291666,1.3805803571428577,0.228271484375,0.6214773995535716,1.0827287946428572,2.00634765625,-2.694010416666666,0.3438197544642865,0.6679920014880949,-0.7386648995535714,-1.1882905505952381,1.177222842261905,-0.3277994791666661,0.7106584821428577,2.296630859375,-1.7320382254464284,1.5456194196428572,-1.141845703125,-0.3226725260416661,1.0125209263392865,-3.969215029761905,3.0648018973214284,-0.6570405505952381,-3.056908017113095,-0.5721842447916661,2.7245744977678577,0.543212890625,-0.09043666294642838,-1.1482282366071428,1.636474609375,-0.5763346354166661,-1.5978306361607135,-1.553443545386905,-0.5050223214285714,1.5646391369047619,2.271461123511905,-1.649820963541666,-4.712193080357142,1.80224609375,-0.2635323660714284,0.7001604352678572,4.484130859375,1.111165364583334,2.7564174107142865,0.7788318452380949,-4.358782087053571,1.3725004650297619,0.8090587797619051,-0.3114420572916661,0.5807756696428577,-1.604248046875,-0.10532924107142838,-1.7908063616071428,-0.08642578125,-0.9967447916666661,-0.3646763392857135,1.741478329613095,0.9874093191964286,-0.36285109747023814,-0.1579822358630949,-1.493082682291666,-5.523472377232142,-0.449951171875,0.20179966517857162,0.2475237165178572,1.720947265625,-0.5316569010416661,-1.9445103236607135,1.628441220238095,1.4085518973214286,1.4596586681547619,-1.274437313988095,-1.313151041666666,-0.9558454241071423,-1.931396484375,0.9867117745535716,0.4735979352678572,1.414306640625,2.235188802083334,-4.1129673549107135,2.603050595238095,3.0689522879464284,4.298037574404762,2.808570498511905,3.718098958333334,3.1908830915178577,-0.019775390625,4.666643415178571,0.6742815290178572,0.514892578125,-0.8507486979166661,-1.0524204799107135,-0.6899181547619051,1.0152413504464286,0.39960007440476186,-0.9797595796130949,3.130940755208334,2.5937151227678577,-0.95654296875,-1.1627022879464284,0.6125139508928572,0.634033203125,-0.039469401041666075,0.3313685825892865,-0.2267833891369051,2.1475655691964284,-0.8958100818452381,-0.0058826264880949,-1.744303385416666,-1.7773786272321423,-0.62744140625,2.0262625558035716,2.372279575892857,0.353759765625,0.4397786458333339,2.2781459263392865,2.157493954613095,0.8633858816964286,2.508486793154762,-0.5290759858630949,-2.750895182291666,-2.3391462053571423,-1.214111328125,1.3399832589285716,-1.0652204241071428,0.38525390625,1.535970052083334,-1.4528111049107135,-0.6269298735119051,-0.9286063058035714,-0.13653273809523814,-2.061546688988095,-0.7674967447916661,2.3166155133928577,1.11181640625,4.477678571428571,2.286586216517857,0.512451171875,-2.240397135416666,1.2774135044642865,3.118431454613095,0.6910226004464286,3.068789527529762,1.842506045386905,1.161458333333334,-3.7009626116071423,3.1376953125,0.22206333705357162,1.0526994977678572,2.369384765625,0.3186848958333339,2.3303920200892865,0.9619373139880949,0.18687220982142858,1.5414457775297619,-1.268089657738095,-0.17716471354166607,-3.8105817522321423,-1.792236328125,1.4559500558035716,-2.608189174107143,-2.096435546875,1.118733723958334,0.4986049107142865,1.382835751488095,1.0616280691964286,-0.10821242559523814,2.831763857886905,1.379720052083334,1.4347795758928577,1.429443359375,2.7716238839285716,-1.0720563616071428,-0.496337890625,-3.587809244791666,-3.9030064174107135,0.2400134858630949,1.9861886160714286,3.832949683779762,2.894752139136905,1.390706380208334,-0.5630231584821423,1.56201171875,1.6395438058035716,0.7497209821428572,1.84814453125,3.903401692708334,1.1533900669642865,-0.3871837797619051,-1.1910574776785714,3.184756324404762,4.641334170386905,1.600911458333334,2.4513811383928577,-0.742431640625,1.5186941964285716,-0.9221540178571428,-0.625244140625,1.150227864583334,1.1155482700892865,2.470726376488095,-0.6163504464285714,1.2472563244047619,3.559547061011905,-3.381022135416666,2.5370744977678577,3.763427734375,0.9305594308035716,0.7765764508928572,3.435302734375,0.7635091145833339,1.2171107700892865,-1.343238467261905,2.3440987723214284,0.26288132440476186,-0.8093494233630949,3.216878255208334,-2.6411481584821423,-1.546630859375,3.2738211495535716,1.7118791852678572,2.636962890625,2.033040364583334,1.2095424107142865,3.237327938988095,2.3711983816964284,2.541201636904762,1.797095889136905,-3.044352213541666,2.5968889508928577,0.39013671875,0.18983677455357162,-2.842564174107143,2.065185546875,2.277425130208334,1.2522670200892865,1.946312313988095,2.2256905691964284,0.40301804315476186,3.284888857886905,1.549641927083334,3.2470354352678577,0.907958984375,3.4198172433035716,2.297816685267857,-0.17626953125,2.032307942708334,1.4751674107142865,1.913353329613095,-2.0348074776785716,4.226992652529762,1.123511904761905,-0.5016276041666661,4.028285435267858,-0.109130859375,-1.0267159598214284,-2.248814174107143,1.217529296875,0.031575520833333925,-0.11467633928571352,2.407738095238095,0.9803292410714286,-0.19463820684523814,1.963599795386905,1.702962239583334,1.8510393415178577,0.5390625,0.5384695870535716,2.348842075892857,3.72607421875,3.609944661458334,2.5862513950892865,0.7097400483630949,4.438092912946429,2.009951636904762,2.409400576636905,0.3865559895833339,2.8925432477678577,1.773193359375,-0.3201729910714284,0.4174455915178572,1.85498046875,2.275716145833334,1.6900111607142865,4.673118954613095,3.7940499441964284,0.7282133556547619,4.923072451636905,5.904134114583334,8.582972935267858,3.644287109375,2.1593191964285716,-0.4634137834821428,-0.05908203125,1.899739583333334,3.2305385044642865],\"yaxis\":\"y\",\"type\":\"scatter\"},{\"hovertemplate\":\"\\u003cb\\u003eOLS trendline\\u003c\\u002fb\\u003e\\u003cbr\\u003et2m_delta = 2.07757e-09 * date + -1.95257\\u003cbr\\u003eR\\u003csup\\u003e2\\u003c\\u002fsup\\u003e=0.109259\\u003cbr\\u003e\\u003cbr\\u003edate=%{x}\\u003cbr\\u003et2m_delta=%{y} \\u003cb\\u003e(trend)\\u003c\\u002fb\\u003e\\u003cextra\\u003e\\u003c\\u002fextra\\u003e\",\"legendgroup\":\"\",\"marker\":{\"color\":\"#636efa\",\"symbol\":\"circle\"},\"mode\":\"lines+markers\",\"name\":\"\",\"showlegend\":false,\"x\":[\"1990-01-01T00:00:00\",\"1990-02-01T00:00:00\",\"1990-03-01T00:00:00\",\"1990-04-01T00:00:00\",\"1990-05-01T00:00:00\",\"1990-06-01T00:00:00\",\"1990-07-01T00:00:00\",\"1990-08-01T00:00:00\",\"1990-09-01T00:00:00\",\"1990-10-01T00:00:00\",\"1990-11-01T00:00:00\",\"1990-12-01T00:00:00\",\"1991-01-01T00:00:00\",\"1991-02-01T00:00:00\",\"1991-03-01T00:00:00\",\"1991-04-01T00:00:00\",\"1991-05-01T00:00:00\",\"1991-06-01T00:00:00\",\"1991-07-01T00:00:00\",\"1991-08-01T00:00:00\",\"1991-09-01T00:00:00\",\"1991-10-01T00:00:00\",\"1991-11-01T00:00:00\",\"1991-12-01T00:00:00\",\"1992-01-01T00:00:00\",\"1992-02-01T00:00:00\",\"1992-03-01T00:00:00\",\"1992-04-01T00:00:00\",\"1992-05-01T00:00:00\",\"1992-06-01T00:00:00\",\"1992-07-01T00:00:00\",\"1992-08-01T00:00:00\",\"1992-09-01T00:00:00\",\"1992-10-01T00:00:00\",\"1992-11-01T00:00:00\",\"1992-12-01T00:00:00\",\"1993-01-01T00:00:00\",\"1993-02-01T00:00:00\",\"1993-03-01T00:00:00\",\"1993-04-01T00:00:00\",\"1993-05-01T00:00:00\",\"1993-06-01T00:00:00\",\"1993-07-01T00:00:00\",\"1993-08-01T00:00:00\",\"1993-09-01T00:00:00\",\"1993-10-01T00:00:00\",\"1993-11-01T00:00:00\",\"1993-12-01T00:00:00\",\"1994-01-01T00:00:00\",\"1994-02-01T00:00:00\",\"1994-03-01T00:00:00\",\"1994-04-01T00:00:00\",\"1994-05-01T00:00:00\",\"1994-06-01T00:00:00\",\"1994-07-01T00:00:00\",\"1994-08-01T00:00:00\",\"1994-09-01T00:00:00\",\"1994-10-01T00:00:00\",\"1994-11-01T00:00:00\",\"1994-12-01T00:00:00\",\"1995-01-01T00:00:00\",\"1995-02-01T00:00:00\",\"1995-03-01T00:00:00\",\"1995-04-01T00:00:00\",\"1995-05-01T00:00:00\",\"1995-06-01T00:00:00\",\"1995-07-01T00:00:00\",\"1995-08-01T00:00:00\",\"1995-09-01T00:00:00\",\"1995-10-01T00:00:00\",\"1995-11-01T00:00:00\",\"1995-12-01T00:00:00\",\"1996-01-01T00:00:00\",\"1996-02-01T00:00:00\",\"1996-03-01T00:00:00\",\"1996-04-01T00:00:00\",\"1996-05-01T00:00:00\",\"1996-06-01T00:00:00\",\"1996-07-01T00:00:00\",\"1996-08-01T00:00:00\",\"1996-09-01T00:00:00\",\"1996-10-01T00:00:00\",\"1996-11-01T00:00:00\",\"1996-12-01T00:00:00\",\"1997-01-01T00:00:00\",\"1997-02-01T00:00:00\",\"1997-03-01T00:00:00\",\"1997-04-01T00:00:00\",\"1997-05-01T00:00:00\",\"1997-06-01T00:00:00\",\"1997-07-01T00:00:00\",\"1997-08-01T00:00:00\",\"1997-09-01T00:00:00\",\"1997-10-01T00:00:00\",\"1997-11-01T00:00:00\",\"1997-12-01T00:00:00\",\"1998-01-01T00:00:00\",\"1998-02-01T00:00:00\",\"1998-03-01T00:00:00\",\"1998-04-01T00:00:00\",\"1998-05-01T00:00:00\",\"1998-06-01T00:00:00\",\"1998-07-01T00:00:00\",\"1998-08-01T00:00:00\",\"1998-09-01T00:00:00\",\"1998-10-01T00:00:00\",\"1998-11-01T00:00:00\",\"1998-12-01T00:00:00\",\"1999-01-01T00:00:00\",\"1999-02-01T00:00:00\",\"1999-03-01T00:00:00\",\"1999-04-01T00:00:00\",\"1999-05-01T00:00:00\",\"1999-06-01T00:00:00\",\"1999-07-01T00:00:00\",\"1999-08-01T00:00:00\",\"1999-09-01T00:00:00\",\"1999-10-01T00:00:00\",\"1999-11-01T00:00:00\",\"1999-12-01T00:00:00\",\"2000-01-01T00:00:00\",\"2000-02-01T00:00:00\",\"2000-03-01T00:00:00\",\"2000-04-01T00:00:00\",\"2000-05-01T00:00:00\",\"2000-06-01T00:00:00\",\"2000-07-01T00:00:00\",\"2000-08-01T00:00:00\",\"2000-09-01T00:00:00\",\"2000-10-01T00:00:00\",\"2000-11-01T00:00:00\",\"2000-12-01T00:00:00\",\"2001-01-01T00:00:00\",\"2001-02-01T00:00:00\",\"2001-03-01T00:00:00\",\"2001-04-01T00:00:00\",\"2001-05-01T00:00:00\",\"2001-06-01T00:00:00\",\"2001-07-01T00:00:00\",\"2001-08-01T00:00:00\",\"2001-09-01T00:00:00\",\"2001-10-01T00:00:00\",\"2001-11-01T00:00:00\",\"2001-12-01T00:00:00\",\"2002-01-01T00:00:00\",\"2002-02-01T00:00:00\",\"2002-03-01T00:00:00\",\"2002-04-01T00:00:00\",\"2002-05-01T00:00:00\",\"2002-06-01T00:00:00\",\"2002-07-01T00:00:00\",\"2002-08-01T00:00:00\",\"2002-09-01T00:00:00\",\"2002-10-01T00:00:00\",\"2002-11-01T00:00:00\",\"2002-12-01T00:00:00\",\"2003-01-01T00:00:00\",\"2003-02-01T00:00:00\",\"2003-03-01T00:00:00\",\"2003-04-01T00:00:00\",\"2003-05-01T00:00:00\",\"2003-06-01T00:00:00\",\"2003-07-01T00:00:00\",\"2003-08-01T00:00:00\",\"2003-09-01T00:00:00\",\"2003-10-01T00:00:00\",\"2003-11-01T00:00:00\",\"2003-12-01T00:00:00\",\"2004-01-01T00:00:00\",\"2004-02-01T00:00:00\",\"2004-03-01T00:00:00\",\"2004-04-01T00:00:00\",\"2004-05-01T00:00:00\",\"2004-06-01T00:00:00\",\"2004-07-01T00:00:00\",\"2004-08-01T00:00:00\",\"2004-09-01T00:00:00\",\"2004-10-01T00:00:00\",\"2004-11-01T00:00:00\",\"2004-12-01T00:00:00\",\"2005-01-01T00:00:00\",\"2005-02-01T00:00:00\",\"2005-03-01T00:00:00\",\"2005-04-01T00:00:00\",\"2005-05-01T00:00:00\",\"2005-06-01T00:00:00\",\"2005-07-01T00:00:00\",\"2005-08-01T00:00:00\",\"2005-09-01T00:00:00\",\"2005-10-01T00:00:00\",\"2005-11-01T00:00:00\",\"2005-12-01T00:00:00\",\"2006-01-01T00:00:00\",\"2006-02-01T00:00:00\",\"2006-03-01T00:00:00\",\"2006-04-01T00:00:00\",\"2006-05-01T00:00:00\",\"2006-06-01T00:00:00\",\"2006-07-01T00:00:00\",\"2006-08-01T00:00:00\",\"2006-09-01T00:00:00\",\"2006-10-01T00:00:00\",\"2006-11-01T00:00:00\",\"2006-12-01T00:00:00\",\"2007-01-01T00:00:00\",\"2007-02-01T00:00:00\",\"2007-03-01T00:00:00\",\"2007-04-01T00:00:00\",\"2007-05-01T00:00:00\",\"2007-06-01T00:00:00\",\"2007-07-01T00:00:00\",\"2007-08-01T00:00:00\",\"2007-09-01T00:00:00\",\"2007-10-01T00:00:00\",\"2007-11-01T00:00:00\",\"2007-12-01T00:00:00\",\"2008-01-01T00:00:00\",\"2008-02-01T00:00:00\",\"2008-03-01T00:00:00\",\"2008-04-01T00:00:00\",\"2008-05-01T00:00:00\",\"2008-06-01T00:00:00\",\"2008-07-01T00:00:00\",\"2008-08-01T00:00:00\",\"2008-09-01T00:00:00\",\"2008-10-01T00:00:00\",\"2008-11-01T00:00:00\",\"2008-12-01T00:00:00\",\"2009-01-01T00:00:00\",\"2009-02-01T00:00:00\",\"2009-03-01T00:00:00\",\"2009-04-01T00:00:00\",\"2009-05-01T00:00:00\",\"2009-06-01T00:00:00\",\"2009-07-01T00:00:00\",\"2009-08-01T00:00:00\",\"2009-09-01T00:00:00\",\"2009-10-01T00:00:00\",\"2009-11-01T00:00:00\",\"2009-12-01T00:00:00\",\"2010-01-01T00:00:00\",\"2010-02-01T00:00:00\",\"2010-03-01T00:00:00\",\"2010-04-01T00:00:00\",\"2010-05-01T00:00:00\",\"2010-06-01T00:00:00\",\"2010-07-01T00:00:00\",\"2010-08-01T00:00:00\",\"2010-09-01T00:00:00\",\"2010-10-01T00:00:00\",\"2010-11-01T00:00:00\",\"2010-12-01T00:00:00\",\"2011-01-01T00:00:00\",\"2011-02-01T00:00:00\",\"2011-03-01T00:00:00\",\"2011-04-01T00:00:00\",\"2011-05-01T00:00:00\",\"2011-06-01T00:00:00\",\"2011-07-01T00:00:00\",\"2011-08-01T00:00:00\",\"2011-09-01T00:00:00\",\"2011-10-01T00:00:00\",\"2011-11-01T00:00:00\",\"2011-12-01T00:00:00\",\"2012-01-01T00:00:00\",\"2012-02-01T00:00:00\",\"2012-03-01T00:00:00\",\"2012-04-01T00:00:00\",\"2012-05-01T00:00:00\",\"2012-06-01T00:00:00\",\"2012-07-01T00:00:00\",\"2012-08-01T00:00:00\",\"2012-09-01T00:00:00\",\"2012-10-01T00:00:00\",\"2012-11-01T00:00:00\",\"2012-12-01T00:00:00\",\"2013-01-01T00:00:00\",\"2013-02-01T00:00:00\",\"2013-03-01T00:00:00\",\"2013-04-01T00:00:00\",\"2013-05-01T00:00:00\",\"2013-06-01T00:00:00\",\"2013-07-01T00:00:00\",\"2013-08-01T00:00:00\",\"2013-09-01T00:00:00\",\"2013-10-01T00:00:00\",\"2013-11-01T00:00:00\",\"2013-12-01T00:00:00\",\"2014-01-01T00:00:00\",\"2014-02-01T00:00:00\",\"2014-03-01T00:00:00\",\"2014-04-01T00:00:00\",\"2014-05-01T00:00:00\",\"2014-06-01T00:00:00\",\"2014-07-01T00:00:00\",\"2014-08-01T00:00:00\",\"2014-09-01T00:00:00\",\"2014-10-01T00:00:00\",\"2014-11-01T00:00:00\",\"2014-12-01T00:00:00\",\"2015-01-01T00:00:00\",\"2015-02-01T00:00:00\",\"2015-03-01T00:00:00\",\"2015-04-01T00:00:00\",\"2015-05-01T00:00:00\",\"2015-06-01T00:00:00\",\"2015-07-01T00:00:00\",\"2015-08-01T00:00:00\",\"2015-09-01T00:00:00\",\"2015-10-01T00:00:00\",\"2015-11-01T00:00:00\",\"2015-12-01T00:00:00\",\"2016-01-01T00:00:00\",\"2016-02-01T00:00:00\",\"2016-03-01T00:00:00\",\"2016-04-01T00:00:00\",\"2016-05-01T00:00:00\",\"2016-06-01T00:00:00\",\"2016-07-01T00:00:00\",\"2016-08-01T00:00:00\",\"2016-09-01T00:00:00\",\"2016-10-01T00:00:00\",\"2016-11-01T00:00:00\",\"2016-12-01T00:00:00\",\"2017-01-01T00:00:00\",\"2017-02-01T00:00:00\",\"2017-03-01T00:00:00\",\"2017-04-01T00:00:00\",\"2017-05-01T00:00:00\",\"2017-06-01T00:00:00\",\"2017-07-01T00:00:00\",\"2017-08-01T00:00:00\",\"2017-09-01T00:00:00\",\"2017-10-01T00:00:00\",\"2017-11-01T00:00:00\",\"2017-12-01T00:00:00\",\"2018-01-01T00:00:00\",\"2018-02-01T00:00:00\",\"2018-03-01T00:00:00\",\"2018-04-01T00:00:00\",\"2018-05-01T00:00:00\",\"2018-06-01T00:00:00\",\"2018-07-01T00:00:00\",\"2018-08-01T00:00:00\",\"2018-09-01T00:00:00\",\"2018-10-01T00:00:00\",\"2018-11-01T00:00:00\",\"2018-12-01T00:00:00\",\"2019-01-01T00:00:00\",\"2019-02-01T00:00:00\",\"2019-03-01T00:00:00\",\"2019-04-01T00:00:00\",\"2019-05-01T00:00:00\",\"2019-06-01T00:00:00\",\"2019-07-01T00:00:00\",\"2019-08-01T00:00:00\",\"2019-09-01T00:00:00\",\"2019-10-01T00:00:00\",\"2019-11-01T00:00:00\",\"2019-12-01T00:00:00\",\"2020-01-01T00:00:00\",\"2020-02-01T00:00:00\",\"2020-03-01T00:00:00\",\"2020-04-01T00:00:00\",\"2020-05-01T00:00:00\",\"2020-06-01T00:00:00\",\"2020-07-01T00:00:00\",\"2020-08-01T00:00:00\",\"2020-09-01T00:00:00\",\"2020-10-01T00:00:00\",\"2020-11-01T00:00:00\",\"2020-12-01T00:00:00\",\"2021-01-01T00:00:00\",\"2021-02-01T00:00:00\",\"2021-03-01T00:00:00\",\"2021-04-01T00:00:00\",\"2021-05-01T00:00:00\",\"2021-06-01T00:00:00\",\"2021-07-01T00:00:00\",\"2021-08-01T00:00:00\",\"2021-09-01T00:00:00\",\"2021-10-01T00:00:00\",\"2021-11-01T00:00:00\",\"2021-12-01T00:00:00\",\"2022-01-01T00:00:00\",\"2022-02-01T00:00:00\",\"2022-03-01T00:00:00\",\"2022-04-01T00:00:00\",\"2022-05-01T00:00:00\",\"2022-06-01T00:00:00\",\"2022-07-01T00:00:00\",\"2022-08-01T00:00:00\",\"2022-09-01T00:00:00\",\"2022-10-01T00:00:00\",\"2022-11-01T00:00:00\",\"2022-12-01T00:00:00\",\"2023-01-01T00:00:00\",\"2023-02-01T00:00:00\",\"2023-03-01T00:00:00\",\"2023-04-01T00:00:00\",\"2023-05-01T00:00:00\",\"2023-06-01T00:00:00\",\"2023-07-01T00:00:00\",\"2023-08-01T00:00:00\",\"2023-09-01T00:00:00\",\"2023-10-01T00:00:00\",\"2023-11-01T00:00:00\",\"2023-12-01T00:00:00\",\"2024-01-01T00:00:00\",\"2024-02-01T00:00:00\",\"2024-03-01T00:00:00\",\"2024-04-01T00:00:00\",\"2024-05-01T00:00:00\",\"2024-06-01T00:00:00\",\"2024-07-01T00:00:00\",\"2024-08-01T00:00:00\"],\"xaxis\":\"x\",\"y\":[-0.6413049930065919,-0.6357404360327894,-0.6307143845725804,-0.6251498275987779,-0.6197647724628397,-0.6142002154890371,-0.6088151603530991,-0.6032506033792964,-0.5976860464054936,-0.5923009912695556,-0.5867364342957531,-0.5813513791598148,-0.5757868221860123,-0.5702222652122095,-0.5651962137520008,-0.559631656778198,-0.55424660164226,-0.5486820446684573,-0.5432969895325193,-0.5377324325587165,-0.532167875584914,-0.526782820448976,-0.5212182634751732,-0.5158332083392352,-0.5102686513654324,-0.5047040943916299,-0.4994985410935564,-0.49393398411975364,-0.48854892898381563,-0.4829843720100129,-0.47759931687407486,-0.4720347599002723,-0.46647020292646957,-0.46108514779053156,-0.4555205908167288,-0.4501355356807908,-0.44457097870698803,-0.4390064217331855,-0.43398037027297653,-0.428415813299174,-0.42303075816323576,-0.41746620118943323,-0.4120811460534952,-0.40651658907969246,-0.4009520321058897,-0.3955669769699517,-0.39000241999614915,-0.3846173648602109,-0.3790528078864084,-0.3734882509126056,-0.3684621994523969,-0.36289764247859413,-0.3575125873426561,-0.35194803036885336,-0.34656297523291535,-0.3409984182591126,-0.33543386128531005,-0.33004880614937204,-0.3244842491755693,-0.3190991940396313,-0.3135346370658285,-0.307970080092026,-0.302944028631817,-0.2973794716580145,-0.29199441652207625,-0.2864298595482737,-0.2810448044123355,-0.27548024743853294,-0.2699156904647302,-0.2645306353287922,-0.2589660783549894,-0.2535810232190514,-0.24801646624524887,-0.2424519092714461,-0.23724635597337262,-0.2316817989995701,-0.22629674386363186,-0.22073218688982932,-0.2153471317538913,-0.20978257478008855,-0.2042180178062858,-0.19883296267034778,-0.19326840569654524,-0.187883350560607,-0.18231879358680447,-0.17675423661300171,-0.17172818515279298,-0.16616362817899022,-0.1607785730430522,-0.15521401606924945,-0.14982896093331144,-0.14426440395950868,-0.13869984698570614,-0.13331479184976813,-0.12775023487596537,-0.12236517974002736,-0.1168006227662246,-0.11123606579242207,-0.10621001433221311,-0.10064545735841057,-0.09526040222247234,-0.0896958452486698,-0.08431079011273157,-0.07874623313892903,-0.07318167616512627,-0.06779662102918826,-0.06223206405538573,-0.056847008919447495,-0.05128245194564496,-0.0457178949718422,-0.04069184351163346,-0.035127286537830704,-0.029742231401892694,-0.024177674428089935,-0.018792619292151924,-0.013228062318349165,-0.007663505344546628,-0.002278450208608618,0.003286106765194141,0.008671161901132152,0.01423571887493491,0.019800275848737448,0.02500582914681093,0.03057038612061369,0.0359554412565517,0.04151999823035446,0.04690505336629247,0.05246961034009523,0.05803416731389799,0.063419222449836,0.06898377942363831,0.07436883455957677,0.07993339153337908,0.08549794850718184,0.0905239999673908,0.09608855694119356,0.10147361207713157,0.10703816905093433,0.11242322418687234,0.1179877811606751,0.12355233813447741,0.12893739327041542,0.13450195024421818,0.1398870053801562,0.14545156235395895,0.1510161193277617,0.15604217078797067,0.16160672776177343,0.16699178289771144,0.17255633987151375,0.1779413950074522,0.18350595198125452,0.18907050895505728,0.1944555640909953,0.20002012106479805,0.20540517620073606,0.21096973317453882,0.21653429014834158,0.2215603416085501,0.22712489858235285,0.23250995371829086,0.23807451069209362,0.24345956582803163,0.2490241228018344,0.25458867977563715,0.25997373491157516,0.2655382918853779,0.27092334702131593,0.2764879039951187,0.282052460968921,0.2872580142669947,0.29282257124079747,0.2982076263767355,0.30377218335053824,0.30915723848647625,0.314721795460279,0.3202863524340813,0.32567140757001933,0.3312359645438221,0.3366210196797601,0.34218557665356286,0.3477501336273656,0.3527761850875746,0.35834074206137734,0.36372579719731535,0.36929035417111766,0.3746754093070561,0.38023996628085843,0.3858045232546612,0.3911895783905992,0.39675413536440196,0.40213919050033997,0.40770374747414273,0.4132683044479455,0.418294355908154,0.42385891288195676,0.4292439680178948,0.43480852499169753,0.44019358012763554,0.4457581371014383,0.45132269407524106,0.45670774921117907,0.46227230618498183,0.46765736132091984,0.4732219182947226,0.4787864752685249,0.48381252672873387,0.48937708370253663,0.49476213883847464,0.5003266958122774,0.5057117509482154,0.5112763079220182,0.5168408648958209,0.5222259200317589,0.5277904770055617,0.5331755321414997,0.538740089115302,0.5443046460891048,0.5495101993871785,0.5550747563609808,0.5604598114969193,0.5660243684707216,0.57140942360666,0.5769739805804623,0.5825385375542651,0.5879235926902031,0.5934881496640059,0.5988732047999439,0.6044377617737466,0.6100023187475494,0.6150283702077579,0.6205929271815607,0.6259779823174987,0.6315425392913014,0.6369275944272395,0.6424921514010422,0.648056708374845,0.653441763510783,0.6590063204845857,0.6643913756205237,0.6699559325943265,0.6755204895681288,0.6805465410283378,0.6861110980021405,0.6914961531380786,0.6970607101118813,0.7024457652478193,0.7080103222216221,0.7135748791954248,0.7189599343313628,0.7245244913051656,0.7299095464411036,0.7354741034149059,0.7410386603887087,0.7460647118489176,0.7516292688227204,0.7570143239586584,0.7625788809324612,0.7679639360683992,0.773528493042202,0.7790930500160043,0.7844781051519427,0.790042662125745,0.795427717261683,0.8009922742354858,0.8065568312092886,0.8117623845073618,0.8173269414811646,0.8227119966171026,0.8282765535909054,0.8336616087268434,0.8392261657006461,0.8447907226744489,0.8501757778103869,0.8557403347841896,0.8611253899201277,0.8666899468939304,0.8722545038677327,0.8772805553279417,0.8828451123017445,0.8882301674376825,0.8937947244114852,0.8991797795474232,0.904744336521226,0.9103088934950287,0.9156939486309668,0.9212585056047695,0.9266435607407075,0.9322081177145098,0.9377726746883126,0.9427987261485216,0.9483632831223243,0.9537483382582623,0.9593128952320651,0.9646979503680031,0.9702625073418059,0.9758270643156082,0.9812121194515466,0.9867766764253489,0.992161731561287,0.9977262885350897,1.0032908455088925,1.0083168969691014,1.0138814539429042,1.0192665090788422,1.0248310660526445,1.030216121188583,1.0357806781623853,1.041345235136188,1.046730290272126,1.0522948472459288,1.0576799023818668,1.0632444593556696,1.0688090163294723,1.0740145696275456,1.0795791266013484,1.0849641817372864,1.0905287387110891,1.0959137938470271,1.10147835082083,1.1070429077946327,1.1124279629305707,1.1179925199043734,1.1233775750403114,1.1289421320141138,1.1345066889879165,1.1395327404481255,1.1450972974219282,1.1504823525578662,1.156046909531669,1.161431964667607,1.1669965216414098,1.172561078615212,1.1779461337511505,1.1835106907249529,1.1888957458608909,1.1944603028346936,1.2000248598084964,1.2050509112687053,1.210615468242508,1.216000523378446,1.2215650803522484,1.2269501354881869,1.2325146924619892,1.238079249435792,1.24346430457173,1.2490288615455327,1.2544139166814707,1.2599784736552735,1.2655430306290762,1.2705690820892852,1.2761336390630875,1.2815186941990255,1.2870832511728283,1.2924683063087663,1.298032863282569,1.3035974202563718,1.3089824753923098,1.3145470323661126,1.3199320875020506,1.3254966444758534,1.3310612014496561,1.3362667547477294,1.3418313117215321,1.3472163668574701,1.352780923831273,1.358165978967211,1.3637305359410137,1.369295092914816,1.3746801480507544,1.3802447050245568,1.3856297601604948,1.3911943171342975,1.3967588741081003,1.4017849255683092,1.407349482542112,1.41273453767805,1.4182990946518523,1.4236841497877908,1.429248706761593,1.4348132637353959,1.4401983188713339,1.4457628758451366,1.4511479309810746,1.4567124879548774,1.4622770449286802,1.4673030963888891,1.4728676533626914,1.4782527084986294,1.4838172654724322,1.4892023206083702,1.494766877582173,1.5003314345559757,1.5057164896919137,1.5112810466657165,1.5166661018016545,1.5222306587754573,1.52779521574926,1.5328212672094685,1.5383858241832713,1.5437708793192093,1.549335436293012,1.55472049142895,1.5602850484027528,1.5658496053765556,1.5712346605124936,1.5767992174862964,1.5821842726222344,1.5877488295960371,1.5933133865698395,1.5985189398679132,1.604083496841716,1.609468551977654,1.6150331089514562,1.6204181640873947,1.625982721061197],\"yaxis\":\"y\",\"type\":\"scatter\"}],                        {\"template\":{\"data\":{\"histogram2dcontour\":[{\"type\":\"histogram2dcontour\",\"colorbar\":{\"outlinewidth\":0,\"ticks\":\"\"},\"colorscale\":[[0.0,\"#0d0887\"],[0.1111111111111111,\"#46039f\"],[0.2222222222222222,\"#7201a8\"],[0.3333333333333333,\"#9c179e\"],[0.4444444444444444,\"#bd3786\"],[0.5555555555555556,\"#d8576b\"],[0.6666666666666666,\"#ed7953\"],[0.7777777777777778,\"#fb9f3a\"],[0.8888888888888888,\"#fdca26\"],[1.0,\"#f0f921\"]]}],\"choropleth\":[{\"type\":\"choropleth\",\"colorbar\":{\"outlinewidth\":0,\"ticks\":\"\"}}],\"histogram2d\":[{\"type\":\"histogram2d\",\"colorbar\":{\"outlinewidth\":0,\"ticks\":\"\"},\"colorscale\":[[0.0,\"#0d0887\"],[0.1111111111111111,\"#46039f\"],[0.2222222222222222,\"#7201a8\"],[0.3333333333333333,\"#9c179e\"],[0.4444444444444444,\"#bd3786\"],[0.5555555555555556,\"#d8576b\"],[0.6666666666666666,\"#ed7953\"],[0.7777777777777778,\"#fb9f3a\"],[0.8888888888888888,\"#fdca26\"],[1.0,\"#f0f921\"]]}],\"heatmap\":[{\"type\":\"heatmap\",\"colorbar\":{\"outlinewidth\":0,\"ticks\":\"\"},\"colorscale\":[[0.0,\"#0d0887\"],[0.1111111111111111,\"#46039f\"],[0.2222222222222222,\"#7201a8\"],[0.3333333333333333,\"#9c179e\"],[0.4444444444444444,\"#bd3786\"],[0.5555555555555556,\"#d8576b\"],[0.6666666666666666,\"#ed7953\"],[0.7777777777777778,\"#fb9f3a\"],[0.8888888888888888,\"#fdca26\"],[1.0,\"#f0f921\"]]}],\"heatmapgl\":[{\"type\":\"heatmapgl\",\"colorbar\":{\"outlinewidth\":0,\"ticks\":\"\"},\"colorscale\":[[0.0,\"#0d0887\"],[0.1111111111111111,\"#46039f\"],[0.2222222222222222,\"#7201a8\"],[0.3333333333333333,\"#9c179e\"],[0.4444444444444444,\"#bd3786\"],[0.5555555555555556,\"#d8576b\"],[0.6666666666666666,\"#ed7953\"],[0.7777777777777778,\"#fb9f3a\"],[0.8888888888888888,\"#fdca26\"],[1.0,\"#f0f921\"]]}],\"contourcarpet\":[{\"type\":\"contourcarpet\",\"colorbar\":{\"outlinewidth\":0,\"ticks\":\"\"}}],\"contour\":[{\"type\":\"contour\",\"colorbar\":{\"outlinewidth\":0,\"ticks\":\"\"},\"colorscale\":[[0.0,\"#0d0887\"],[0.1111111111111111,\"#46039f\"],[0.2222222222222222,\"#7201a8\"],[0.3333333333333333,\"#9c179e\"],[0.4444444444444444,\"#bd3786\"],[0.5555555555555556,\"#d8576b\"],[0.6666666666666666,\"#ed7953\"],[0.7777777777777778,\"#fb9f3a\"],[0.8888888888888888,\"#fdca26\"],[1.0,\"#f0f921\"]]}],\"surface\":[{\"type\":\"surface\",\"colorbar\":{\"outlinewidth\":0,\"ticks\":\"\"},\"colorscale\":[[0.0,\"#0d0887\"],[0.1111111111111111,\"#46039f\"],[0.2222222222222222,\"#7201a8\"],[0.3333333333333333,\"#9c179e\"],[0.4444444444444444,\"#bd3786\"],[0.5555555555555556,\"#d8576b\"],[0.6666666666666666,\"#ed7953\"],[0.7777777777777778,\"#fb9f3a\"],[0.8888888888888888,\"#fdca26\"],[1.0,\"#f0f921\"]]}],\"mesh3d\":[{\"type\":\"mesh3d\",\"colorbar\":{\"outlinewidth\":0,\"ticks\":\"\"}}],\"scatter\":[{\"fillpattern\":{\"fillmode\":\"overlay\",\"size\":10,\"solidity\":0.2},\"type\":\"scatter\"}],\"parcoords\":[{\"type\":\"parcoords\",\"line\":{\"colorbar\":{\"outlinewidth\":0,\"ticks\":\"\"}}}],\"scatterpolargl\":[{\"type\":\"scatterpolargl\",\"marker\":{\"colorbar\":{\"outlinewidth\":0,\"ticks\":\"\"}}}],\"bar\":[{\"error_x\":{\"color\":\"#2a3f5f\"},\"error_y\":{\"color\":\"#2a3f5f\"},\"marker\":{\"line\":{\"color\":\"#E5ECF6\",\"width\":0.5},\"pattern\":{\"fillmode\":\"overlay\",\"size\":10,\"solidity\":0.2}},\"type\":\"bar\"}],\"scattergeo\":[{\"type\":\"scattergeo\",\"marker\":{\"colorbar\":{\"outlinewidth\":0,\"ticks\":\"\"}}}],\"scatterpolar\":[{\"type\":\"scatterpolar\",\"marker\":{\"colorbar\":{\"outlinewidth\":0,\"ticks\":\"\"}}}],\"histogram\":[{\"marker\":{\"pattern\":{\"fillmode\":\"overlay\",\"size\":10,\"solidity\":0.2}},\"type\":\"histogram\"}],\"scattergl\":[{\"type\":\"scattergl\",\"marker\":{\"colorbar\":{\"outlinewidth\":0,\"ticks\":\"\"}}}],\"scatter3d\":[{\"type\":\"scatter3d\",\"line\":{\"colorbar\":{\"outlinewidth\":0,\"ticks\":\"\"}},\"marker\":{\"colorbar\":{\"outlinewidth\":0,\"ticks\":\"\"}}}],\"scattermapbox\":[{\"type\":\"scattermapbox\",\"marker\":{\"colorbar\":{\"outlinewidth\":0,\"ticks\":\"\"}}}],\"scatterternary\":[{\"type\":\"scatterternary\",\"marker\":{\"colorbar\":{\"outlinewidth\":0,\"ticks\":\"\"}}}],\"scattercarpet\":[{\"type\":\"scattercarpet\",\"marker\":{\"colorbar\":{\"outlinewidth\":0,\"ticks\":\"\"}}}],\"carpet\":[{\"aaxis\":{\"endlinecolor\":\"#2a3f5f\",\"gridcolor\":\"white\",\"linecolor\":\"white\",\"minorgridcolor\":\"white\",\"startlinecolor\":\"#2a3f5f\"},\"baxis\":{\"endlinecolor\":\"#2a3f5f\",\"gridcolor\":\"white\",\"linecolor\":\"white\",\"minorgridcolor\":\"white\",\"startlinecolor\":\"#2a3f5f\"},\"type\":\"carpet\"}],\"table\":[{\"cells\":{\"fill\":{\"color\":\"#EBF0F8\"},\"line\":{\"color\":\"white\"}},\"header\":{\"fill\":{\"color\":\"#C8D4E3\"},\"line\":{\"color\":\"white\"}},\"type\":\"table\"}],\"barpolar\":[{\"marker\":{\"line\":{\"color\":\"#E5ECF6\",\"width\":0.5},\"pattern\":{\"fillmode\":\"overlay\",\"size\":10,\"solidity\":0.2}},\"type\":\"barpolar\"}],\"pie\":[{\"automargin\":true,\"type\":\"pie\"}]},\"layout\":{\"autotypenumbers\":\"strict\",\"colorway\":[\"#636efa\",\"#EF553B\",\"#00cc96\",\"#ab63fa\",\"#FFA15A\",\"#19d3f3\",\"#FF6692\",\"#B6E880\",\"#FF97FF\",\"#FECB52\"],\"font\":{\"color\":\"#2a3f5f\"},\"hovermode\":\"closest\",\"hoverlabel\":{\"align\":\"left\"},\"paper_bgcolor\":\"white\",\"plot_bgcolor\":\"#E5ECF6\",\"polar\":{\"bgcolor\":\"#E5ECF6\",\"angularaxis\":{\"gridcolor\":\"white\",\"linecolor\":\"white\",\"ticks\":\"\"},\"radialaxis\":{\"gridcolor\":\"white\",\"linecolor\":\"white\",\"ticks\":\"\"}},\"ternary\":{\"bgcolor\":\"#E5ECF6\",\"aaxis\":{\"gridcolor\":\"white\",\"linecolor\":\"white\",\"ticks\":\"\"},\"baxis\":{\"gridcolor\":\"white\",\"linecolor\":\"white\",\"ticks\":\"\"},\"caxis\":{\"gridcolor\":\"white\",\"linecolor\":\"white\",\"ticks\":\"\"}},\"coloraxis\":{\"colorbar\":{\"outlinewidth\":0,\"ticks\":\"\"}},\"colorscale\":{\"sequential\":[[0.0,\"#0d0887\"],[0.1111111111111111,\"#46039f\"],[0.2222222222222222,\"#7201a8\"],[0.3333333333333333,\"#9c179e\"],[0.4444444444444444,\"#bd3786\"],[0.5555555555555556,\"#d8576b\"],[0.6666666666666666,\"#ed7953\"],[0.7777777777777778,\"#fb9f3a\"],[0.8888888888888888,\"#fdca26\"],[1.0,\"#f0f921\"]],\"sequentialminus\":[[0.0,\"#0d0887\"],[0.1111111111111111,\"#46039f\"],[0.2222222222222222,\"#7201a8\"],[0.3333333333333333,\"#9c179e\"],[0.4444444444444444,\"#bd3786\"],[0.5555555555555556,\"#d8576b\"],[0.6666666666666666,\"#ed7953\"],[0.7777777777777778,\"#fb9f3a\"],[0.8888888888888888,\"#fdca26\"],[1.0,\"#f0f921\"]],\"diverging\":[[0,\"#8e0152\"],[0.1,\"#c51b7d\"],[0.2,\"#de77ae\"],[0.3,\"#f1b6da\"],[0.4,\"#fde0ef\"],[0.5,\"#f7f7f7\"],[0.6,\"#e6f5d0\"],[0.7,\"#b8e186\"],[0.8,\"#7fbc41\"],[0.9,\"#4d9221\"],[1,\"#276419\"]]},\"xaxis\":{\"gridcolor\":\"white\",\"linecolor\":\"white\",\"ticks\":\"\",\"title\":{\"standoff\":15},\"zerolinecolor\":\"white\",\"automargin\":true,\"zerolinewidth\":2},\"yaxis\":{\"gridcolor\":\"white\",\"linecolor\":\"white\",\"ticks\":\"\",\"title\":{\"standoff\":15},\"zerolinecolor\":\"white\",\"automargin\":true,\"zerolinewidth\":2},\"scene\":{\"xaxis\":{\"backgroundcolor\":\"#E5ECF6\",\"gridcolor\":\"white\",\"linecolor\":\"white\",\"showbackground\":true,\"ticks\":\"\",\"zerolinecolor\":\"white\",\"gridwidth\":2},\"yaxis\":{\"backgroundcolor\":\"#E5ECF6\",\"gridcolor\":\"white\",\"linecolor\":\"white\",\"showbackground\":true,\"ticks\":\"\",\"zerolinecolor\":\"white\",\"gridwidth\":2},\"zaxis\":{\"backgroundcolor\":\"#E5ECF6\",\"gridcolor\":\"white\",\"linecolor\":\"white\",\"showbackground\":true,\"ticks\":\"\",\"zerolinecolor\":\"white\",\"gridwidth\":2}},\"shapedefaults\":{\"line\":{\"color\":\"#2a3f5f\"}},\"annotationdefaults\":{\"arrowcolor\":\"#2a3f5f\",\"arrowhead\":0,\"arrowwidth\":1},\"geo\":{\"bgcolor\":\"white\",\"landcolor\":\"#E5ECF6\",\"subunitcolor\":\"white\",\"showland\":true,\"showlakes\":true,\"lakecolor\":\"white\"},\"title\":{\"x\":0.05},\"mapbox\":{\"style\":\"light\"}}},\"xaxis\":{\"anchor\":\"y\",\"domain\":[0.0,1.0],\"title\":{\"text\":\"date\"}},\"yaxis\":{\"anchor\":\"x\",\"domain\":[0.0,1.0],\"title\":{\"text\":\"t2m_delta\"}},\"legend\":{\"tracegroupgap\":0},\"title\":{\"text\":\"t2m_delta over Time for Longitude 7.5 and Latitude 46.0\"}},                        {\"responsive\": true}                    ).then(function(){\n",
       "                            \n",
       "var gd = document.getElementById('a998fc70-5fe3-456e-8e09-984f3b35022e');\n",
       "var x = new MutationObserver(function (mutations, observer) {{\n",
       "        var display = window.getComputedStyle(gd).display;\n",
       "        if (!display || display === 'none') {{\n",
       "            console.log([gd, 'removed!']);\n",
       "            Plotly.purge(gd);\n",
       "            observer.disconnect();\n",
       "        }}\n",
       "}});\n",
       "\n",
       "// Listen for the removal of the full notebook cells\n",
       "var notebookContainer = gd.closest('#notebook-container');\n",
       "if (notebookContainer) {{\n",
       "    x.observe(notebookContainer, {childList: true});\n",
       "}}\n",
       "\n",
       "// Listen for the clearing of the current output cell\n",
       "var outputEl = gd.closest('.output');\n",
       "if (outputEl) {{\n",
       "    x.observe(outputEl, {childList: true});\n",
       "}}\n",
       "\n",
       "                        })                };                });            </script>        </div>"
      ]
     },
     "metadata": {},
     "output_type": "display_data"
    }
   ],
   "source": [
    "# Create the plot with a trendline\n",
    "fig = px.scatter(filtered_df, x='date', y='t2m_delta', trendline='ols', title='t2m_delta over Time for Longitude 7.5 and Latitude 46.0')\n",
    "\n",
    "# Convert scatter plot to line plot\n",
    "fig.update_traces(mode='lines+markers')\n",
    "\n",
    "fig.show()"
   ]
  },
  {
   "cell_type": "code",
   "execution_count": 38,
   "metadata": {},
   "outputs": [
    {
     "data": {
      "text/html": [
       "<div style=\"width:100%;\"><div style=\"position:relative;width:100%;height:0;padding-bottom:60%;\"><span style=\"color:#565656\">Make this Notebook Trusted to load map: File -> Trust Notebook</span><iframe srcdoc=\"&lt;!DOCTYPE html&gt;\n",
       "&lt;html&gt;\n",
       "&lt;head&gt;\n",
       "    \n",
       "    &lt;meta http-equiv=&quot;content-type&quot; content=&quot;text/html; charset=UTF-8&quot; /&gt;\n",
       "    \n",
       "        &lt;script&gt;\n",
       "            L_NO_TOUCH = false;\n",
       "            L_DISABLE_3D = false;\n",
       "        &lt;/script&gt;\n",
       "    \n",
       "    &lt;style&gt;html, body {width: 100%;height: 100%;margin: 0;padding: 0;}&lt;/style&gt;\n",
       "    &lt;style&gt;#map {position:absolute;top:0;bottom:0;right:0;left:0;}&lt;/style&gt;\n",
       "    &lt;script src=&quot;https://cdn.jsdelivr.net/npm/leaflet@1.9.3/dist/leaflet.js&quot;&gt;&lt;/script&gt;\n",
       "    &lt;script src=&quot;https://code.jquery.com/jquery-3.7.1.min.js&quot;&gt;&lt;/script&gt;\n",
       "    &lt;script src=&quot;https://cdn.jsdelivr.net/npm/bootstrap@5.2.2/dist/js/bootstrap.bundle.min.js&quot;&gt;&lt;/script&gt;\n",
       "    &lt;script src=&quot;https://cdnjs.cloudflare.com/ajax/libs/Leaflet.awesome-markers/2.0.2/leaflet.awesome-markers.js&quot;&gt;&lt;/script&gt;\n",
       "    &lt;link rel=&quot;stylesheet&quot; href=&quot;https://cdn.jsdelivr.net/npm/leaflet@1.9.3/dist/leaflet.css&quot;/&gt;\n",
       "    &lt;link rel=&quot;stylesheet&quot; href=&quot;https://cdn.jsdelivr.net/npm/bootstrap@5.2.2/dist/css/bootstrap.min.css&quot;/&gt;\n",
       "    &lt;link rel=&quot;stylesheet&quot; href=&quot;https://netdna.bootstrapcdn.com/bootstrap/3.0.0/css/bootstrap.min.css&quot;/&gt;\n",
       "    &lt;link rel=&quot;stylesheet&quot; href=&quot;https://cdn.jsdelivr.net/npm/@fortawesome/fontawesome-free@6.2.0/css/all.min.css&quot;/&gt;\n",
       "    &lt;link rel=&quot;stylesheet&quot; href=&quot;https://cdnjs.cloudflare.com/ajax/libs/Leaflet.awesome-markers/2.0.2/leaflet.awesome-markers.css&quot;/&gt;\n",
       "    &lt;link rel=&quot;stylesheet&quot; href=&quot;https://cdn.jsdelivr.net/gh/python-visualization/folium/folium/templates/leaflet.awesome.rotate.min.css&quot;/&gt;\n",
       "    \n",
       "            &lt;meta name=&quot;viewport&quot; content=&quot;width=device-width,\n",
       "                initial-scale=1.0, maximum-scale=1.0, user-scalable=no&quot; /&gt;\n",
       "            &lt;style&gt;\n",
       "                #map_557f9a923910fb596e1854e3afba6c01 {\n",
       "                    position: relative;\n",
       "                    width: 100.0%;\n",
       "                    height: 100.0%;\n",
       "                    left: 0.0%;\n",
       "                    top: 0.0%;\n",
       "                }\n",
       "                .leaflet-container { font-size: 1rem; }\n",
       "            &lt;/style&gt;\n",
       "        \n",
       "&lt;/head&gt;\n",
       "&lt;body&gt;\n",
       "    \n",
       "    \n",
       "            &lt;div class=&quot;folium-map&quot; id=&quot;map_557f9a923910fb596e1854e3afba6c01&quot; &gt;&lt;/div&gt;\n",
       "        \n",
       "&lt;/body&gt;\n",
       "&lt;script&gt;\n",
       "    \n",
       "    \n",
       "            var map_557f9a923910fb596e1854e3afba6c01 = L.map(\n",
       "                &quot;map_557f9a923910fb596e1854e3afba6c01&quot;,\n",
       "                {\n",
       "                    center: [46.0, 7.5],\n",
       "                    crs: L.CRS.EPSG3857,\n",
       "                    zoom: 10,\n",
       "                    zoomControl: true,\n",
       "                    preferCanvas: false,\n",
       "                }\n",
       "            );\n",
       "\n",
       "            \n",
       "\n",
       "        \n",
       "    \n",
       "            var tile_layer_90b46025e131f5d706e09637b5e0260f = L.tileLayer(\n",
       "                &quot;https://tile.openstreetmap.org/{z}/{x}/{y}.png&quot;,\n",
       "                {&quot;attribution&quot;: &quot;\\u0026copy; \\u003ca href=\\&quot;https://www.openstreetmap.org/copyright\\&quot;\\u003eOpenStreetMap\\u003c/a\\u003e contributors&quot;, &quot;detectRetina&quot;: false, &quot;maxNativeZoom&quot;: 19, &quot;maxZoom&quot;: 19, &quot;minZoom&quot;: 0, &quot;noWrap&quot;: false, &quot;opacity&quot;: 1, &quot;subdomains&quot;: &quot;abc&quot;, &quot;tms&quot;: false}\n",
       "            );\n",
       "        \n",
       "    \n",
       "            tile_layer_90b46025e131f5d706e09637b5e0260f.addTo(map_557f9a923910fb596e1854e3afba6c01);\n",
       "        \n",
       "    \n",
       "            var marker_b9f0dbb9cc00e6ec92405b1a2c0c8b5d = L.marker(\n",
       "                [46.0, 7.5],\n",
       "                {}\n",
       "            ).addTo(map_557f9a923910fb596e1854e3afba6c01);\n",
       "        \n",
       "    \n",
       "        var popup_06e35d260faaacd12dffe1e15944f1a9 = L.popup({&quot;maxWidth&quot;: &quot;100%&quot;});\n",
       "\n",
       "        \n",
       "            \n",
       "                var html_125a8b5e0e2ebba33f24a1ae813c6da7 = $(`&lt;div id=&quot;html_125a8b5e0e2ebba33f24a1ae813c6da7&quot; style=&quot;width: 100.0%; height: 100.0%;&quot;&gt;Location&lt;/div&gt;`)[0];\n",
       "                popup_06e35d260faaacd12dffe1e15944f1a9.setContent(html_125a8b5e0e2ebba33f24a1ae813c6da7);\n",
       "            \n",
       "        \n",
       "\n",
       "        marker_b9f0dbb9cc00e6ec92405b1a2c0c8b5d.bindPopup(popup_06e35d260faaacd12dffe1e15944f1a9)\n",
       "        ;\n",
       "\n",
       "        \n",
       "    \n",
       "    \n",
       "            tile_layer_90b46025e131f5d706e09637b5e0260f.addTo(map_557f9a923910fb596e1854e3afba6c01);\n",
       "        \n",
       "&lt;/script&gt;\n",
       "&lt;/html&gt;\" style=\"position:absolute;width:100%;height:100%;left:0;top:0;border:none !important;\" allowfullscreen webkitallowfullscreen mozallowfullscreen></iframe></div></div>"
      ],
      "text/plain": [
       "<folium.folium.Map at 0x7facbc5b79b0>"
      ]
     },
     "execution_count": 38,
     "metadata": {},
     "output_type": "execute_result"
    }
   ],
   "source": [
    "import folium\n",
    "\n",
    "# Coordinates\n",
    "latitude = 46.0\n",
    "longitude = 7.5\n",
    "\n",
    "# Create a map centered around the coordinates\n",
    "m = folium.Map(location=[latitude, longitude], zoom_start=10)\n",
    "\n",
    "# Add a marker to the map\n",
    "folium.Marker([latitude, longitude], popup='Location').add_to(m)\n",
    "\n",
    "# Save the map to an HTML file\n",
    "m.save('map.html')\n",
    "\n",
    "# Display the map\n",
    "m\n"
   ]
  },
  {
   "cell_type": "code",
   "execution_count": 92,
   "metadata": {},
   "outputs": [],
   "source": [
    "#The ERA5 data square we define includes some parts of bordering countries."
   ]
  },
  {
   "cell_type": "markdown",
   "metadata": {},
   "source": [
    "## Save processed weather data"
   ]
  },
  {
   "cell_type": "code",
   "execution_count": 93,
   "metadata": {},
   "outputs": [],
   "source": [
    "# save to parquet\n",
    "df.to_parquet(os.path.join(processed_data_folder_name, weather_filename))"
   ]
  },
  {
   "cell_type": "code",
   "execution_count": 94,
   "metadata": {},
   "outputs": [],
   "source": [
    "# Save the schema (data types) to a file\n",
    "df.dtypes.to_csv(os.path.join(processed_data_folder_name, weather_shema))"
   ]
  },
  {
   "cell_type": "markdown",
   "metadata": {},
   "source": [
    "## Test reloading"
   ]
  },
  {
   "cell_type": "code",
   "execution_count": 95,
   "metadata": {},
   "outputs": [],
   "source": [
    "# test reloading the dataframe from parquet\n",
    "import pandas as pd\n",
    "\n",
    "df_reloaded = pd.read_parquet(os.path.join(processed_data_folder_name, weather_filename))\n",
    "\n",
    "\n"
   ]
  },
  {
   "cell_type": "code",
   "execution_count": 96,
   "metadata": {},
   "outputs": [
    {
     "data": {
      "text/plain": [
       "'./../../data/processed/weather_shema.csv'"
      ]
     },
     "execution_count": 96,
     "metadata": {},
     "output_type": "execute_result"
    }
   ],
   "source": [
    "os.path.join(processed_data_folder_name, weather_shema)"
   ]
  },
  {
   "cell_type": "code",
   "execution_count": 97,
   "metadata": {},
   "outputs": [],
   "source": [
    "# Load the schema (data types) from the file\n",
    "schema = pd.read_csv(os.path.join(processed_data_folder_name, weather_shema), index_col=0).squeeze(\"columns\")"
   ]
  },
  {
   "cell_type": "code",
   "execution_count": 98,
   "metadata": {},
   "outputs": [],
   "source": [
    "# Apply the schema to the loaded dataframe\n",
    "df_reloaded = df_reloaded.astype(schema.to_dict())"
   ]
  },
  {
   "cell_type": "code",
   "execution_count": 99,
   "metadata": {},
   "outputs": [],
   "source": [
    "# Check if dtypes are the same\n",
    "assert df_reloaded.dtypes.equals(schema), \"Data types do not match!\""
   ]
  },
  {
   "cell_type": "code",
   "execution_count": 100,
   "metadata": {},
   "outputs": [
    {
     "data": {
      "text/html": [
       "<div>\n",
       "<style scoped>\n",
       "    .dataframe tbody tr th:only-of-type {\n",
       "        vertical-align: middle;\n",
       "    }\n",
       "\n",
       "    .dataframe tbody tr th {\n",
       "        vertical-align: top;\n",
       "    }\n",
       "\n",
       "    .dataframe thead th {\n",
       "        text-align: right;\n",
       "    }\n",
       "</style>\n",
       "<table border=\"1\" class=\"dataframe\">\n",
       "  <thead>\n",
       "    <tr style=\"text-align: right;\">\n",
       "      <th></th>\n",
       "      <th>date</th>\n",
       "      <th>latitude</th>\n",
       "      <th>longitude</th>\n",
       "      <th>u10</th>\n",
       "      <th>v10</th>\n",
       "      <th>t2m</th>\n",
       "      <th>sp</th>\n",
       "      <th>tp</th>\n",
       "      <th>e</th>\n",
       "      <th>sro</th>\n",
       "      <th>...</th>\n",
       "      <th>swvl2_delta</th>\n",
       "      <th>swvl2_z</th>\n",
       "      <th>cvh_ref</th>\n",
       "      <th>cvh_std</th>\n",
       "      <th>cvh_delta</th>\n",
       "      <th>cvh_z</th>\n",
       "      <th>cvl_ref</th>\n",
       "      <th>cvl_std</th>\n",
       "      <th>cvl_delta</th>\n",
       "      <th>cvl_z</th>\n",
       "    </tr>\n",
       "  </thead>\n",
       "  <tbody>\n",
       "    <tr>\n",
       "      <th>0</th>\n",
       "      <td>1990-01-01</td>\n",
       "      <td>52.0</td>\n",
       "      <td>-5.00</td>\n",
       "      <td>4.854118</td>\n",
       "      <td>5.280374</td>\n",
       "      <td>8.799219</td>\n",
       "      <td>100561.1875</td>\n",
       "      <td>0.004912</td>\n",
       "      <td>-0.001651</td>\n",
       "      <td>0.000077</td>\n",
       "      <td>...</td>\n",
       "      <td>0.004298</td>\n",
       "      <td>0.734757</td>\n",
       "      <td>0.000000</td>\n",
       "      <td>0.0</td>\n",
       "      <td>0.0</td>\n",
       "      <td>NaN</td>\n",
       "      <td>0.000000</td>\n",
       "      <td>0.0</td>\n",
       "      <td>0.0</td>\n",
       "      <td>NaN</td>\n",
       "    </tr>\n",
       "    <tr>\n",
       "      <th>1</th>\n",
       "      <td>1990-01-01</td>\n",
       "      <td>52.0</td>\n",
       "      <td>-4.75</td>\n",
       "      <td>4.120720</td>\n",
       "      <td>4.837014</td>\n",
       "      <td>8.308984</td>\n",
       "      <td>100306.1875</td>\n",
       "      <td>0.005552</td>\n",
       "      <td>-0.001413</td>\n",
       "      <td>0.000115</td>\n",
       "      <td>...</td>\n",
       "      <td>0.005095</td>\n",
       "      <td>0.924681</td>\n",
       "      <td>0.000000</td>\n",
       "      <td>0.0</td>\n",
       "      <td>0.0</td>\n",
       "      <td>NaN</td>\n",
       "      <td>0.000000</td>\n",
       "      <td>0.0</td>\n",
       "      <td>0.0</td>\n",
       "      <td>NaN</td>\n",
       "    </tr>\n",
       "    <tr>\n",
       "      <th>2</th>\n",
       "      <td>1990-01-01</td>\n",
       "      <td>52.0</td>\n",
       "      <td>-4.50</td>\n",
       "      <td>2.978630</td>\n",
       "      <td>3.999124</td>\n",
       "      <td>7.713281</td>\n",
       "      <td>99834.1875</td>\n",
       "      <td>0.005424</td>\n",
       "      <td>-0.000871</td>\n",
       "      <td>0.000253</td>\n",
       "      <td>...</td>\n",
       "      <td>0.010266</td>\n",
       "      <td>0.819139</td>\n",
       "      <td>0.444855</td>\n",
       "      <td>0.0</td>\n",
       "      <td>0.0</td>\n",
       "      <td>NaN</td>\n",
       "      <td>0.294592</td>\n",
       "      <td>0.0</td>\n",
       "      <td>0.0</td>\n",
       "      <td>NaN</td>\n",
       "    </tr>\n",
       "    <tr>\n",
       "      <th>3</th>\n",
       "      <td>1990-01-01</td>\n",
       "      <td>52.0</td>\n",
       "      <td>-4.25</td>\n",
       "      <td>2.781364</td>\n",
       "      <td>3.996194</td>\n",
       "      <td>7.287500</td>\n",
       "      <td>99420.1875</td>\n",
       "      <td>0.006426</td>\n",
       "      <td>-0.000815</td>\n",
       "      <td>0.000324</td>\n",
       "      <td>...</td>\n",
       "      <td>0.012148</td>\n",
       "      <td>0.903294</td>\n",
       "      <td>0.236176</td>\n",
       "      <td>0.0</td>\n",
       "      <td>0.0</td>\n",
       "      <td>NaN</td>\n",
       "      <td>0.737630</td>\n",
       "      <td>0.0</td>\n",
       "      <td>0.0</td>\n",
       "      <td>NaN</td>\n",
       "    </tr>\n",
       "    <tr>\n",
       "      <th>4</th>\n",
       "      <td>1990-01-01</td>\n",
       "      <td>52.0</td>\n",
       "      <td>-4.00</td>\n",
       "      <td>2.592888</td>\n",
       "      <td>3.729104</td>\n",
       "      <td>6.516016</td>\n",
       "      <td>98529.1875</td>\n",
       "      <td>0.007340</td>\n",
       "      <td>-0.000660</td>\n",
       "      <td>0.000378</td>\n",
       "      <td>...</td>\n",
       "      <td>0.014235</td>\n",
       "      <td>0.994208</td>\n",
       "      <td>0.440437</td>\n",
       "      <td>0.0</td>\n",
       "      <td>0.0</td>\n",
       "      <td>NaN</td>\n",
       "      <td>0.559563</td>\n",
       "      <td>0.0</td>\n",
       "      <td>0.0</td>\n",
       "      <td>NaN</td>\n",
       "    </tr>\n",
       "  </tbody>\n",
       "</table>\n",
       "<p>5 rows × 78 columns</p>\n",
       "</div>"
      ],
      "text/plain": [
       "        date  latitude  longitude       u10       v10       t2m           sp  \\\n",
       "0 1990-01-01      52.0      -5.00  4.854118  5.280374  8.799219  100561.1875   \n",
       "1 1990-01-01      52.0      -4.75  4.120720  4.837014  8.308984  100306.1875   \n",
       "2 1990-01-01      52.0      -4.50  2.978630  3.999124  7.713281   99834.1875   \n",
       "3 1990-01-01      52.0      -4.25  2.781364  3.996194  7.287500   99420.1875   \n",
       "4 1990-01-01      52.0      -4.00  2.592888  3.729104  6.516016   98529.1875   \n",
       "\n",
       "         tp         e       sro  ...  swvl2_delta   swvl2_z   cvh_ref cvh_std  \\\n",
       "0  0.004912 -0.001651  0.000077  ...     0.004298  0.734757  0.000000     0.0   \n",
       "1  0.005552 -0.001413  0.000115  ...     0.005095  0.924681  0.000000     0.0   \n",
       "2  0.005424 -0.000871  0.000253  ...     0.010266  0.819139  0.444855     0.0   \n",
       "3  0.006426 -0.000815  0.000324  ...     0.012148  0.903294  0.236176     0.0   \n",
       "4  0.007340 -0.000660  0.000378  ...     0.014235  0.994208  0.440437     0.0   \n",
       "\n",
       "   cvh_delta  cvh_z   cvl_ref  cvl_std cvl_delta cvl_z  \n",
       "0        0.0    NaN  0.000000      0.0       0.0   NaN  \n",
       "1        0.0    NaN  0.000000      0.0       0.0   NaN  \n",
       "2        0.0    NaN  0.294592      0.0       0.0   NaN  \n",
       "3        0.0    NaN  0.737630      0.0       0.0   NaN  \n",
       "4        0.0    NaN  0.559563      0.0       0.0   NaN  \n",
       "\n",
       "[5 rows x 78 columns]"
      ]
     },
     "execution_count": 100,
     "metadata": {},
     "output_type": "execute_result"
    }
   ],
   "source": [
    "df_reloaded.head()"
   ]
  },
  {
   "cell_type": "code",
   "execution_count": 101,
   "metadata": {},
   "outputs": [
    {
     "data": {
      "text/plain": [
       "True"
      ]
     },
     "execution_count": 101,
     "metadata": {},
     "output_type": "execute_result"
    }
   ],
   "source": [
    "df_reloaded.equals(df)"
   ]
  },
  {
   "cell_type": "code",
   "execution_count": 102,
   "metadata": {},
   "outputs": [
    {
     "name": "stderr",
     "output_type": "stream",
     "text": [
      "/opt/mamba/lib/python3.12/site-packages/pandas/core/nanops.py:1016: RuntimeWarning:\n",
      "\n",
      "invalid value encountered in subtract\n",
      "\n",
      "/opt/mamba/lib/python3.12/site-packages/pandas/core/nanops.py:1016: RuntimeWarning:\n",
      "\n",
      "invalid value encountered in subtract\n",
      "\n",
      "/opt/mamba/lib/python3.12/site-packages/numpy/core/_methods.py:49: RuntimeWarning:\n",
      "\n",
      "invalid value encountered in reduce\n",
      "\n",
      "/opt/mamba/lib/python3.12/site-packages/numpy/lib/function_base.py:4655: RuntimeWarning:\n",
      "\n",
      "invalid value encountered in subtract\n",
      "\n",
      "/opt/mamba/lib/python3.12/site-packages/numpy/core/_methods.py:49: RuntimeWarning:\n",
      "\n",
      "invalid value encountered in reduce\n",
      "\n",
      "/opt/mamba/lib/python3.12/site-packages/numpy/lib/function_base.py:4655: RuntimeWarning:\n",
      "\n",
      "invalid value encountered in subtract\n",
      "\n"
     ]
    },
    {
     "data": {
      "text/html": [
       "<div>\n",
       "<style scoped>\n",
       "    .dataframe tbody tr th:only-of-type {\n",
       "        vertical-align: middle;\n",
       "    }\n",
       "\n",
       "    .dataframe tbody tr th {\n",
       "        vertical-align: top;\n",
       "    }\n",
       "\n",
       "    .dataframe thead th {\n",
       "        text-align: right;\n",
       "    }\n",
       "</style>\n",
       "<table border=\"1\" class=\"dataframe\">\n",
       "  <thead>\n",
       "    <tr style=\"text-align: right;\">\n",
       "      <th></th>\n",
       "      <th>date</th>\n",
       "      <th>latitude</th>\n",
       "      <th>longitude</th>\n",
       "      <th>u10</th>\n",
       "      <th>v10</th>\n",
       "      <th>t2m</th>\n",
       "      <th>sp</th>\n",
       "      <th>tp</th>\n",
       "      <th>e</th>\n",
       "      <th>sro</th>\n",
       "      <th>...</th>\n",
       "      <th>swvl2_delta</th>\n",
       "      <th>swvl2_z</th>\n",
       "      <th>cvh_ref</th>\n",
       "      <th>cvh_std</th>\n",
       "      <th>cvh_delta</th>\n",
       "      <th>cvh_z</th>\n",
       "      <th>cvl_ref</th>\n",
       "      <th>cvl_std</th>\n",
       "      <th>cvl_delta</th>\n",
       "      <th>cvl_z</th>\n",
       "    </tr>\n",
       "  </thead>\n",
       "  <tbody>\n",
       "    <tr>\n",
       "      <th>count</th>\n",
       "      <td>972192</td>\n",
       "      <td>972192.000000</td>\n",
       "      <td>972192.00000</td>\n",
       "      <td>972192.000000</td>\n",
       "      <td>972192.000000</td>\n",
       "      <td>972192.000000</td>\n",
       "      <td>972192.000000</td>\n",
       "      <td>972192.000000</td>\n",
       "      <td>972192.000000</td>\n",
       "      <td>972192.000000</td>\n",
       "      <td>...</td>\n",
       "      <td>9.721920e+05</td>\n",
       "      <td>972192.000000</td>\n",
       "      <td>972192.000000</td>\n",
       "      <td>972192.0</td>\n",
       "      <td>9.721920e+05</td>\n",
       "      <td>42848.0</td>\n",
       "      <td>972192.000000</td>\n",
       "      <td>972192.0</td>\n",
       "      <td>9.721920e+05</td>\n",
       "      <td>96928.0</td>\n",
       "    </tr>\n",
       "    <tr>\n",
       "      <th>mean</th>\n",
       "      <td>2007-04-16 22:43:50.769230592</td>\n",
       "      <td>47.000000</td>\n",
       "      <td>2.00000</td>\n",
       "      <td>0.894162</td>\n",
       "      <td>0.045310</td>\n",
       "      <td>11.798119</td>\n",
       "      <td>98341.687500</td>\n",
       "      <td>0.002557</td>\n",
       "      <td>-0.001944</td>\n",
       "      <td>0.000145</td>\n",
       "      <td>...</td>\n",
       "      <td>-2.604512e-03</td>\n",
       "      <td>-0.075546</td>\n",
       "      <td>0.361099</td>\n",
       "      <td>0.0</td>\n",
       "      <td>-2.454834e-10</td>\n",
       "      <td>NaN</td>\n",
       "      <td>0.343085</td>\n",
       "      <td>0.0</td>\n",
       "      <td>-2.550477e-10</td>\n",
       "      <td>NaN</td>\n",
       "    </tr>\n",
       "    <tr>\n",
       "      <th>min</th>\n",
       "      <td>1990-01-01 00:00:00</td>\n",
       "      <td>42.000000</td>\n",
       "      <td>-5.00000</td>\n",
       "      <td>-6.515217</td>\n",
       "      <td>-11.582765</td>\n",
       "      <td>-15.785742</td>\n",
       "      <td>74445.875000</td>\n",
       "      <td>0.000000</td>\n",
       "      <td>-0.011114</td>\n",
       "      <td>0.000000</td>\n",
       "      <td>...</td>\n",
       "      <td>-2.483993e-01</td>\n",
       "      <td>-11.320975</td>\n",
       "      <td>0.000000</td>\n",
       "      <td>0.0</td>\n",
       "      <td>-5.960464e-08</td>\n",
       "      <td>-inf</td>\n",
       "      <td>0.000000</td>\n",
       "      <td>0.0</td>\n",
       "      <td>-5.960464e-08</td>\n",
       "      <td>-inf</td>\n",
       "    </tr>\n",
       "    <tr>\n",
       "      <th>25%</th>\n",
       "      <td>1998-08-24 06:00:00</td>\n",
       "      <td>44.500000</td>\n",
       "      <td>-1.50000</td>\n",
       "      <td>0.016057</td>\n",
       "      <td>-0.731009</td>\n",
       "      <td>7.473779</td>\n",
       "      <td>97283.625000</td>\n",
       "      <td>0.001396</td>\n",
       "      <td>-0.002775</td>\n",
       "      <td>0.000002</td>\n",
       "      <td>...</td>\n",
       "      <td>-1.209159e-02</td>\n",
       "      <td>-0.765555</td>\n",
       "      <td>0.000000</td>\n",
       "      <td>0.0</td>\n",
       "      <td>0.000000e+00</td>\n",
       "      <td>NaN</td>\n",
       "      <td>0.000000</td>\n",
       "      <td>0.0</td>\n",
       "      <td>0.000000e+00</td>\n",
       "      <td>NaN</td>\n",
       "    </tr>\n",
       "    <tr>\n",
       "      <th>50%</th>\n",
       "      <td>2007-04-16 00:00:00</td>\n",
       "      <td>47.000000</td>\n",
       "      <td>2.00000</td>\n",
       "      <td>0.664992</td>\n",
       "      <td>-0.001555</td>\n",
       "      <td>11.915674</td>\n",
       "      <td>100072.687500</td>\n",
       "      <td>0.002264</td>\n",
       "      <td>-0.001892</td>\n",
       "      <td>0.000022</td>\n",
       "      <td>...</td>\n",
       "      <td>6.128241e-07</td>\n",
       "      <td>0.015887</td>\n",
       "      <td>0.266821</td>\n",
       "      <td>0.0</td>\n",
       "      <td>0.000000e+00</td>\n",
       "      <td>NaN</td>\n",
       "      <td>0.276017</td>\n",
       "      <td>0.0</td>\n",
       "      <td>0.000000e+00</td>\n",
       "      <td>NaN</td>\n",
       "    </tr>\n",
       "    <tr>\n",
       "      <th>75%</th>\n",
       "      <td>2015-12-08 18:00:00</td>\n",
       "      <td>49.500000</td>\n",
       "      <td>5.50000</td>\n",
       "      <td>1.563922</td>\n",
       "      <td>0.821745</td>\n",
       "      <td>16.484033</td>\n",
       "      <td>101302.437500</td>\n",
       "      <td>0.003376</td>\n",
       "      <td>-0.000998</td>\n",
       "      <td>0.000098</td>\n",
       "      <td>...</td>\n",
       "      <td>1.087640e-02</td>\n",
       "      <td>0.701432</td>\n",
       "      <td>0.657410</td>\n",
       "      <td>0.0</td>\n",
       "      <td>0.000000e+00</td>\n",
       "      <td>NaN</td>\n",
       "      <td>0.642772</td>\n",
       "      <td>0.0</td>\n",
       "      <td>0.000000e+00</td>\n",
       "      <td>NaN</td>\n",
       "    </tr>\n",
       "    <tr>\n",
       "      <th>max</th>\n",
       "      <td>2024-08-01 00:00:00</td>\n",
       "      <td>52.000000</td>\n",
       "      <td>9.00000</td>\n",
       "      <td>10.027842</td>\n",
       "      <td>9.043267</td>\n",
       "      <td>28.872461</td>\n",
       "      <td>104005.625000</td>\n",
       "      <td>0.029537</td>\n",
       "      <td>0.000143</td>\n",
       "      <td>0.015995</td>\n",
       "      <td>...</td>\n",
       "      <td>1.669480e-01</td>\n",
       "      <td>4.364432</td>\n",
       "      <td>1.000000</td>\n",
       "      <td>0.0</td>\n",
       "      <td>5.960464e-08</td>\n",
       "      <td>inf</td>\n",
       "      <td>0.994877</td>\n",
       "      <td>0.0</td>\n",
       "      <td>5.960464e-08</td>\n",
       "      <td>inf</td>\n",
       "    </tr>\n",
       "    <tr>\n",
       "      <th>std</th>\n",
       "      <td>NaN</td>\n",
       "      <td>2.958041</td>\n",
       "      <td>4.11299</td>\n",
       "      <td>1.473975</td>\n",
       "      <td>1.398554</td>\n",
       "      <td>6.006083</td>\n",
       "      <td>4579.915527</td>\n",
       "      <td>0.001642</td>\n",
       "      <td>0.001111</td>\n",
       "      <td>0.000412</td>\n",
       "      <td>...</td>\n",
       "      <td>3.182225e-02</td>\n",
       "      <td>1.074981</td>\n",
       "      <td>0.345379</td>\n",
       "      <td>0.0</td>\n",
       "      <td>9.777210e-09</td>\n",
       "      <td>NaN</td>\n",
       "      <td>0.332746</td>\n",
       "      <td>0.0</td>\n",
       "      <td>1.411973e-08</td>\n",
       "      <td>NaN</td>\n",
       "    </tr>\n",
       "  </tbody>\n",
       "</table>\n",
       "<p>8 rows × 75 columns</p>\n",
       "</div>"
      ],
      "text/plain": [
       "                                date       latitude     longitude  \\\n",
       "count                         972192  972192.000000  972192.00000   \n",
       "mean   2007-04-16 22:43:50.769230592      47.000000       2.00000   \n",
       "min              1990-01-01 00:00:00      42.000000      -5.00000   \n",
       "25%              1998-08-24 06:00:00      44.500000      -1.50000   \n",
       "50%              2007-04-16 00:00:00      47.000000       2.00000   \n",
       "75%              2015-12-08 18:00:00      49.500000       5.50000   \n",
       "max              2024-08-01 00:00:00      52.000000       9.00000   \n",
       "std                              NaN       2.958041       4.11299   \n",
       "\n",
       "                 u10            v10            t2m             sp  \\\n",
       "count  972192.000000  972192.000000  972192.000000  972192.000000   \n",
       "mean        0.894162       0.045310      11.798119   98341.687500   \n",
       "min        -6.515217     -11.582765     -15.785742   74445.875000   \n",
       "25%         0.016057      -0.731009       7.473779   97283.625000   \n",
       "50%         0.664992      -0.001555      11.915674  100072.687500   \n",
       "75%         1.563922       0.821745      16.484033  101302.437500   \n",
       "max        10.027842       9.043267      28.872461  104005.625000   \n",
       "std         1.473975       1.398554       6.006083    4579.915527   \n",
       "\n",
       "                  tp              e            sro  ...   swvl2_delta  \\\n",
       "count  972192.000000  972192.000000  972192.000000  ...  9.721920e+05   \n",
       "mean        0.002557      -0.001944       0.000145  ... -2.604512e-03   \n",
       "min         0.000000      -0.011114       0.000000  ... -2.483993e-01   \n",
       "25%         0.001396      -0.002775       0.000002  ... -1.209159e-02   \n",
       "50%         0.002264      -0.001892       0.000022  ...  6.128241e-07   \n",
       "75%         0.003376      -0.000998       0.000098  ...  1.087640e-02   \n",
       "max         0.029537       0.000143       0.015995  ...  1.669480e-01   \n",
       "std         0.001642       0.001111       0.000412  ...  3.182225e-02   \n",
       "\n",
       "             swvl2_z        cvh_ref   cvh_std     cvh_delta    cvh_z  \\\n",
       "count  972192.000000  972192.000000  972192.0  9.721920e+05  42848.0   \n",
       "mean       -0.075546       0.361099       0.0 -2.454834e-10      NaN   \n",
       "min       -11.320975       0.000000       0.0 -5.960464e-08     -inf   \n",
       "25%        -0.765555       0.000000       0.0  0.000000e+00      NaN   \n",
       "50%         0.015887       0.266821       0.0  0.000000e+00      NaN   \n",
       "75%         0.701432       0.657410       0.0  0.000000e+00      NaN   \n",
       "max         4.364432       1.000000       0.0  5.960464e-08      inf   \n",
       "std         1.074981       0.345379       0.0  9.777210e-09      NaN   \n",
       "\n",
       "             cvl_ref   cvl_std     cvl_delta    cvl_z  \n",
       "count  972192.000000  972192.0  9.721920e+05  96928.0  \n",
       "mean        0.343085       0.0 -2.550477e-10      NaN  \n",
       "min         0.000000       0.0 -5.960464e-08     -inf  \n",
       "25%         0.000000       0.0  0.000000e+00      NaN  \n",
       "50%         0.276017       0.0  0.000000e+00      NaN  \n",
       "75%         0.642772       0.0  0.000000e+00      NaN  \n",
       "max         0.994877       0.0  5.960464e-08      inf  \n",
       "std         0.332746       0.0  1.411973e-08      NaN  \n",
       "\n",
       "[8 rows x 75 columns]"
      ]
     },
     "execution_count": 102,
     "metadata": {},
     "output_type": "execute_result"
    }
   ],
   "source": [
    "df_reloaded.describe()"
   ]
  },
  {
   "cell_type": "code",
   "execution_count": 103,
   "metadata": {},
   "outputs": [
    {
     "name": "stderr",
     "output_type": "stream",
     "text": [
      "/opt/mamba/lib/python3.12/site-packages/pandas/core/nanops.py:1016: RuntimeWarning:\n",
      "\n",
      "invalid value encountered in subtract\n",
      "\n",
      "/opt/mamba/lib/python3.12/site-packages/pandas/core/nanops.py:1016: RuntimeWarning:\n",
      "\n",
      "invalid value encountered in subtract\n",
      "\n",
      "/opt/mamba/lib/python3.12/site-packages/numpy/core/_methods.py:49: RuntimeWarning:\n",
      "\n",
      "invalid value encountered in reduce\n",
      "\n",
      "/opt/mamba/lib/python3.12/site-packages/numpy/lib/function_base.py:4655: RuntimeWarning:\n",
      "\n",
      "invalid value encountered in subtract\n",
      "\n",
      "/opt/mamba/lib/python3.12/site-packages/numpy/core/_methods.py:49: RuntimeWarning:\n",
      "\n",
      "invalid value encountered in reduce\n",
      "\n",
      "/opt/mamba/lib/python3.12/site-packages/numpy/lib/function_base.py:4655: RuntimeWarning:\n",
      "\n",
      "invalid value encountered in subtract\n",
      "\n"
     ]
    },
    {
     "data": {
      "text/html": [
       "<div>\n",
       "<style scoped>\n",
       "    .dataframe tbody tr th:only-of-type {\n",
       "        vertical-align: middle;\n",
       "    }\n",
       "\n",
       "    .dataframe tbody tr th {\n",
       "        vertical-align: top;\n",
       "    }\n",
       "\n",
       "    .dataframe thead th {\n",
       "        text-align: right;\n",
       "    }\n",
       "</style>\n",
       "<table border=\"1\" class=\"dataframe\">\n",
       "  <thead>\n",
       "    <tr style=\"text-align: right;\">\n",
       "      <th></th>\n",
       "      <th>date</th>\n",
       "      <th>latitude</th>\n",
       "      <th>longitude</th>\n",
       "      <th>u10</th>\n",
       "      <th>v10</th>\n",
       "      <th>t2m</th>\n",
       "      <th>sp</th>\n",
       "      <th>tp</th>\n",
       "      <th>e</th>\n",
       "      <th>sro</th>\n",
       "      <th>...</th>\n",
       "      <th>swvl2_delta</th>\n",
       "      <th>swvl2_z</th>\n",
       "      <th>cvh_ref</th>\n",
       "      <th>cvh_std</th>\n",
       "      <th>cvh_delta</th>\n",
       "      <th>cvh_z</th>\n",
       "      <th>cvl_ref</th>\n",
       "      <th>cvl_std</th>\n",
       "      <th>cvl_delta</th>\n",
       "      <th>cvl_z</th>\n",
       "    </tr>\n",
       "  </thead>\n",
       "  <tbody>\n",
       "    <tr>\n",
       "      <th>count</th>\n",
       "      <td>972192</td>\n",
       "      <td>972192.000000</td>\n",
       "      <td>972192.00000</td>\n",
       "      <td>972192.000000</td>\n",
       "      <td>972192.000000</td>\n",
       "      <td>972192.000000</td>\n",
       "      <td>972192.000000</td>\n",
       "      <td>972192.000000</td>\n",
       "      <td>972192.000000</td>\n",
       "      <td>972192.000000</td>\n",
       "      <td>...</td>\n",
       "      <td>9.721920e+05</td>\n",
       "      <td>972192.000000</td>\n",
       "      <td>972192.000000</td>\n",
       "      <td>972192.0</td>\n",
       "      <td>9.721920e+05</td>\n",
       "      <td>42848.0</td>\n",
       "      <td>972192.000000</td>\n",
       "      <td>972192.0</td>\n",
       "      <td>9.721920e+05</td>\n",
       "      <td>96928.0</td>\n",
       "    </tr>\n",
       "    <tr>\n",
       "      <th>mean</th>\n",
       "      <td>2007-04-16 22:43:50.769230592</td>\n",
       "      <td>47.000000</td>\n",
       "      <td>2.00000</td>\n",
       "      <td>0.894162</td>\n",
       "      <td>0.045310</td>\n",
       "      <td>11.798119</td>\n",
       "      <td>98341.687500</td>\n",
       "      <td>0.002557</td>\n",
       "      <td>-0.001944</td>\n",
       "      <td>0.000145</td>\n",
       "      <td>...</td>\n",
       "      <td>-2.604512e-03</td>\n",
       "      <td>-0.075546</td>\n",
       "      <td>0.361099</td>\n",
       "      <td>0.0</td>\n",
       "      <td>-2.454834e-10</td>\n",
       "      <td>NaN</td>\n",
       "      <td>0.343085</td>\n",
       "      <td>0.0</td>\n",
       "      <td>-2.550477e-10</td>\n",
       "      <td>NaN</td>\n",
       "    </tr>\n",
       "    <tr>\n",
       "      <th>min</th>\n",
       "      <td>1990-01-01 00:00:00</td>\n",
       "      <td>42.000000</td>\n",
       "      <td>-5.00000</td>\n",
       "      <td>-6.515217</td>\n",
       "      <td>-11.582765</td>\n",
       "      <td>-15.785742</td>\n",
       "      <td>74445.875000</td>\n",
       "      <td>0.000000</td>\n",
       "      <td>-0.011114</td>\n",
       "      <td>0.000000</td>\n",
       "      <td>...</td>\n",
       "      <td>-2.483993e-01</td>\n",
       "      <td>-11.320975</td>\n",
       "      <td>0.000000</td>\n",
       "      <td>0.0</td>\n",
       "      <td>-5.960464e-08</td>\n",
       "      <td>-inf</td>\n",
       "      <td>0.000000</td>\n",
       "      <td>0.0</td>\n",
       "      <td>-5.960464e-08</td>\n",
       "      <td>-inf</td>\n",
       "    </tr>\n",
       "    <tr>\n",
       "      <th>25%</th>\n",
       "      <td>1998-08-24 06:00:00</td>\n",
       "      <td>44.500000</td>\n",
       "      <td>-1.50000</td>\n",
       "      <td>0.016057</td>\n",
       "      <td>-0.731009</td>\n",
       "      <td>7.473779</td>\n",
       "      <td>97283.625000</td>\n",
       "      <td>0.001396</td>\n",
       "      <td>-0.002775</td>\n",
       "      <td>0.000002</td>\n",
       "      <td>...</td>\n",
       "      <td>-1.209159e-02</td>\n",
       "      <td>-0.765555</td>\n",
       "      <td>0.000000</td>\n",
       "      <td>0.0</td>\n",
       "      <td>0.000000e+00</td>\n",
       "      <td>NaN</td>\n",
       "      <td>0.000000</td>\n",
       "      <td>0.0</td>\n",
       "      <td>0.000000e+00</td>\n",
       "      <td>NaN</td>\n",
       "    </tr>\n",
       "    <tr>\n",
       "      <th>50%</th>\n",
       "      <td>2007-04-16 00:00:00</td>\n",
       "      <td>47.000000</td>\n",
       "      <td>2.00000</td>\n",
       "      <td>0.664992</td>\n",
       "      <td>-0.001555</td>\n",
       "      <td>11.915674</td>\n",
       "      <td>100072.687500</td>\n",
       "      <td>0.002264</td>\n",
       "      <td>-0.001892</td>\n",
       "      <td>0.000022</td>\n",
       "      <td>...</td>\n",
       "      <td>6.128241e-07</td>\n",
       "      <td>0.015887</td>\n",
       "      <td>0.266821</td>\n",
       "      <td>0.0</td>\n",
       "      <td>0.000000e+00</td>\n",
       "      <td>NaN</td>\n",
       "      <td>0.276017</td>\n",
       "      <td>0.0</td>\n",
       "      <td>0.000000e+00</td>\n",
       "      <td>NaN</td>\n",
       "    </tr>\n",
       "    <tr>\n",
       "      <th>75%</th>\n",
       "      <td>2015-12-08 18:00:00</td>\n",
       "      <td>49.500000</td>\n",
       "      <td>5.50000</td>\n",
       "      <td>1.563922</td>\n",
       "      <td>0.821745</td>\n",
       "      <td>16.484033</td>\n",
       "      <td>101302.437500</td>\n",
       "      <td>0.003376</td>\n",
       "      <td>-0.000998</td>\n",
       "      <td>0.000098</td>\n",
       "      <td>...</td>\n",
       "      <td>1.087640e-02</td>\n",
       "      <td>0.701432</td>\n",
       "      <td>0.657410</td>\n",
       "      <td>0.0</td>\n",
       "      <td>0.000000e+00</td>\n",
       "      <td>NaN</td>\n",
       "      <td>0.642772</td>\n",
       "      <td>0.0</td>\n",
       "      <td>0.000000e+00</td>\n",
       "      <td>NaN</td>\n",
       "    </tr>\n",
       "    <tr>\n",
       "      <th>max</th>\n",
       "      <td>2024-08-01 00:00:00</td>\n",
       "      <td>52.000000</td>\n",
       "      <td>9.00000</td>\n",
       "      <td>10.027842</td>\n",
       "      <td>9.043267</td>\n",
       "      <td>28.872461</td>\n",
       "      <td>104005.625000</td>\n",
       "      <td>0.029537</td>\n",
       "      <td>0.000143</td>\n",
       "      <td>0.015995</td>\n",
       "      <td>...</td>\n",
       "      <td>1.669480e-01</td>\n",
       "      <td>4.364432</td>\n",
       "      <td>1.000000</td>\n",
       "      <td>0.0</td>\n",
       "      <td>5.960464e-08</td>\n",
       "      <td>inf</td>\n",
       "      <td>0.994877</td>\n",
       "      <td>0.0</td>\n",
       "      <td>5.960464e-08</td>\n",
       "      <td>inf</td>\n",
       "    </tr>\n",
       "    <tr>\n",
       "      <th>std</th>\n",
       "      <td>NaN</td>\n",
       "      <td>2.958041</td>\n",
       "      <td>4.11299</td>\n",
       "      <td>1.473975</td>\n",
       "      <td>1.398554</td>\n",
       "      <td>6.006083</td>\n",
       "      <td>4579.915527</td>\n",
       "      <td>0.001642</td>\n",
       "      <td>0.001111</td>\n",
       "      <td>0.000412</td>\n",
       "      <td>...</td>\n",
       "      <td>3.182225e-02</td>\n",
       "      <td>1.074981</td>\n",
       "      <td>0.345379</td>\n",
       "      <td>0.0</td>\n",
       "      <td>9.777210e-09</td>\n",
       "      <td>NaN</td>\n",
       "      <td>0.332746</td>\n",
       "      <td>0.0</td>\n",
       "      <td>1.411973e-08</td>\n",
       "      <td>NaN</td>\n",
       "    </tr>\n",
       "  </tbody>\n",
       "</table>\n",
       "<p>8 rows × 75 columns</p>\n",
       "</div>"
      ],
      "text/plain": [
       "                                date       latitude     longitude  \\\n",
       "count                         972192  972192.000000  972192.00000   \n",
       "mean   2007-04-16 22:43:50.769230592      47.000000       2.00000   \n",
       "min              1990-01-01 00:00:00      42.000000      -5.00000   \n",
       "25%              1998-08-24 06:00:00      44.500000      -1.50000   \n",
       "50%              2007-04-16 00:00:00      47.000000       2.00000   \n",
       "75%              2015-12-08 18:00:00      49.500000       5.50000   \n",
       "max              2024-08-01 00:00:00      52.000000       9.00000   \n",
       "std                              NaN       2.958041       4.11299   \n",
       "\n",
       "                 u10            v10            t2m             sp  \\\n",
       "count  972192.000000  972192.000000  972192.000000  972192.000000   \n",
       "mean        0.894162       0.045310      11.798119   98341.687500   \n",
       "min        -6.515217     -11.582765     -15.785742   74445.875000   \n",
       "25%         0.016057      -0.731009       7.473779   97283.625000   \n",
       "50%         0.664992      -0.001555      11.915674  100072.687500   \n",
       "75%         1.563922       0.821745      16.484033  101302.437500   \n",
       "max        10.027842       9.043267      28.872461  104005.625000   \n",
       "std         1.473975       1.398554       6.006083    4579.915527   \n",
       "\n",
       "                  tp              e            sro  ...   swvl2_delta  \\\n",
       "count  972192.000000  972192.000000  972192.000000  ...  9.721920e+05   \n",
       "mean        0.002557      -0.001944       0.000145  ... -2.604512e-03   \n",
       "min         0.000000      -0.011114       0.000000  ... -2.483993e-01   \n",
       "25%         0.001396      -0.002775       0.000002  ... -1.209159e-02   \n",
       "50%         0.002264      -0.001892       0.000022  ...  6.128241e-07   \n",
       "75%         0.003376      -0.000998       0.000098  ...  1.087640e-02   \n",
       "max         0.029537       0.000143       0.015995  ...  1.669480e-01   \n",
       "std         0.001642       0.001111       0.000412  ...  3.182225e-02   \n",
       "\n",
       "             swvl2_z        cvh_ref   cvh_std     cvh_delta    cvh_z  \\\n",
       "count  972192.000000  972192.000000  972192.0  9.721920e+05  42848.0   \n",
       "mean       -0.075546       0.361099       0.0 -2.454834e-10      NaN   \n",
       "min       -11.320975       0.000000       0.0 -5.960464e-08     -inf   \n",
       "25%        -0.765555       0.000000       0.0  0.000000e+00      NaN   \n",
       "50%         0.015887       0.266821       0.0  0.000000e+00      NaN   \n",
       "75%         0.701432       0.657410       0.0  0.000000e+00      NaN   \n",
       "max         4.364432       1.000000       0.0  5.960464e-08      inf   \n",
       "std         1.074981       0.345379       0.0  9.777210e-09      NaN   \n",
       "\n",
       "             cvl_ref   cvl_std     cvl_delta    cvl_z  \n",
       "count  972192.000000  972192.0  9.721920e+05  96928.0  \n",
       "mean        0.343085       0.0 -2.550477e-10      NaN  \n",
       "min         0.000000       0.0 -5.960464e-08     -inf  \n",
       "25%         0.000000       0.0  0.000000e+00      NaN  \n",
       "50%         0.276017       0.0  0.000000e+00      NaN  \n",
       "75%         0.642772       0.0  0.000000e+00      NaN  \n",
       "max         0.994877       0.0  5.960464e-08      inf  \n",
       "std         0.332746       0.0  1.411973e-08      NaN  \n",
       "\n",
       "[8 rows x 75 columns]"
      ]
     },
     "execution_count": 103,
     "metadata": {},
     "output_type": "execute_result"
    }
   ],
   "source": [
    "df.describe()"
   ]
  },
  {
   "cell_type": "code",
   "execution_count": 104,
   "metadata": {},
   "outputs": [
    {
     "name": "stdout",
     "output_type": "stream",
     "text": [
      "Empty DataFrame\n",
      "Columns: []\n",
      "Index: []\n"
     ]
    }
   ],
   "source": [
    "\n",
    "\n",
    "# Assuming df and df_reloaded are your dataframes\n",
    "comparison = df.compare(df_reloaded)\n",
    "\n",
    "print(comparison)\n"
   ]
  },
  {
   "cell_type": "code",
   "execution_count": 105,
   "metadata": {},
   "outputs": [
    {
     "name": "stdout",
     "output_type": "stream",
     "text": [
      "(972192, 78)\n",
      "(972192, 78)\n"
     ]
    }
   ],
   "source": [
    "print(df.shape)\n",
    "print(df_reloaded.shape)\n"
   ]
  },
  {
   "cell_type": "code",
   "execution_count": 106,
   "metadata": {},
   "outputs": [
    {
     "name": "stdout",
     "output_type": "stream",
     "text": [
      "Index(['date', 'latitude', 'longitude', 'u10', 'v10', 't2m', 'sp', 'tp', 'e',\n",
      "       'sro', 'tcrw', 'stl1', 'stl2', 'slt', 'swvl1', 'swvl2', 'cvh', 'cvl',\n",
      "       'tvh', 'tvl', 'month', 'year', 'u10_ref', 'u10_std', 'u10_delta',\n",
      "       'u10_z', 'v10_ref', 'v10_std', 'v10_delta', 'v10_z', 't2m_ref',\n",
      "       't2m_std', 't2m_delta', 't2m_z', 'sp_ref', 'sp_std', 'sp_delta', 'sp_z',\n",
      "       'tp_ref', 'tp_std', 'tp_delta', 'tp_z', 'e_ref', 'e_std', 'e_delta',\n",
      "       'e_z', 'sro_ref', 'sro_std', 'sro_delta', 'sro_z', 'tcrw_ref',\n",
      "       'tcrw_std', 'tcrw_delta', 'tcrw_z', 'stl1_ref', 'stl1_std',\n",
      "       'stl1_delta', 'stl1_z', 'stl2_ref', 'stl2_std', 'stl2_delta', 'stl2_z',\n",
      "       'swvl1_ref', 'swvl1_std', 'swvl1_delta', 'swvl1_z', 'swvl2_ref',\n",
      "       'swvl2_std', 'swvl2_delta', 'swvl2_z', 'cvh_ref', 'cvh_std',\n",
      "       'cvh_delta', 'cvh_z', 'cvl_ref', 'cvl_std', 'cvl_delta', 'cvl_z'],\n",
      "      dtype='object')\n",
      "Index(['date', 'latitude', 'longitude', 'u10', 'v10', 't2m', 'sp', 'tp', 'e',\n",
      "       'sro', 'tcrw', 'stl1', 'stl2', 'slt', 'swvl1', 'swvl2', 'cvh', 'cvl',\n",
      "       'tvh', 'tvl', 'month', 'year', 'u10_ref', 'u10_std', 'u10_delta',\n",
      "       'u10_z', 'v10_ref', 'v10_std', 'v10_delta', 'v10_z', 't2m_ref',\n",
      "       't2m_std', 't2m_delta', 't2m_z', 'sp_ref', 'sp_std', 'sp_delta', 'sp_z',\n",
      "       'tp_ref', 'tp_std', 'tp_delta', 'tp_z', 'e_ref', 'e_std', 'e_delta',\n",
      "       'e_z', 'sro_ref', 'sro_std', 'sro_delta', 'sro_z', 'tcrw_ref',\n",
      "       'tcrw_std', 'tcrw_delta', 'tcrw_z', 'stl1_ref', 'stl1_std',\n",
      "       'stl1_delta', 'stl1_z', 'stl2_ref', 'stl2_std', 'stl2_delta', 'stl2_z',\n",
      "       'swvl1_ref', 'swvl1_std', 'swvl1_delta', 'swvl1_z', 'swvl2_ref',\n",
      "       'swvl2_std', 'swvl2_delta', 'swvl2_z', 'cvh_ref', 'cvh_std',\n",
      "       'cvh_delta', 'cvh_z', 'cvl_ref', 'cvl_std', 'cvl_delta', 'cvl_z'],\n",
      "      dtype='object')\n"
     ]
    }
   ],
   "source": [
    "print(df.columns)\n",
    "print(df_reloaded.columns)"
   ]
  },
  {
   "cell_type": "code",
   "execution_count": 107,
   "metadata": {},
   "outputs": [
    {
     "name": "stdout",
     "output_type": "stream",
     "text": [
      "date         datetime64[ns]\n",
      "latitude            float64\n",
      "longitude           float64\n",
      "u10                 float32\n",
      "v10                 float32\n",
      "                  ...      \n",
      "cvh_z               float32\n",
      "cvl_ref             float32\n",
      "cvl_std             float32\n",
      "cvl_delta           float32\n",
      "cvl_z               float32\n",
      "Length: 78, dtype: object\n"
     ]
    }
   ],
   "source": [
    "#print(df.dtypes)\n",
    "print(df_reloaded.dtypes)"
   ]
  },
  {
   "cell_type": "code",
   "execution_count": 108,
   "metadata": {},
   "outputs": [
    {
     "name": "stdout",
     "output_type": "stream",
     "text": [
      "Comparing column: date\n",
      "Empty DataFrame\n",
      "Columns: [self, other]\n",
      "Index: []\n",
      "Comparing column: latitude\n",
      "Empty DataFrame\n",
      "Columns: [self, other]\n",
      "Index: []\n",
      "Comparing column: longitude\n",
      "Empty DataFrame\n",
      "Columns: [self, other]\n",
      "Index: []\n",
      "Comparing column: u10\n",
      "Empty DataFrame\n",
      "Columns: [self, other]\n",
      "Index: []\n",
      "Comparing column: v10\n",
      "Empty DataFrame\n",
      "Columns: [self, other]\n",
      "Index: []\n",
      "Comparing column: t2m\n",
      "Empty DataFrame\n",
      "Columns: [self, other]\n",
      "Index: []\n",
      "Comparing column: sp\n",
      "Empty DataFrame\n",
      "Columns: [self, other]\n",
      "Index: []\n",
      "Comparing column: tp\n",
      "Empty DataFrame\n",
      "Columns: [self, other]\n",
      "Index: []\n",
      "Comparing column: e\n",
      "Empty DataFrame\n",
      "Columns: [self, other]\n",
      "Index: []\n",
      "Comparing column: sro\n",
      "Empty DataFrame\n",
      "Columns: [self, other]\n",
      "Index: []\n",
      "Comparing column: tcrw\n",
      "Empty DataFrame\n",
      "Columns: [self, other]\n",
      "Index: []\n",
      "Comparing column: stl1\n",
      "Empty DataFrame\n",
      "Columns: [self, other]\n",
      "Index: []\n",
      "Comparing column: stl2\n",
      "Empty DataFrame\n",
      "Columns: [self, other]\n",
      "Index: []\n",
      "Comparing column: slt\n",
      "Empty DataFrame\n",
      "Columns: [self, other]\n",
      "Index: []\n",
      "Comparing column: swvl1\n",
      "Empty DataFrame\n",
      "Columns: [self, other]\n",
      "Index: []\n",
      "Comparing column: swvl2\n",
      "Empty DataFrame\n",
      "Columns: [self, other]\n",
      "Index: []\n",
      "Comparing column: cvh\n",
      "Empty DataFrame\n",
      "Columns: [self, other]\n",
      "Index: []\n",
      "Comparing column: cvl\n",
      "Empty DataFrame\n",
      "Columns: [self, other]\n",
      "Index: []\n",
      "Comparing column: tvh\n",
      "Empty DataFrame\n",
      "Columns: [self, other]\n",
      "Index: []\n",
      "Comparing column: tvl\n",
      "Empty DataFrame\n",
      "Columns: [self, other]\n",
      "Index: []\n",
      "Comparing column: month\n",
      "Empty DataFrame\n",
      "Columns: [self, other]\n",
      "Index: []\n",
      "Comparing column: year\n",
      "Empty DataFrame\n",
      "Columns: [self, other]\n",
      "Index: []\n",
      "Comparing column: u10_ref\n",
      "Empty DataFrame\n",
      "Columns: [self, other]\n",
      "Index: []\n",
      "Comparing column: u10_std\n",
      "Empty DataFrame\n",
      "Columns: [self, other]\n",
      "Index: []\n",
      "Comparing column: u10_delta\n",
      "Empty DataFrame\n",
      "Columns: [self, other]\n",
      "Index: []\n",
      "Comparing column: u10_z\n",
      "Empty DataFrame\n",
      "Columns: [self, other]\n",
      "Index: []\n",
      "Comparing column: v10_ref\n",
      "Empty DataFrame\n",
      "Columns: [self, other]\n",
      "Index: []\n",
      "Comparing column: v10_std\n",
      "Empty DataFrame\n",
      "Columns: [self, other]\n",
      "Index: []\n",
      "Comparing column: v10_delta\n",
      "Empty DataFrame\n",
      "Columns: [self, other]\n",
      "Index: []\n",
      "Comparing column: v10_z\n",
      "Empty DataFrame\n",
      "Columns: [self, other]\n",
      "Index: []\n",
      "Comparing column: t2m_ref\n",
      "Empty DataFrame\n",
      "Columns: [self, other]\n",
      "Index: []\n",
      "Comparing column: t2m_std\n",
      "Empty DataFrame\n",
      "Columns: [self, other]\n",
      "Index: []\n",
      "Comparing column: t2m_delta\n",
      "Empty DataFrame\n",
      "Columns: [self, other]\n",
      "Index: []\n",
      "Comparing column: t2m_z\n",
      "Empty DataFrame\n",
      "Columns: [self, other]\n",
      "Index: []\n",
      "Comparing column: sp_ref\n",
      "Empty DataFrame\n",
      "Columns: [self, other]\n",
      "Index: []\n",
      "Comparing column: sp_std\n",
      "Empty DataFrame\n",
      "Columns: [self, other]\n",
      "Index: []\n",
      "Comparing column: sp_delta\n",
      "Empty DataFrame\n",
      "Columns: [self, other]\n",
      "Index: []\n",
      "Comparing column: sp_z\n",
      "Empty DataFrame\n",
      "Columns: [self, other]\n",
      "Index: []\n",
      "Comparing column: tp_ref\n",
      "Empty DataFrame\n",
      "Columns: [self, other]\n",
      "Index: []\n",
      "Comparing column: tp_std\n",
      "Empty DataFrame\n",
      "Columns: [self, other]\n",
      "Index: []\n",
      "Comparing column: tp_delta\n",
      "Empty DataFrame\n",
      "Columns: [self, other]\n",
      "Index: []\n",
      "Comparing column: tp_z\n",
      "Empty DataFrame\n",
      "Columns: [self, other]\n",
      "Index: []\n",
      "Comparing column: e_ref\n",
      "Empty DataFrame\n",
      "Columns: [self, other]\n",
      "Index: []\n",
      "Comparing column: e_std\n",
      "Empty DataFrame\n",
      "Columns: [self, other]\n",
      "Index: []\n",
      "Comparing column: e_delta\n",
      "Empty DataFrame\n",
      "Columns: [self, other]\n",
      "Index: []\n",
      "Comparing column: e_z\n",
      "Empty DataFrame\n",
      "Columns: [self, other]\n",
      "Index: []\n",
      "Comparing column: sro_ref\n",
      "Empty DataFrame\n",
      "Columns: [self, other]\n",
      "Index: []\n",
      "Comparing column: sro_std\n",
      "Empty DataFrame\n",
      "Columns: [self, other]\n",
      "Index: []\n",
      "Comparing column: sro_delta\n",
      "Empty DataFrame\n",
      "Columns: [self, other]\n",
      "Index: []\n",
      "Comparing column: sro_z\n",
      "Empty DataFrame\n",
      "Columns: [self, other]\n",
      "Index: []\n",
      "Comparing column: tcrw_ref\n",
      "Empty DataFrame\n",
      "Columns: [self, other]\n",
      "Index: []\n",
      "Comparing column: tcrw_std\n",
      "Empty DataFrame\n",
      "Columns: [self, other]\n",
      "Index: []\n",
      "Comparing column: tcrw_delta\n",
      "Empty DataFrame\n",
      "Columns: [self, other]\n",
      "Index: []\n",
      "Comparing column: tcrw_z\n",
      "Empty DataFrame\n",
      "Columns: [self, other]\n",
      "Index: []\n",
      "Comparing column: stl1_ref\n",
      "Empty DataFrame\n",
      "Columns: [self, other]\n",
      "Index: []\n",
      "Comparing column: stl1_std\n",
      "Empty DataFrame\n",
      "Columns: [self, other]\n",
      "Index: []\n",
      "Comparing column: stl1_delta\n",
      "Empty DataFrame\n",
      "Columns: [self, other]\n",
      "Index: []\n",
      "Comparing column: stl1_z\n",
      "Empty DataFrame\n",
      "Columns: [self, other]\n",
      "Index: []\n",
      "Comparing column: stl2_ref\n",
      "Empty DataFrame\n",
      "Columns: [self, other]\n",
      "Index: []\n",
      "Comparing column: stl2_std\n",
      "Empty DataFrame\n",
      "Columns: [self, other]\n",
      "Index: []\n",
      "Comparing column: stl2_delta\n",
      "Empty DataFrame\n",
      "Columns: [self, other]\n",
      "Index: []\n",
      "Comparing column: stl2_z\n",
      "Empty DataFrame\n",
      "Columns: [self, other]\n",
      "Index: []\n",
      "Comparing column: swvl1_ref\n",
      "Empty DataFrame\n",
      "Columns: [self, other]\n",
      "Index: []\n",
      "Comparing column: swvl1_std\n",
      "Empty DataFrame\n",
      "Columns: [self, other]\n",
      "Index: []\n",
      "Comparing column: swvl1_delta\n",
      "Empty DataFrame\n",
      "Columns: [self, other]\n",
      "Index: []\n",
      "Comparing column: swvl1_z\n",
      "Empty DataFrame\n",
      "Columns: [self, other]\n",
      "Index: []\n",
      "Comparing column: swvl2_ref\n",
      "Empty DataFrame\n",
      "Columns: [self, other]\n",
      "Index: []\n",
      "Comparing column: swvl2_std\n",
      "Empty DataFrame\n",
      "Columns: [self, other]\n",
      "Index: []\n",
      "Comparing column: swvl2_delta\n",
      "Empty DataFrame\n",
      "Columns: [self, other]\n",
      "Index: []\n",
      "Comparing column: swvl2_z\n",
      "Empty DataFrame\n",
      "Columns: [self, other]\n",
      "Index: []\n",
      "Comparing column: cvh_ref\n",
      "Empty DataFrame\n",
      "Columns: [self, other]\n",
      "Index: []\n",
      "Comparing column: cvh_std\n",
      "Empty DataFrame\n",
      "Columns: [self, other]\n",
      "Index: []\n",
      "Comparing column: cvh_delta\n",
      "Empty DataFrame\n",
      "Columns: [self, other]\n",
      "Index: []\n",
      "Comparing column: cvh_z\n",
      "Empty DataFrame\n",
      "Columns: [self, other]\n",
      "Index: []\n",
      "Comparing column: cvl_ref\n",
      "Empty DataFrame\n",
      "Columns: [self, other]\n",
      "Index: []\n",
      "Comparing column: cvl_std\n",
      "Empty DataFrame\n",
      "Columns: [self, other]\n",
      "Index: []\n",
      "Comparing column: cvl_delta\n",
      "Empty DataFrame\n",
      "Columns: [self, other]\n",
      "Index: []\n",
      "Comparing column: cvl_z\n",
      "Empty DataFrame\n",
      "Columns: [self, other]\n",
      "Index: []\n"
     ]
    }
   ],
   "source": [
    "for column in df.columns:\n",
    "    if column in df_reloaded.columns:\n",
    "        print(f\"Comparing column: {column}\")\n",
    "        print(df[column].compare(df_reloaded[column]))\n"
   ]
  },
  {
   "cell_type": "code",
   "execution_count": 109,
   "metadata": {},
   "outputs": [],
   "source": [
    "for column in df.columns:\n",
    "    if column in df_reloaded.columns:\n",
    "        differences = df[column].compare(df_reloaded[column])\n",
    "        if not differences.empty:\n",
    "            print(f\"Comparing column: {column}\")\n",
    "            print(differences)\n"
   ]
  },
  {
   "cell_type": "code",
   "execution_count": 110,
   "metadata": {},
   "outputs": [
    {
     "name": "stdout",
     "output_type": "stream",
     "text": [
      "No differences in data types.\n"
     ]
    }
   ],
   "source": [
    "differences = df.dtypes.compare(df_reloaded.dtypes)\n",
    "if not differences.empty:\n",
    "    print(\"Differences in data types:\")\n",
    "    print(differences)\n",
    "else:\n",
    "    print(\"No differences in data types.\")\n"
   ]
  },
  {
   "cell_type": "code",
   "execution_count": 111,
   "metadata": {},
   "outputs": [
    {
     "data": {
      "text/plain": [
       "'\\n## when reloading, we have to convert \\nslt  object  float64\\ntvh  object  float64\\ntvl  object  float64\\nto the appropiate format.\\nWe may also try to save with preserving a shema.\\n'"
      ]
     },
     "execution_count": 111,
     "metadata": {},
     "output_type": "execute_result"
    }
   ],
   "source": [
    "'''\n",
    "## when reloading, we have to convert \n",
    "slt  object  float64\n",
    "tvh  object  float64\n",
    "tvl  object  float64\n",
    "to the appropiate format.\n",
    "We may also try to save with preserving a shema.\n",
    "'''\n"
   ]
  },
  {
   "cell_type": "code",
   "execution_count": null,
   "metadata": {},
   "outputs": [],
   "source": []
  }
 ],
 "metadata": {
  "kernelspec": {
   "display_name": "base",
   "language": "python",
   "name": "python3"
  },
  "language_info": {
   "codemirror_mode": {
    "name": "ipython",
    "version": 3
   },
   "file_extension": ".py",
   "mimetype": "text/x-python",
   "name": "python",
   "nbconvert_exporter": "python",
   "pygments_lexer": "ipython3",
   "version": "3.12.3"
  }
 },
 "nbformat": 4,
 "nbformat_minor": 2
}
